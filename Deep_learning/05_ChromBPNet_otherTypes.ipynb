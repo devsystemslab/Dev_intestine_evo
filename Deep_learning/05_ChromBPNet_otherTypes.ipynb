{
 "cells": [
  {
   "cell_type": "code",
   "execution_count": 1,
   "id": "60ccd991-9d29-4812-95a7-4067cbf0c64e",
   "metadata": {},
   "outputs": [],
   "source": [
    "mamba activate chrombpnet2"
   ]
  },
  {
   "cell_type": "code",
   "execution_count": null,
   "id": "8a549c0e-d489-45b6-985b-6082dcb3dda1",
   "metadata": {},
   "outputs": [
    {
     "name": "stdout",
     "output_type": "stream",
     "text": [
      "Processing Goblet_cell...\n",
      "[bam_merge_core] Order of targets in file bam_per_cell_type_per_species/output_Goblet_cell@JasonDuoCrypt-D80.bam caused coordinate sort to be lost\n",
      "[bam_merge_core] Order of targets in file bam_per_cell_type_per_species/output_Goblet_cell@UmutSI-W17.bam caused coordinate sort to be lost\n",
      "[bam_sort_core] merging from 3 files and 10 in-memory blocks...\n",
      "Processing EEC...\n",
      "[bam_merge_core] Order of targets in file bam_per_cell_type_per_species/output_EEC@JasonDuoCrypt-D80.bam caused coordinate sort to be lost\n",
      "[bam_merge_core] Order of targets in file bam_per_cell_type_per_species/output_EEC@UmutSI-W17.bam caused coordinate sort to be lost\n",
      "[bam_sort_core] merging from 5 files and 10 in-memory blocks...\n"
     ]
    }
   ],
   "source": [
    "cell_types=(\"Stem_cell\" \"Goblet_cell\" \"EEC\")\n",
    "\n",
    "parallel -j 3 '\n",
    "echo \"Processing {1}...\" &&\n",
    "samtools merge -f -@20 -o other_celltypes/{1}_human.bam \\\n",
    "    bam_per_cell_type_per_species/output_{1}@H9-tHIO-W15.5+4.bam \\\n",
    "    bam_per_cell_type_per_species/output_{1}@iPSC72.3-tHIO-W10.5.bam \\\n",
    "    bam_per_cell_type_per_species/output_{1}@JasonDuoCrypt-D80.bam \\\n",
    "    bam_per_cell_type_per_species/output_{1}@UmutSI-W17.bam &&\n",
    "samtools sort -@10 other_celltypes/{1}_human.bam -o other_celltypes/{1}_human_sorted.bam &&\n",
    "samtools index other_celltypes/{1}_human_sorted.bam &&\n",
    "samtools view -b -@50 -F 780 -q 30 -F 1024 other_celltypes/{1}_human_sorted.bam > other_celltypes/{1}_human_sorted_filtered.bam &&\n",
    "samtools index other_celltypes/{1}_human_sorted_filtered.bam\n",
    "' ::: \"${cell_types[@]}\"\n"
   ]
  },
  {
   "cell_type": "code",
   "execution_count": 9,
   "id": "6856b819-91eb-45ba-a234-cfebeb4a245c",
   "metadata": {},
   "outputs": [
    {
     "name": "stdout",
     "output_type": "stream",
     "text": [
      "84243784 + 0 in total (QC-passed reads + QC-failed reads)\n",
      "84243784 + 0 primary\n",
      "0 + 0 secondary\n",
      "0 + 0 supplementary\n",
      "0 + 0 duplicates\n",
      "0 + 0 primary duplicates\n",
      "84243784 + 0 mapped (100.00% : N/A)\n",
      "84243784 + 0 primary mapped (100.00% : N/A)\n",
      "84243784 + 0 paired in sequencing\n",
      "42155604 + 0 read1\n",
      "42088180 + 0 read2\n",
      "83783032 + 0 properly paired (99.45% : N/A)\n",
      "84243784 + 0 with itself and mate mapped\n",
      "0 + 0 singletons (0.00% : N/A)\n",
      "148886 + 0 with mate mapped to a different chr\n",
      "148886 + 0 with mate mapped to a different chr (mapQ>=5)\n",
      "(chrombpnet) \n"
     ]
    },
    {
     "ename": "",
     "evalue": "1",
     "output_type": "error",
     "traceback": []
    }
   ],
   "source": [
    "samtools flagstat enterocytes_species/enterocyte_human_sorted_filtered.bam"
   ]
  },
  {
   "cell_type": "code",
   "execution_count": 10,
   "id": "2df8073c-20b4-4790-a1f6-199cb47c5966",
   "metadata": {},
   "outputs": [
    {
     "name": "stdout",
     "output_type": "stream",
     "text": [
      "/cluster/project/treutlein/jjans/software/miniforge3/envs/macs3/bin/macs3\n"
     ]
    }
   ],
   "source": [
    "mamba activate macs3\n",
    "which macs3"
   ]
  },
  {
   "cell_type": "code",
   "execution_count": null,
   "id": "6b292205-4939-444a-bb71-b4728725a48d",
   "metadata": {},
   "outputs": [],
   "source": [
    "cell_types=(\"Stem_cell\" \"Goblet_cell\" \"EEC\")\n",
    "\n",
    "parallel -j 3 '\n",
    "echo \"Calling Peaks {1}...\" &&\n",
    "macs3 callpeak -f BAMPE -t other_celltypes/{1}_human_sorted_filtered.bam -g hs -n other_celltypes/called_peaks/{1}_human_peaks -B -q 0.01\n",
    "' ::: \"${cell_types[@]}\""
   ]
  },
  {
   "cell_type": "code",
   "execution_count": 15,
   "id": "0c4ade0f-da58-41c8-bd44-ef399034a561",
   "metadata": {},
   "outputs": [
    {
     "name": "stdout",
     "output_type": "stream",
     "text": [
      "/cluster/project/treutlein/jjans/software/miniforge3/envs/chrombpnet2/bin/bedtools\n"
     ]
    }
   ],
   "source": [
    "mamba activate chrombpnet2\n",
    "which bedtools"
   ]
  },
  {
   "cell_type": "code",
   "execution_count": 16,
   "id": "c90fb557-d2cc-4ff9-8f4d-36316b0e35f2",
   "metadata": {},
   "outputs": [
    {
     "name": "stdout",
     "output_type": "stream",
     "text": [
      "***** WARNING: File other_celltypes/called_peaks/Goblet_cell_human_peaks_peaks.narrowPeak has inconsistent naming convention for record:\n",
      "GL000008.2\t2512\t2834\tother_celltypes/called_peaks/Goblet_cell_human_peaks_peak_1\t52\t.\t5.11355\t7.66683\t5.21835\t79\n",
      "\n",
      "***** WARNING: File other_celltypes/called_peaks/Goblet_cell_human_peaks_peaks.narrowPeak has inconsistent naming convention for record:\n",
      "GL000008.2\t2512\t2834\tother_celltypes/called_peaks/Goblet_cell_human_peaks_peak_1\t52\t.\t5.11355\t7.66683\t5.21835\t79\n",
      "\n",
      "***** WARNING: File other_celltypes/called_peaks/EEC_human_peaks_peaks.narrowPeak has inconsistent naming convention for record:\n",
      "GL000195.1\t30395\t30876\tother_celltypes/called_peaks/EEC_human_peaks_peak_1\t87\t.\t6.90224\t11.1865\t8.79354\t434\n",
      "\n",
      "***** WARNING: File other_celltypes/called_peaks/EEC_human_peaks_peaks.narrowPeak has inconsistent naming convention for record:\n",
      "GL000195.1\t30395\t30876\tother_celltypes/called_peaks/EEC_human_peaks_peak_1\t87\t.\t6.90224\t11.1865\t8.79354\t434\n",
      "\n",
      "***** WARNING: File other_celltypes/called_peaks/Stem_cell_human_peaks_peaks.narrowPeak has inconsistent naming convention for record:\n",
      "GL000008.2\t795\t1251\tother_celltypes/called_peaks/Stem_cell_human_peaks_peak_1\t58\t.\t3.43252\t7.84619\t5.88444\t273\n",
      "\n",
      "***** WARNING: File other_celltypes/called_peaks/Stem_cell_human_peaks_peaks.narrowPeak has inconsistent naming convention for record:\n",
      "GL000008.2\t795\t1251\tother_celltypes/called_peaks/Stem_cell_human_peaks_peak_1\t58\t.\t3.43252\t7.84619\t5.88444\t273\n",
      "\n"
     ]
    }
   ],
   "source": [
    "cell_types=(\"Stem_cell\" \"Goblet_cell\" \"EEC\")\n",
    "\n",
    "parallel -j 3 '\n",
    "bedtools intersect -v -a other_celltypes/called_peaks/{1}_human_peaks_peaks.narrowPeak -b encode_data/temp.bed  > other_celltypes/called_peaks/{1}_human_peaks_no_blacklist.bed &&\n",
    "grep chr other_celltypes/called_peaks/{1}_human_peaks_no_blacklist.bed > other_celltypes/called_peaks/{1}_human_peaks_no_blacklist_chr.bed\n",
    "' ::: \"${cell_types[@]}\""
   ]
  },
  {
   "cell_type": "code",
   "execution_count": 12,
   "id": "4fe1460a-3c11-4851-a31f-c6325fe5cc21",
   "metadata": {},
   "outputs": [
    {
     "name": "stdout",
     "output_type": "stream",
     "text": [
      "910 encode_data/temp.bed\n"
     ]
    }
   ],
   "source": [
    "wc -l encode_data/temp.bed"
   ]
  },
  {
   "cell_type": "code",
   "execution_count": 17,
   "id": "6fa037be-1304-484b-bf81-f542bac0bb28",
   "metadata": {},
   "outputs": [
    {
     "name": "stdout",
     "output_type": "stream",
     "text": [
      "/cluster/project/treutlein/jjans/software/miniforge3/envs/chrombpnet2/bin/chrombpnet\n"
     ]
    }
   ],
   "source": [
    "mamba activate chrombpnet2\n",
    "which chrombpnet"
   ]
  },
  {
   "cell_type": "code",
   "execution_count": null,
   "id": "ea588fe5-b023-48c9-87d4-1ad12b5e8223",
   "metadata": {
    "collapsed": true,
    "jupyter": {
     "outputs_hidden": true
    },
    "scrolled": true
   },
   "outputs": [
    {
     "name": "stdout",
     "output_type": "stream",
     "text": [
      "num_rows:39507\n",
      "Number of regions filtered because inputlen sequence cannot be constructed: 6\n",
      "Percentage of regions filtered 0.015%\n",
      "Following background chromosomes chrUn_KI270375v1,chrUn_KI270750v1,chr1_KI270710v1_random,chrUn_KI270589v1,chr14_KI270724v1_random,chrUn_KI270744v1,chr17_KI270730v1_random,chrUn_KI270751v1,chr1_KI270708v1_random,chrUn_KI270315v1,chrUn_KI270420v1,chr14_GL000225v1_random,chr22_KI270733v1_random,chr1_KI270709v1_random,chr14_GL000009v2_random,chr5_GL000208v1_random,chr22_KI270738v1_random,chrUn_KI270442v1,chrUn_KI270741v1,chr2_KI270716v1_random,chr9_KI270718v1_random,chr1_KI270711v1_random,chr22_KI270734v1_random,chrUn_KI270302v1,chr14_KI270725v1_random,chr3_GL000221v1_random,chrUn_KI270517v1,chrUn_KI270754v1,chr1_KI270707v1_random,chr15_KI270727v1_random,chrUn_GL000219v1,chr9_KI270719v1_random,chrUn_KI270591v1,chrUn_KI270755v1,chrUn_KI270746v1,chr14_KI270723v1_random,chrUn_KI270587v1,chrUn_KI270448v1,chrUn_GL000195v1,chrEBV,chrUn_KI270584v1,chr14_KI270726v1_random,chr1_KI270706v1_random,chr16_KI270728v1_random,chrUn_KI270468v1,chrUn_KI270745v1,chr14_KI270722v1_random,chrUn_GL000216v2,chrUn_KI270304v1,chrUn_KI270510v1,chrUn_GL000214v1,chr22_KI270731v1_random,chr14_GL000194v1_random,chrUn_KI270757v1,chrUn_KI270411v1,chrUn_GL000220v1,chr22_KI270737v1_random,chrUn_KI270374v1,chrUn_KI270538v1,chrUn_KI270317v1,chrUn_KI270366v1,chr22_KI270736v1_random,chr17_GL000205v2_random,chrUn_KI270418v1,chr22_KI270735v1_random,chrUn_GL000224v1,chrUn_KI270753v1,chrUn_KI270752v1,chr17_KI270729v1_random,chrUn_KI270590v1,chr9_KI270720v1_random,chrUn_KI270515v1,chrUn_KI270747v1,chrUn_KI270320v1,chrUn_KI270390v1,chrUn_KI270511v1,chr9_KI270717v1_random,chr4_GL000008v2_random,chrUn_KI270424v1,chrUn_KI270748v1,chrUn_KI270362v1,chrUn_GL000218v1,chrUn_KI270521v1,chr1_KI270712v1_random,chr22_KI270732v1_random,chrUn_KI270588v1,chrUn_KI270742v1,chrUn_KI270593v1,chr22_KI270739v1_random,chrUn_KI270512v1,chrUn_KI270311v1,chrUn_KI270333v1,chrUn_KI270528v1,chr11_KI270721v1_random,chrUn_KI270509v1,chr1_KI270713v1_random,chr2_KI270715v1_random,chrUn_KI270749v1,chr1_KI270714v1_random,chrUn_GL000213v1,chrUn_KI270519v1,chrUn_KI270582v1,chrUn_KI270371v1,chrUn_KI270382v1,chrUn_KI270743v1,chrUn_KI270522v1,chrUn_KI270581v1,chrY_KI270740v1_random,chrUn_KI270518v1,chrUn_KI270579v1,chrUn_KI270507v1,chrUn_KI270414v1,chrUn_KI270438v1,chrUn_GL000226v1,chrUn_KI270364v1,chrUn_KI270322v1,chrUn_KI270435v1,chrUn_KI270756v1,chrUn_KI270530v1  were ignored since they are not present in the given fold\n",
      "39501\n",
      "Following foreground chromosomes chr11_KI270721v1_random,chrM,chrUn_GL000220v1,chrUn_GL000224v1,chr1_KI270713v1_random,chrUn_KI270438v1,chr1_KI270714v1_random,chrUn_GL000195v1,chrUn_KI270467v1,chrUn_KI270752v1,chrUn_KI270744v1,chr14_GL000225v1_random,chr22_KI270733v1_random,chr17_KI270729v1_random,chrUn_GL000216v2,chr17_GL000205v2_random were ignored since they are not present in the given fold\n",
      "39507it [00:03, 12141.34it/s]\n",
      "100%|██████████| 2852369/2852369 [00:03<00:00, 826514.01it/s]\n",
      "100%|██████████| 39501/39501 [00:01<00:00, 26027.12it/s]\n",
      "num_rows:87882\n",
      "Number of regions filtered because inputlen sequence cannot be constructed: 3\n",
      "Percentage of regions filtered 0.003%\n",
      "Following background chromosomes chrUn_KI270364v1,chr1_KI270708v1_random,chrUn_GL000220v1,chr22_KI270732v1_random,chr2_KI270716v1_random,chrUn_KI270420v1,chr1_KI270713v1_random,chrUn_KI270366v1,chr14_KI270723v1_random,chr17_KI270730v1_random,chrUn_KI270579v1,chrUn_KI270510v1,chrUn_KI270591v1,chrUn_KI270751v1,chr9_KI270717v1_random,chrEBV,chrUn_GL000218v1,chrUn_KI270382v1,chr16_KI270728v1_random,chr2_KI270715v1_random,chr22_KI270739v1_random,chr1_KI270711v1_random,chrUn_KI270746v1,chrUn_KI270362v1,chr22_KI270734v1_random,chr3_GL000221v1_random,chrUn_KI270333v1,chrUn_KI270512v1,chrUn_KI270590v1,chrUn_KI270748v1,chrUn_KI270509v1,chrUn_KI270749v1,chr1_KI270712v1_random,chrY_KI270740v1_random,chr5_GL000208v1_random,chr14_KI270724v1_random,chrUn_KI270756v1,chrUn_KI270530v1,chrUn_GL000195v1,chrUn_KI270581v1,chrUn_GL000224v1,chrUn_KI270371v1,chr14_GL000194v1_random,chr1_KI270707v1_random,chrUn_KI270304v1,chrUn_KI270375v1,chrUn_KI270438v1,chrUn_KI270511v1,chrUn_KI270374v1,chrUn_KI270589v1,chrUn_KI270424v1,chr14_GL000225v1_random,chrUn_KI270468v1,chr22_KI270738v1_random,chrUn_KI270418v1,chrUn_KI270582v1,chr9_KI270719v1_random,chrUn_KI270414v1,chrUn_KI270755v1,chrUn_KI270587v1,chr15_KI270727v1_random,chrUn_KI270442v1,chrUn_KI270448v1,chrUn_KI270517v1,chr14_KI270725v1_random,chr22_KI270736v1_random,chr22_KI270731v1_random,chr22_KI270737v1_random,chrUn_KI270584v1,chrUn_KI270322v1,chr9_KI270718v1_random,chrUn_KI270315v1,chrUn_KI270593v1,chr17_KI270729v1_random,chrUn_KI270588v1,chr22_KI270733v1_random,chrUn_KI270411v1,chrUn_GL000226v1,chrUn_KI270745v1,chr14_KI270726v1_random,chrUn_KI270507v1,chrUn_KI270747v1,chrUn_KI270757v1,chrUn_GL000219v1,chrUn_KI270302v1,chrUn_KI270744v1,chr22_KI270735v1_random,chrUn_KI270521v1,chrUn_KI270754v1,chr11_KI270721v1_random,chrUn_KI270435v1,chrUn_KI270519v1,chrUn_KI270320v1,chr9_KI270720v1_random,chr1_KI270706v1_random,chrUn_KI270753v1,chr14_KI270722v1_random,chrUn_KI270741v1,chrUn_KI270515v1,chr14_GL000009v2_random,chrUn_KI270518v1,chr1_KI270709v1_random,chrUn_KI270528v1,chr1_KI270710v1_random,chrUn_KI270522v1,chrUn_KI270742v1,chrUn_GL000214v1,chrUn_KI270538v1,chr4_GL000008v2_random,chrUn_KI270743v1,chr1_KI270714v1_random,chrUn_GL000216v2,chrUn_KI270317v1,chrUn_KI270311v1,chrUn_KI270750v1,chrUn_GL000213v1,chrUn_KI270752v1,chr17_GL000205v2_random,chrUn_KI270390v1  were ignored since they are not present in the given fold\n",
      "87879\n",
      "Following foreground chromosomes chrUn_GL000220v1,chr1_KI270713v1_random,chr14_GL000225v1_random,chr11_KI270721v1_random,chr1_KI270714v1_random,chr4_GL000008v2_random,chrUn_GL000216v2,chrUn_KI270467v1,chrM,chrUn_KI270438v1,chr17_KI270729v1_random,chrUn_GL000195v1,chrUn_GL000224v1,chr17_GL000205v2_random,chr22_KI270733v1_random were ignored since they are not present in the given fold\n",
      "87882it [00:07, 12410.43it/s]\n",
      "100%|██████████| 2644202/2644202 [00:03<00:00, 820430.45it/s]\n",
      "100%|██████████| 87879/87879 [00:07<00:00, 11767.40it/s]\n",
      "num_rows:87882\n",
      "Number of regions filtered because inputlen sequence cannot be constructed: 3\n",
      "Percentage of regions filtered 0.003%\n",
      "Following background chromosomes chr22_KI270731v1_random,chrUn_KI270511v1,chrUn_KI270507v1,chrUn_KI270593v1,chrUn_GL000224v1,chr17_KI270729v1_random,chrUn_KI270371v1,chrUn_KI270317v1,chrUn_KI270468v1,chr14_KI270726v1_random,chrUn_KI270743v1,chr22_KI270737v1_random,chr9_KI270719v1_random,chr1_KI270710v1_random,chr1_KI270712v1_random,chr22_KI270733v1_random,chrUn_KI270756v1,chrUn_KI270744v1,chrUn_KI270588v1,chrUn_KI270311v1,chrUn_KI270746v1,chr1_KI270713v1_random,chrUn_KI270581v1,chr16_KI270728v1_random,chrUn_KI270517v1,chrUn_KI270518v1,chrUn_KI270582v1,chrUn_KI270364v1,chrUn_GL000214v1,chrUn_KI270741v1,chrUn_KI270589v1,chrUn_KI270538v1,chrUn_KI270512v1,chr15_KI270727v1_random,chr1_KI270714v1_random,chrUn_KI270522v1,chrUn_KI270510v1,chr22_KI270738v1_random,chrUn_KI270521v1,chrUn_KI270411v1,chrUn_KI270742v1,chr4_GL000008v2_random,chrUn_GL000216v2,chrUn_KI270302v1,chrUn_KI270320v1,chrUn_KI270584v1,chrUn_GL000220v1,chr14_GL000194v1_random,chr22_KI270739v1_random,chr9_KI270720v1_random,chr14_KI270724v1_random,chr14_KI270722v1_random,chrUn_KI270448v1,chrUn_KI270375v1,chr1_KI270706v1_random,chrUn_KI270333v1,chr22_KI270732v1_random,chrUn_KI270530v1,chrUn_KI270362v1,chrUn_KI270753v1,chrUn_KI270579v1,chrUn_KI270591v1,chrEBV,chrUn_KI270315v1,chrUn_KI270438v1,chrUn_KI270755v1,chrUn_KI270424v1,chrUn_KI270751v1,chrUn_KI270748v1,chr5_GL000208v1_random,chr14_KI270725v1_random,chrUn_KI270420v1,chrUn_KI270590v1,chr1_KI270707v1_random,chrUn_KI270519v1,chrUn_GL000218v1,chr1_KI270711v1_random,chrUn_KI270587v1,chr17_KI270730v1_random,chr11_KI270721v1_random,chr2_KI270715v1_random,chr9_KI270718v1_random,chr9_KI270717v1_random,chrUn_GL000226v1,chrUn_KI270750v1,chr22_KI270734v1_random,chrUn_KI270414v1,chrUn_KI270757v1,chrUn_KI270442v1,chrUn_KI270752v1,chrUn_KI270374v1,chrUn_KI270322v1,chr3_GL000221v1_random,chrUn_KI270745v1,chr14_KI270723v1_random,chrUn_KI270509v1,chrUn_GL000213v1,chrUn_KI270418v1,chr1_KI270708v1_random,chrUn_KI270754v1,chrUn_KI270304v1,chrUn_KI270528v1,chr1_KI270709v1_random,chr22_KI270735v1_random,chr17_GL000205v2_random,chrUn_GL000195v1,chrUn_GL000219v1,chr14_GL000225v1_random,chrY_KI270740v1_random,chrUn_KI270382v1,chrUn_KI270749v1,chrUn_KI270390v1,chr22_KI270736v1_random,chr2_KI270716v1_random,chrUn_KI270435v1,chrUn_KI270366v1,chrUn_KI270515v1,chrUn_KI270747v1,chr14_GL000009v2_random  were ignored since they are not present in the given fold\n",
      "87879\n",
      "Following foreground chromosomes chrUn_KI270438v1,chrUn_GL000224v1,chr1_KI270713v1_random,chr22_KI270733v1_random,chr1_KI270714v1_random,chr17_GL000205v2_random,chr11_KI270721v1_random,chrUn_GL000195v1,chrUn_KI270467v1,chrUn_GL000220v1,chr14_GL000225v1_random,chrM,chr4_GL000008v2_random,chrUn_GL000216v2,chr17_KI270729v1_random were ignored since they are not present in the given fold\n",
      "87882it [00:07, 12543.16it/s]\n",
      "100%|██████████| 2644202/2644202 [00:03<00:00, 801676.06it/s]\n",
      "100%|██████████| 87879/87879 [00:07<00:00, 12387.21it/s]\n",
      "num_rows:87882\n",
      "Number of regions filtered because inputlen sequence cannot be constructed: 3\n",
      "Percentage of regions filtered 0.003%\n",
      "Following background chromosomes chrUn_KI270751v1,chrUn_KI270741v1,chr22_KI270732v1_random,chr22_KI270733v1_random,chrUn_KI270333v1,chr3_GL000221v1_random,chrUn_GL000226v1,chrUn_KI270744v1,chr1_KI270714v1_random,chr22_KI270731v1_random,chr14_GL000009v2_random,chrUn_KI270512v1,chrUn_KI270745v1,chrUn_KI270442v1,chrUn_KI270752v1,chrY_KI270740v1_random,chrUn_KI270753v1,chr22_KI270736v1_random,chrUn_KI270448v1,chrUn_KI270756v1,chr22_KI270737v1_random,chrUn_KI270515v1,chrEBV,chrUn_KI270311v1,chrUn_KI270591v1,chrUn_KI270414v1,chr14_KI270723v1_random,chrUn_KI270364v1,chrUn_GL000195v1,chr14_KI270726v1_random,chr1_KI270711v1_random,chr2_KI270715v1_random,chr14_KI270725v1_random,chr1_KI270706v1_random,chrUn_KI270302v1,chrUn_KI270438v1,chr17_GL000205v2_random,chrUn_KI270754v1,chrUn_KI270747v1,chr14_GL000225v1_random,chr9_KI270719v1_random,chr22_KI270738v1_random,chrUn_KI270581v1,chrUn_KI270538v1,chrUn_KI270519v1,chrUn_KI270582v1,chrUn_GL000219v1,chrUn_KI270411v1,chrUn_KI270579v1,chrUn_KI270315v1,chrUn_KI270521v1,chr9_KI270717v1_random,chrUn_KI270366v1,chrUn_KI270420v1,chr1_KI270708v1_random,chrUn_KI270371v1,chrUn_KI270382v1,chrUn_KI270317v1,chrUn_KI270424v1,chrUn_KI270435v1,chrUn_KI270584v1,chr1_KI270709v1_random,chr14_KI270724v1_random,chrUn_KI270522v1,chrUn_KI270320v1,chrUn_KI270743v1,chr9_KI270718v1_random,chrUn_KI270322v1,chrUn_KI270750v1,chr17_KI270729v1_random,chr1_KI270712v1_random,chr1_KI270713v1_random,chrUn_KI270509v1,chr17_KI270730v1_random,chrUn_KI270749v1,chrUn_KI270755v1,chrUn_KI270748v1,chrUn_KI270374v1,chrUn_KI270510v1,chr1_KI270707v1_random,chrUn_KI270590v1,chrUn_KI270742v1,chr22_KI270735v1_random,chrUn_KI270589v1,chrUn_KI270390v1,chrUn_KI270746v1,chrUn_KI270507v1,chrUn_KI270375v1,chrUn_KI270418v1,chrUn_KI270362v1,chrUn_KI270528v1,chrUn_GL000213v1,chr9_KI270720v1_random,chr4_GL000008v2_random,chr15_KI270727v1_random,chrUn_KI270468v1,chr16_KI270728v1_random,chr22_KI270734v1_random,chrUn_KI270588v1,chrUn_KI270593v1,chrUn_GL000214v1,chrUn_GL000224v1,chrUn_KI270304v1,chrUn_GL000218v1,chrUn_KI270530v1,chrUn_KI270757v1,chr5_GL000208v1_random,chrUn_KI270587v1,chr22_KI270739v1_random,chr14_KI270722v1_random,chr2_KI270716v1_random,chrUn_KI270517v1,chrUn_GL000220v1,chrUn_GL000216v2,chrUn_KI270511v1,chr11_KI270721v1_random,chrUn_KI270518v1,chr1_KI270710v1_random,chr14_GL000194v1_random  were ignored since they are not present in the given fold\n",
      "87879\n",
      "Following foreground chromosomes chrM,chr14_GL000225v1_random,chrUn_KI270467v1,chr1_KI270714v1_random,chrUn_GL000220v1,chrUn_GL000224v1,chr22_KI270733v1_random,chrUn_GL000216v2,chr17_KI270729v1_random,chr11_KI270721v1_random,chr1_KI270713v1_random,chr4_GL000008v2_random,chrUn_GL000195v1,chrUn_KI270438v1,chr17_GL000205v2_random were ignored since they are not present in the given fold\n",
      "87882it [00:07, 11994.31it/s]\n",
      "100%|██████████| 2644202/2644202 [00:03<00:00, 734122.56it/s]\n",
      "100%|██████████| 87879/87879 [00:07<00:00, 12341.38it/s]\n",
      "num_rows:87882\n",
      "Number of regions filtered because inputlen sequence cannot be constructed: 3\n",
      "Percentage of regions filtered 0.003%\n",
      "Following background chromosomes chr9_KI270717v1_random,chr22_KI270732v1_random,chrEBV,chrUn_KI270468v1,chrUn_KI270584v1,chrUn_GL000220v1,chrUn_KI270751v1,chr1_KI270706v1_random,chrUn_KI270581v1,chr22_KI270739v1_random,chrUn_KI270744v1,chr9_KI270720v1_random,chrUn_KI270302v1,chrUn_GL000195v1,chrUn_KI270374v1,chrUn_KI270512v1,chr1_KI270711v1_random,chr14_GL000194v1_random,chrUn_KI270593v1,chrUn_KI270364v1,chr9_KI270719v1_random,chrUn_KI270748v1,chrUn_KI270375v1,chrUn_KI270753v1,chrUn_KI270362v1,chrUn_KI270442v1,chrUn_KI270521v1,chrUn_KI270448v1,chrUn_KI270322v1,chrUn_KI270418v1,chrUn_KI270743v1,chrUn_KI270587v1,chrUn_KI270745v1,chr1_KI270709v1_random,chrUn_KI270510v1,chr16_KI270728v1_random,chrUn_GL000214v1,chrUn_KI270538v1,chrUn_KI270754v1,chr14_GL000009v2_random,chr5_GL000208v1_random,chr22_KI270738v1_random,chrUn_KI270756v1,chrUn_KI270522v1,chrUn_KI270589v1,chrUn_KI270519v1,chr17_KI270729v1_random,chrUn_KI270382v1,chr9_KI270718v1_random,chrUn_GL000219v1,chrUn_KI270582v1,chr22_KI270737v1_random,chr11_KI270721v1_random,chrUn_KI270741v1,chr14_KI270726v1_random,chr1_KI270713v1_random,chrUn_KI270333v1,chr1_KI270710v1_random,chr1_KI270714v1_random,chrUn_KI270752v1,chrUn_GL000224v1,chr1_KI270707v1_random,chrUn_KI270315v1,chr22_KI270736v1_random,chrUn_KI270749v1,chrY_KI270740v1_random,chrUn_KI270515v1,chrUn_GL000226v1,chrUn_GL000213v1,chrUn_KI270366v1,chr22_KI270731v1_random,chr17_KI270730v1_random,chrUn_KI270424v1,chrUn_KI270509v1,chr17_GL000205v2_random,chr2_KI270716v1_random,chr22_KI270733v1_random,chr14_KI270723v1_random,chrUn_KI270746v1,chrUn_KI270742v1,chrUn_KI270530v1,chrUn_KI270317v1,chrUn_KI270304v1,chrUn_KI270750v1,chrUn_KI270438v1,chrUn_KI270390v1,chrUn_KI270591v1,chr15_KI270727v1_random,chrUn_KI270747v1,chr22_KI270735v1_random,chrUn_KI270371v1,chrUn_KI270414v1,chrUn_KI270528v1,chr22_KI270734v1_random,chrUn_KI270507v1,chr4_GL000008v2_random,chrUn_KI270511v1,chrUn_KI270320v1,chr14_KI270722v1_random,chr2_KI270715v1_random,chrUn_KI270590v1,chrUn_GL000218v1,chrUn_KI270411v1,chrUn_GL000216v2,chr14_KI270725v1_random,chrUn_KI270435v1,chrUn_KI270517v1,chrUn_KI270518v1,chr14_KI270724v1_random,chrUn_KI270579v1,chr14_GL000225v1_random,chrUn_KI270755v1,chr1_KI270712v1_random,chrUn_KI270311v1,chrUn_KI270588v1,chr1_KI270708v1_random,chrUn_KI270420v1,chrUn_KI270757v1,chr3_GL000221v1_random  were ignored since they are not present in the given fold\n",
      "87879\n",
      "Following foreground chromosomes chr17_GL000205v2_random,chr14_GL000225v1_random,chr1_KI270714v1_random,chr17_KI270729v1_random,chr22_KI270733v1_random,chrM,chrUn_GL000224v1,chr11_KI270721v1_random,chrUn_GL000216v2,chrUn_GL000220v1,chr1_KI270713v1_random,chr4_GL000008v2_random,chrUn_KI270467v1,chrUn_GL000195v1,chrUn_KI270438v1 were ignored since they are not present in the given fold\n",
      "87882it [00:07, 12016.20it/s]\n",
      "100%|██████████| 2644202/2644202 [00:03<00:00, 726499.76it/s]\n",
      "100%|██████████| 87879/87879 [00:07<00:00, 11711.07it/s]\n",
      "num_rows:87882\n",
      "Number of regions filtered because inputlen sequence cannot be constructed: 3\n",
      "Percentage of regions filtered 0.003%\n",
      "Following background chromosomes chr1_KI270709v1_random,chrUn_KI270522v1,chrUn_KI270745v1,chrUn_KI270507v1,chr9_KI270718v1_random,chrUn_KI270390v1,chrUn_KI270579v1,chr1_KI270713v1_random,chrUn_GL000224v1,chr22_KI270734v1_random,chrUn_GL000226v1,chr22_KI270736v1_random,chrUn_KI270468v1,chrUn_KI270755v1,chrEBV,chrUn_KI270742v1,chrUn_KI270435v1,chr2_KI270716v1_random,chr9_KI270717v1_random,chr15_KI270727v1_random,chrUn_KI270521v1,chr14_KI270725v1_random,chrUn_KI270374v1,chr14_KI270723v1_random,chr9_KI270720v1_random,chrUn_KI270322v1,chr1_KI270712v1_random,chrUn_KI270582v1,chr17_GL000205v2_random,chrUn_KI270512v1,chrUn_KI270530v1,chr16_KI270728v1_random,chrUn_KI270746v1,chr1_KI270707v1_random,chrUn_KI270317v1,chr1_KI270710v1_random,chrUn_GL000220v1,chrUn_KI270743v1,chrY_KI270740v1_random,chrUn_GL000214v1,chr2_KI270715v1_random,chrUn_KI270519v1,chr22_KI270737v1_random,chrUn_KI270302v1,chrUn_KI270320v1,chrUn_GL000213v1,chrUn_KI270509v1,chr22_KI270732v1_random,chrUn_KI270756v1,chrUn_KI270589v1,chr22_KI270738v1_random,chrUn_KI270315v1,chrUn_KI270442v1,chrUn_KI270438v1,chr14_KI270724v1_random,chrUn_KI270528v1,chrUn_KI270593v1,chrUn_KI270741v1,chrUn_KI270311v1,chr14_GL000194v1_random,chrUn_GL000219v1,chrUn_KI270362v1,chrUn_KI270751v1,chrUn_KI270518v1,chrUn_KI270747v1,chrUn_KI270411v1,chrUn_KI270584v1,chrUn_KI270752v1,chrUn_KI270333v1,chrUn_KI270448v1,chrUn_KI270744v1,chrUn_KI270375v1,chrUn_KI270754v1,chr17_KI270730v1_random,chrUn_KI270753v1,chrUn_KI270364v1,chrUn_KI270538v1,chr1_KI270706v1_random,chrUn_KI270414v1,chr5_GL000208v1_random,chrUn_GL000195v1,chr22_KI270735v1_random,chr11_KI270721v1_random,chr1_KI270714v1_random,chrUn_KI270749v1,chr17_KI270729v1_random,chr1_KI270708v1_random,chr9_KI270719v1_random,chrUn_KI270424v1,chr14_GL000009v2_random,chrUn_KI270371v1,chrUn_KI270515v1,chrUn_GL000218v1,chrUn_KI270581v1,chrUn_KI270750v1,chrUn_KI270510v1,chr14_GL000225v1_random,chrUn_KI270590v1,chrUn_KI270511v1,chrUn_KI270418v1,chr22_KI270739v1_random,chr22_KI270731v1_random,chr1_KI270711v1_random,chr3_GL000221v1_random,chrUn_KI270304v1,chr4_GL000008v2_random,chrUn_KI270748v1,chr14_KI270726v1_random,chrUn_KI270517v1,chrUn_KI270366v1,chrUn_KI270588v1,chrUn_KI270420v1,chrUn_KI270591v1,chr14_KI270722v1_random,chrUn_GL000216v2,chrUn_KI270757v1,chrUn_KI270587v1,chrUn_KI270382v1,chr22_KI270733v1_random  were ignored since they are not present in the given fold\n",
      "87879\n",
      "Following foreground chromosomes chrUn_GL000224v1,chrUn_KI270467v1,chrUn_GL000216v2,chr22_KI270733v1_random,chr17_KI270729v1_random,chr1_KI270713v1_random,chr1_KI270714v1_random,chrM,chrUn_GL000195v1,chr4_GL000008v2_random,chrUn_GL000220v1,chrUn_KI270438v1,chr11_KI270721v1_random,chr14_GL000225v1_random,chr17_GL000205v2_random were ignored since they are not present in the given fold\n",
      "87882it [00:07, 12505.78it/s]\n",
      "100%|██████████| 2644202/2644202 [00:03<00:00, 759531.13it/s]\n",
      "100%|██████████| 87879/87879 [00:06<00:00, 12968.60it/s]\n",
      "num_rows:39507\n",
      "Number of regions filtered because inputlen sequence cannot be constructed: 6\n",
      "Percentage of regions filtered 0.015%\n",
      "Following background chromosomes chr3_GL000221v1_random,chrUn_KI270320v1,chrUn_KI270362v1,chr14_GL000009v2_random,chrUn_KI270743v1,chr17_KI270729v1_random,chr22_KI270732v1_random,chr22_KI270735v1_random,chrUn_GL000226v1,chr1_KI270712v1_random,chrUn_KI270390v1,chr1_KI270708v1_random,chrUn_KI270744v1,chrUn_KI270374v1,chrUn_KI270752v1,chr14_KI270722v1_random,chrUn_KI270424v1,chrUn_GL000213v1,chrUn_GL000218v1,chrUn_KI270590v1,chr14_GL000225v1_random,chrUn_KI270593v1,chr22_KI270734v1_random,chr14_KI270726v1_random,chrUn_KI270588v1,chrUn_KI270322v1,chrUn_KI270371v1,chrUn_KI270742v1,chrUn_KI270468v1,chrUn_KI270511v1,chr5_GL000208v1_random,chrUn_KI270315v1,chrUn_KI270581v1,chr14_KI270723v1_random,chrUn_KI270507v1,chrUn_KI270375v1,chrUn_KI270509v1,chrUn_KI270748v1,chrUn_KI270414v1,chrUn_GL000195v1,chr14_GL000194v1_random,chr9_KI270719v1_random,chrEBV,chrUn_KI270747v1,chrUn_KI270749v1,chr1_KI270710v1_random,chr22_KI270733v1_random,chrUn_KI270591v1,chrUn_KI270754v1,chrUn_KI270435v1,chr14_KI270724v1_random,chrUn_KI270304v1,chrUn_KI270517v1,chr1_KI270707v1_random,chr1_KI270711v1_random,chr22_KI270736v1_random,chrUn_KI270538v1,chrUn_KI270438v1,chr1_KI270706v1_random,chrUn_KI270518v1,chrUn_KI270757v1,chrUn_KI270317v1,chr4_GL000008v2_random,chr14_KI270725v1_random,chrUn_GL000214v1,chr16_KI270728v1_random,chrUn_KI270746v1,chrUn_KI270515v1,chr22_KI270731v1_random,chrUn_KI270519v1,chr17_GL000205v2_random,chrUn_KI270366v1,chr22_KI270737v1_random,chrUn_KI270741v1,chrUn_KI270750v1,chrUn_GL000216v2,chrUn_KI270510v1,chrUn_KI270333v1,chrUn_KI270302v1,chrUn_GL000220v1,chrUn_KI270579v1,chrUn_KI270420v1,chr11_KI270721v1_random,chrUn_GL000224v1,chrUn_KI270751v1,chrUn_KI270418v1,chr1_KI270714v1_random,chr22_KI270739v1_random,chrUn_KI270530v1,chrUn_KI270584v1,chrUn_KI270364v1,chr9_KI270718v1_random,chrUn_KI270582v1,chrUn_GL000219v1,chrUn_KI270411v1,chrUn_KI270512v1,chr9_KI270717v1_random,chrUn_KI270528v1,chr2_KI270716v1_random,chrUn_KI270442v1,chr1_KI270713v1_random,chrUn_KI270753v1,chr15_KI270727v1_random,chrUn_KI270755v1,chr22_KI270738v1_random,chrUn_KI270382v1,chrUn_KI270756v1,chr2_KI270715v1_random,chrUn_KI270522v1,chrY_KI270740v1_random,chrUn_KI270521v1,chr1_KI270709v1_random,chr17_KI270730v1_random,chrUn_KI270587v1,chr9_KI270720v1_random,chrUn_KI270448v1,chrUn_KI270745v1,chrUn_KI270311v1,chrUn_KI270589v1  were ignored since they are not present in the given fold\n",
      "39501\n",
      "Following foreground chromosomes chr22_KI270733v1_random,chrUn_GL000216v2,chrUn_GL000195v1,chrUn_KI270467v1,chrM,chrUn_GL000220v1,chrUn_KI270438v1,chr17_GL000205v2_random,chrUn_KI270744v1,chr11_KI270721v1_random,chrUn_GL000224v1,chrUn_KI270752v1,chr17_KI270729v1_random,chr1_KI270713v1_random,chr14_GL000225v1_random,chr1_KI270714v1_random were ignored since they are not present in the given fold\n",
      "39507it [00:03, 12267.42it/s]\n",
      "100%|██████████| 2852369/2852369 [00:03<00:00, 861585.66it/s]\n",
      "100%|██████████| 39501/39501 [00:01<00:00, 27037.99it/s]\n",
      "num_rows:39507\n",
      "Number of regions filtered because inputlen sequence cannot be constructed: 6\n",
      "Percentage of regions filtered 0.015%\n",
      "Following background chromosomes chrUn_KI270518v1,chrUn_KI270322v1,chrUn_KI270751v1,chrUn_KI270362v1,chrUn_KI270390v1,chrUn_KI270521v1,chrUn_GL000219v1,chrUn_KI270746v1,chrUn_KI270742v1,chrUn_KI270588v1,chr14_GL000009v2_random,chr22_KI270734v1_random,chr14_KI270724v1_random,chrUn_KI270311v1,chr1_KI270709v1_random,chrUn_KI270515v1,chr15_KI270727v1_random,chr22_KI270731v1_random,chrUn_KI270512v1,chrUn_KI270510v1,chrUn_GL000226v1,chrUn_KI270590v1,chrUn_KI270538v1,chr17_KI270730v1_random,chr2_KI270715v1_random,chrUn_GL000214v1,chrUn_KI270749v1,chrUn_KI270744v1,chr2_KI270716v1_random,chr14_KI270725v1_random,chrUn_KI270374v1,chrUn_KI270579v1,chrUn_KI270320v1,chrUn_KI270375v1,chrUn_KI270756v1,chr14_KI270723v1_random,chrUn_GL000213v1,chr22_KI270732v1_random,chrY_KI270740v1_random,chrUn_KI270522v1,chrUn_KI270509v1,chr14_KI270722v1_random,chrUn_KI270753v1,chr22_KI270737v1_random,chrEBV,chrUn_KI270420v1,chrUn_KI270382v1,chrUn_KI270745v1,chr9_KI270717v1_random,chr14_GL000194v1_random,chrUn_KI270448v1,chr17_GL000205v2_random,chr22_KI270736v1_random,chrUn_KI270315v1,chrUn_KI270366v1,chr22_KI270738v1_random,chrUn_KI270442v1,chrUn_KI270364v1,chrUn_KI270741v1,chr1_KI270713v1_random,chr1_KI270706v1_random,chrUn_KI270302v1,chrUn_KI270743v1,chrUn_KI270333v1,chrUn_KI270584v1,chrUn_GL000216v2,chrUn_KI270304v1,chr1_KI270708v1_random,chrUn_GL000195v1,chrUn_GL000218v1,chrUn_KI270418v1,chrUn_KI270517v1,chr22_KI270735v1_random,chr22_KI270739v1_random,chrUn_KI270371v1,chr1_KI270712v1_random,chrUn_KI270530v1,chr5_GL000208v1_random,chrUn_GL000220v1,chrUn_KI270589v1,chr14_GL000225v1_random,chr3_GL000221v1_random,chr1_KI270714v1_random,chr9_KI270718v1_random,chrUn_KI270507v1,chr22_KI270733v1_random,chr9_KI270719v1_random,chrUn_KI270591v1,chrUn_KI270747v1,chr1_KI270707v1_random,chrUn_KI270435v1,chrUn_KI270519v1,chrUn_KI270757v1,chrUn_KI270754v1,chrUn_KI270414v1,chrUn_KI270755v1,chrUn_KI270593v1,chr4_GL000008v2_random,chr17_KI270729v1_random,chrUn_KI270438v1,chr11_KI270721v1_random,chrUn_KI270528v1,chrUn_GL000224v1,chrUn_KI270468v1,chrUn_KI270582v1,chrUn_KI270424v1,chrUn_KI270511v1,chr1_KI270711v1_random,chr9_KI270720v1_random,chr14_KI270726v1_random,chrUn_KI270317v1,chrUn_KI270750v1,chr16_KI270728v1_random,chrUn_KI270752v1,chr1_KI270710v1_random,chrUn_KI270411v1,chrUn_KI270581v1,chrUn_KI270748v1,chrUn_KI270587v1  were ignored since they are not present in the given fold\n",
      "39501\n",
      "Following foreground chromosomes chr17_GL000205v2_random,chrUn_GL000220v1,chrUn_GL000224v1,chrUn_KI270438v1,chr14_GL000225v1_random,chr22_KI270733v1_random,chrUn_GL000195v1,chrUn_KI270752v1,chrUn_KI270467v1,chrUn_GL000216v2,chrUn_KI270744v1,chr1_KI270714v1_random,chr1_KI270713v1_random,chr17_KI270729v1_random,chrM,chr11_KI270721v1_random were ignored since they are not present in the given fold\n",
      "39507it [00:03, 11484.14it/s]\n",
      "100%|██████████| 2852369/2852369 [00:03<00:00, 823915.37it/s]\n",
      "100%|██████████| 39501/39501 [00:01<00:00, 26080.50it/s]\n",
      "num_rows:39507\n",
      "Number of regions filtered because inputlen sequence cannot be constructed: 6\n",
      "Percentage of regions filtered 0.015%\n",
      "Following background chromosomes chrUn_KI270582v1,chr1_KI270706v1_random,chr5_GL000208v1_random,chrUn_KI270390v1,chrUn_KI270746v1,chr22_KI270732v1_random,chrUn_KI270587v1,chrUn_KI270748v1,chr14_GL000225v1_random,chrUn_KI270468v1,chr1_KI270711v1_random,chrUn_KI270745v1,chrUn_KI270518v1,chrUn_GL000195v1,chr1_KI270707v1_random,chrUn_KI270741v1,chrUn_KI270509v1,chrUn_KI270333v1,chrUn_GL000214v1,chr22_KI270739v1_random,chrUn_KI270742v1,chrEBV,chrUn_KI270756v1,chrUn_KI270510v1,chrUn_KI270752v1,chrUn_KI270366v1,chrUn_KI270528v1,chr1_KI270713v1_random,chr9_KI270719v1_random,chr14_KI270724v1_random,chrUn_KI270420v1,chrUn_KI270411v1,chr22_KI270736v1_random,chrUn_KI270743v1,chrUn_KI270757v1,chr1_KI270709v1_random,chrUn_KI270362v1,chrUn_GL000213v1,chr1_KI270714v1_random,chrUn_KI270588v1,chrUn_KI270755v1,chrUn_KI270753v1,chrUn_KI270414v1,chrUn_GL000218v1,chrUn_KI270754v1,chrUn_KI270538v1,chrUn_KI270448v1,chrUn_KI270751v1,chrUn_KI270521v1,chr1_KI270712v1_random,chr1_KI270708v1_random,chr22_KI270735v1_random,chr1_KI270710v1_random,chrUn_KI270589v1,chr11_KI270721v1_random,chrY_KI270740v1_random,chrUn_GL000226v1,chr16_KI270728v1_random,chrUn_GL000220v1,chrUn_KI270317v1,chrUn_KI270375v1,chrUn_KI270315v1,chr17_KI270730v1_random,chrUn_KI270515v1,chrUn_KI270579v1,chrUn_KI270424v1,chrUn_KI270442v1,chr14_GL000194v1_random,chr17_GL000205v2_random,chrUn_KI270581v1,chr2_KI270716v1_random,chr14_KI270722v1_random,chrUn_KI270382v1,chrUn_KI270749v1,chrUn_KI270584v1,chrUn_KI270374v1,chrUn_KI270418v1,chrUn_KI270593v1,chr14_GL000009v2_random,chr22_KI270734v1_random,chrUn_KI270435v1,chrUn_KI270747v1,chrUn_KI270512v1,chrUn_KI270311v1,chr17_KI270729v1_random,chr22_KI270733v1_random,chrUn_KI270371v1,chrUn_KI270744v1,chrUn_GL000219v1,chr22_KI270737v1_random,chr22_KI270738v1_random,chrUn_KI270590v1,chrUn_KI270322v1,chrUn_KI270517v1,chrUn_KI270304v1,chr2_KI270715v1_random,chrUn_KI270320v1,chr15_KI270727v1_random,chrUn_GL000224v1,chrUn_KI270530v1,chr22_KI270731v1_random,chrUn_KI270302v1,chrUn_KI270507v1,chr3_GL000221v1_random,chrUn_KI270591v1,chr14_KI270723v1_random,chrUn_KI270519v1,chrUn_KI270522v1,chrUn_KI270438v1,chr14_KI270726v1_random,chrUn_KI270750v1,chrUn_KI270511v1,chr9_KI270718v1_random,chr9_KI270720v1_random,chrUn_GL000216v2,chr9_KI270717v1_random,chr4_GL000008v2_random,chrUn_KI270364v1,chr14_KI270725v1_random  were ignored since they are not present in the given fold\n",
      "39501\n",
      "Following foreground chromosomes chr1_KI270713v1_random,chrUn_GL000195v1,chrM,chr1_KI270714v1_random,chrUn_GL000224v1,chrUn_GL000216v2,chr17_KI270729v1_random,chrUn_KI270438v1,chrUn_KI270752v1,chr22_KI270733v1_random,chr14_GL000225v1_random,chrUn_KI270744v1,chr11_KI270721v1_random,chrUn_KI270467v1,chrUn_GL000220v1,chr17_GL000205v2_random were ignored since they are not present in the given fold\n",
      "39507it [00:03, 11237.78it/s]\n",
      "100%|██████████| 2852369/2852369 [00:03<00:00, 818885.34it/s]\n",
      "100%|██████████| 39501/39501 [00:01<00:00, 26822.14it/s]\n",
      "num_rows:39507\n",
      "Number of regions filtered because inputlen sequence cannot be constructed: 6\n",
      "Percentage of regions filtered 0.015%\n",
      "Following background chromosomes chr1_KI270714v1_random,chr14_GL000009v2_random,chrUn_KI270587v1,chrUn_KI270746v1,chrUn_KI270521v1,chrUn_GL000214v1,chrUn_KI270750v1,chrUn_KI270538v1,chr11_KI270721v1_random,chrUn_KI270414v1,chrUn_KI270364v1,chr1_KI270707v1_random,chrUn_KI270420v1,chrUn_KI270589v1,chrUn_GL000216v2,chr16_KI270728v1_random,chrUn_KI270304v1,chrUn_KI270317v1,chr22_KI270733v1_random,chr1_KI270708v1_random,chr3_GL000221v1_random,chr14_KI270723v1_random,chr17_KI270729v1_random,chr14_GL000194v1_random,chrUn_KI270311v1,chrUn_KI270515v1,chr22_KI270731v1_random,chrUn_KI270374v1,chrUn_KI270742v1,chr5_GL000208v1_random,chr1_KI270713v1_random,chr14_KI270725v1_random,chrUn_KI270366v1,chr14_GL000225v1_random,chrUn_KI270590v1,chrUn_KI270743v1,chrUn_KI270754v1,chr22_KI270732v1_random,chr17_KI270730v1_random,chrUn_KI270468v1,chrUn_KI270448v1,chr14_KI270724v1_random,chr15_KI270727v1_random,chrUn_GL000219v1,chrUn_KI270424v1,chr2_KI270716v1_random,chrUn_KI270333v1,chrUn_GL000195v1,chr14_KI270726v1_random,chrUn_KI270375v1,chr4_GL000008v2_random,chrUn_GL000220v1,chrUn_KI270748v1,chrUn_KI270512v1,chr1_KI270706v1_random,chr22_KI270739v1_random,chrUn_KI270302v1,chrUn_KI270322v1,chr2_KI270715v1_random,chrUn_KI270744v1,chrUn_KI270411v1,chr17_GL000205v2_random,chrUn_KI270581v1,chrUn_KI270418v1,chrUn_GL000213v1,chrUn_KI270362v1,chr22_KI270736v1_random,chr22_KI270738v1_random,chrUn_GL000224v1,chrUn_KI270519v1,chrUn_KI270510v1,chrUn_KI270522v1,chrUn_KI270756v1,chrUn_KI270315v1,chrUn_KI270755v1,chr1_KI270709v1_random,chr9_KI270717v1_random,chrUn_KI270588v1,chrUn_KI270390v1,chrUn_KI270511v1,chr1_KI270710v1_random,chrUn_KI270751v1,chr9_KI270719v1_random,chrUn_KI270582v1,chrUn_KI270320v1,chrUn_KI270741v1,chrUn_KI270747v1,chrUn_KI270593v1,chrUn_KI270382v1,chrUn_KI270528v1,chr22_KI270737v1_random,chrUn_KI270507v1,chr1_KI270711v1_random,chr9_KI270720v1_random,chr14_KI270722v1_random,chrUn_KI270435v1,chrUn_KI270509v1,chrUn_KI270584v1,chrUn_KI270371v1,chrUn_KI270757v1,chr22_KI270734v1_random,chrUn_KI270752v1,chrUn_GL000226v1,chrUn_KI270442v1,chrUn_GL000218v1,chrUn_KI270530v1,chrUn_KI270438v1,chrEBV,chrY_KI270740v1_random,chrUn_KI270579v1,chrUn_KI270517v1,chrUn_KI270591v1,chr1_KI270712v1_random,chr9_KI270718v1_random,chrUn_KI270518v1,chr22_KI270735v1_random,chrUn_KI270749v1,chrUn_KI270753v1,chrUn_KI270745v1  were ignored since they are not present in the given fold\n",
      "39501\n",
      "Following foreground chromosomes chr1_KI270714v1_random,chr11_KI270721v1_random,chrUn_GL000220v1,chrUn_KI270752v1,chrUn_GL000216v2,chrUn_KI270467v1,chrUn_KI270744v1,chr17_KI270729v1_random,chr1_KI270713v1_random,chrUn_GL000195v1,chr17_GL000205v2_random,chrUn_KI270438v1,chrM,chrUn_GL000224v1,chr14_GL000225v1_random,chr22_KI270733v1_random were ignored since they are not present in the given fold\n",
      "39507it [00:03, 11360.65it/s]\n",
      "100%|██████████| 2852369/2852369 [00:03<00:00, 802556.30it/s]\n",
      "100%|██████████| 39501/39501 [00:01<00:00, 25541.79it/s]\n",
      "num_rows:68991\n",
      "Number of regions filtered because inputlen sequence cannot be constructed: 2\n",
      "Percentage of regions filtered 0.003%\n",
      "Following background chromosomes chrUn_KI270754v1,chr15_KI270727v1_random,chrUn_KI270755v1,chrUn_GL000216v2,chrUn_KI270438v1,chrUn_KI270468v1,chrUn_KI270375v1,chr14_GL000194v1_random,chr14_GL000009v2_random,chr1_KI270714v1_random,chr1_KI270711v1_random,chrUn_KI270302v1,chrUn_KI270530v1,chrUn_KI270333v1,chrUn_KI270515v1,chrUn_KI270579v1,chrUn_KI270588v1,chrUn_KI270382v1,chrUn_GL000195v1,chr1_KI270706v1_random,chrUn_KI270756v1,chrUn_KI270590v1,chrUn_KI270742v1,chr22_KI270738v1_random,chr22_KI270732v1_random,chrUn_KI270521v1,chr5_GL000208v1_random,chrUn_KI270538v1,chrUn_KI270587v1,chrUn_GL000214v1,chr17_GL000205v2_random,chrUn_KI270528v1,chrUn_KI270311v1,chrUn_KI270442v1,chrUn_KI270435v1,chrUn_KI270591v1,chrUn_KI270745v1,chrUn_KI270746v1,chr1_KI270707v1_random,chr4_GL000008v2_random,chrUn_KI270757v1,chr17_KI270730v1_random,chr17_KI270729v1_random,chrUn_KI270509v1,chrUn_KI270418v1,chrUn_KI270411v1,chrUn_KI270315v1,chrUn_KI270362v1,chr14_GL000225v1_random,chr11_KI270721v1_random,chr22_KI270739v1_random,chrUn_KI270589v1,chr9_KI270718v1_random,chr1_KI270713v1_random,chr14_KI270726v1_random,chrUn_KI270593v1,chrUn_KI270511v1,chr14_KI270722v1_random,chrUn_GL000219v1,chr1_KI270710v1_random,chrUn_KI270420v1,chrUn_KI270322v1,chr9_KI270717v1_random,chrUn_KI270753v1,chrUn_KI270366v1,chrUn_KI270743v1,chrUn_KI270519v1,chr9_KI270719v1_random,chrUn_KI270448v1,chrUn_KI270581v1,chr3_GL000221v1_random,chrUn_KI270744v1,chrUn_GL000213v1,chr14_KI270723v1_random,chrUn_KI270750v1,chrY_KI270740v1_random,chrUn_KI270582v1,chrUn_KI270364v1,chrUn_KI270510v1,chr22_KI270731v1_random,chr9_KI270720v1_random,chrUn_KI270390v1,chrEBV,chr14_KI270724v1_random,chrUn_KI270517v1,chr22_KI270735v1_random,chr1_KI270709v1_random,chrUn_KI270522v1,chr22_KI270734v1_random,chrUn_KI270747v1,chr22_KI270737v1_random,chr16_KI270728v1_random,chrUn_KI270424v1,chrUn_KI270751v1,chrUn_KI270304v1,chrUn_KI270320v1,chrUn_KI270512v1,chrUn_KI270741v1,chr14_KI270725v1_random,chrUn_KI270414v1,chrUn_KI270584v1,chrUn_KI270374v1,chr2_KI270716v1_random,chr22_KI270733v1_random,chr1_KI270708v1_random,chr22_KI270736v1_random,chr1_KI270712v1_random,chrUn_KI270748v1,chr2_KI270715v1_random,chrUn_KI270371v1,chrUn_KI270518v1,chrUn_KI270317v1,chrUn_GL000220v1,chrUn_GL000218v1,chrUn_KI270752v1,chrUn_KI270749v1,chrUn_GL000224v1,chrUn_KI270507v1,chrUn_GL000226v1  were ignored since they are not present in the given fold\n",
      "68989\n",
      "Following foreground chromosomes chr14_GL000225v1_random,chr17_KI270729v1_random,chrUn_GL000216v2,chrUn_KI270438v1,chrM,chr22_KI270733v1_random,chrUn_GL000220v1,chrUn_GL000195v1,chr1_KI270713v1_random,chr17_GL000205v2_random,chrUn_GL000224v1,chrUn_KI270467v1 were ignored since they are not present in the given fold\n",
      "68991it [00:05, 11965.28it/s]\n",
      "100%|██████████| 2724159/2724159 [00:03<00:00, 846370.00it/s]\n",
      "100%|██████████| 68989/68989 [00:04<00:00, 15913.63it/s]\n",
      "num_rows:68991\n",
      "Number of regions filtered because inputlen sequence cannot be constructed: 2\n",
      "Percentage of regions filtered 0.003%\n",
      "Following background chromosomes chrUn_KI270753v1,chr14_GL000194v1_random,chr14_KI270726v1_random,chr1_KI270712v1_random,chrUn_KI270744v1,chr22_KI270737v1_random,chrUn_GL000220v1,chrUn_KI270414v1,chrUn_GL000213v1,chr17_KI270730v1_random,chrUn_KI270743v1,chr5_GL000208v1_random,chrUn_KI270579v1,chrUn_KI270515v1,chr1_KI270707v1_random,chr2_KI270715v1_random,chrUn_KI270522v1,chrUn_KI270757v1,chr22_KI270732v1_random,chrUn_GL000226v1,chrUn_KI270745v1,chr9_KI270717v1_random,chrUn_KI270411v1,chrUn_KI270752v1,chrUn_KI270593v1,chrUn_KI270390v1,chrUn_KI270509v1,chr1_KI270706v1_random,chr9_KI270720v1_random,chr1_KI270711v1_random,chrUn_KI270530v1,chr2_KI270716v1_random,chrUn_KI270420v1,chrUn_KI270587v1,chrUn_KI270442v1,chrUn_KI270418v1,chrUn_KI270468v1,chrUn_KI270528v1,chrUn_GL000218v1,chr22_KI270731v1_random,chr17_GL000205v2_random,chrUn_KI270317v1,chr9_KI270719v1_random,chrUn_KI270517v1,chr22_KI270738v1_random,chr14_KI270725v1_random,chrUn_KI270322v1,chrUn_KI270741v1,chrUn_KI270518v1,chrUn_KI270742v1,chrUn_KI270435v1,chrUn_KI270584v1,chr14_KI270723v1_random,chr1_KI270713v1_random,chr1_KI270714v1_random,chrUn_KI270374v1,chr3_GL000221v1_random,chr22_KI270736v1_random,chr11_KI270721v1_random,chrUn_KI270746v1,chr22_KI270739v1_random,chrUn_KI270591v1,chrUn_KI270362v1,chrUn_KI270438v1,chrUn_KI270366v1,chrUn_KI270302v1,chrUn_KI270747v1,chrUn_KI270754v1,chrUn_KI270750v1,chrUn_KI270589v1,chrUn_KI270382v1,chrUn_GL000219v1,chr22_KI270733v1_random,chrUn_KI270315v1,chr17_KI270729v1_random,chrUn_KI270590v1,chrUn_KI270581v1,chr14_KI270722v1_random,chrUn_KI270588v1,chr14_KI270724v1_random,chr22_KI270734v1_random,chrUn_KI270320v1,chrUn_GL000216v2,chrUn_KI270448v1,chrUn_KI270304v1,chr1_KI270710v1_random,chrUn_KI270751v1,chrUn_KI270512v1,chr16_KI270728v1_random,chrUn_KI270424v1,chr15_KI270727v1_random,chrUn_GL000214v1,chrUn_GL000224v1,chrUn_KI270510v1,chrUn_KI270364v1,chrUn_KI270521v1,chrUn_KI270756v1,chrUn_KI270333v1,chr14_GL000225v1_random,chrUn_KI270582v1,chrUn_KI270749v1,chrUn_KI270507v1,chrUn_KI270371v1,chr14_GL000009v2_random,chr4_GL000008v2_random,chr22_KI270735v1_random,chrUn_KI270375v1,chrUn_KI270755v1,chrEBV,chrUn_GL000195v1,chrUn_KI270748v1,chr1_KI270709v1_random,chrY_KI270740v1_random,chrUn_KI270311v1,chrUn_KI270538v1,chr9_KI270718v1_random,chrUn_KI270519v1,chrUn_KI270511v1,chr1_KI270708v1_random  were ignored since they are not present in the given fold\n",
      "68989\n",
      "Following foreground chromosomes chrUn_KI270467v1,chrUn_GL000220v1,chrUn_GL000224v1,chr22_KI270733v1_random,chr17_GL000205v2_random,chrUn_GL000195v1,chr14_GL000225v1_random,chr1_KI270713v1_random,chrUn_KI270438v1,chr17_KI270729v1_random,chrM,chrUn_GL000216v2 were ignored since they are not present in the given fold\n",
      "68991it [00:05, 12502.93it/s]\n",
      "100%|██████████| 2724159/2724159 [00:03<00:00, 840245.27it/s]\n",
      "100%|██████████| 68989/68989 [00:04<00:00, 14733.40it/s]\n"
     ]
    }
   ],
   "source": [
    "cell_types=(\"Stem_cell\" \"Goblet_cell\" \"EEC\")\n",
    "folds=(\"fold_1\" \"fold_2\" \"fold_3\" \"fold_4\" \"fold_0\")\n",
    "\n",
    "# Function to create output directory if it doesn't exist\n",
    "create_output_dir() {\n",
    "    local output_dir=\"$1\"\n",
    "    mkdir -p $output_dir\n",
    "}\n",
    "\n",
    "# Export the function so that GNU Parallel can access it\n",
    "export -f create_output_dir\n",
    "\n",
    "\n",
    "parallel -j 6 '\n",
    "    output_dir=\"other_celltypes/modelv1_{1}/{2}/output\"\n",
    "    create_output_dir \"$output_dir\"\n",
    "    chrombpnet prep nonpeaks -g encode_data/hg38.fa \\\n",
    "        -p other_celltypes/called_peaks/{1}_human_peaks_no_blacklist_chr.bed \\\n",
    "        -c encode_data/hg38.chrom.sizes \\\n",
    "        -fl encode_data/splits/{2}.json \\\n",
    "        -br encode_data/blacklist.bed.gz \\\n",
    "        -o other_celltypes/modelv1_{1}/{2}/output\n",
    "' ::: \"${cell_types[@]}\" ::: \"${folds[@]}\"\n"
   ]
  },
  {
   "cell_type": "code",
   "execution_count": null,
   "id": "23b56eec-48e6-4619-a455-25ed3e4d5eaa",
   "metadata": {},
   "outputs": [],
   "source": []
  },
  {
   "cell_type": "code",
   "execution_count": 29,
   "id": "fc58d2e1-d1e0-40fb-9df6-4e83b71018d4",
   "metadata": {},
   "outputs": [
    {
     "name": "stdout",
     "output_type": "stream",
     "text": [
      "Submitted batch job 22802\n",
      "Submitted batch job 22803\n",
      "Submitted batch job 22804\n",
      "Submitted batch job 22806\n",
      "Submitted batch job 22805\n",
      "Submitted batch job 22807\n",
      "Submitted batch job 22808\n",
      "Submitted batch job 22809\n",
      "Submitted batch job 22810\n",
      "Submitted batch job 22811\n",
      "Submitted batch job 22812\n",
      "Submitted batch job 22813\n",
      "Submitted batch job 22814\n",
      "Submitted batch job 22816\n",
      "Submitted batch job 22815\n"
     ]
    }
   ],
   "source": [
    "cell_types=(\"Stem_cell\" \"Goblet_cell\" \"EEC\")\n",
    "folds=(\"fold_1\" \"fold_2\" \"fold_3\" \"fold_4\" \"fold_0\")\n",
    "\n",
    "# Function to create output directory if it doesn't exist\n",
    "create_output_dir() {\n",
    "    local output_dir=\"$1\"\n",
    "    mkdir -p $output_dir\n",
    "}\n",
    "\n",
    "# Export the function so that GNU Parallel can access it\n",
    "export -f create_output_dir\n",
    "\n",
    "\n",
    "parallel -j 6 '\n",
    "    output_dir=\"/cluster/project/treutlein/USERS/jjans/analysis/intestine/other_celltypes/modelv1_{1}/{2}/output\"\n",
    "    create_output_dir \"$output_dir\"\n",
    "    export bam_file=/cluster/project/treutlein/USERS/jjans/analysis/intestine/other_celltypes/{1}_human_sorted_filtered.bam\n",
    "    export peaks=/cluster/project/treutlein/USERS/jjans/analysis/intestine/other_celltypes/called_peaks/{1}_human_peaks_no_blacklist_chr.bed\n",
    "    export negative_peaks=/cluster/project/treutlein/USERS/jjans/analysis/intestine/other_celltypes/modelv1_{1}/{2}/output_negatives.bed\n",
    "    export fold_json=/cluster/project/treutlein/USERS/jjans/analysis/intestine/encode_data/splits/{2}.json\n",
    "    export output_model=/cluster/project/treutlein/USERS/jjans/analysis/intestine/other_celltypes/modelv1_{1}/{2}/output\n",
    "    export genome_fasta=/cluster/project/treutlein/USERS/jjans/analysis/intestine/encode_data/hg38.fa\n",
    "    export genome_sizes=/cluster/project/treutlein/USERS/jjans/analysis/intestine/encode_data/hg38.chrom.sizes\n",
    "    export bias_model=/cluster/project/treutlein/USERS/jjans/analysis/intestine/bias_model/scATAC_dermal_fibroblast.h5\n",
    "\n",
    "    sbatch train_chrombpnet.sh \"$bam_file\" \"$peaks\" \"$negative_peaks\" \"$fold_json\" \"$output_model\" \"$genome_fasta\" \"$genome_sizes\" \"$bias_model\"\n",
    "' ::: \"${cell_types[@]}\" ::: \"${folds[@]}\"\n"
   ]
  },
  {
   "cell_type": "code",
   "execution_count": 41,
   "id": "38a6ef95-7409-4793-9b87-412d54235916",
   "metadata": {},
   "outputs": [
    {
     "name": "stdout",
     "output_type": "stream",
     "text": [
      "modelv1/chrombpnet_model/evaluation/overall_report.pdf\n",
      "modelv1_fold1/chrombpnet_model/evaluation/overall_report.pdf\n",
      "modelv1_fold2/chrombpnet_model/evaluation/overall_report.pdf\n",
      "modelv1_fold3/chrombpnet_model/evaluation/overall_report.pdf\n"
     ]
    }
   ],
   "source": [
    "ls modelv1*/chrombpnet_model/evaluation/overall_report.pdf"
   ]
  },
  {
   "cell_type": "code",
   "execution_count": 43,
   "id": "08d00ba6-4bd8-4c7a-b23b-33716a7c605b",
   "metadata": {},
   "outputs": [
    {
     "name": "stdout",
     "output_type": "stream",
     "text": [
      "modelv1/chrombpnet_model/models/chrombpnet_nobias.h5\n",
      "modelv1_fold1/chrombpnet_model/models/chrombpnet_nobias.h5\n",
      "modelv1_fold2/chrombpnet_model/models/chrombpnet_nobias.h5\n",
      "modelv1_fold3/chrombpnet_model/models/chrombpnet_nobias.h5\n",
      "modelv1_fold4/chrombpnet_model/models/chrombpnet_nobias.h5\n"
     ]
    }
   ],
   "source": [
    "ls modelv1*/chrombpnet_model/models/chrombpnet_nobias.h5"
   ]
  },
  {
   "cell_type": "code",
   "execution_count": 44,
   "id": "225c893d-30ec-4acc-a7cc-c46c194c6ca1",
   "metadata": {},
   "outputs": [
    {
     "name": "stdout",
     "output_type": "stream",
     "text": [
      "modelv0_chimp/chrombpnet_model/models/chrombpnet_nobias.h5\n",
      "modelv0_chimp_fold1/chrombpnet_model/models/chrombpnet_nobias.h5\n",
      "modelv0_chimp_fold2/chrombpnet_model/models/chrombpnet_nobias.h5\n"
     ]
    }
   ],
   "source": [
    "ls modelv*chimp*/chrombpnet_model/models/chrombpnet_nobias.h5"
   ]
  },
  {
   "cell_type": "code",
   "execution_count": 42,
   "id": "571389a1-663d-4149-b852-fd4e28870108",
   "metadata": {},
   "outputs": [
    {
     "name": "stdout",
     "output_type": "stream",
     "text": [
      "modelv0_chimp/chrombpnet_model/evaluation/overall_report.pdf\n",
      "modelv0_chimp_fold1/chrombpnet_model/evaluation/overall_report.pdf\n",
      "modelv0_chimp_fold2/chrombpnet_model/evaluation/overall_report.pdf\n"
     ]
    }
   ],
   "source": [
    "ls modelv*chimp*/chrombpnet_model/evaluation/overall_report.pdf"
   ]
  },
  {
   "cell_type": "code",
   "execution_count": null,
   "id": "4672eb40-547f-4fde-9360-9f3638a09146",
   "metadata": {},
   "outputs": [],
   "source": []
  },
  {
   "cell_type": "code",
   "execution_count": null,
   "id": "cb8b7f3a-2807-40da-ae0a-314e95d5a768",
   "metadata": {},
   "outputs": [],
   "source": []
  },
  {
   "cell_type": "code",
   "execution_count": 1,
   "id": "25624965-0d86-4b15-ae7f-46e726b1ded7",
   "metadata": {},
   "outputs": [
    {
     "name": "stdout",
     "output_type": "stream",
     "text": [
      "/cluster/project/treutlein/jjans/software/miniforge3/envs/macs3/bin/macs3\n"
     ]
    }
   ],
   "source": [
    "mamba activate macs3\n",
    "which macs3"
   ]
  },
  {
   "cell_type": "code",
   "execution_count": 7,
   "id": "9f7ba87d-9fdf-4682-9696-66eaa3de1d54",
   "metadata": {},
   "outputs": [],
   "source": [
    "export bam_file_enterocytes=/cluster/project/treutlein/USERS/jjans/analysis/intestine/celltype_models_human/enterocytes_human_sorted_filtered.bam\n",
    "export bam_file_EEC=/cluster/project/treutlein/USERS/jjans/analysis/intestine/celltype_models_human/EEC_human_sorted_filtered.bam\n",
    "export bam_file_Stem_cell=/cluster/project/treutlein/USERS/jjans/analysis/intestine/celltype_models_human/Stem_cell_human_sorted_filtered.bam\n",
    "export bam_file_Goblet_cell=/cluster/project/treutlein/USERS/jjans/analysis/intestine/celltype_models_human/Goblet_cell_human_sorted_filtered.bam\n",
    "\n",
    "macs3 callpeak -f BAMPE -t $bam_file_enterocytes -c $bam_file_EEC $bam_file_Stem_cell $bam_file_Goblet_cell -g hs -n celltype_models_human/diff_peaks/enterocytes_vs_rest.bam -B -q 0.01 &> celltype_models_human/diff_peaks/enterocytes_vs_rest.log\n",
    "macs3 callpeak -f BAMPE -t $bam_file_EEC -c $bam_file_enterocytes $bam_file_Stem_cell $bam_file_Goblet_cell -g hs -n celltype_models_human/diff_peaks/EEC_vs_rest.bam -B -q 0.01 &> celltype_models_human/diff_peaks/EEC_vs_rest.log\n",
    "macs3 callpeak -f BAMPE -t $bam_file_Stem_cell -c $bam_file_EEC $bam_file_enterocytes $bam_file_Goblet_cell -g hs -n celltype_models_human/diff_peaks/Stem_cell_vs_rest.bam -B -q 0.01 &> celltype_models_human/diff_peaks/Stem_cell_vs_rest.log\n",
    "macs3 callpeak -f BAMPE -t $bam_file_Goblet_cell -c $bam_file_EEC $bam_file_Stem_cell $bam_file_enterocytes -g hs -n celltype_models_human/diff_peaks/Goblet_cell_vs_rest.bam -B -q 0.01 &> celltype_models_human/diff_peaks/Goblet_cell_vs_rest.log"
   ]
  },
  {
   "cell_type": "code",
   "execution_count": 4,
   "id": "e43f63cf-c503-414f-8a2a-2bfa7a4572b3",
   "metadata": {},
   "outputs": [],
   "source": [
    "ls celltype_models_human/diff_peaks"
   ]
  },
  {
   "cell_type": "code",
   "execution_count": 9,
   "id": "d8d3c523-bfaf-4a69-87a9-61b1cc008bc0",
   "metadata": {},
   "outputs": [
    {
     "name": "stdout",
     "output_type": "stream",
     "text": [
      "/cluster/project/treutlein/jjans/software/miniforge3/envs/chrombpnet2/bin/bedtools\n"
     ]
    }
   ],
   "source": [
    "mamba activate chrombpnet2\n",
    "which bedtools"
   ]
  },
  {
   "cell_type": "code",
   "execution_count": 10,
   "id": "ee7d988a-e4aa-4a82-a1d5-eccfb0460193",
   "metadata": {},
   "outputs": [
    {
     "name": "stdout",
     "output_type": "stream",
     "text": [
      "***** WARNING: File celltype_models_human/diff_peaks/Goblet_cell_vs_rest.bam_peaks.narrowPeak has inconsistent naming convention for record:\n",
      "KI270438.1\t104558\t104711\tcelltype_models_human/diff_peaks/Goblet_cell_vs_rest.bam_peak_1\t41\t.\t2.15145\t8.50341\t4.16608\t140\n",
      "\n",
      "***** WARNING: File celltype_models_human/diff_peaks/Goblet_cell_vs_rest.bam_peaks.narrowPeak has inconsistent naming convention for record:\n",
      "KI270438.1\t104558\t104711\tcelltype_models_human/diff_peaks/Goblet_cell_vs_rest.bam_peak_1\t41\t.\t2.15145\t8.50341\t4.16608\t140\n",
      "\n",
      "***** WARNING: File celltype_models_human/diff_peaks/Stem_cell_vs_rest.bam_peaks.narrowPeak has inconsistent naming convention for record:\n",
      "GL000205.2\t63045\t63435\tcelltype_models_human/diff_peaks/Stem_cell_vs_rest.bam_peak_1\t32\t.\t2.14676\t6.40941\t3.2741\t172\n",
      "\n",
      "***** WARNING: File celltype_models_human/diff_peaks/Stem_cell_vs_rest.bam_peaks.narrowPeak has inconsistent naming convention for record:\n",
      "GL000205.2\t63045\t63435\tcelltype_models_human/diff_peaks/Stem_cell_vs_rest.bam_peak_1\t32\t.\t2.14676\t6.40941\t3.2741\t172\n",
      "\n",
      "***** WARNING: File celltype_models_human/diff_peaks/enterocytes_vs_rest.bam_peaks.narrowPeak has inconsistent naming convention for record:\n",
      "GL000194.1\t68605\t68776\tcelltype_models_human/diff_peaks/enterocytes_vs_rest.bam_peak_1\t31\t.\t3.9174\t5.97589\t3.19513\t25\n",
      "\n",
      "***** WARNING: File celltype_models_human/diff_peaks/enterocytes_vs_rest.bam_peaks.narrowPeak has inconsistent naming convention for record:\n",
      "GL000194.1\t68605\t68776\tcelltype_models_human/diff_peaks/enterocytes_vs_rest.bam_peak_1\t31\t.\t3.9174\t5.97589\t3.19513\t25\n",
      "\n",
      "***** WARNING: File celltype_models_human/diff_peaks/EEC_vs_rest.bam_peaks.narrowPeak has inconsistent naming convention for record:\n",
      "GL000195.1\t137583\t137817\tcelltype_models_human/diff_peaks/EEC_vs_rest.bam_peak_1\t50\t.\t4.56985\t7.96805\t5.09669\t93\n",
      "\n",
      "***** WARNING: File celltype_models_human/diff_peaks/EEC_vs_rest.bam_peaks.narrowPeak has inconsistent naming convention for record:\n",
      "GL000195.1\t137583\t137817\tcelltype_models_human/diff_peaks/EEC_vs_rest.bam_peak_1\t50\t.\t4.56985\t7.96805\t5.09669\t93\n",
      "\n"
     ]
    }
   ],
   "source": [
    "cell_types=(\"Stem_cell\" \"Goblet_cell\" \"EEC\" \"enterocytes\")\n",
    "\n",
    "parallel -j 3 '\n",
    "bedtools intersect -v -a celltype_models_human/diff_peaks/{1}_vs_rest.bam_peaks.narrowPeak -b encode_data/temp.bed  > celltype_models_human/diff_peaks/{1}_vs_rest.bam_peaks_no_blacklist.bed &&\n",
    "grep chr celltype_models_human/diff_peaks/{1}_vs_rest.bam_peaks_no_blacklist.bed > celltype_models_human/diff_peaks/{1}_vs_rest.bam_peaks_no_blacklist_chr.bed\n",
    "' ::: \"${cell_types[@]}\""
   ]
  },
  {
   "cell_type": "code",
   "execution_count": 13,
   "id": "376ac3a0-fc07-4c0c-83d4-3b494bf2f4d4",
   "metadata": {},
   "outputs": [],
   "source": [
    "ls celltype_models_human/diff_peaks/*_peaks_no_blacklist_chr.bed | xargs cat > celltype_models_human/diff_peaks/concat_no_blacklist_chr.bed"
   ]
  },
  {
   "cell_type": "code",
   "execution_count": 14,
   "id": "8ec93740-6c75-402d-9b62-38b280fe28b4",
   "metadata": {},
   "outputs": [
    {
     "name": "stdout",
     "output_type": "stream",
     "text": [
      "60020 celltype_models_human/diff_peaks/concat_no_blacklist_chr.bed\n"
     ]
    }
   ],
   "source": [
    "wc -l celltype_models_human/diff_peaks/concat_no_blacklist_chr.bed"
   ]
  },
  {
   "cell_type": "code",
   "execution_count": 15,
   "id": "9a0b4ca4-4df3-4ac5-a093-3db510e653bd",
   "metadata": {},
   "outputs": [
    {
     "name": "stdout",
     "output_type": "stream",
     "text": [
      "celltype_models_human/diff_peaks/EEC_vs_rest.bam_peaks_no_blacklist_chr.bed\n",
      "celltype_models_human/diff_peaks/Goblet_cell_vs_rest.bam_peaks_no_blacklist_chr.bed\n",
      "celltype_models_human/diff_peaks/Stem_cell_vs_rest.bam_peaks_no_blacklist_chr.bed\n",
      "celltype_models_human/diff_peaks/concat_no_blacklist_chr.bed\n",
      "celltype_models_human/diff_peaks/enterocytes_vs_rest.bam_peaks_no_blacklist_chr.bed\n"
     ]
    }
   ],
   "source": [
    "ls celltype_models_human/diff_peaks/*_chr.bed"
   ]
  },
  {
   "cell_type": "code",
   "execution_count": 16,
   "id": "a6570430-eb25-4aa4-89a9-beae15738c99",
   "metadata": {},
   "outputs": [
    {
     "name": "stdout",
     "output_type": "stream",
     "text": [
      "27985 celltype_models_human/diff_peaks/EEC_vs_rest.bam_peaks_no_blacklist_chr.bed\n"
     ]
    }
   ],
   "source": [
    "wc -l celltype_models_human/diff_peaks/EEC_vs_rest.bam_peaks_no_blacklist_chr.bed"
   ]
  },
  {
   "cell_type": "code",
   "execution_count": 27,
   "id": "36aa42dd-1a3b-400c-acb5-5eb91b9843ab",
   "metadata": {},
   "outputs": [],
   "source": [
    "bedtools sort -i celltype_models_human/diff_peaks/concat_no_blacklist_chr.bed > celltype_models_human/diff_peaks/concat_no_blacklist_chr.sorted.bed"
   ]
  },
  {
   "cell_type": "code",
   "execution_count": 29,
   "id": "2cb9e563-6ad0-4faf-ba87-07c374e6f4ff",
   "metadata": {},
   "outputs": [],
   "source": [
    "bedtools merge -i celltype_models_human/diff_peaks/concat_no_blacklist_chr.sorted.bed > celltype_models_human/diff_peaks/concat_no_blacklist_chr.sorted.merged.bed"
   ]
  },
  {
   "cell_type": "code",
   "execution_count": 30,
   "id": "44acf664-d6b0-495b-9b85-35f4ccd553c9",
   "metadata": {},
   "outputs": [
    {
     "name": "stdout",
     "output_type": "stream",
     "text": [
      "59395 celltype_models_human/diff_peaks/concat_no_blacklist_chr.sorted.merged.bed\n"
     ]
    }
   ],
   "source": [
    "wc -l celltype_models_human/diff_peaks/concat_no_blacklist_chr.sorted.merged.bed"
   ]
  },
  {
   "cell_type": "code",
   "execution_count": 39,
   "id": "e29b3938-4fa6-472e-b87a-aa3bf8029839",
   "metadata": {
    "collapsed": true,
    "jupyter": {
     "outputs_hidden": true
    }
   },
   "outputs": [
    {
     "name": "stdout",
     "output_type": "stream",
     "text": [
      "chr1\t897985\t899212\tcelltype_models_human/diff_peaks/EEC_vs_rest.bam_peak_2\t1046\t.\t31.891\t111.367\t104.625\t902\n",
      "chr1\t906131\t906359\tcelltype_models_human/diff_peaks/Stem_cell_vs_rest.bam_peak_11\t38\t.\t2.43107\t7.12789\t3.89742\t158\n",
      "chr1\t916788\t917046\tcelltype_models_human/diff_peaks/Stem_cell_vs_rest.bam_peak_12\t35\t.\t2.00238\t6.68709\t3.51577\t6\n",
      "chr1\t935791\t936012\tcelltype_models_human/diff_peaks/EEC_vs_rest.bam_peak_3\t52\t.\t3.22633\t8.11162\t5.231\t51\n",
      "chr1\t941620\t942083\tcelltype_models_human/diff_peaks/EEC_vs_rest.bam_peak_4\t27\t.\t1.85716\t5.25817\t2.70395\t186\n",
      "chr1\t943097\t943473\tcelltype_models_human/diff_peaks/EEC_vs_rest.bam_peak_5\t121\t.\t4.30936\t15.5946\t12.1672\t224\n",
      "chr1\t1031725\t1032180\tcelltype_models_human/diff_peaks/enterocytes_vs_rest.bam_peak_26\t48\t.\t2.04014\t7.78408\t4.80755\t390\n",
      "chr1\t1073966\t1074233\tcelltype_models_human/diff_peaks/Goblet_cell_vs_rest.bam_peak_3\t21\t.\t1.70959\t6.12686\t2.17473\t0\n",
      "chr1\t1079682\t1079899\tcelltype_models_human/diff_peaks/Stem_cell_vs_rest.bam_peak_13\t23\t.\t1.37603\t5.29249\t2.32332\t186\n",
      "chr1\t1127180\t1127454\tcelltype_models_human/diff_peaks/EEC_vs_rest.bam_peak_6\t52\t.\t2.54466\t8.12719\t5.24567\t59\n"
     ]
    }
   ],
   "source": [
    "head celltype_models_human/diff_peaks/concat_no_blacklist_chr.sorted.bed"
   ]
  },
  {
   "cell_type": "code",
   "execution_count": 42,
   "id": "01dc4112-02c8-4820-acc6-8db58e5b7888",
   "metadata": {},
   "outputs": [
    {
     "name": "stdout",
     "output_type": "stream",
     "text": [
      "60020 celltype_models_human/diff_peaks/concat_no_blacklist_chr.sorted.bed\n"
     ]
    }
   ],
   "source": [
    "wc -l celltype_models_human/diff_peaks/concat_no_blacklist_chr.sorted.bed"
   ]
  },
  {
   "cell_type": "code",
   "execution_count": 44,
   "id": "8b203ae9-01d1-4208-9001-fc88034e4923",
   "metadata": {},
   "outputs": [
    {
     "name": "stdout",
     "output_type": "stream",
     "text": [
      "/cluster/project/treutlein/USERS/jjans/analysis/intestine/celltype_models_human/diff_peaks/concat_no_blacklist_chr.sorted.bed\n"
     ]
    }
   ],
   "source": [
    "ls /cluster/project/treutlein/USERS/jjans/analysis/intestine/celltype_models_human/diff_peaks/concat_no_blacklist_chr.sorted.bed"
   ]
  },
  {
   "cell_type": "code",
   "execution_count": 41,
   "id": "ba476b49-21e6-4c79-9695-a288a3de9de1",
   "metadata": {},
   "outputs": [
    {
     "name": "stdout",
     "output_type": "stream",
     "text": [
      "59395 celltype_models_human/diff_peaks/concat_no_blacklist_chr.sorted.merged.bed\n"
     ]
    }
   ],
   "source": [
    "wc -l celltype_models_human/diff_peaks/concat_no_blacklist_chr.sorted.merged.bed"
   ]
  },
  {
   "cell_type": "code",
   "execution_count": 1,
   "id": "0a1f1b01-df85-4b7a-814d-fe3e1e83a4a0",
   "metadata": {},
   "outputs": [],
   "source": [
    "mamba activate chrombpnet2"
   ]
  },
  {
   "cell_type": "code",
   "execution_count": 4,
   "id": "42ec2c9c-ccce-457d-a14e-6c604956663f",
   "metadata": {},
   "outputs": [
    {
     "name": "stdout",
     "output_type": "stream",
     "text": [
      "All_human_SNC.bed  DARs_Early_enterocyte.bed  DARs_Stemcell.bed  HAR.bed\n",
      "CMS.bed\t\t   DARs_Enterocyte.bed\t      GWAS.bed\t\t SNC.bed\n",
      "DARs_EEC.bed\t   DARs_Gobletcell.bed\t      HAQER.bed\n"
     ]
    }
   ],
   "source": [
    "ls extra_data/bed_files"
   ]
  },
  {
   "cell_type": "code",
   "execution_count": 6,
   "id": "17fffb77-c404-4a48-b24f-0f69e1678f13",
   "metadata": {},
   "outputs": [],
   "source": [
    "regions=(\"All_human_SNC\" \"CMS\" \"DARs_EEC\" \"DARs_Early_enterocyte\" \"DARs_Enterocyte\" \"DARs_Gobletcell\" \"DARs_Stemcell\" \"GWAS\" \"HAQER\" \"HAR\" \"SNC\")\n",
    "\n",
    "parallel -j 3 '\n",
    "bedtools intersect -a called_peaks/peaks_no_blacklist_chr.bed -b /cluster/project/treutlein/USERS/jjans/analysis/intestine/extra_data/bed_files/{1}.bed -wa > regions_of_interest/{1}.bed\n",
    "' ::: \"${regions[@]}\""
   ]
  },
  {
   "cell_type": "code",
   "execution_count": 9,
   "id": "540319dd-cc7f-4a8c-8f37-83a42c507c0c",
   "metadata": {},
   "outputs": [
    {
     "name": "stdout",
     "output_type": "stream",
     "text": [
      "chr1\t11907786\t11909269\thuman_peaks_peak_723\t622\t.\t6.15136\t65.368\t62.2506\t322\n",
      "chr1\t39519381\t39519754\thuman_peaks_peak_2250\t340\t.\t12.6562\t36.7916\t34.0884\t56\n",
      "chr1\t143729506\t143729814\thuman_peaks_peak_5067\t157\t.\t7.8348\t18.0782\t15.7334\t261\n",
      "chr1\t144412132\t144413331\thuman_peaks_peak_5071\t925\t.\t14.0753\t96.1379\t92.5833\t579\n",
      "chr1\t147928210\t147928806\thuman_peaks_peak_5172\t1289\t.\t17.053\t133.159\t128.963\t183\n",
      "chr1\t148522174\t148523180\thuman_peaks_peak_5201\t1356\t.\t15.8512\t139.95\t135.609\t548\n",
      "chr1\t157978770\t157979303\thuman_peaks_peak_5717\t66\t.\t4.62318\t8.68645\t6.62189\t477\n",
      "chr11\t56394595\t56394908\thuman_peaks_peak_14797\t147\t.\t7.53346\t17.0268\t14.7077\t199\n",
      "chr11\t71775086\t71775614\thuman_peaks_peak_15870\t50\t.\t4.09197\t7.08138\t5.08527\t451\n",
      "chr11\t71786402\t71787948\thuman_peaks_peak_15871\t1618\t.\t8.20952\t166.775\t161.804\t659\n"
     ]
    }
   ],
   "source": [
    "head regions_of_interest/HAQER.bed"
   ]
  },
  {
   "cell_type": "code",
   "execution_count": 5,
   "id": "47bad358-4105-44c3-8b9d-62d9011309eb",
   "metadata": {},
   "outputs": [
    {
     "name": "stdout",
     "output_type": "stream",
     "text": [
      "All_human_SNC.bed  DARs_Early_enterocyte.bed  DARs_Stemcell.bed  HAR.bed\n",
      "CMS.bed\t\t   DARs_Enterocyte.bed\t      GWAS.bed\t\t SNC.bed\n",
      "DARs_EEC.bed\t   DARs_Gobletcell.bed\t      HAQER.bed\n"
     ]
    }
   ],
   "source": [
    "ls "
   ]
  },
  {
   "cell_type": "code",
   "execution_count": null,
   "id": "69d4490f-52ac-4f21-8fcf-eda3516d4c22",
   "metadata": {},
   "outputs": [],
   "source": [
    "cell_types=(\"enterocytes\" \"Stem_cell\" \"Goblet_cell\" \"EEC\")\n",
    "folds=(\"fold_1\" \"fold_2\" \"fold_3\" \"fold_4\" \"fold_0\")\n",
    "regions=(\"All_human_SNC\" \"CMS\" \"DARs_EEC\" \"DARs_Early_enterocyte\" \"DARs_Enterocyte\" \"DARs_Gobletcell\" \"DARs_Stemcell\" \"GWAS\" \"HAQER\" \"HAR\" \"SNC\")\n",
    "# Function to create output directory if it doesn't exist\n",
    "create_output_dir() {\n",
    "    local output_dir=\"$1\"\n",
    "    mkdir -p $output_dir\n",
    "}\n",
    "\n",
    "# Export the function so that GNU Parallel can access it\n",
    "export -f create_output_dir\n",
    "\n",
    "\n",
    "parallel -j 6 '\n",
    "    output_dir=\"/cluster/project/treutlein/USERS/jjans/analysis/intestine/region_scores/{1}/{3}/\"\n",
    "    create_output_dir \"$output_dir\"\n",
    "    \n",
    "    export model_path=/cluster/project/treutlein/USERS/jjans/analysis/intestine/celltype_models_human/modelv1_{1}/{2}/output/models/chrombpnet.h5\n",
    "    \n",
    "    export regions=/cluster/project/treutlein/USERS/jjans/analysis/intestine/regions_of_interest/{3}.bed\n",
    "    \n",
    "    export output_prefix=/cluster/project/treutlein/USERS/jjans/analysis/intestine/region_scores/{1}/{3}/{2}\n",
    "    \n",
    "    export genome_fasta=/cluster/project/treutlein/USERS/jjans/analysis/intestine/encode_data/hg38.fa\n",
    "    export genome_sizes=/cluster/project/treutlein/USERS/jjans/analysis/intestine/encode_data/hg38.chrom.sizes\n",
    "\n",
    "    sbatch chrombpnet_contribs.sh \"$model_path\" \"$regions\" \"$genome_fasta\" \"$genome_sizes\" \"$output_prefix\"\n",
    "' ::: \"${cell_types[@]}\" ::: \"${folds[@]}\" ::: \"${regions[@]}\" \n",
    "\n"
   ]
  },
  {
   "cell_type": "code",
   "execution_count": null,
   "id": "9b19c99e-6de0-4f7e-be4c-f2ad9e925752",
   "metadata": {},
   "outputs": [],
   "source": [
    "cell_types=(\"enterocytes\" \"Stem_cell\" \"Goblet_cell\" \"EEC\")\n",
    "folds=(\"fold_1\" \"fold_2\" \"fold_3\" \"fold_4\" \"fold_0\")\n",
    "\n",
    "# Function to create output directory if it doesn't exist\n",
    "create_output_dir() {\n",
    "    local output_dir=\"$1\"\n",
    "    mkdir -p $output_dir\n",
    "}\n",
    "\n",
    "# Export the function so that GNU Parallel can access it\n",
    "export -f create_output_dir\n",
    "\n",
    "\n",
    "parallel -j 6 '\n",
    "    output_dir=\"/cluster/project/treutlein/USERS/jjans/analysis/intestine/region_scores/{1}/diff_peaks/\"\n",
    "    create_output_dir \"$output_dir\"\n",
    "    \n",
    "    export model_path=/cluster/project/treutlein/USERS/jjans/analysis/intestine/celltype_models_human/modelv1_{1}/{2}/output/models/chrombpnet.h5\n",
    "    \n",
    "    export regions=/cluster/project/treutlein/USERS/jjans/analysis/intestine/celltype_models_human/diff_peaks/concat_no_blacklist_chr.sorted.bed\n",
    "    \n",
    "    export output_prefix=/cluster/project/treutlein/USERS/jjans/analysis/intestine/region_scores/{1}/diff_peaks/{2}\n",
    "    \n",
    "    export genome_fasta=/cluster/project/treutlein/USERS/jjans/analysis/intestine/encode_data/hg38.fa\n",
    "    export genome_sizes=/cluster/project/treutlein/USERS/jjans/analysis/intestine/encode_data/hg38.chrom.sizes\n",
    "\n",
    "    sbatch chrombpnet_contribs.sh \"$model_path\" \"$regions\" \"$genome_fasta\" \"$genome_sizes\" \"$output_prefix\"\n",
    "' ::: \"${cell_types[@]}\" ::: \"${folds[@]}\"\n",
    "\n"
   ]
  },
  {
   "cell_type": "code",
   "execution_count": null,
   "id": "108d6ba4-f00d-4cfc-99c9-adbe5eac8197",
   "metadata": {},
   "outputs": [],
   "source": []
  },
  {
   "cell_type": "code",
   "execution_count": 45,
   "id": "c1594aef-6d01-4bb2-a0a4-cad3141d5a69",
   "metadata": {},
   "outputs": [
    {
     "name": "stdout",
     "output_type": "stream",
     "text": [
      "Submitted batch job 83440\n",
      "Submitted batch job 83441\n",
      "Submitted batch job 83442\n",
      "Submitted batch job 83443\n",
      "Submitted batch job 83444\n",
      "Submitted batch job 83445\n",
      "Submitted batch job 83446\n",
      "Submitted batch job 83447\n",
      "Submitted batch job 83448\n",
      "Submitted batch job 83449\n",
      "Submitted batch job 83450\n",
      "Submitted batch job 83451\n",
      "Submitted batch job 83452\n",
      "Submitted batch job 83453\n",
      "Submitted batch job 83454\n",
      "Submitted batch job 83455\n",
      "Submitted batch job 83456\n",
      "Submitted batch job 83457\n",
      "Submitted batch job 83458\n",
      "Submitted batch job 83459\n"
     ]
    }
   ],
   "source": [
    "cell_types=(\"enterocytes\" \"Stem_cell\" \"Goblet_cell\" \"EEC\")\n",
    "folds=(\"fold_1\" \"fold_2\" \"fold_3\" \"fold_4\" \"fold_0\")\n",
    "\n",
    "# Function to create output directory if it doesn't exist\n",
    "create_output_dir() {\n",
    "    local output_dir=\"$1\"\n",
    "    mkdir -p $output_dir\n",
    "}\n",
    "\n",
    "# Export the function so that GNU Parallel can access it\n",
    "export -f create_output_dir\n",
    "\n",
    "\n",
    "parallel -j 6 '\n",
    "    output_dir=\"/cluster/project/treutlein/USERS/jjans/analysis/intestine/region_scores/{1}/diff_peaks/\"\n",
    "    create_output_dir \"$output_dir\"\n",
    "    \n",
    "    export model_path=/cluster/project/treutlein/USERS/jjans/analysis/intestine/celltype_models_human/modelv1_{1}/{2}/output/models/chrombpnet.h5\n",
    "    \n",
    "    export regions=/cluster/project/treutlein/USERS/jjans/analysis/intestine/celltype_models_human/diff_peaks/concat_no_blacklist_chr.sorted.bed\n",
    "    \n",
    "    export output_prefix=/cluster/project/treutlein/USERS/jjans/analysis/intestine/region_scores/{1}/diff_peaks/{2}\n",
    "    \n",
    "    export genome_fasta=/cluster/project/treutlein/USERS/jjans/analysis/intestine/encode_data/hg38.fa\n",
    "    export genome_sizes=/cluster/project/treutlein/USERS/jjans/analysis/intestine/encode_data/hg38.chrom.sizes\n",
    "\n",
    "    sbatch chrombpnet_contribs.sh \"$model_path\" \"$regions\" \"$genome_fasta\" \"$genome_sizes\" \"$output_prefix\"\n",
    "' ::: \"${cell_types[@]}\" ::: \"${folds[@]}\"\n",
    "\n"
   ]
  },
  {
   "cell_type": "code",
   "execution_count": 37,
   "id": "5b3d919b-4eae-425b-af79-2299e2d4c43a",
   "metadata": {},
   "outputs": [
    {
     "name": "stdout",
     "output_type": "stream",
     "text": [
      "region_scores/EEC:\n",
      "AIG_regions  SLC5A12_regions  diff_peaks\n",
      "\n",
      "region_scores/Goblet_cell:\n",
      "AIG_regions  SLC5A12_regions  diff_peaks\n",
      "\n",
      "region_scores/Stem_cell:\n",
      "AIG_regions  AIG_regions_peaks\tSLC5A12_regions  diff_peaks\n",
      "\n",
      "region_scores/enterocytes:\n",
      "AIG_regions  SLC5A12_regions  diff_peaks\n"
     ]
    }
   ],
   "source": [
    "ls region_scores/*"
   ]
  },
  {
   "cell_type": "code",
   "execution_count": 48,
   "id": "d0f85df3-8d10-4340-81a9-99d98ad7749d",
   "metadata": {},
   "outputs": [
    {
     "name": "stdout",
     "output_type": "stream",
     "text": [
      "/cluster/project/treutlein/jjans/software/miniforge3/envs/chrombpnet2/bin/python\n"
     ]
    }
   ],
   "source": [
    "which python"
   ]
  },
  {
   "cell_type": "code",
   "execution_count": 49,
   "id": "e8971f0d-aedf-415c-b81c-d027ae6c13a5",
   "metadata": {},
   "outputs": [
    {
     "name": "stdout",
     "output_type": "stream",
     "text": [
      "/cluster/project/treutlein/jjans/software/miniforge3/envs/chrombpnet2/bin/bamCoverage\n"
     ]
    }
   ],
   "source": [
    "which bamCoverage"
   ]
  },
  {
   "cell_type": "code",
   "execution_count": null,
   "id": "efc3e94e-a079-4d1c-bfd6-88dcd93c2e64",
   "metadata": {},
   "outputs": [
    {
     "name": "stdout",
     "output_type": "stream",
     "text": [
      "normalization: 1x (effective genome size 2913022398)\n",
      "bamFilesList: ['/cluster/project/treutlein/USERS/jjans/analysis/intestine/celltype_models_human/EEC_human_sorted_filtered.bam']\n",
      "binLength: 1\n",
      "numberOfSamples: None\n",
      "blackListFileName: None\n",
      "skipZeroOverZero: False\n",
      "bed_and_bin: False\n",
      "genomeChunkSize: None\n",
      "defaultFragmentLength: read length\n",
      "numberOfProcessors: 9\n",
      "verbose: False\n",
      "region: None\n",
      "bedFile: None\n",
      "minMappingQuality: None\n",
      "ignoreDuplicates: False\n",
      "chrsToSkip: []\n",
      "stepSize: 1\n",
      "center_read: False\n",
      "samFlag_include: None\n",
      "samFlag_exclude: None\n",
      "minFragmentLength: 0\n",
      "maxFragmentLength: 0\n",
      "zerosToNans: False\n",
      "smoothLength: None\n",
      "save_data: False\n",
      "out_file_for_raw_data: None\n",
      "maxPairedFragmentLength: 1000\n",
      "normalization: 1x (effective genome size 2913022398)\n",
      "bamFilesList: ['/cluster/project/treutlein/USERS/jjans/analysis/intestine/celltype_models_human/enterocytes_human_sorted_filtered.bam']\n",
      "binLength: 1\n",
      "numberOfSamples: None\n",
      "blackListFileName: None\n",
      "skipZeroOverZero: False\n",
      "bed_and_bin: False\n",
      "genomeChunkSize: None\n",
      "defaultFragmentLength: read length\n",
      "numberOfProcessors: 9\n",
      "verbose: False\n",
      "region: None\n",
      "bedFile: None\n",
      "minMappingQuality: None\n",
      "ignoreDuplicates: False\n",
      "chrsToSkip: []\n",
      "stepSize: 1\n",
      "center_read: False\n",
      "samFlag_include: None\n",
      "samFlag_exclude: None\n",
      "minFragmentLength: 0\n",
      "maxFragmentLength: 0\n",
      "zerosToNans: False\n",
      "smoothLength: None\n",
      "save_data: False\n",
      "out_file_for_raw_data: None\n",
      "maxPairedFragmentLength: 1000\n"
     ]
    }
   ],
   "source": [
    "cell_types=(\"EEC\" \"enterocytes\" \"Stem_cell\" \"Goblet_cell\")\n",
    "\n",
    "parallel -j 2 '\n",
    "bamCoverage -b /cluster/project/treutlein/USERS/jjans/analysis/intestine/celltype_models_human/{1}_human_sorted_filtered.bam -o /cluster/project/treutlein/USERS/jjans/analysis/intestine/celltype_models_human/{1}_human_sorted_filtered.RPGC_norm.bw -p max/2 --normalizeUsing RPGC -bs 1 --effectiveGenomeSize 2913022398\n",
    "' ::: \"${cell_types[@]}\""
   ]
  },
  {
   "cell_type": "code",
   "execution_count": null,
   "id": "60b3591c-aa41-4374-9c23-55be32a8a2cd",
   "metadata": {},
   "outputs": [],
   "source": []
  },
  {
   "cell_type": "code",
   "execution_count": null,
   "id": "91b8ed0f-07e0-4566-8fa4-956de1215b71",
   "metadata": {},
   "outputs": [],
   "source": []
  },
  {
   "cell_type": "code",
   "execution_count": null,
   "id": "175e6d29-9ca3-485a-9916-edf7faae2828",
   "metadata": {},
   "outputs": [],
   "source": []
  },
  {
   "cell_type": "code",
   "execution_count": 24,
   "id": "09a44df5-bbaa-4875-aecd-4b292640d8d6",
   "metadata": {},
   "outputs": [
    {
     "name": "stdout",
     "output_type": "stream",
     "text": [
      "chr1\t897985\t899212\n",
      "chr1\t906131\t906359\n",
      "chr1\t916788\t917046\n",
      "chr1\t935791\t936012\n",
      "chr1\t941620\t942083\n",
      "chr1\t943097\t943473\n",
      "chr1\t1031725\t1032180\n",
      "chr1\t1073966\t1074233\n",
      "chr1\t1079682\t1079899\n",
      "chr1\t1127180\t1127454\n"
     ]
    }
   ],
   "source": [
    "head /cluster/project/treutlein/USERS/jjans/analysis/intestine/celltype_models_human/diff_peaks/concat_no_blacklist_chr.sorted.merged.bed"
   ]
  },
  {
   "cell_type": "code",
   "execution_count": null,
   "id": "8429dc99-f804-43d3-9666-971bc18f3bd2",
   "metadata": {},
   "outputs": [],
   "source": []
  },
  {
   "cell_type": "code",
   "execution_count": null,
   "id": "613ebd3b-1c5d-4ac2-b426-ce30099447d2",
   "metadata": {},
   "outputs": [],
   "source": [
    "macs3 callpeak -f BAMPE -t other_celltypes/{1}_human_sorted_filtered.bam -g hs -n other_celltypes/called_peaks/{1}_human_peaks -B -q 0.01\n"
   ]
  },
  {
   "cell_type": "code",
   "execution_count": 21,
   "id": "817f5036-986f-4ff3-abf2-8f1534ae7aea",
   "metadata": {},
   "outputs": [
    {
     "name": "stdout",
     "output_type": "stream",
     "text": [
      "chrombpnet_contribs.sh\ttrain_chrombpnet.sh\n"
     ]
    }
   ],
   "source": [
    "ls *.sh"
   ]
  },
  {
   "cell_type": "code",
   "execution_count": null,
   "id": "d03f419f-2589-441b-b8d6-9dfcb8645663",
   "metadata": {},
   "outputs": [],
   "source": [
    "model_path=\"$1\"\n",
    "regions=\"$2\"\n",
    "genome_fasta=\"$3\"\n",
    "genome_sizes=\"$4\"\n",
    "output_prefix=\"$5\"\n",
    "\n"
   ]
  },
  {
   "cell_type": "code",
   "execution_count": null,
   "id": "9f4243fc-569d-4007-a2ef-8943d5efa288",
   "metadata": {},
   "outputs": [],
   "source": []
  },
  {
   "cell_type": "code",
   "execution_count": null,
   "id": "478255ff-869b-4b14-9988-63d814398b45",
   "metadata": {},
   "outputs": [],
   "source": [
    "chrombpnet contribs_bw \\\n",
    "-m modelv0_chimp/chrombpnet_model/models/chrombpnet_nobias.h5 \\\n",
    "-r regions_of_interest/final_test_regions_peaks.bed \\\n",
    "-g encode_data/hg38.fa -c encode_data/hg38.chrom.sizes -op test_region_final_chimp\n"
   ]
  },
  {
   "cell_type": "code",
   "execution_count": null,
   "id": "0c80ccb9-48cc-48b8-9b92-61e362c08f26",
   "metadata": {},
   "outputs": [],
   "source": [
    "# Define input variables\n",
    "cell_types=(\"Stem_cell\" \"Goblet_cell\" \"EEC\")\n",
    "folds=(\"fold_1\" \"fold_2\" \"fold_3\" \"fold_4\" \"fold_0\")\n",
    "\n",
    "# Function to run chrombpnet contribs_bw\n",
    "run_contribs() {\n",
    "    local cell_type=\"$1\"\n",
    "    local fold=\"$2\"\n",
    "    \n",
    "    local model_path=\"modelv0_${cell_type}/chrombpnet_model/models/chrombpnet_${fold}.h5\"\n",
    "    local regions=\"regions_of_interest/final_test_regions_peaks.bed\"\n",
    "    local genome_fasta=/cluster/project/treutlein/USERS/jjans/analysis/intestine/encode_data/hg38.fa\n",
    "    local genome_sizes=/cluster/project/treutlein/USERS/jjans/analysis/intestine/encode_data/hg38.chrom.sizes\n",
    "\n",
    "    local output_prefix=\"region_scores/${cell_type}/${fold}/final_test_regions\"\n",
    "    \n",
    "    # Run chrombpnet contribs_bw command\n",
    "    chrombpnet contribs_bw \\\n",
    "        -m \"$model_path\" \\\n",
    "        -r \"$regions\" \\\n",
    "        -g \"$genome_fasta\" \\\n",
    "        -c \"$genome_sizes\" \\\n",
    "        -op \"$output_prefix\"\n",
    "}\n",
    "\n",
    "# Export the function so that GNU Parallel can access it\n",
    "export -f run_contribs\n",
    "\n",
    "# Use GNU Parallel to iterate over combinations of cell types and folds\n",
    "parallel -j 6 run_contribs {1} {2} ::: \"${cell_types[@]}\" ::: \"${folds[@]}\"\n"
   ]
  },
  {
   "cell_type": "code",
   "execution_count": null,
   "id": "c59735c5-d060-4320-9d12-d12d0b8f0436",
   "metadata": {},
   "outputs": [],
   "source": [
    "# Define input variables\n",
    "cell_types=(\"Stem_cell\" \"Goblet_cell\" \"EEC\")\n",
    "folds=(\"fold_1\" \"fold_2\" \"fold_3\" \"fold_4\" \"fold_0\")\n",
    "\n",
    "# Function to run chrombpnet contribs_bw\n",
    "run_contribs() {\n",
    "    local cell_type=\"$1\"\n",
    "    local fold=\"$2\"\n",
    "    \n",
    "    local model_path=\"modelv0_${cell_type}/chrombpnet_model/models/chrombpnet_${fold}.h5\"\n",
    "    local regions=\"regions_of_interest/final_test_regions_peaks.bed\"\n",
    "    local genome_fasta=/cluster/project/treutlein/USERS/jjans/analysis/intestine/encode_data/hg38.fa\n",
    "    local genome_sizes=/cluster/project/treutlein/USERS/jjans/analysis/intestine/encode_data/hg38.chrom.sizes\n",
    "\n",
    "    local output_prefix=\"region_scores/${cell_type}/${fold}/final_test_regions\"\n",
    "    \n",
    "    # Run chrombpnet contribs_bw command\n",
    "    chrombpnet contribs_bw \\\n",
    "        -m \"$model_path\" \\\n",
    "        -r \"$regions\" \\\n",
    "        -g \"$genome_fasta\" \\\n",
    "        -c \"$genome_sizes\" \\\n",
    "        -op \"$output_prefix\"\n",
    "}\n",
    "\n",
    "# Export the function so that GNU Parallel can access it\n",
    "export -f run_contribs\n",
    "\n",
    "# Use GNU Parallel to iterate over combinations of cell types and folds\n",
    "parallel -j 6 run_contribs {1} {2} ::: \"${cell_types[@]}\" ::: \"${folds[@]}\"\n"
   ]
  },
  {
   "cell_type": "code",
   "execution_count": null,
   "id": "f126371f-13ba-4d31-ba4c-d3d1d5c27619",
   "metadata": {},
   "outputs": [],
   "source": []
  },
  {
   "cell_type": "code",
   "execution_count": null,
   "id": "a2c35a4a-c6a7-451d-b140-83e653affc37",
   "metadata": {},
   "outputs": [],
   "source": []
  },
  {
   "cell_type": "code",
   "execution_count": null,
   "id": "c383df09-e8ed-4448-8b66-f3a25089ecf8",
   "metadata": {},
   "outputs": [],
   "source": [
    "cell_types=(\"Stem_cell\" \"Goblet_cell\" \"EEC\")\n",
    "folds=(\"fold_1\" \"fold_2\" \"fold_3\" \"fold_4\" \"fold_0\")\n",
    "\n",
    "# Function to create output directory if it doesn't exist\n",
    "create_output_dir() {\n",
    "    local output_dir=\"$1\"\n",
    "    mkdir -p $output_dir\n",
    "}\n",
    "\n",
    "# Export the function so that GNU Parallel can access it\n",
    "export -f create_output_dir\n",
    "\n",
    "\n",
    "parallel -j 6 '\n",
    "    output_dir=\"/cluster/project/treutlein/USERS/jjans/analysis/intestine/other_celltypes/modelv1_{1}/{2}/output\"\n",
    "    create_output_dir \"$output_dir\"\n",
    "    export bam_file=/cluster/project/treutlein/USERS/jjans/analysis/intestine/other_celltypes/{1}_human_sorted_filtered.bam\n",
    "    export peaks=/cluster/project/treutlein/USERS/jjans/analysis/intestine/other_celltypes/called_peaks/{1}_human_peaks_no_blacklist_chr.bed\n",
    "    export negative_peaks=/cluster/project/treutlein/USERS/jjans/analysis/intestine/other_celltypes/modelv1_{1}/{2}/output_negatives.bed\n",
    "    export fold_json=/cluster/project/treutlein/USERS/jjans/analysis/intestine/encode_data/splits/{2}.json\n",
    "    export output_model=/cluster/project/treutlein/USERS/jjans/analysis/intestine/other_celltypes/modelv1_{1}/{2}/output\n",
    "    export genome_fasta=/cluster/project/treutlein/USERS/jjans/analysis/intestine/encode_data/hg38.fa\n",
    "    export genome_sizes=/cluster/project/treutlein/USERS/jjans/analysis/intestine/encode_data/hg38.chrom.sizes\n",
    "    export bias_model=/cluster/project/treutlein/USERS/jjans/analysis/intestine/bias_model/scATAC_dermal_fibroblast.h5\n",
    "\n",
    "    sbatch train_chrombpnet.sh \"$bam_file\" \"$peaks\" \"$negative_peaks\" \"$fold_json\" \"$output_model\" \"$genome_fasta\" \"$genome_sizes\" \"$bias_model\"\n",
    "' ::: \"${cell_types[@]}\" ::: \"${folds[@]}\"\n"
   ]
  },
  {
   "cell_type": "code",
   "execution_count": null,
   "id": "c080927c-7975-4d2a-807a-f3f10f3e02b4",
   "metadata": {},
   "outputs": [],
   "source": []
  },
  {
   "cell_type": "code",
   "execution_count": null,
   "id": "7779ae4f-6de3-4120-a51c-ede8a584e09f",
   "metadata": {},
   "outputs": [],
   "source": []
  },
  {
   "cell_type": "code",
   "execution_count": null,
   "id": "9d7fcb9f-6297-4e3a-b488-9aba2e17cb42",
   "metadata": {},
   "outputs": [],
   "source": []
  },
  {
   "cell_type": "code",
   "execution_count": 27,
   "id": "7e7a6c7a-e3e8-4d02-ab2b-5dfab5a4f1d7",
   "metadata": {},
   "outputs": [
    {
     "name": "stdout",
     "output_type": "stream",
     "text": [
      "/cluster/project/treutlein/USERS/jjans/analysis/intestine\n"
     ]
    }
   ],
   "source": [
    "pwd"
   ]
  },
  {
   "cell_type": "code",
   "execution_count": null,
   "id": "90ee7e89-59d9-40ec-950c-7d92c14a0416",
   "metadata": {},
   "outputs": [],
   "source": []
  },
  {
   "cell_type": "code",
   "execution_count": null,
   "id": "e81cbb27-000b-4c97-a100-f6738d481c29",
   "metadata": {},
   "outputs": [],
   "source": [
    "# call the submission script\n",
    "sbatch train_chrombpnet.sh \"$bam_file\" \"$peaks\" \"$negative_peaks\" \"$fold_json\" \"$output_model\" \"$genome_fasta\" \"$genome_sizes\" \"$bias_model\"\n"
   ]
  },
  {
   "cell_type": "code",
   "execution_count": null,
   "id": "d56c4966-092c-4c49-9625-0bbf28de290b",
   "metadata": {},
   "outputs": [],
   "source": [
    "bam_file=\"$1\"\n",
    "peaks=\"$2\"\n",
    "negative_peaks=\"$3\"\n",
    "fold_json=\"$4\"\n",
    "output_model=\"$5\"\n",
    "genome_fasta=\"$6\"\n",
    "genome_sizes=\"$7\"\n",
    "bias_model=\"$8\"\n",
    "\n"
   ]
  },
  {
   "cell_type": "code",
   "execution_count": null,
   "id": "e5431969-1174-47a4-9166-7d615a8765c6",
   "metadata": {},
   "outputs": [],
   "source": []
  },
  {
   "cell_type": "code",
   "execution_count": null,
   "id": "8ada1114-b6b6-4647-8bfa-0aa10da83e0f",
   "metadata": {},
   "outputs": [],
   "source": []
  },
  {
   "cell_type": "code",
   "execution_count": null,
   "id": "d5552d40-364d-4975-b6de-5d8e0897269b",
   "metadata": {},
   "outputs": [],
   "source": []
  },
  {
   "cell_type": "code",
   "execution_count": null,
   "id": "2f9b5c5d-8311-44bc-a000-e16991c9fa3a",
   "metadata": {},
   "outputs": [],
   "source": []
  },
  {
   "cell_type": "code",
   "execution_count": null,
   "id": "07147054-a0bc-4ec9-837b-2f6b71e466d6",
   "metadata": {},
   "outputs": [],
   "source": []
  },
  {
   "cell_type": "code",
   "execution_count": null,
   "id": "6084de30-3735-4517-a456-16a33259fd7e",
   "metadata": {},
   "outputs": [],
   "source": []
  },
  {
   "cell_type": "code",
   "execution_count": null,
   "id": "5efc7bb2-adce-4d95-8b8d-d186ada10bf2",
   "metadata": {},
   "outputs": [],
   "source": []
  }
 ],
 "metadata": {
  "kernelspec": {
   "display_name": "Bash",
   "language": "bash",
   "name": "bash"
  },
  "language_info": {
   "codemirror_mode": "shell",
   "file_extension": ".sh",
   "mimetype": "text/x-sh",
   "name": "bash"
  }
 },
 "nbformat": 4,
 "nbformat_minor": 5
}
