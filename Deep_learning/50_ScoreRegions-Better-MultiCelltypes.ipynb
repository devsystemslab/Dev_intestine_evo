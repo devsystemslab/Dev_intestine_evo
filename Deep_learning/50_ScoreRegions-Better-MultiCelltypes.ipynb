{
 "cells": [
  {
   "cell_type": "code",
   "execution_count": 1,
   "id": "376654c6-29d8-406e-ac0f-fc2f1848835c",
   "metadata": {},
   "outputs": [],
   "source": [
    "mamba activate chrombpnet2"
   ]
  },
  {
   "cell_type": "code",
   "execution_count": 2,
   "id": "980ebef8-5dd7-499d-91d1-1309d99f2dbe",
   "metadata": {},
   "outputs": [],
   "source": [
    "#export PATH=/cluster/home/jjanssens/.local/bin:$PATH"
   ]
  },
  {
   "cell_type": "code",
   "execution_count": 3,
   "id": "6d2ae8c9-01c7-4a55-aa09-a7f8d3ccb4f7",
   "metadata": {},
   "outputs": [],
   "source": [
    "export LD_LIBRARY_PATH=/cluster/project/treutlein/jjans/software/miniforge3/envs/cuda11_env/lib:$CONDA_PREFIX/lib:$LD_LIBRARY_PATH"
   ]
  },
  {
   "cell_type": "code",
   "execution_count": 4,
   "id": "ab9d3143-62e7-49c8-88be-f2b26acf4596",
   "metadata": {},
   "outputs": [
    {
     "name": "stdout",
     "output_type": "stream",
     "text": [
      "/cluster/project/treutlein/jjans/software/miniforge3/envs/cuda11_env/lib:/cluster/project/treutlein/jjans/software/miniforge3/envs/chrombpnet2/lib:/cluster/software/manual/julia/1.10.3/x86_64/lib:/cluster/software/stacks/2024-05/spack/opt/spack/linux-ubuntu22.04-x86_64_v3/gcc-13.2.0/r-4.3.2-c6hxdn6t4ao6fbqv4cg2xqinhwtwdwbn/rlib:/cluster/software/stacks/2024-05/spack/opt/spack/linux-ubuntu22.04-x86_64_v3/gcc-13.2.0/r-4.3.2-c6hxdn6t4ao6fbqv4cg2xqinhwtwdwbn/rlib/R/lib:/cluster/software/stacks/2024-05/spack/opt/spack/linux-ubuntu22.04-x86_64_v3/gcc-13.2.0/cuda-12.2.1-fv6yilrnidoe35nh24iszjkf63bihikt/lib64:/cluster/software/stacks/2024-05/spack/opt/spack/linux-ubuntu22.04-x86_64_v3/gcc-13.2.0/python-3.11.6-m4n2ny4dwaqmeobuqquo3gpyw2bct67i/lib:/cluster/software/stacks/2024-05/spack/opt/spack/linux-ubuntu22.04-x86_64_v3/gcc-11.4.0/gcc-13.2.0-6t2bdhlkrktlyopht3nbmjz3emlsqeog/lib64:/cluster/software/stacks/2024-05/spack/opt/spack/linux-ubuntu22.04-x86_64_v3/gcc-11.4.0/gcc-13.2.0-6t2bdhlkrktlyopht3nbmjz3emlsqeog/lib:/cluster/software/stacks/2024-05/spack/opt/spack/linux-ubuntu22.04-x86_64_v3/gcc-13.2.0/hdf5-1.14.3-djiamwqmf55x25kua4cbbio5newzctbr/lib\n"
     ]
    }
   ],
   "source": [
    "echo $LD_LIBRARY_PATH"
   ]
  },
  {
   "cell_type": "code",
   "execution_count": 5,
   "id": "7055d785-0978-403a-8d18-368bb9bfa7f1",
   "metadata": {},
   "outputs": [
    {
     "name": "stdout",
     "output_type": "stream",
     "text": [
      "/cluster/software/stacks/2024-05/spack/opt/spack/linux-ubuntu22.04-x86_64_v3/gcc-13.2.0/cuda-12.2.1-fv6yilrnidoe35nh24iszjkf63bihikt/bin/nvcc\n"
     ]
    }
   ],
   "source": [
    "which nvcc"
   ]
  },
  {
   "cell_type": "code",
   "execution_count": 6,
   "id": "e4e67c8e-ef2f-4833-b05a-7452a2a7566e",
   "metadata": {},
   "outputs": [
    {
     "name": "stdout",
     "output_type": "stream",
     "text": [
      "/cluster/project/treutlein/jjans/software/miniforge3/envs/chrombpnet2/bin/chrombpnet\n"
     ]
    }
   ],
   "source": [
    "which chrombpnet"
   ]
  },
  {
   "cell_type": "code",
   "execution_count": 7,
   "id": "96d55517-48d6-43df-aa60-8085f1ef98ba",
   "metadata": {},
   "outputs": [
    {
     "name": "stdout",
     "output_type": "stream",
     "text": [
      "/cluster/project/treutlein/jjans/software/miniforge3/envs/chrombpnet2/bin/python\n"
     ]
    }
   ],
   "source": [
    "which python"
   ]
  },
  {
   "cell_type": "code",
   "execution_count": 8,
   "id": "fd54ddab-9a38-4b02-949a-7a453c5739b6",
   "metadata": {},
   "outputs": [],
   "source": [
    "unset PYTHONPATH"
   ]
  },
  {
   "cell_type": "code",
   "execution_count": 9,
   "id": "8b83f51e-466c-405d-9d16-26fec8d1a637",
   "metadata": {},
   "outputs": [
    {
     "name": "stdout",
     "output_type": "stream",
     "text": [
      "/cluster/project/treutlein/jjans/software/miniforge3/envs/chrombpnet2/bin/python\n"
     ]
    }
   ],
   "source": [
    "which python"
   ]
  },
  {
   "cell_type": "code",
   "execution_count": 10,
   "id": "f89f85f9-ba75-4bfa-b4f8-4420eaa0b600",
   "metadata": {},
   "outputs": [],
   "source": [
    "for gene in \"LCT\" \"AIG\" \"SLC5A12\" \"IGFBP2\"\n",
    "do\n",
    "    bedtools intersect -a celltype_models_human/called_peaks/enterocytes_peaks_no_blacklist_chr.bed -b regions_of_interest/${gene}_regions.bed -wa > regions_of_interest/${gene}_regions_peaks_human.bed\n",
    "done"
   ]
  },
  {
   "cell_type": "code",
   "execution_count": 11,
   "id": "cdb43d54-4f5a-4ed7-b248-cb9fe2f5ad98",
   "metadata": {},
   "outputs": [
    {
     "name": "stdout",
     "output_type": "stream",
     "text": [
      "chr2\t135850768\t135851620\thuman_peaks_peak_46168\t428\t.\t9.08804\t45.6806\t42.8412\t282\n"
     ]
    }
   ],
   "source": [
    "head regions_of_interest/LCT_regions_peaks_human.bed"
   ]
  },
  {
   "cell_type": "code",
   "execution_count": 13,
   "id": "390fee19-10bf-474e-a4fa-37855a5ceea0",
   "metadata": {},
   "outputs": [
    {
     "name": "stdout",
     "output_type": "stream",
     "text": [
      "output\toutput_auxiliary  output_negatives.bed\n"
     ]
    }
   ],
   "source": [
    "ls celltype_models_human/modelv1_EEC/fold_4"
   ]
  },
  {
   "cell_type": "code",
   "execution_count": 15,
   "id": "5ded22e2-555c-4523-92ed-4bc06b1d7d7d",
   "metadata": {},
   "outputs": [],
   "source": [
    "# Define input variables\n",
    "cell_types=(\"enterocytes\" \"Stem_cell\" \"Goblet_cell\" \"EEC\")\n",
    "folds=(\"fold_0\" \"fold_1\" \"fold_2\" \"fold_3\" \"fold_4\")\n",
    "genes=(\"IGFBP2\" \"LCT\" \"AIG\" \"SLC5A12\")\n",
    "\n",
    "# Create a log file for failed jobs\n",
    "failed_log=\"failed_jobs.log\"\n",
    "echo \"Failed Jobs:\" > \"$failed_log\"\n",
    "\n",
    "# Function to run chrombpnet contribs_bw and handle errors\n",
    "run_contribs() {\n",
    "    local cell_type=\"$1\"\n",
    "    local fold=\"$2\"\n",
    "    local region_name=\"$3\"\n",
    "    local log_file=\"$4\"\n",
    "    \n",
    "    local model_path=\"celltype_models_human/modelv1_${cell_type}/${fold}/output/models/chrombpnet_nobias.h5\"\n",
    "    local regions=\"regions_of_interest/${region_name}_regions_peaks_human.bed\"\n",
    "    local genome_fasta=\"encode_data/hg38.fa\"\n",
    "    local genome_sizes=\"encode_data/hg38.chrom.sizes\"\n",
    "    local output_prefix=\"region_scores/${cell_type}/${region_name}_regions/${fold}\"\n",
    "    \n",
    "    mkdir -p \"region_scores/${cell_type}/${region_name}_regions\"\n",
    "        \n",
    "    # Run chrombpnet contribs_bw command\n",
    "    chrombpnet contribs_bw \\\n",
    "        -m \"$model_path\" \\\n",
    "        -r \"$regions\" \\\n",
    "        -g \"$genome_fasta\" \\\n",
    "        -c \"$genome_sizes\" \\\n",
    "        -op \"$output_prefix\" &> \"${output_prefix}.log\"\n",
    "    \n",
    "    # Capture the exit status of the command\n",
    "    exit_status=$?\n",
    "    \n",
    "    # Check if the command failed\n",
    "    if [ $exit_status -ne 0 ]; then\n",
    "        echo \"Job failed for cell_type: $cell_type, fold: $fold, region_name: $region_name\" >> \"$log_file\"\n",
    "    fi\n",
    "}\n",
    "\n",
    "\n",
    "# Export the function so that GNU Parallel can access it\n",
    "export -f run_contribs\n",
    "\n",
    "# Use GNU Parallel to iterate over combinations of cell types, folds, and genes\n",
    "parallel -j 1 run_contribs {1} {2} {3} \"$failed_log\" ::: \"${cell_types[@]}\" ::: \"${folds[@]}\" ::: \"${genes[@]}\"\n"
   ]
  },
  {
   "cell_type": "code",
   "execution_count": null,
   "id": "a2865252-4273-4bfb-814c-80e0f9b420d5",
   "metadata": {},
   "outputs": [],
   "source": []
  }
 ],
 "metadata": {
  "kernelspec": {
   "display_name": "Bash",
   "language": "bash",
   "name": "bash"
  },
  "language_info": {
   "codemirror_mode": "shell",
   "file_extension": ".sh",
   "mimetype": "text/x-sh",
   "name": "bash"
  }
 },
 "nbformat": 4,
 "nbformat_minor": 5
}
