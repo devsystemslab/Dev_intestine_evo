{
 "cells": [
  {
   "cell_type": "code",
   "execution_count": 1,
   "id": "f6c51815-8864-49be-b12c-dedd3a5d978f",
   "metadata": {},
   "outputs": [],
   "source": [
    "mamba activate chrombpnet2"
   ]
  },
  {
   "cell_type": "code",
   "execution_count": 2,
   "id": "3c59bd24-71b9-4454-bdf1-fe88a0463241",
   "metadata": {},
   "outputs": [],
   "source": [
    "#export PATH=/cluster/home/jjanssens/.local/bin:$PATH"
   ]
  },
  {
   "cell_type": "code",
   "execution_count": 3,
   "id": "cf589d48-95c6-45ec-a832-7b31c6fa735c",
   "metadata": {},
   "outputs": [
    {
     "name": "stdout",
     "output_type": "stream",
     "text": [
      "/cluster/project/treutlein/jjans/software/miniforge3/envs/chrombpnet2\n"
     ]
    }
   ],
   "source": [
    "echo $CONDA_PREFIX"
   ]
  },
  {
   "cell_type": "code",
   "execution_count": 4,
   "id": "d3bd0981-e944-4091-a0e0-bebd9417660b",
   "metadata": {},
   "outputs": [],
   "source": [
    "#export LD_LIBRARY_PATH=$CONDA_PREFIX/lib:$LD_LIBRARY_PATH"
   ]
  },
  {
   "cell_type": "code",
   "execution_count": null,
   "id": "3cff1ba8-4952-4ba2-a030-a78867eb5e27",
   "metadata": {},
   "outputs": [],
   "source": []
  },
  {
   "cell_type": "code",
   "execution_count": 5,
   "id": "06d01e0f-99f5-4ec3-a18d-d516f544e218",
   "metadata": {},
   "outputs": [],
   "source": [
    "export LD_LIBRARY_PATH=/cluster/project/treutlein/jjans/software/miniforge3/envs/cuda11_env/lib:$CONDA_PREFIX/lib:$LD_LIBRARY_PATH"
   ]
  },
  {
   "cell_type": "code",
   "execution_count": 6,
   "id": "2cb8ee7d-7dac-4c1f-a194-556f5bceb094",
   "metadata": {
    "tags": []
   },
   "outputs": [
    {
     "name": "stdout",
     "output_type": "stream",
     "text": [
      "usage: chrombpnet pipeline [-h] -g GENOME -c CHROM_SIZES\n",
      "                           (-ibam INPUT_BAM_FILE | -ifrag INPUT_FRAGMENT_FILE | -itag INPUT_TAGALIGN_FILE)\n",
      "                           -o OUTPUT_DIR -d {ATAC,DNASE} -p PEAKS -n NONPEAKS\n",
      "                           -fl CHR_FOLD_PATH [-oth OUTLIER_THRESHOLD]\n",
      "                           [--ATAC-ref-path ATAC_REF_PATH]\n",
      "                           [--DNASE-ref-path DNASE_REF_PATH]\n",
      "                           [--num-samples NUM_SAMPLES] [-il INPUTLEN]\n",
      "                           [-ol OUTPUTLEN] [-s SEED] [-e EPOCHS]\n",
      "                           [-es EARLY_STOP] [-l LEARNING_RATE]\n",
      "                           [-track [TRACKABLES ...]]\n",
      "                           [-a ARCHITECTURE_FROM_FILE] [-fp FILE_PREFIX]\n",
      "                           [-hp HTML_PREFIX] [--bsort] [--tmpdir TMPDIR]\n",
      "                           [--no-st] -b BIAS_MODEL_PATH\n",
      "                           [-sr NEGATIVE_SAMPLING_RATIO] [-fil FILTERS]\n",
      "                           [-dil N_DILATION_LAYERS] [-j MAX_JITTER]\n",
      "                           [-bs BATCH_SIZE]\n",
      "\n",
      "required arguments:\n",
      "  -g GENOME, --genome GENOME\n",
      "                        reference genome fasta file\n",
      "  -c CHROM_SIZES, --chrom-sizes CHROM_SIZES\n",
      "                        Chrom sizes file\n",
      "  -ibam INPUT_BAM_FILE, --input-bam-file INPUT_BAM_FILE\n",
      "                        Input BAM file\n",
      "  -ifrag INPUT_FRAGMENT_FILE, --input-fragment-file INPUT_FRAGMENT_FILE\n",
      "                        Input fragment file\n",
      "  -itag INPUT_TAGALIGN_FILE, --input-tagalign-file INPUT_TAGALIGN_FILE\n",
      "                        Input tagAlign file\n",
      "  -o OUTPUT_DIR, --output-dir OUTPUT_DIR\n",
      "                        Output dir (path/to/output/dir)\n",
      "  -d {ATAC,DNASE}, --data-type {ATAC,DNASE}\n",
      "                        assay type\n",
      "  -p PEAKS, --peaks PEAKS\n",
      "                        10 column bed file of peaks. Sequences and labels will\n",
      "                        be extracted centered at start (2nd col) + summit\n",
      "                        (10th col).\n",
      "  -n NONPEAKS, --nonpeaks NONPEAKS\n",
      "                        10 column bed file of non-peak regions, centered at\n",
      "                        summit (10th column)\n",
      "  -fl CHR_FOLD_PATH, --chr-fold-path CHR_FOLD_PATH\n",
      "                        Fold information - dictionary with test,valid and\n",
      "                        train keys and values with corresponding chromosomes\n",
      "  -b BIAS_MODEL_PATH, --bias-model-path BIAS_MODEL_PATH\n",
      "                        Path for a pretrained bias model\n",
      "\n",
      "optional arguments:\n",
      "  -oth OUTLIER_THRESHOLD, --outlier-threshold OUTLIER_THRESHOLD\n",
      "                        threshold to use to filter outlies\n",
      "  --ATAC-ref-path ATAC_REF_PATH\n",
      "                        Path to ATAC reference motifs (ATAC.ref.motifs.txt\n",
      "                        used by default)\n",
      "  --DNASE-ref-path DNASE_REF_PATH\n",
      "                        Path to DNASE reference motifs (DNASE.ref.motifs.txt\n",
      "                        used by default)\n",
      "  --num-samples NUM_SAMPLES\n",
      "                        Number of reads to sample from BAM/fragment/tagAlign\n",
      "                        file for shift estimation\n",
      "  -il INPUTLEN, --inputlen INPUTLEN\n",
      "                        Sequence input length\n",
      "  -ol OUTPUTLEN, --outputlen OUTPUTLEN\n",
      "                        Prediction output length\n",
      "  -s SEED, --seed SEED  seed to use for model training\n",
      "  -e EPOCHS, --epochs EPOCHS\n",
      "                        Maximum epochs to train\n",
      "  -es EARLY_STOP, --early-stop EARLY_STOP\n",
      "                        Early stop limit, corresponds to 'patience' in\n",
      "                        callback\n",
      "  -l LEARNING_RATE, --learning-rate LEARNING_RATE\n",
      "                        Learning rate for model training\n",
      "  -track [TRACKABLES ...], --trackables [TRACKABLES ...]\n",
      "                        list of things to track per batch, such as logcount_pr\n",
      "                        edictions_loss,loss,profile_predictions_loss,val_logco\n",
      "                        unt_predictions_loss,val_loss,val_profile_predictions_\n",
      "                        loss\n",
      "  -a ARCHITECTURE_FROM_FILE, --architecture-from-file ARCHITECTURE_FROM_FILE\n",
      "                        Model to use for training\n",
      "  -fp FILE_PREFIX, --file-prefix FILE_PREFIX\n",
      "                        File prefix for output to use. All the files will be\n",
      "                        prefixed with this string if provided.\n",
      "  -hp HTML_PREFIX, --html-prefix HTML_PREFIX\n",
      "                        The html prefix to use for the html file output.\n",
      "  --bsort               In prpeprocess, by deafult we sort bam using unix sort\n",
      "                        but sometimes LC collate can cause issues, so this can\n",
      "                        be set to use betools sort which works well but is\n",
      "                        memory intensive..\n",
      "  --tmpdir TMPDIR       temp dir for unix sort\n",
      "  --no-st               Dont do streaming and filtering in preprocessing\n",
      "                        (short chromosome contrigs not in reference fasta are\n",
      "                        not removed)\n",
      "  -sr NEGATIVE_SAMPLING_RATIO, --negative-sampling-ratio NEGATIVE_SAMPLING_RATIO\n",
      "                        Ratio of negatives to positive samples per epoch\n",
      "  -fil FILTERS, --filters FILTERS\n",
      "                        Number of filters to use in chrombpnet mode\n",
      "  -dil N_DILATION_LAYERS, --n-dilation-layers N_DILATION_LAYERS\n",
      "                        Number of dilation layers to use in chrombpnet model\n",
      "  -j MAX_JITTER, --max-jitter MAX_JITTER\n",
      "                        Maximum jitter applied on either side of region\n",
      "                        (default 500 for chrombpnet model)\n",
      "  -bs BATCH_SIZE, --batch-size BATCH_SIZE\n",
      "                        batch size to use for model training\n"
     ]
    }
   ],
   "source": [
    "chrombpnet pipeline -h"
   ]
  },
  {
   "cell_type": "code",
   "execution_count": 7,
   "id": "a70803db-5f96-41be-a5bd-a178bf27026d",
   "metadata": {},
   "outputs": [
    {
     "name": "stdout",
     "output_type": "stream",
     "text": [
      "nvcc: NVIDIA (R) Cuda compiler driver\n",
      "Copyright (c) 2005-2023 NVIDIA Corporation\n",
      "Built on Tue_Jul_11_02:20:44_PDT_2023\n",
      "Cuda compilation tools, release 12.2, V12.2.128\n",
      "Build cuda_12.2.r12.2/compiler.33053471_0\n"
     ]
    }
   ],
   "source": [
    "nvcc --version"
   ]
  },
  {
   "cell_type": "code",
   "execution_count": 8,
   "id": "86165031-c141-480f-97a6-4c38577561e7",
   "metadata": {},
   "outputs": [],
   "source": [
    "unset PYTHONPATH"
   ]
  },
  {
   "cell_type": "code",
   "execution_count": null,
   "id": "2aaeb742-4358-4a9a-bfc3-90d3da11047d",
   "metadata": {},
   "outputs": [],
   "source": [
    "chrombpnet pipeline "
   ]
  },
  {
   "cell_type": "code",
   "execution_count": 11,
   "id": "020d40ce-c104-4cce-b014-6f228e5998d9",
   "metadata": {},
   "outputs": [
    {
     "name": "stdout",
     "output_type": "stream",
     "text": [
      "enterocyte_chimp.bam\n",
      "enterocyte_chimp_sorted.bam\n",
      "enterocyte_chimp_sorted.bam.bai\n",
      "enterocyte_chimp_sorted_filtered.bam\n",
      "enterocyte_chimp_sorted_filtered.bam.bai\n",
      "enterocyte_human.bam\n",
      "enterocyte_human_sorted.bam\n",
      "enterocyte_human_sorted.bam.bai\n",
      "enterocyte_human_sorted_filtered.bam\n",
      "enterocyte_human_sorted_filtered.bam.bai\n"
     ]
    }
   ],
   "source": [
    "ls enterocytes_species"
   ]
  },
  {
   "cell_type": "code",
   "execution_count": null,
   "id": "daac1125-0916-4328-b7c3-fe847df08f27",
   "metadata": {},
   "outputs": [
    {
     "name": "stdout",
     "output_type": "stream",
     "text": [
      "Estimating enzyme shift in input file\n"
     ]
    }
   ],
   "source": [
    "chrombpnet pipeline \\\n",
    "        -ibam enterocytes_species/enterocyte_chimp_sorted_filtered.bam \\\n",
    "        -d \"ATAC\" \\\n",
    "        -g encode_data_chimp/panTro6.fa \\\n",
    "        -c encode_data_chimp/panTro6.chrom.sizes \\\n",
    "        -p called_peaks/chimp_peaks_no_blacklist_chr.bed \\\n",
    "        -n modelv0_chimp/output_negatives.bed \\\n",
    "        -fl encode_data_chimp/splits/fold_0.json \\\n",
    "        -b bias_model/scATAC_dermal_fibroblast.h5 \\\n",
    "        -o modelv0_chimp/chrombpnet_model/"
   ]
  },
  {
   "cell_type": "code",
   "execution_count": null,
   "id": "f19a03f2-13a4-4348-b1d8-49ad6971691b",
   "metadata": {},
   "outputs": [],
   "source": [
    "chrombpnet pipeline \\\n",
    "        -ibam enterocytes_species/enterocyte_chimp_sorted_filtered.bam \\\n",
    "        -d \"ATAC\" \\\n",
    "        -g encode_data_chimp/panTro6.fa \\\n",
    "        -c encode_data_chimp/panTro6.chrom.sizes \\\n",
    "        -p called_peaks/chimp_peaks_no_blacklist_chr.bed \\\n",
    "        -n modelv0_chimp_fold1/output_negatives.bed \\\n",
    "        -fl encode_data_chimp/splits/fold_1.json \\\n",
    "        -b bias_model/scATAC_dermal_fibroblast.h5 \\\n",
    "        -o modelv0_chimp_fold1/chrombpnet_model/"
   ]
  },
  {
   "cell_type": "code",
   "execution_count": null,
   "id": "5e5abce8-309c-473e-9ece-b52df55e931d",
   "metadata": {},
   "outputs": [],
   "source": [
    "chrombpnet pipeline \\\n",
    "        -ibam enterocytes_species/enterocyte_chimp_sorted_filtered.bam \\\n",
    "        -d \"ATAC\" \\\n",
    "        -g encode_data_chimp/panTro6.fa \\\n",
    "        -c encode_data_chimp/panTro6.chrom.sizes \\\n",
    "        -p called_peaks/chimp_peaks_no_blacklist_chr.bed \\\n",
    "        -n modelv0_chimp_fold2/output_negatives.bed \\\n",
    "        -fl encode_data_chimp/splits/fold_2.json \\\n",
    "        -b bias_model/scATAC_dermal_fibroblast.h5 \\\n",
    "        -o modelv0_chimp_fold2/chrombpnet_model/"
   ]
  },
  {
   "cell_type": "code",
   "execution_count": null,
   "id": "ec69c504-2ea4-4ca3-9c2a-f1b1d415df9d",
   "metadata": {},
   "outputs": [],
   "source": [
    "chrombpnet pipeline \\\n",
    "        -ibam enterocytes_species/enterocyte_chimp_sorted_filtered.bam \\\n",
    "        -d \"ATAC\" \\\n",
    "        -g encode_data_chimp/panTro6.fa \\\n",
    "        -c encode_data_chimp/panTro6.chrom.sizes \\\n",
    "        -p called_peaks/chimp_peaks_no_blacklist_chr.bed \\\n",
    "        -n modelv0_chimp_fold3/output_negatives.bed \\\n",
    "        -fl encode_data_chimp/splits/fold_3.json \\\n",
    "        -b bias_model/scATAC_dermal_fibroblast.h5 \\\n",
    "        -o modelv0_chimp_fold3/chrombpnet_model/"
   ]
  },
  {
   "cell_type": "code",
   "execution_count": null,
   "id": "bd923c95-637c-4982-9771-81ddf14b65c6",
   "metadata": {},
   "outputs": [],
   "source": [
    "chrombpnet pipeline \\\n",
    "        -ibam enterocytes_species/enterocyte_chimp_sorted_filtered.bam \\\n",
    "        -d \"ATAC\" \\\n",
    "        -g encode_data_chimp/panTro6.fa \\\n",
    "        -c encode_data_chimp/panTro6.chrom.sizes \\\n",
    "        -p called_peaks/chimp_peaks_no_blacklist_chr.bed \\\n",
    "        -n modelv0_chimp_fold4/output_negatives.bed \\\n",
    "        -fl encode_data_chimp/splits/fold_4.json \\\n",
    "        -b bias_model/scATAC_dermal_fibroblast.h5 \\\n",
    "        -o modelv0_chimp_fold4/chrombpnet_model/"
   ]
  },
  {
   "cell_type": "code",
   "execution_count": null,
   "id": "f07e8e87-3d65-4918-9fe9-4eec3485ec66",
   "metadata": {},
   "outputs": [],
   "source": []
  },
  {
   "cell_type": "code",
   "execution_count": 15,
   "id": "08717a13-8aec-4f2f-b385-e69b0b8a82e2",
   "metadata": {},
   "outputs": [],
   "source": [
    "find  -name \"libcublas.so*\"\n"
   ]
  },
  {
   "cell_type": "code",
   "execution_count": 16,
   "id": "c07e906e-2bee-4761-ba78-2a244c02d836",
   "metadata": {},
   "outputs": [
    {
     "name": "stdout",
     "output_type": "stream",
     "text": [
      "/cluster/project/treutlein/jjans/software/miniforge3/envs/chrombpnet2/lib:/cluster/software/manual/cudnn/9.2.0/x86_64/lib:/cluster/software/stacks/2024-05/spack/opt/spack/linux-ubuntu22.04-x86_64_v3/gcc-13.2.0/cuda-12.2.1-fv6yilrnidoe35nh24iszjkf63bihikt/lib64:/cluster/software/stacks/2024-05/spack/opt/spack/linux-ubuntu22.04-x86_64_v3/gcc-13.2.0/openblas-0.3.24-4jbys53lzql5yt3rkhr2iuktq4vawzz6/lib:/cluster/software/stacks/2024-05/spack/opt/spack/linux-ubuntu22.04-x86_64_v3/gcc-13.2.0/eccodes-2.25.0-ac2jdbsunxyvob74ohj45twcgwhoqvny/lib:/cluster/software/stacks/2024-05/spack/opt/spack/linux-ubuntu22.04-x86_64_v3/gcc-13.2.0/r-4.3.2-c6hxdn6t4ao6fbqv4cg2xqinhwtwdwbn/rlib:/cluster/software/stacks/2024-05/spack/opt/spack/linux-ubuntu22.04-x86_64_v3/gcc-13.2.0/r-4.3.2-c6hxdn6t4ao6fbqv4cg2xqinhwtwdwbn/rlib/R/lib:/cluster/software/stacks/2024-05/spack/opt/spack/linux-ubuntu22.04-x86_64_v3/gcc-13.2.0/python-3.11.6-m4n2ny4dwaqmeobuqquo3gpyw2bct67i/lib:/cluster/software/stacks/2024-05/spack/opt/spack/linux-ubuntu22.04-x86_64_v3/gcc-11.4.0/gcc-13.2.0-6t2bdhlkrktlyopht3nbmjz3emlsqeog/lib64:/cluster/software/stacks/2024-05/spack/opt/spack/linux-ubuntu22.04-x86_64_v3/gcc-11.4.0/gcc-13.2.0-6t2bdhlkrktlyopht3nbmjz3emlsqeog/lib:/cluster/software/manual/julia/1.10.3/x86_64/lib:/cluster/software/stacks/2024-05/spack/opt/spack/linux-ubuntu22.04-x86_64_v3/gcc-13.2.0/hdf5-1.14.3-djiamwqmf55x25kua4cbbio5newzctbr/lib\n"
     ]
    }
   ],
   "source": [
    "echo $LD_LIBRARY_PATH"
   ]
  },
  {
   "cell_type": "code",
   "execution_count": null,
   "id": "a4cf5b6b-6557-4244-8df5-ed30b4bd72ba",
   "metadata": {},
   "outputs": [],
   "source": [
    "mamba activate cuda11_env"
   ]
  },
  {
   "cell_type": "code",
   "execution_count": 12,
   "id": "2112e75b-fbad-4595-b618-03f03779ce83",
   "metadata": {},
   "outputs": [
    {
     "name": "stdout",
     "output_type": "stream",
     "text": [
      "libcudnn.so\n",
      "libcudnn.so.8\n",
      "libcudnn.so.8.9.7\n",
      "libcudnn_adv_infer.so\n",
      "libcudnn_adv_infer.so.8\n",
      "libcudnn_adv_infer.so.8.9.7\n",
      "libcudnn_adv_train.so\n",
      "libcudnn_adv_train.so.8\n",
      "libcudnn_adv_train.so.8.9.7\n",
      "libcudnn_cnn_infer.so\n",
      "libcudnn_cnn_infer.so.8\n",
      "libcudnn_cnn_infer.so.8.9.7\n",
      "libcudnn_cnn_train.so\n",
      "libcudnn_cnn_train.so.8\n",
      "libcudnn_cnn_train.so.8.9.7\n",
      "libcudnn_ops_infer.so\n",
      "libcudnn_ops_infer.so.8\n",
      "libcudnn_ops_infer.so.8.9.7\n",
      "libcudnn_ops_train.so\n",
      "libcudnn_ops_train.so.8\n",
      "libcudnn_ops_train.so.8.9.7\n"
     ]
    }
   ],
   "source": [
    "ls /cluster/project/treutlein/jjans/software/miniforge3/envs/cuda11_env/lib | grep cudnn"
   ]
  },
  {
   "cell_type": "code",
   "execution_count": 32,
   "id": "6690eea3-a20d-4b5c-a410-18cfded60b51",
   "metadata": {},
   "outputs": [
    {
     "name": "stdout",
     "output_type": "stream",
     "text": [
      "libcufft.so\n",
      "libcufft.so.10\n",
      "libcufft.so.10.9.0.58\n",
      "libcufft_static.a\n",
      "libcufft_static_nocallback.a\n",
      "libcufftw.so\n",
      "libcufftw.so.10\n",
      "libcufftw.so.10.9.0.58\n",
      "libcufftw_static.a\n"
     ]
    }
   ],
   "source": [
    "ls /cluster/project/treutlein/jjans/software/miniforge3/envs/cuda11_env/lib | grep cufft"
   ]
  },
  {
   "cell_type": "code",
   "execution_count": 17,
   "id": "4530f37f-39c8-48cc-a09d-9d7e6a1e43e3",
   "metadata": {},
   "outputs": [
    {
     "name": "stdout",
     "output_type": "stream",
     "text": [
      "libcudart.so.11.0\n",
      "libcudart.so.11.8.89\n",
      "libicudata.so\n",
      "libicudata.so.72\n",
      "libicudata.so.72.1\n",
      "libmca_common_cuda.so\n",
      "libmca_common_cuda.so.40\n",
      "libmca_common_cuda.so.40.30.0\n"
     ]
    }
   ],
   "source": [
    "ls /cluster/project/treutlein/jjans/software/miniforge3/envs/chrombpnet2/lib | grep cuda"
   ]
  },
  {
   "cell_type": "code",
   "execution_count": 18,
   "id": "0cb8d333-e9a3-4d7f-8f7a-2e1119db3433",
   "metadata": {},
   "outputs": [
    {
     "name": "stdout",
     "output_type": "stream",
     "text": [
      "libcublas.so.12\n",
      "libcublas.so.12.4.5.8\n",
      "libcublasLt.so.12\n",
      "libcublasLt.so.12.4.5.8\n"
     ]
    }
   ],
   "source": [
    "ls /cluster/project/treutlein/jjans/software/miniforge3/envs/chrombpnet2/lib | grep cublas"
   ]
  },
  {
   "cell_type": "code",
   "execution_count": 19,
   "id": "03813a93-b6e6-43f0-be04-217155ee03a3",
   "metadata": {},
   "outputs": [
    {
     "name": "stdout",
     "output_type": "stream",
     "text": [
      "libcufft.so.11\n",
      "libcufft.so.11.2.1.3\n",
      "libcufftw.so.11\n",
      "libcufftw.so.11.2.1.3\n"
     ]
    }
   ],
   "source": [
    "ls /cluster/project/treutlein/jjans/software/miniforge3/envs/chrombpnet2/lib | grep cufft"
   ]
  },
  {
   "cell_type": "code",
   "execution_count": 22,
   "id": "5a981fc4-a18a-45dd-91c3-206f047e7394",
   "metadata": {},
   "outputs": [
    {
     "name": "stdout",
     "output_type": "stream",
     "text": [
      "libcusparse.so.12\n",
      "libcusparse.so.12.3.1.170\n"
     ]
    }
   ],
   "source": [
    "ls /cluster/project/treutlein/jjans/software/miniforge3/envs/chrombpnet2/lib | grep sparse"
   ]
  },
  {
   "cell_type": "code",
   "execution_count": 23,
   "id": "9611c43c-c091-4290-9637-fcb3ba1ab9aa",
   "metadata": {},
   "outputs": [
    {
     "ename": "",
     "evalue": "1",
     "output_type": "error",
     "traceback": []
    }
   ],
   "source": [
    "ls /cluster/project/treutlein/jjans/software/miniforge3/envs/chrombpnet2/lib | grep cudnn"
   ]
  },
  {
   "cell_type": "code",
   "execution_count": null,
   "id": "6dbc3bca-166a-46a4-9045-3ce7167c9235",
   "metadata": {},
   "outputs": [],
   "source": []
  },
  {
   "cell_type": "code",
   "execution_count": null,
   "id": "e98f6279-2b18-4270-a239-339c019adb59",
   "metadata": {},
   "outputs": [],
   "source": []
  },
  {
   "cell_type": "code",
   "execution_count": null,
   "id": "ae4110e7-9e78-4859-9aa9-bacda1578073",
   "metadata": {},
   "outputs": [],
   "source": []
  },
  {
   "cell_type": "code",
   "execution_count": 12,
   "id": "cb8bc6ba-69c5-446a-97b8-522da44504c0",
   "metadata": {},
   "outputs": [],
   "source": [
    "mamba activate bash_kernel"
   ]
  },
  {
   "cell_type": "code",
   "execution_count": 13,
   "id": "703444dc-6a6c-4127-b35b-64677001d5d2",
   "metadata": {},
   "outputs": [
    {
     "name": "stdout",
     "output_type": "stream",
     "text": [
      "bash: locate: command not found\n"
     ]
    },
    {
     "ename": "",
     "evalue": "127",
     "output_type": "error",
     "traceback": []
    }
   ],
   "source": [
    "locate libcublas.so\n"
   ]
  },
  {
   "cell_type": "code",
   "execution_count": null,
   "id": "75e1e38c-09eb-4876-8f5a-58b0b68fce0b",
   "metadata": {},
   "outputs": [],
   "source": []
  }
 ],
 "metadata": {
  "kernelspec": {
   "display_name": "Bash",
   "language": "bash",
   "name": "bash"
  },
  "language_info": {
   "codemirror_mode": "shell",
   "file_extension": ".sh",
   "mimetype": "text/x-sh",
   "name": "bash"
  }
 },
 "nbformat": 4,
 "nbformat_minor": 5
}
