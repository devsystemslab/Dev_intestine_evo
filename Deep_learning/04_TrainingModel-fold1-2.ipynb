{
 "cells": [
  {
   "cell_type": "code",
   "execution_count": 1,
   "id": "f6c51815-8864-49be-b12c-dedd3a5d978f",
   "metadata": {},
   "outputs": [],
   "source": [
    "mamba activate chrombpnet2"
   ]
  },
  {
   "cell_type": "code",
   "execution_count": 2,
   "id": "3c59bd24-71b9-4454-bdf1-fe88a0463241",
   "metadata": {},
   "outputs": [],
   "source": [
    "#export PATH=/cluster/home/jjanssens/.local/bin:$PATH"
   ]
  },
  {
   "cell_type": "code",
   "execution_count": 3,
   "id": "cf589d48-95c6-45ec-a832-7b31c6fa735c",
   "metadata": {},
   "outputs": [
    {
     "name": "stdout",
     "output_type": "stream",
     "text": [
      "/cluster/project/treutlein/jjans/software/miniforge3/envs/chrombpnet2\n"
     ]
    }
   ],
   "source": [
    "echo $CONDA_PREFIX"
   ]
  },
  {
   "cell_type": "code",
   "execution_count": 4,
   "id": "d3bd0981-e944-4091-a0e0-bebd9417660b",
   "metadata": {},
   "outputs": [],
   "source": [
    "#export LD_LIBRARY_PATH=$CONDA_PREFIX/lib:$LD_LIBRARY_PATH"
   ]
  },
  {
   "cell_type": "code",
   "execution_count": null,
   "id": "3cff1ba8-4952-4ba2-a030-a78867eb5e27",
   "metadata": {},
   "outputs": [],
   "source": []
  },
  {
   "cell_type": "code",
   "execution_count": 5,
   "id": "06d01e0f-99f5-4ec3-a18d-d516f544e218",
   "metadata": {},
   "outputs": [],
   "source": [
    "export LD_LIBRARY_PATH=/cluster/project/treutlein/jjans/software/miniforge3/envs/cuda11_env/lib:$CONDA_PREFIX/lib:$LD_LIBRARY_PATH"
   ]
  },
  {
   "cell_type": "code",
   "execution_count": 6,
   "id": "2cb8ee7d-7dac-4c1f-a194-556f5bceb094",
   "metadata": {
    "tags": []
   },
   "outputs": [
    {
     "name": "stdout",
     "output_type": "stream",
     "text": [
      "usage: chrombpnet pipeline [-h] -g GENOME -c CHROM_SIZES\n",
      "                           (-ibam INPUT_BAM_FILE | -ifrag INPUT_FRAGMENT_FILE | -itag INPUT_TAGALIGN_FILE)\n",
      "                           -o OUTPUT_DIR -d {ATAC,DNASE} -p PEAKS -n NONPEAKS\n",
      "                           -fl CHR_FOLD_PATH [-oth OUTLIER_THRESHOLD]\n",
      "                           [--ATAC-ref-path ATAC_REF_PATH]\n",
      "                           [--DNASE-ref-path DNASE_REF_PATH]\n",
      "                           [--num-samples NUM_SAMPLES] [-il INPUTLEN]\n",
      "                           [-ol OUTPUTLEN] [-s SEED] [-e EPOCHS]\n",
      "                           [-es EARLY_STOP] [-l LEARNING_RATE]\n",
      "                           [-track [TRACKABLES ...]]\n",
      "                           [-a ARCHITECTURE_FROM_FILE] [-fp FILE_PREFIX]\n",
      "                           [-hp HTML_PREFIX] [--bsort] [--tmpdir TMPDIR]\n",
      "                           [--no-st] -b BIAS_MODEL_PATH\n",
      "                           [-sr NEGATIVE_SAMPLING_RATIO] [-fil FILTERS]\n",
      "                           [-dil N_DILATION_LAYERS] [-j MAX_JITTER]\n",
      "                           [-bs BATCH_SIZE]\n",
      "\n",
      "required arguments:\n",
      "  -g GENOME, --genome GENOME\n",
      "                        reference genome fasta file\n",
      "  -c CHROM_SIZES, --chrom-sizes CHROM_SIZES\n",
      "                        Chrom sizes file\n",
      "  -ibam INPUT_BAM_FILE, --input-bam-file INPUT_BAM_FILE\n",
      "                        Input BAM file\n",
      "  -ifrag INPUT_FRAGMENT_FILE, --input-fragment-file INPUT_FRAGMENT_FILE\n",
      "                        Input fragment file\n",
      "  -itag INPUT_TAGALIGN_FILE, --input-tagalign-file INPUT_TAGALIGN_FILE\n",
      "                        Input tagAlign file\n",
      "  -o OUTPUT_DIR, --output-dir OUTPUT_DIR\n",
      "                        Output dir (path/to/output/dir)\n",
      "  -d {ATAC,DNASE}, --data-type {ATAC,DNASE}\n",
      "                        assay type\n",
      "  -p PEAKS, --peaks PEAKS\n",
      "                        10 column bed file of peaks. Sequences and labels will\n",
      "                        be extracted centered at start (2nd col) + summit\n",
      "                        (10th col).\n",
      "  -n NONPEAKS, --nonpeaks NONPEAKS\n",
      "                        10 column bed file of non-peak regions, centered at\n",
      "                        summit (10th column)\n",
      "  -fl CHR_FOLD_PATH, --chr-fold-path CHR_FOLD_PATH\n",
      "                        Fold information - dictionary with test,valid and\n",
      "                        train keys and values with corresponding chromosomes\n",
      "  -b BIAS_MODEL_PATH, --bias-model-path BIAS_MODEL_PATH\n",
      "                        Path for a pretrained bias model\n",
      "\n",
      "optional arguments:\n",
      "  -oth OUTLIER_THRESHOLD, --outlier-threshold OUTLIER_THRESHOLD\n",
      "                        threshold to use to filter outlies\n",
      "  --ATAC-ref-path ATAC_REF_PATH\n",
      "                        Path to ATAC reference motifs (ATAC.ref.motifs.txt\n",
      "                        used by default)\n",
      "  --DNASE-ref-path DNASE_REF_PATH\n",
      "                        Path to DNASE reference motifs (DNASE.ref.motifs.txt\n",
      "                        used by default)\n",
      "  --num-samples NUM_SAMPLES\n",
      "                        Number of reads to sample from BAM/fragment/tagAlign\n",
      "                        file for shift estimation\n",
      "  -il INPUTLEN, --inputlen INPUTLEN\n",
      "                        Sequence input length\n",
      "  -ol OUTPUTLEN, --outputlen OUTPUTLEN\n",
      "                        Prediction output length\n",
      "  -s SEED, --seed SEED  seed to use for model training\n",
      "  -e EPOCHS, --epochs EPOCHS\n",
      "                        Maximum epochs to train\n",
      "  -es EARLY_STOP, --early-stop EARLY_STOP\n",
      "                        Early stop limit, corresponds to 'patience' in\n",
      "                        callback\n",
      "  -l LEARNING_RATE, --learning-rate LEARNING_RATE\n",
      "                        Learning rate for model training\n",
      "  -track [TRACKABLES ...], --trackables [TRACKABLES ...]\n",
      "                        list of things to track per batch, such as logcount_pr\n",
      "                        edictions_loss,loss,profile_predictions_loss,val_logco\n",
      "                        unt_predictions_loss,val_loss,val_profile_predictions_\n",
      "                        loss\n",
      "  -a ARCHITECTURE_FROM_FILE, --architecture-from-file ARCHITECTURE_FROM_FILE\n",
      "                        Model to use for training\n",
      "  -fp FILE_PREFIX, --file-prefix FILE_PREFIX\n",
      "                        File prefix for output to use. All the files will be\n",
      "                        prefixed with this string if provided.\n",
      "  -hp HTML_PREFIX, --html-prefix HTML_PREFIX\n",
      "                        The html prefix to use for the html file output.\n",
      "  --bsort               In prpeprocess, by deafult we sort bam using unix sort\n",
      "                        but sometimes LC collate can cause issues, so this can\n",
      "                        be set to use betools sort which works well but is\n",
      "                        memory intensive..\n",
      "  --tmpdir TMPDIR       temp dir for unix sort\n",
      "  --no-st               Dont do streaming and filtering in preprocessing\n",
      "                        (short chromosome contrigs not in reference fasta are\n",
      "                        not removed)\n",
      "  -sr NEGATIVE_SAMPLING_RATIO, --negative-sampling-ratio NEGATIVE_SAMPLING_RATIO\n",
      "                        Ratio of negatives to positive samples per epoch\n",
      "  -fil FILTERS, --filters FILTERS\n",
      "                        Number of filters to use in chrombpnet mode\n",
      "  -dil N_DILATION_LAYERS, --n-dilation-layers N_DILATION_LAYERS\n",
      "                        Number of dilation layers to use in chrombpnet model\n",
      "  -j MAX_JITTER, --max-jitter MAX_JITTER\n",
      "                        Maximum jitter applied on either side of region\n",
      "                        (default 500 for chrombpnet model)\n",
      "  -bs BATCH_SIZE, --batch-size BATCH_SIZE\n",
      "                        batch size to use for model training\n"
     ]
    }
   ],
   "source": [
    "chrombpnet pipeline -h"
   ]
  },
  {
   "cell_type": "code",
   "execution_count": 14,
   "id": "6ff47744-f38d-47d4-91f6-f62cb3ab210c",
   "metadata": {},
   "outputs": [],
   "source": [
    "#rm -r modelv1_fold1/chrombpnet_model"
   ]
  },
  {
   "cell_type": "code",
   "execution_count": 7,
   "id": "a70803db-5f96-41be-a5bd-a178bf27026d",
   "metadata": {},
   "outputs": [
    {
     "name": "stdout",
     "output_type": "stream",
     "text": [
      "nvcc: NVIDIA (R) Cuda compiler driver\n",
      "Copyright (c) 2005-2023 NVIDIA Corporation\n",
      "Built on Tue_Jul_11_02:20:44_PDT_2023\n",
      "Cuda compilation tools, release 12.2, V12.2.128\n",
      "Build cuda_12.2.r12.2/compiler.33053471_0\n"
     ]
    }
   ],
   "source": [
    "nvcc --version"
   ]
  },
  {
   "cell_type": "code",
   "execution_count": 8,
   "id": "86165031-c141-480f-97a6-4c38577561e7",
   "metadata": {},
   "outputs": [],
   "source": [
    "unset PYTHONPATH"
   ]
  },
  {
   "cell_type": "code",
   "execution_count": null,
   "id": "2aaeb742-4358-4a9a-bfc3-90d3da11047d",
   "metadata": {},
   "outputs": [],
   "source": [
    "chrombpnet pipeline "
   ]
  },
  {
   "cell_type": "code",
   "execution_count": null,
   "id": "f19a03f2-13a4-4348-b1d8-49ad6971691b",
   "metadata": {
    "collapsed": true,
    "jupyter": {
     "outputs_hidden": true
    }
   },
   "outputs": [
    {
     "name": "stdout",
     "output_type": "stream",
     "text": [
      "Estimating enzyme shift in input file\n",
      "/cluster/home/jjanssens/.local/lib/python3.10/site-packages/chrombpnet/helpers/preprocessing/auto_shift_detect.py:108: UserWarning: \u001b[31m!!! WARNING: Input reads contain chromosomes not in the reference genome fasta provided. Please ensure you are using the correct reference genome. If you are confident you are using the correct reference genome, you can safely ignore this message.\u001b[0m\n",
      "  warnings.warn(colored(msg, 'red'))\n",
      "Current estimated shift: +0/+0\n",
      "awk -v OFS=\"\\t\" '{if ($6==\"+\"){print $1,$2+4,$3,$4,$5,$6} else if ($6==\"-\") {print $1,$2,$3-4,$4,$5,$6}}' | sort -k1,1 | bedtools genomecov -bg -5 -i stdin -g encode_data/hg38.chrom.sizes | LC_COLLATE=\"C\" sort -k1,1 -k2,2n \n",
      "Making BedGraph (Filter chromosomes not in reference fasta)\n",
      "Making Bigwig\n",
      "non zero bigwig entries in the given chromosome:  2694331\n",
      "evaluating hyperparameters on the following chromosomes ['chr1', 'chr3', 'chr4', 'chr5', 'chr6', 'chr7', 'chr10', 'chr11', 'chr13', 'chr14', 'chr15', 'chr18', 'chr19', 'chr20', 'chr21', 'chr22', 'chrX', 'chrY', 'chr12', 'chr17']\n",
      "Number of peaks input:  71647\n",
      "Number of peaks filtered because the input/output is on the edge:  0\n",
      "Number of peaks being used:  71647\n",
      "Number of peaks input:  17537\n",
      "Number of peaks filtered because the input/output is on the edge:  0\n",
      "Number of peaks being used:  17537\n",
      "Number of non peaks input:  143294\n",
      "Number of non peaks filtered because the input/output is on the edge:  0\n",
      "Number of non peaks being used:  143294\n",
      "Number of non peaks input:  17537\n",
      "Number of non peaks filtered because the input/output is on the edge:  0\n",
      "Number of non peaks being used:  17537\n",
      "Number of peaks after removing outliers:  71639\n",
      "Number of nonpeaks after removing outliers:  137444\n",
      "got the model\n",
      "Model: \"model\"\n",
      "__________________________________________________________________________________________________\n",
      " Layer (type)                   Output Shape         Param #     Connected to                     \n",
      "==================================================================================================\n",
      " input_1 (InputLayer)           [(None, 2114, 4)]    0           []                               \n",
      "                                                                                                  \n",
      " conv1d (Conv1D)                (None, 2094, 128)    10880       ['input_1[0][0]']                \n",
      "                                                                                                  \n",
      " conv1d_1 (Conv1D)              (None, 2090, 128)    49280       ['conv1d[0][0]']                 \n",
      "                                                                                                  \n",
      " cropping1d (Cropping1D)        (None, 2090, 128)    0           ['conv1d[0][0]']                 \n",
      "                                                                                                  \n",
      " add (Add)                      (None, 2090, 128)    0           ['conv1d_1[0][0]',               \n",
      "                                                                  'cropping1d[0][0]']             \n",
      "                                                                                                  \n",
      " conv1d_2 (Conv1D)              (None, 2082, 128)    49280       ['add[0][0]']                    \n",
      "                                                                                                  \n",
      " cropping1d_1 (Cropping1D)      (None, 2082, 128)    0           ['add[0][0]']                    \n",
      "                                                                                                  \n",
      " add_1 (Add)                    (None, 2082, 128)    0           ['conv1d_2[0][0]',               \n",
      "                                                                  'cropping1d_1[0][0]']           \n",
      "                                                                                                  \n",
      " conv1d_3 (Conv1D)              (None, 2066, 128)    49280       ['add_1[0][0]']                  \n",
      "                                                                                                  \n",
      " cropping1d_2 (Cropping1D)      (None, 2066, 128)    0           ['add_1[0][0]']                  \n",
      "                                                                                                  \n",
      " add_2 (Add)                    (None, 2066, 128)    0           ['conv1d_3[0][0]',               \n",
      "                                                                  'cropping1d_2[0][0]']           \n",
      "                                                                                                  \n",
      " conv1d_4 (Conv1D)              (None, 2034, 128)    49280       ['add_2[0][0]']                  \n",
      "                                                                                                  \n",
      " cropping1d_3 (Cropping1D)      (None, 2034, 128)    0           ['add_2[0][0]']                  \n",
      "                                                                                                  \n",
      " add_3 (Add)                    (None, 2034, 128)    0           ['conv1d_4[0][0]',               \n",
      "                                                                  'cropping1d_3[0][0]']           \n",
      "                                                                                                  \n",
      " conv1d_5 (Conv1D)              (None, 1970, 128)    49280       ['add_3[0][0]']                  \n",
      "                                                                                                  \n",
      " cropping1d_4 (Cropping1D)      (None, 1970, 128)    0           ['add_3[0][0]']                  \n",
      "                                                                                                  \n",
      " add_4 (Add)                    (None, 1970, 128)    0           ['conv1d_5[0][0]',               \n",
      "                                                                  'cropping1d_4[0][0]']           \n",
      "                                                                                                  \n",
      " conv1d_6 (Conv1D)              (None, 1842, 128)    49280       ['add_4[0][0]']                  \n",
      "                                                                                                  \n",
      " cropping1d_5 (Cropping1D)      (None, 1842, 128)    0           ['add_4[0][0]']                  \n",
      "                                                                                                  \n",
      " add_5 (Add)                    (None, 1842, 128)    0           ['conv1d_6[0][0]',               \n",
      "                                                                  'cropping1d_5[0][0]']           \n",
      "                                                                                                  \n",
      " conv1d_7 (Conv1D)              (None, 1586, 128)    49280       ['add_5[0][0]']                  \n",
      "                                                                                                  \n",
      " cropping1d_6 (Cropping1D)      (None, 1586, 128)    0           ['add_5[0][0]']                  \n",
      "                                                                                                  \n",
      " add_6 (Add)                    (None, 1586, 128)    0           ['conv1d_7[0][0]',               \n",
      "                                                                  'cropping1d_6[0][0]']           \n",
      "                                                                                                  \n",
      " conv1d_8 (Conv1D)              (None, 1074, 128)    49280       ['add_6[0][0]']                  \n",
      "                                                                                                  \n",
      " cropping1d_7 (Cropping1D)      (None, 1074, 128)    0           ['add_6[0][0]']                  \n",
      "                                                                                                  \n",
      " add_7 (Add)                    (None, 1074, 128)    0           ['conv1d_8[0][0]',               \n",
      "                                                                  'cropping1d_7[0][0]']           \n",
      "                                                                                                  \n",
      " conv1d_9 (Conv1D)              (None, 1000, 1)      9601        ['add_7[0][0]']                  \n",
      "                                                                                                  \n",
      " global_average_pooling1d (Glob  (None, 128)         0           ['add_7[0][0]']                  \n",
      " alAveragePooling1D)                                                                              \n",
      "                                                                                                  \n",
      " logits (Flatten)               (None, 1000)         0           ['conv1d_9[0][0]']               \n",
      "                                                                                                  \n",
      " logcounts (Dense)              (None, 1)            129         ['global_average_pooling1d[0][0]'\n",
      "                                                                 ]                                \n",
      "                                                                                                  \n",
      "==================================================================================================\n",
      "Total params: 414,850\n",
      "Trainable params: 414,850\n",
      "Non-trainable params: 0\n",
      "__________________________________________________________________________________________________\n",
      "Predicting within adjust counts\n",
      "4296/4296 [==============================] - 71s 15ms/step\n",
      "got the model\n",
      "loading peaks...\n",
      "got split:test for bed regions:(17537, 10)\n",
      "0/275\n",
      "100/275\n",
      "200/275\n",
      "No artists with labels found to put in legend.  Note that artists whose label start with an underscore are ignored when legend() is called with no argument.\n",
      "Bias model pearsonr performance in peaks is: 0.5\n",
      "{'counts_loss_weight': '17.3', 'filters': '512', 'n_dil_layers': '8', 'bias_model_path': 'modelv1_fold1/chrombpnet_model/models/bias_model_scaled.h5', 'inputlen': '2114', 'outputlen': '1000', 'max_jitter': '500', 'chr_fold_path': 'encode_data/splits/fold_1.json', 'negative_sampling_ratio': '0.1'}\n",
      "got the model\n",
      "loading peaks...\n",
      "got split:train for bed regions:(63273, 10)\n",
      "loading nonpeaks...\n",
      "got split:train for bed regions:(63153, 10)\n",
      "loading peaks...\n",
      "got split:valid for bed regions:(8366, 10)\n",
      "loading nonpeaks...\n",
      "got split:valid for bed regions:(8486, 10)\n",
      "Epoch 1/50\n",
      "   6/1088 [..............................] - ETA: 10:45 - loss: 5744.3379 - logits_profile_predictions_loss: 472.2982 - logcount_predictions_loss: 304.7422WARNING:tensorflow:Callback method `on_train_batch_end` is slow compared to the batch time (batch time: 0.2375s vs `on_train_batch_end` time: 0.2997s). Check your callbacks.\n",
      "1088/1088 [==============================] - ETA: 0s - loss: 475.0733 - logits_profile_predictions_loss: 421.3207 - logcount_predictions_loss: 3.107189365\n",
      "Epoch 1: val_loss improved from inf to 492.17593, saving model to modelv1_fold1/chrombpnet_model/models/chrombpnet.h5\n",
      "1088/1088 [==============================] - 697s 633ms/step - loss: 475.0733 - logits_profile_predictions_loss: 421.3207 - logcount_predictions_loss: 3.1071 - val_loss: 492.1759 - val_logits_profile_predictions_loss: 472.8204 - val_logcount_predictions_loss: 1.1188\n",
      "Epoch 2/50\n",
      "1088/1088 [==============================] - ETA: 0s - loss: 415.9290 - logits_profile_predictions_loss: 397.7438 - logcount_predictions_loss: 1.051271\n",
      "Epoch 2: val_loss improved from 492.17593 to 469.77811, saving model to modelv1_fold1/chrombpnet_model/models/chrombpnet.h5\n",
      "1088/1088 [==============================] - 686s 631ms/step - loss: 415.9290 - logits_profile_predictions_loss: 397.7438 - logcount_predictions_loss: 1.0512 - val_loss: 469.7781 - val_logits_profile_predictions_loss: 454.1811 - val_logcount_predictions_loss: 0.9016\n",
      "Epoch 3/50\n",
      "1088/1088 [==============================] - ETA: 0s - loss: 403.6633 - logits_profile_predictions_loss: 387.1536 - logcount_predictions_loss: 0.954375\n",
      "Epoch 3: val_loss improved from 469.77811 to 465.62363, saving model to modelv1_fold1/chrombpnet_model/models/chrombpnet.h5\n",
      "1088/1088 [==============================] - 686s 631ms/step - loss: 403.6633 - logits_profile_predictions_loss: 387.1536 - logcount_predictions_loss: 0.9543 - val_loss: 465.6236 - val_logits_profile_predictions_loss: 448.6875 - val_logcount_predictions_loss: 0.9790\n",
      "Epoch 4/50\n",
      "1088/1088 [==============================] - ETA: 0s - loss: 398.0213 - logits_profile_predictions_loss: 382.4915 - logcount_predictions_loss: 0.897631\n",
      "Epoch 4: val_loss improved from 465.62363 to 458.57141, saving model to modelv1_fold1/chrombpnet_model/models/chrombpnet.h5\n",
      "1088/1088 [==============================] - 686s 631ms/step - loss: 398.0213 - logits_profile_predictions_loss: 382.4915 - logcount_predictions_loss: 0.8976 - val_loss: 458.5714 - val_logits_profile_predictions_loss: 444.6866 - val_logcount_predictions_loss: 0.8026\n",
      "Epoch 5/50\n",
      "1088/1088 [==============================] - ETA: 0s - loss: 395.0540 - logits_profile_predictions_loss: 380.0266 - logcount_predictions_loss: 0.868670\n",
      "Epoch 5: val_loss improved from 458.57141 to 455.83875, saving model to modelv1_fold1/chrombpnet_model/models/chrombpnet.h5\n",
      "1088/1088 [==============================] - 686s 630ms/step - loss: 395.0540 - logits_profile_predictions_loss: 380.0266 - logcount_predictions_loss: 0.8686 - val_loss: 455.8387 - val_logits_profile_predictions_loss: 442.2338 - val_logcount_predictions_loss: 0.7864\n",
      "Epoch 6/50\n",
      " 925/1088 [========================>.....] - ETA: 1:37 - loss: 392.8495 - logits_profile_predictions_loss: 378.3177 - logcount_predictions_loss: 0.8404\r"
     ]
    }
   ],
   "source": [
    "chrombpnet pipeline \\\n",
    "        -ibam enterocytes_species/enterocyte_human_sorted_filtered.bam \\\n",
    "        -d \"ATAC\" \\\n",
    "        -g encode_data/hg38.fa \\\n",
    "        -c encode_data/hg38.chrom.sizes \\\n",
    "        -p called_peaks/peaks_no_blacklist.bed \\\n",
    "        -n modelv1_fold1/output_negatives.bed \\\n",
    "        -fl encode_data/splits/fold_1.json \\\n",
    "        -b bias_model/scATAC_dermal_fibroblast.h5 \\\n",
    "        -o modelv1_fold1/chrombpnet_model/"
   ]
  },
  {
   "cell_type": "code",
   "execution_count": null,
   "id": "b2858da1-d044-4ee1-a3f1-e13e437ce8c2",
   "metadata": {},
   "outputs": [
    {
     "name": "stdout",
     "output_type": "stream",
     "text": [
      "Estimating enzyme shift in input file\n",
      "/cluster/home/jjanssens/.local/lib/python3.10/site-packages/chrombpnet/helpers/preprocessing/auto_shift_detect.py:108: UserWarning: \u001b[31m!!! WARNING: Input reads contain chromosomes not in the reference genome fasta provided. Please ensure you are using the correct reference genome. If you are confident you are using the correct reference genome, you can safely ignore this message.\u001b[0m\n",
      "  warnings.warn(colored(msg, 'red'))\n",
      "Current estimated shift: +0/+0\n",
      "awk -v OFS=\"\\t\" '{if ($6==\"+\"){print $1,$2+4,$3,$4,$5,$6} else if ($6==\"-\") {print $1,$2,$3-4,$4,$5,$6}}' | sort -k1,1 | bedtools genomecov -bg -5 -i stdin -g encode_data/hg38.chrom.sizes | LC_COLLATE=\"C\" sort -k1,1 -k2,2n \n",
      "Making BedGraph (Filter chromosomes not in reference fasta)\n",
      "Making Bigwig\n",
      "non zero bigwig entries in the given chromosome:  1225209\n",
      "evaluating hyperparameters on the following chromosomes ['chr1', 'chr2', 'chr3', 'chr5', 'chr6', 'chr8', 'chr9', 'chr10', 'chr13', 'chr14', 'chr16', 'chr17', 'chr18', 'chr19', 'chr20', 'chr21', 'chrX', 'chr22', 'chr7']\n",
      "Number of peaks input:  72456\n",
      "Number of peaks filtered because the input/output is on the edge:  0\n",
      "Number of peaks being used:  72456\n",
      "Number of peaks input:  16728\n",
      "Number of peaks filtered because the input/output is on the edge:  0\n",
      "Number of peaks being used:  16728\n",
      "Number of non peaks input:  144912\n",
      "Number of non peaks filtered because the input/output is on the edge:  0\n",
      "Number of non peaks being used:  144912\n",
      "Number of non peaks input:  16728\n",
      "Number of non peaks filtered because the input/output is on the edge:  0\n",
      "Number of non peaks being used:  16728\n",
      "Number of peaks after removing outliers:  72448\n",
      "Number of nonpeaks after removing outliers:  139277\n",
      "got the model\n",
      "Model: \"model\"\n",
      "__________________________________________________________________________________________________\n",
      " Layer (type)                   Output Shape         Param #     Connected to                     \n",
      "==================================================================================================\n",
      " input_1 (InputLayer)           [(None, 2114, 4)]    0           []                               \n",
      "                                                                                                  \n",
      " conv1d (Conv1D)                (None, 2094, 128)    10880       ['input_1[0][0]']                \n",
      "                                                                                                  \n",
      " conv1d_1 (Conv1D)              (None, 2090, 128)    49280       ['conv1d[0][0]']                 \n",
      "                                                                                                  \n",
      " cropping1d (Cropping1D)        (None, 2090, 128)    0           ['conv1d[0][0]']                 \n",
      "                                                                                                  \n",
      " add (Add)                      (None, 2090, 128)    0           ['conv1d_1[0][0]',               \n",
      "                                                                  'cropping1d[0][0]']             \n",
      "                                                                                                  \n",
      " conv1d_2 (Conv1D)              (None, 2082, 128)    49280       ['add[0][0]']                    \n",
      "                                                                                                  \n",
      " cropping1d_1 (Cropping1D)      (None, 2082, 128)    0           ['add[0][0]']                    \n",
      "                                                                                                  \n",
      " add_1 (Add)                    (None, 2082, 128)    0           ['conv1d_2[0][0]',               \n",
      "                                                                  'cropping1d_1[0][0]']           \n",
      "                                                                                                  \n",
      " conv1d_3 (Conv1D)              (None, 2066, 128)    49280       ['add_1[0][0]']                  \n",
      "                                                                                                  \n",
      " cropping1d_2 (Cropping1D)      (None, 2066, 128)    0           ['add_1[0][0]']                  \n",
      "                                                                                                  \n",
      " add_2 (Add)                    (None, 2066, 128)    0           ['conv1d_3[0][0]',               \n",
      "                                                                  'cropping1d_2[0][0]']           \n",
      "                                                                                                  \n",
      " conv1d_4 (Conv1D)              (None, 2034, 128)    49280       ['add_2[0][0]']                  \n",
      "                                                                                                  \n",
      " cropping1d_3 (Cropping1D)      (None, 2034, 128)    0           ['add_2[0][0]']                  \n",
      "                                                                                                  \n",
      " add_3 (Add)                    (None, 2034, 128)    0           ['conv1d_4[0][0]',               \n",
      "                                                                  'cropping1d_3[0][0]']           \n",
      "                                                                                                  \n",
      " conv1d_5 (Conv1D)              (None, 1970, 128)    49280       ['add_3[0][0]']                  \n",
      "                                                                                                  \n",
      " cropping1d_4 (Cropping1D)      (None, 1970, 128)    0           ['add_3[0][0]']                  \n",
      "                                                                                                  \n",
      " add_4 (Add)                    (None, 1970, 128)    0           ['conv1d_5[0][0]',               \n",
      "                                                                  'cropping1d_4[0][0]']           \n",
      "                                                                                                  \n",
      " conv1d_6 (Conv1D)              (None, 1842, 128)    49280       ['add_4[0][0]']                  \n",
      "                                                                                                  \n",
      " cropping1d_5 (Cropping1D)      (None, 1842, 128)    0           ['add_4[0][0]']                  \n",
      "                                                                                                  \n",
      " add_5 (Add)                    (None, 1842, 128)    0           ['conv1d_6[0][0]',               \n",
      "                                                                  'cropping1d_5[0][0]']           \n",
      "                                                                                                  \n",
      " conv1d_7 (Conv1D)              (None, 1586, 128)    49280       ['add_5[0][0]']                  \n",
      "                                                                                                  \n",
      " cropping1d_6 (Cropping1D)      (None, 1586, 128)    0           ['add_5[0][0]']                  \n",
      "                                                                                                  \n",
      " add_6 (Add)                    (None, 1586, 128)    0           ['conv1d_7[0][0]',               \n",
      "                                                                  'cropping1d_6[0][0]']           \n",
      "                                                                                                  \n",
      " conv1d_8 (Conv1D)              (None, 1074, 128)    49280       ['add_6[0][0]']                  \n",
      "                                                                                                  \n",
      " cropping1d_7 (Cropping1D)      (None, 1074, 128)    0           ['add_6[0][0]']                  \n",
      "                                                                                                  \n",
      " add_7 (Add)                    (None, 1074, 128)    0           ['conv1d_8[0][0]',               \n",
      "                                                                  'cropping1d_7[0][0]']           \n",
      "                                                                                                  \n",
      " conv1d_9 (Conv1D)              (None, 1000, 1)      9601        ['add_7[0][0]']                  \n",
      "                                                                                                  \n",
      " global_average_pooling1d (Glob  (None, 128)         0           ['add_7[0][0]']                  \n",
      " alAveragePooling1D)                                                                              \n",
      "                                                                                                  \n",
      " logits (Flatten)               (None, 1000)         0           ['conv1d_9[0][0]']               \n",
      "                                                                                                  \n",
      " logcounts (Dense)              (None, 1)            129         ['global_average_pooling1d[0][0]'\n",
      "                                                                 ]                                \n",
      "                                                                                                  \n",
      "==================================================================================================\n",
      "Total params: 414,850\n",
      "Trainable params: 414,850\n",
      "Non-trainable params: 0\n",
      "__________________________________________________________________________________________________\n",
      "Predicting within adjust counts\n",
      "4353/4353 [==============================] - 64s 15ms/step\n",
      "got the model\n",
      "loading peaks...\n",
      "got split:test for bed regions:(16728, 10)\n",
      "0/262\n",
      "100/262\n",
      "200/262\n",
      "No artists with labels found to put in legend.  Note that artists whose label start with an underscore are ignored when legend() is called with no argument.\n",
      "Bias model pearsonr performance in peaks is: 0.49\n",
      "{'counts_loss_weight': '17.4', 'filters': '512', 'n_dil_layers': '8', 'bias_model_path': 'modelv1_fold2/chrombpnet_model/models/bias_model_scaled.h5', 'inputlen': '2114', 'outputlen': '1000', 'max_jitter': '500', 'chr_fold_path': 'encode_data/splits/fold_2.json', 'negative_sampling_ratio': '0.1'}\n",
      "got the model\n",
      "loading peaks...\n",
      "got split:train for bed regions:(66142, 10)\n",
      "loading nonpeaks...\n",
      "got split:train for bed regions:(66158, 10)\n",
      "loading peaks...\n",
      "got split:valid for bed regions:(6306, 10)\n",
      "loading nonpeaks...\n",
      "got split:valid for bed regions:(6290, 10)\n",
      "Epoch 1/50\n",
      "1090/1137 [===========================>..] - ETA: 28s - loss: 504.9824 - logits_profile_predictions_loss: 423.2509 - logcount_predictions_loss: 4.694887\r"
     ]
    }
   ],
   "source": [
    "chrombpnet pipeline \\\n",
    "        -ibam enterocytes_species/enterocyte_human_sorted_filtered.bam \\\n",
    "        -d \"ATAC\" \\\n",
    "        -g encode_data/hg38.fa \\\n",
    "        -c encode_data/hg38.chrom.sizes \\\n",
    "        -p called_peaks/peaks_no_blacklist.bed \\\n",
    "        -n modelv1_fold2/output_negatives.bed \\\n",
    "        -fl encode_data/splits/fold_2.json \\\n",
    "        -b bias_model/scATAC_dermal_fibroblast.h5 \\\n",
    "        -o modelv1_fold2/chrombpnet_model/"
   ]
  },
  {
   "cell_type": "code",
   "execution_count": null,
   "id": "8ec67fea-7459-4389-b857-31b66af8fe3a",
   "metadata": {},
   "outputs": [],
   "source": [
    "rm -r modelv1_fold4/chrombpnet_model"
   ]
  },
  {
   "cell_type": "code",
   "execution_count": null,
   "id": "2218cbf0-f94c-4533-bccf-2f27d5a9f58a",
   "metadata": {},
   "outputs": [
    {
     "name": "stdout",
     "output_type": "stream",
     "text": [
      "Making Bigwig\n",
      "non zero bigwig entries in the given chromosome:  2552433\n",
      "evaluating hyperparameters on the following chromosomes ['chr1', 'chr2', 'chr3', 'chr4', 'chr5', 'chr6', 'chr8', 'chr9', 'chr11', 'chr12', 'chr14', 'chr15', 'chr16', 'chr20', 'chr22', 'chrY', 'chr10', 'chr18']\n",
      "Number of peaks input:  72035\n",
      "Number of peaks filtered because the input/output is on the edge:  0\n",
      "Number of peaks being used:  72035\n",
      "Number of peaks input:  17149\n",
      "Number of peaks filtered because the input/output is on the edge:  0\n",
      "Number of peaks being used:  17149\n",
      "Number of non peaks input:  144070\n",
      "Number of non peaks filtered because the input/output is on the edge:  0\n",
      "Number of non peaks being used:  144070\n",
      "Number of non peaks input:  17149\n",
      "Number of non peaks filtered because the input/output is on the edge:  0\n",
      "Number of non peaks being used:  17149\n",
      "Number of peaks after removing outliers:  72027\n",
      "Number of nonpeaks after removing outliers:  138302\n",
      "got the model\n",
      "Model: \"model\"\n",
      "__________________________________________________________________________________________________\n",
      " Layer (type)                   Output Shape         Param #     Connected to                     \n",
      "==================================================================================================\n",
      " input_1 (InputLayer)           [(None, 2114, 4)]    0           []                               \n",
      "                                                                                                  \n",
      " conv1d (Conv1D)                (None, 2094, 128)    10880       ['input_1[0][0]']                \n",
      "                                                                                                  \n",
      " conv1d_1 (Conv1D)              (None, 2090, 128)    49280       ['conv1d[0][0]']                 \n",
      "                                                                                                  \n",
      " cropping1d (Cropping1D)        (None, 2090, 128)    0           ['conv1d[0][0]']                 \n",
      "                                                                                                  \n",
      " add (Add)                      (None, 2090, 128)    0           ['conv1d_1[0][0]',               \n",
      "                                                                  'cropping1d[0][0]']             \n",
      "                                                                                                  \n",
      " conv1d_2 (Conv1D)              (None, 2082, 128)    49280       ['add[0][0]']                    \n",
      "                                                                                                  \n",
      " cropping1d_1 (Cropping1D)      (None, 2082, 128)    0           ['add[0][0]']                    \n",
      "                                                                                                  \n",
      " add_1 (Add)                    (None, 2082, 128)    0           ['conv1d_2[0][0]',               \n",
      "                                                                  'cropping1d_1[0][0]']           \n",
      "                                                                                                  \n",
      " conv1d_3 (Conv1D)              (None, 2066, 128)    49280       ['add_1[0][0]']                  \n",
      "                                                                                                  \n",
      " cropping1d_2 (Cropping1D)      (None, 2066, 128)    0           ['add_1[0][0]']                  \n",
      "                                                                                                  \n",
      " add_2 (Add)                    (None, 2066, 128)    0           ['conv1d_3[0][0]',               \n",
      "                                                                  'cropping1d_2[0][0]']           \n",
      "                                                                                                  \n",
      " conv1d_4 (Conv1D)              (None, 2034, 128)    49280       ['add_2[0][0]']                  \n",
      "                                                                                                  \n",
      " cropping1d_3 (Cropping1D)      (None, 2034, 128)    0           ['add_2[0][0]']                  \n",
      "                                                                                                  \n",
      " add_3 (Add)                    (None, 2034, 128)    0           ['conv1d_4[0][0]',               \n",
      "                                                                  'cropping1d_3[0][0]']           \n",
      "                                                                                                  \n",
      " conv1d_5 (Conv1D)              (None, 1970, 128)    49280       ['add_3[0][0]']                  \n",
      "                                                                                                  \n",
      " cropping1d_4 (Cropping1D)      (None, 1970, 128)    0           ['add_3[0][0]']                  \n",
      "                                                                                                  \n",
      " add_4 (Add)                    (None, 1970, 128)    0           ['conv1d_5[0][0]',               \n",
      "                                                                  'cropping1d_4[0][0]']           \n",
      "                                                                                                  \n",
      " conv1d_6 (Conv1D)              (None, 1842, 128)    49280       ['add_4[0][0]']                  \n",
      "                                                                                                  \n",
      " cropping1d_5 (Cropping1D)      (None, 1842, 128)    0           ['add_4[0][0]']                  \n",
      "                                                                                                  \n",
      " add_5 (Add)                    (None, 1842, 128)    0           ['conv1d_6[0][0]',               \n",
      "                                                                  'cropping1d_5[0][0]']           \n",
      "                                                                                                  \n",
      " conv1d_7 (Conv1D)              (None, 1586, 128)    49280       ['add_5[0][0]']                  \n",
      "                                                                                                  \n",
      " cropping1d_6 (Cropping1D)      (None, 1586, 128)    0           ['add_5[0][0]']                  \n",
      "                                                                                                  \n",
      " add_6 (Add)                    (None, 1586, 128)    0           ['conv1d_7[0][0]',               \n",
      "                                                                  'cropping1d_6[0][0]']           \n",
      "                                                                                                  \n",
      " conv1d_8 (Conv1D)              (None, 1074, 128)    49280       ['add_6[0][0]']                  \n",
      "                                                                                                  \n",
      " cropping1d_7 (Cropping1D)      (None, 1074, 128)    0           ['add_6[0][0]']                  \n",
      "                                                                                                  \n",
      " add_7 (Add)                    (None, 1074, 128)    0           ['conv1d_8[0][0]',               \n",
      "                                                                  'cropping1d_7[0][0]']           \n",
      "                                                                                                  \n",
      " conv1d_9 (Conv1D)              (None, 1000, 1)      9601        ['add_7[0][0]']                  \n",
      "                                                                                                  \n",
      " global_average_pooling1d (Glob  (None, 128)         0           ['add_7[0][0]']                  \n",
      " alAveragePooling1D)                                                                              \n",
      "                                                                                                  \n",
      " logits (Flatten)               (None, 1000)         0           ['conv1d_9[0][0]']               \n",
      "                                                                                                  \n",
      " logcounts (Dense)              (None, 1)            129         ['global_average_pooling1d[0][0]'\n",
      "                                                                 ]                                \n",
      "                                                                                                  \n",
      "==================================================================================================\n",
      "Total params: 414,850\n",
      "Trainable params: 414,850\n",
      "Non-trainable params: 0\n",
      "__________________________________________________________________________________________________\n",
      "Predicting within adjust counts\n",
      "4322/4322 [==============================] - 63s 15ms/step\n",
      "got the model\n",
      "loading peaks...\n",
      "got split:test for bed regions:(17149, 10)\n",
      "0/268\n",
      "100/268\n",
      "200/268\n",
      "1134/1134 [==============================] - ETA: 0s - loss: 480.2523 - logits_profile_predictions_loss: 420.1787 - logcount_predictions_loss: 3.55472987\n",
      "Epoch 1: val_loss improved from inf to 436.14346, saving model to modelv1_fold4/chrombpnet_model/models/chrombpnet.h5\n",
      "1134/1134 [==============================] - 709s 619ms/step - loss: 480.2523 - logits_profile_predictions_loss: 420.1787 - logcount_predictions_loss: 3.5547 - val_loss: 436.1435 - val_logits_profile_predictions_loss: 416.9634 - val_logcount_predictions_loss: 1.1349\n",
      "Epoch 2/50\n",
      "1134/1134 [==============================] - ETA: 0s - loss: 414.7320 - logits_profile_predictions_loss: 396.8138 - logcount_predictions_loss: 1.060341\n",
      "Epoch 2: val_loss improved from 436.14346 to 417.84616, saving model to modelv1_fold4/chrombpnet_model/models/chrombpnet.h5\n",
      "1134/1134 [==============================] - 701s 618ms/step - loss: 414.7320 - logits_profile_predictions_loss: 396.8138 - logcount_predictions_loss: 1.0603 - val_loss: 417.8462 - val_logits_profile_predictions_loss: 400.8342 - val_logcount_predictions_loss: 1.0066\n",
      "Epoch 3/50\n",
      "1134/1134 [==============================] - ETA: 0s - loss: 403.0411 - logits_profile_predictions_loss: 386.5715 - logcount_predictions_loss: 0.974539\n",
      "Epoch 3: val_loss improved from 417.84616 to 412.62311, saving model to modelv1_fold4/chrombpnet_model/models/chrombpnet.h5\n",
      "1134/1134 [==============================] - 702s 619ms/step - loss: 403.0411 - logits_profile_predictions_loss: 386.5715 - logcount_predictions_loss: 0.9745 - val_loss: 412.6231 - val_logits_profile_predictions_loss: 395.8302 - val_logcount_predictions_loss: 0.9937\n",
      "Epoch 4/50\n",
      "1134/1134 [==============================] - ETA: 0s - loss: 397.4995 - logits_profile_predictions_loss: 382.0552 - logcount_predictions_loss: 0.913952\n",
      "Epoch 4: val_loss improved from 412.62311 to 407.78149, saving model to modelv1_fold4/chrombpnet_model/models/chrombpnet.h5\n",
      "1134/1134 [==============================] - 702s 619ms/step - loss: 397.4995 - logits_profile_predictions_loss: 382.0552 - logcount_predictions_loss: 0.9139 - val_loss: 407.7815 - val_logits_profile_predictions_loss: 393.1559 - val_logcount_predictions_loss: 0.8654\n",
      "Epoch 5/50\n",
      "1134/1134 [==============================] - ETA: 0s - loss: 394.3669 - logits_profile_predictions_loss: 379.5158 - logcount_predictions_loss: 0.878894\n",
      "Epoch 5: val_loss improved from 407.78149 to 405.37402, saving model to modelv1_fold4/chrombpnet_model/models/chrombpnet.h5\n",
      "1134/1134 [==============================] - 701s 618ms/step - loss: 394.3669 - logits_profile_predictions_loss: 379.5158 - logcount_predictions_loss: 0.8788 - val_loss: 405.3740 - val_logits_profile_predictions_loss: 391.0589 - val_logcount_predictions_loss: 0.8471\n",
      "Epoch 6/50\n",
      "1134/1134 [==============================] - ETA: 0s - loss: 391.1820 - logits_profile_predictions_loss: 377.0460 - logcount_predictions_loss: 0.836481\n",
      "Epoch 6: val_loss improved from 405.37402 to 403.82883, saving model to modelv1_fold4/chrombpnet_model/models/chrombpnet.h5\n",
      "1134/1134 [==============================] - 700s 618ms/step - loss: 391.1820 - logits_profile_predictions_loss: 377.0460 - logcount_predictions_loss: 0.8364 - val_loss: 403.8288 - val_logits_profile_predictions_loss: 390.0253 - val_logcount_predictions_loss: 0.8168\n",
      "Epoch 7/50\n",
      "1134/1134 [==============================] - ETA: 0s - loss: 388.7586 - logits_profile_predictions_loss: 375.2503 - logcount_predictions_loss: 0.799301\n",
      "Epoch 7: val_loss did not improve from 403.82883\n",
      "1134/1134 [==============================] - 700s 617ms/step - loss: 388.7586 - logits_profile_predictions_loss: 375.2503 - logcount_predictions_loss: 0.7993 - val_loss: 406.7244 - val_logits_profile_predictions_loss: 390.5945 - val_logcount_predictions_loss: 0.9544\n",
      "Epoch 8/50\n",
      "1134/1134 [==============================] - ETA: 0s - loss: 387.0799 - logits_profile_predictions_loss: 374.2066 - logcount_predictions_loss: 0.761720\n",
      "Epoch 8: val_loss improved from 403.82883 to 399.93179, saving model to modelv1_fold4/chrombpnet_model/models/chrombpnet.h5\n",
      "1134/1134 [==============================] - 700s 617ms/step - loss: 387.0799 - logits_profile_predictions_loss: 374.2066 - logcount_predictions_loss: 0.7617 - val_loss: 399.9318 - val_logits_profile_predictions_loss: 387.5128 - val_logcount_predictions_loss: 0.7349\n",
      "Epoch 9/50\n",
      "1134/1134 [==============================] - ETA: 0s - loss: 385.1210 - logits_profile_predictions_loss: 372.6927 - logcount_predictions_loss: 0.735412\n",
      "Epoch 9: val_loss improved from 399.93179 to 399.34631, saving model to modelv1_fold4/chrombpnet_model/models/chrombpnet.h5\n",
      "1134/1134 [==============================] - 699s 617ms/step - loss: 385.1210 - logits_profile_predictions_loss: 372.6927 - logcount_predictions_loss: 0.7354 - val_loss: 399.3463 - val_logits_profile_predictions_loss: 386.9645 - val_logcount_predictions_loss: 0.7327\n",
      "Epoch 10/50\n",
      "1134/1134 [==============================] - ETA: 0s - loss: 383.8282 - logits_profile_predictions_loss: 371.4711 - logcount_predictions_loss: 0.731238\n",
      "Epoch 10: val_loss improved from 399.34631 to 397.83102, saving model to modelv1_fold4/chrombpnet_model/models/chrombpnet.h5\n",
      "1134/1134 [==============================] - 699s 616ms/step - loss: 383.8282 - logits_profile_predictions_loss: 371.4711 - logcount_predictions_loss: 0.7312 - val_loss: 397.8310 - val_logits_profile_predictions_loss: 385.8915 - val_logcount_predictions_loss: 0.7065\n",
      "Epoch 11/50\n",
      "1134/1134 [==============================] - ETA: 0s - loss: 381.9938 - logits_profile_predictions_loss: 370.3000 - logcount_predictions_loss: 0.691903\n",
      "Epoch 11: val_loss improved from 397.83102 to 397.77121, saving model to modelv1_fold4/chrombpnet_model/models/chrombpnet.h5\n",
      "1134/1134 [==============================] - 699s 616ms/step - loss: 381.9938 - logits_profile_predictions_loss: 370.3000 - logcount_predictions_loss: 0.6919 - val_loss: 397.7712 - val_logits_profile_predictions_loss: 386.0429 - val_logcount_predictions_loss: 0.6940\n",
      "Epoch 12/50\n",
      "1134/1134 [==============================] - ETA: 0s - loss: 381.2074 - logits_profile_predictions_loss: 369.7435 - logcount_predictions_loss: 0.678376\n",
      "Epoch 12: val_loss did not improve from 397.77121\n",
      "1134/1134 [==============================] - 699s 616ms/step - loss: 381.2074 - logits_profile_predictions_loss: 369.7435 - logcount_predictions_loss: 0.6783 - val_loss: 399.0880 - val_logits_profile_predictions_loss: 385.3919 - val_logcount_predictions_loss: 0.8104\n",
      "Epoch 13/50\n",
      "1134/1134 [==============================] - ETA: 0s - loss: 380.0803 - logits_profile_predictions_loss: 368.8617 - logcount_predictions_loss: 0.663882\n",
      "Epoch 13: val_loss improved from 397.77121 to 396.89392, saving model to modelv1_fold4/chrombpnet_model/models/chrombpnet.h5\n",
      "1134/1134 [==============================] - 699s 616ms/step - loss: 380.0803 - logits_profile_predictions_loss: 368.8617 - logcount_predictions_loss: 0.6638 - val_loss: 396.8939 - val_logits_profile_predictions_loss: 385.1120 - val_logcount_predictions_loss: 0.6972\n",
      "Epoch 14/50\n",
      "1134/1134 [==============================] - ETA: 0s - loss: 378.6818 - logits_profile_predictions_loss: 367.8185 - logcount_predictions_loss: 0.642847\n",
      "Epoch 14: val_loss did not improve from 396.89392\n",
      "1134/1134 [==============================] - 699s 616ms/step - loss: 378.6818 - logits_profile_predictions_loss: 367.8185 - logcount_predictions_loss: 0.6428 - val_loss: 398.4956 - val_logits_profile_predictions_loss: 385.2943 - val_logcount_predictions_loss: 0.7811\n",
      "Epoch 15/50\n",
      "1134/1134 [==============================] - ETA: 0s - loss: 378.0866 - logits_profile_predictions_loss: 367.3688 - logcount_predictions_loss: 0.634247\n",
      "Epoch 15: val_loss did not improve from 396.89392\n",
      "1134/1134 [==============================] - 699s 616ms/step - loss: 378.0866 - logits_profile_predictions_loss: 367.3688 - logcount_predictions_loss: 0.6342 - val_loss: 396.9781 - val_logits_profile_predictions_loss: 385.1278 - val_logcount_predictions_loss: 0.7012\n",
      "Epoch 16/50\n",
      "1134/1134 [==============================] - ETA: 0s - loss: 377.1889 - logits_profile_predictions_loss: 366.8745 - logcount_predictions_loss: 0.610311\n",
      "Epoch 16: val_loss improved from 396.89392 to 396.16040, saving model to modelv1_fold4/chrombpnet_model/models/chrombpnet.h5\n",
      "1134/1134 [==============================] - 699s 617ms/step - loss: 377.1889 - logits_profile_predictions_loss: 366.8745 - logcount_predictions_loss: 0.6103 - val_loss: 396.1604 - val_logits_profile_predictions_loss: 384.9027 - val_logcount_predictions_loss: 0.6661\n",
      "Epoch 17/50\n",
      "1134/1134 [==============================] - ETA: 0s - loss: 376.0224 - logits_profile_predictions_loss: 366.1875 - logcount_predictions_loss: 0.582094\n",
      "Epoch 17: val_loss did not improve from 396.16040\n",
      "1134/1134 [==============================] - 699s 616ms/step - loss: 376.0224 - logits_profile_predictions_loss: 366.1875 - logcount_predictions_loss: 0.5820 - val_loss: 396.5697 - val_logits_profile_predictions_loss: 384.6216 - val_logcount_predictions_loss: 0.7070\n",
      "Epoch 18/50\n",
      "1134/1134 [==============================] - ETA: 0s - loss: 375.2940 - logits_profile_predictions_loss: 365.4117 - logcount_predictions_loss: 0.584734\n",
      "Epoch 18: val_loss did not improve from 396.16040\n",
      "1134/1134 [==============================] - 699s 617ms/step - loss: 375.2940 - logits_profile_predictions_loss: 365.4117 - logcount_predictions_loss: 0.5847 - val_loss: 396.4980 - val_logits_profile_predictions_loss: 384.7490 - val_logcount_predictions_loss: 0.6952\n",
      "Epoch 19/50\n",
      "1134/1134 [==============================] - ETA: 0s - loss: 374.3694 - logits_profile_predictions_loss: 364.9881 - logcount_predictions_loss: 0.555159\n",
      "Epoch 19: val_loss improved from 396.16040 to 395.96002, saving model to modelv1_fold4/chrombpnet_model/models/chrombpnet.h5\n",
      "1134/1134 [==============================] - 699s 616ms/step - loss: 374.3694 - logits_profile_predictions_loss: 364.9881 - logcount_predictions_loss: 0.5551 - val_loss: 395.9600 - val_logits_profile_predictions_loss: 384.9000 - val_logcount_predictions_loss: 0.6544\n",
      "Epoch 20/50\n",
      "1134/1134 [==============================] - ETA: 0s - loss: 373.9189 - logits_profile_predictions_loss: 364.6333 - logcount_predictions_loss: 0.549491\n",
      "Epoch 20: val_loss improved from 395.96002 to 395.80087, saving model to modelv1_fold4/chrombpnet_model/models/chrombpnet.h5\n",
      "1134/1134 [==============================] - 699s 617ms/step - loss: 373.9189 - logits_profile_predictions_loss: 364.6333 - logcount_predictions_loss: 0.5494 - val_loss: 395.8009 - val_logits_profile_predictions_loss: 384.8787 - val_logcount_predictions_loss: 0.6463\n",
      "Epoch 21/50\n",
      "1134/1134 [==============================] - ETA: 0s - loss: 372.9958 - logits_profile_predictions_loss: 364.1195 - logcount_predictions_loss: 0.525267\n",
      "Epoch 21: val_loss did not improve from 395.80087\n",
      "1134/1134 [==============================] - 699s 617ms/step - loss: 372.9958 - logits_profile_predictions_loss: 364.1195 - logcount_predictions_loss: 0.5252 - val_loss: 396.5793 - val_logits_profile_predictions_loss: 384.6821 - val_logcount_predictions_loss: 0.7040\n",
      "Epoch 22/50\n",
      "1134/1134 [==============================] - ETA: 0s - loss: 372.4601 - logits_profile_predictions_loss: 363.8337 - logcount_predictions_loss: 0.510466\n",
      "Epoch 22: val_loss did not improve from 395.80087\n",
      "1134/1134 [==============================] - 700s 617ms/step - loss: 372.4601 - logits_profile_predictions_loss: 363.8337 - logcount_predictions_loss: 0.5104 - val_loss: 395.9686 - val_logits_profile_predictions_loss: 384.8592 - val_logcount_predictions_loss: 0.6574\n",
      "Epoch 23/50\n",
      " 603/1134 [==============>...............] - ETA: 5:15 - loss: 371.0517 - logits_profile_predictions_loss: 362.6997 - logcount_predictions_loss: 0.4940\r"
     ]
    }
   ],
   "source": [
    "chrombpnet pipeline \\\n",
    "        -ibam enterocytes_species/enterocyte_human_sorted_filtered.bam \\\n",
    "        -d \"ATAC\" \\\n",
    "        -g encode_data/hg38.fa \\\n",
    "        -c encode_data/hg38.chrom.sizes \\\n",
    "        -p called_peaks/peaks_no_blacklist.bed \\\n",
    "        -n modelv1_fold4/output_negatives.bed \\\n",
    "        -fl encode_data/splits/fold_4.json \\\n",
    "        -b bias_model/scATAC_dermal_fibroblast.h5 \\\n",
    "        -o modelv1_fold4/chrombpnet_model/"
   ]
  },
  {
   "cell_type": "code",
   "execution_count": 15,
   "id": "08717a13-8aec-4f2f-b385-e69b0b8a82e2",
   "metadata": {},
   "outputs": [],
   "source": [
    "find  -name \"libcublas.so*\"\n"
   ]
  },
  {
   "cell_type": "code",
   "execution_count": 16,
   "id": "c07e906e-2bee-4761-ba78-2a244c02d836",
   "metadata": {},
   "outputs": [
    {
     "name": "stdout",
     "output_type": "stream",
     "text": [
      "/cluster/project/treutlein/jjans/software/miniforge3/envs/chrombpnet2/lib:/cluster/software/manual/cudnn/9.2.0/x86_64/lib:/cluster/software/stacks/2024-05/spack/opt/spack/linux-ubuntu22.04-x86_64_v3/gcc-13.2.0/cuda-12.2.1-fv6yilrnidoe35nh24iszjkf63bihikt/lib64:/cluster/software/stacks/2024-05/spack/opt/spack/linux-ubuntu22.04-x86_64_v3/gcc-13.2.0/openblas-0.3.24-4jbys53lzql5yt3rkhr2iuktq4vawzz6/lib:/cluster/software/stacks/2024-05/spack/opt/spack/linux-ubuntu22.04-x86_64_v3/gcc-13.2.0/eccodes-2.25.0-ac2jdbsunxyvob74ohj45twcgwhoqvny/lib:/cluster/software/stacks/2024-05/spack/opt/spack/linux-ubuntu22.04-x86_64_v3/gcc-13.2.0/r-4.3.2-c6hxdn6t4ao6fbqv4cg2xqinhwtwdwbn/rlib:/cluster/software/stacks/2024-05/spack/opt/spack/linux-ubuntu22.04-x86_64_v3/gcc-13.2.0/r-4.3.2-c6hxdn6t4ao6fbqv4cg2xqinhwtwdwbn/rlib/R/lib:/cluster/software/stacks/2024-05/spack/opt/spack/linux-ubuntu22.04-x86_64_v3/gcc-13.2.0/python-3.11.6-m4n2ny4dwaqmeobuqquo3gpyw2bct67i/lib:/cluster/software/stacks/2024-05/spack/opt/spack/linux-ubuntu22.04-x86_64_v3/gcc-11.4.0/gcc-13.2.0-6t2bdhlkrktlyopht3nbmjz3emlsqeog/lib64:/cluster/software/stacks/2024-05/spack/opt/spack/linux-ubuntu22.04-x86_64_v3/gcc-11.4.0/gcc-13.2.0-6t2bdhlkrktlyopht3nbmjz3emlsqeog/lib:/cluster/software/manual/julia/1.10.3/x86_64/lib:/cluster/software/stacks/2024-05/spack/opt/spack/linux-ubuntu22.04-x86_64_v3/gcc-13.2.0/hdf5-1.14.3-djiamwqmf55x25kua4cbbio5newzctbr/lib\n"
     ]
    }
   ],
   "source": [
    "echo $LD_LIBRARY_PATH"
   ]
  },
  {
   "cell_type": "code",
   "execution_count": null,
   "id": "a4cf5b6b-6557-4244-8df5-ed30b4bd72ba",
   "metadata": {},
   "outputs": [],
   "source": [
    "mamba activate cuda11_env"
   ]
  },
  {
   "cell_type": "code",
   "execution_count": 12,
   "id": "2112e75b-fbad-4595-b618-03f03779ce83",
   "metadata": {},
   "outputs": [
    {
     "name": "stdout",
     "output_type": "stream",
     "text": [
      "libcudnn.so\n",
      "libcudnn.so.8\n",
      "libcudnn.so.8.9.7\n",
      "libcudnn_adv_infer.so\n",
      "libcudnn_adv_infer.so.8\n",
      "libcudnn_adv_infer.so.8.9.7\n",
      "libcudnn_adv_train.so\n",
      "libcudnn_adv_train.so.8\n",
      "libcudnn_adv_train.so.8.9.7\n",
      "libcudnn_cnn_infer.so\n",
      "libcudnn_cnn_infer.so.8\n",
      "libcudnn_cnn_infer.so.8.9.7\n",
      "libcudnn_cnn_train.so\n",
      "libcudnn_cnn_train.so.8\n",
      "libcudnn_cnn_train.so.8.9.7\n",
      "libcudnn_ops_infer.so\n",
      "libcudnn_ops_infer.so.8\n",
      "libcudnn_ops_infer.so.8.9.7\n",
      "libcudnn_ops_train.so\n",
      "libcudnn_ops_train.so.8\n",
      "libcudnn_ops_train.so.8.9.7\n"
     ]
    }
   ],
   "source": [
    "ls /cluster/project/treutlein/jjans/software/miniforge3/envs/cuda11_env/lib | grep cudnn"
   ]
  },
  {
   "cell_type": "code",
   "execution_count": 32,
   "id": "6690eea3-a20d-4b5c-a410-18cfded60b51",
   "metadata": {},
   "outputs": [
    {
     "name": "stdout",
     "output_type": "stream",
     "text": [
      "libcufft.so\n",
      "libcufft.so.10\n",
      "libcufft.so.10.9.0.58\n",
      "libcufft_static.a\n",
      "libcufft_static_nocallback.a\n",
      "libcufftw.so\n",
      "libcufftw.so.10\n",
      "libcufftw.so.10.9.0.58\n",
      "libcufftw_static.a\n"
     ]
    }
   ],
   "source": [
    "ls /cluster/project/treutlein/jjans/software/miniforge3/envs/cuda11_env/lib | grep cufft"
   ]
  },
  {
   "cell_type": "code",
   "execution_count": 17,
   "id": "4530f37f-39c8-48cc-a09d-9d7e6a1e43e3",
   "metadata": {},
   "outputs": [
    {
     "name": "stdout",
     "output_type": "stream",
     "text": [
      "libcudart.so.11.0\n",
      "libcudart.so.11.8.89\n",
      "libicudata.so\n",
      "libicudata.so.72\n",
      "libicudata.so.72.1\n",
      "libmca_common_cuda.so\n",
      "libmca_common_cuda.so.40\n",
      "libmca_common_cuda.so.40.30.0\n"
     ]
    }
   ],
   "source": [
    "ls /cluster/project/treutlein/jjans/software/miniforge3/envs/chrombpnet2/lib | grep cuda"
   ]
  },
  {
   "cell_type": "code",
   "execution_count": 18,
   "id": "0cb8d333-e9a3-4d7f-8f7a-2e1119db3433",
   "metadata": {},
   "outputs": [
    {
     "name": "stdout",
     "output_type": "stream",
     "text": [
      "libcublas.so.12\n",
      "libcublas.so.12.4.5.8\n",
      "libcublasLt.so.12\n",
      "libcublasLt.so.12.4.5.8\n"
     ]
    }
   ],
   "source": [
    "ls /cluster/project/treutlein/jjans/software/miniforge3/envs/chrombpnet2/lib | grep cublas"
   ]
  },
  {
   "cell_type": "code",
   "execution_count": 19,
   "id": "03813a93-b6e6-43f0-be04-217155ee03a3",
   "metadata": {},
   "outputs": [
    {
     "name": "stdout",
     "output_type": "stream",
     "text": [
      "libcufft.so.11\n",
      "libcufft.so.11.2.1.3\n",
      "libcufftw.so.11\n",
      "libcufftw.so.11.2.1.3\n"
     ]
    }
   ],
   "source": [
    "ls /cluster/project/treutlein/jjans/software/miniforge3/envs/chrombpnet2/lib | grep cufft"
   ]
  },
  {
   "cell_type": "code",
   "execution_count": 22,
   "id": "5a981fc4-a18a-45dd-91c3-206f047e7394",
   "metadata": {},
   "outputs": [
    {
     "name": "stdout",
     "output_type": "stream",
     "text": [
      "libcusparse.so.12\n",
      "libcusparse.so.12.3.1.170\n"
     ]
    }
   ],
   "source": [
    "ls /cluster/project/treutlein/jjans/software/miniforge3/envs/chrombpnet2/lib | grep sparse"
   ]
  },
  {
   "cell_type": "code",
   "execution_count": 23,
   "id": "9611c43c-c091-4290-9637-fcb3ba1ab9aa",
   "metadata": {},
   "outputs": [
    {
     "ename": "",
     "evalue": "1",
     "output_type": "error",
     "traceback": []
    }
   ],
   "source": [
    "ls /cluster/project/treutlein/jjans/software/miniforge3/envs/chrombpnet2/lib | grep cudnn"
   ]
  },
  {
   "cell_type": "code",
   "execution_count": null,
   "id": "6dbc3bca-166a-46a4-9045-3ce7167c9235",
   "metadata": {},
   "outputs": [],
   "source": []
  },
  {
   "cell_type": "code",
   "execution_count": null,
   "id": "e98f6279-2b18-4270-a239-339c019adb59",
   "metadata": {},
   "outputs": [],
   "source": []
  },
  {
   "cell_type": "code",
   "execution_count": null,
   "id": "ae4110e7-9e78-4859-9aa9-bacda1578073",
   "metadata": {},
   "outputs": [],
   "source": []
  },
  {
   "cell_type": "code",
   "execution_count": 12,
   "id": "cb8bc6ba-69c5-446a-97b8-522da44504c0",
   "metadata": {},
   "outputs": [],
   "source": [
    "mamba activate bash_kernel"
   ]
  },
  {
   "cell_type": "code",
   "execution_count": 13,
   "id": "703444dc-6a6c-4127-b35b-64677001d5d2",
   "metadata": {},
   "outputs": [
    {
     "name": "stdout",
     "output_type": "stream",
     "text": [
      "bash: locate: command not found\n"
     ]
    },
    {
     "ename": "",
     "evalue": "127",
     "output_type": "error",
     "traceback": []
    }
   ],
   "source": [
    "locate libcublas.so\n"
   ]
  },
  {
   "cell_type": "code",
   "execution_count": null,
   "id": "75e1e38c-09eb-4876-8f5a-58b0b68fce0b",
   "metadata": {},
   "outputs": [],
   "source": []
  }
 ],
 "metadata": {
  "kernelspec": {
   "display_name": "Bash",
   "language": "bash",
   "name": "bash"
  },
  "language_info": {
   "codemirror_mode": "shell",
   "file_extension": ".sh",
   "mimetype": "text/x-sh",
   "name": "bash"
  }
 },
 "nbformat": 4,
 "nbformat_minor": 5
}
