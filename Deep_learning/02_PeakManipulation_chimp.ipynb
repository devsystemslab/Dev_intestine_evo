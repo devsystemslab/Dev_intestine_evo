{
 "cells": [
  {
   "cell_type": "code",
   "execution_count": 1,
   "id": "68bce82b-66b4-4c0d-a773-1eb310ba8e86",
   "metadata": {},
   "outputs": [],
   "source": [
    "mamba activate chrombpnet2"
   ]
  },
  {
   "cell_type": "code",
   "execution_count": 4,
   "id": "e3030b56-f56e-437e-913f-1d61f78d6f0f",
   "metadata": {},
   "outputs": [
    {
     "name": "stdout",
     "output_type": "stream",
     "text": [
      "--2024-06-12 03:36:04--  https://hgdownload.soe.ucsc.edu/goldenPath/panTro6/bigZips/panTro6.fa.gz\n",
      "Resolving proxy.ethz.ch (proxy.ethz.ch)... 129.132.202.155\n",
      "Connecting to proxy.ethz.ch (proxy.ethz.ch)|129.132.202.155|:3128... connected.\n",
      "Proxy request sent, awaiting response... 200 OK\n",
      "Length: 963190563 (919M) [application/x-gzip]\n",
      "Saving to: ‘panTro6.fa.gz’\n",
      "\n",
      "panTro6.fa.gz       100%[===================>] 918.57M  19.8MB/s    in 49s     \n",
      "\n",
      "2024-06-12 03:36:54 (18.9 MB/s) - ‘panTro6.fa.gz’ saved [963190563/963190563]\n",
      "\n",
      "--2024-06-12 03:37:17--  https://hgdownload.soe.ucsc.edu/goldenPath/panTro6/bigZips/panTro6.chrom.sizes\n",
      "Resolving proxy.ethz.ch (proxy.ethz.ch)... 129.132.202.155\n",
      "Connecting to proxy.ethz.ch (proxy.ethz.ch)|129.132.202.155|:3128... connected.\n",
      "Proxy request sent, awaiting response... 200 OK\n",
      "Length: 116513 (114K)\n",
      "Saving to: ‘panTro6.chrom.sizes’\n",
      "\n",
      "panTro6.chrom.sizes 100%[===================>] 113.78K   249KB/s    in 0.5s    \n",
      "\n",
      "2024-06-12 03:37:18 (249 KB/s) - ‘panTro6.chrom.sizes’ saved [116513/116513]\n",
      "\n"
     ]
    }
   ],
   "source": [
    "# download reference data\n",
    "wget https://hgdownload.soe.ucsc.edu/goldenPath/panTro6/bigZips/panTro6.fa.gz -O panTro6.fa.gz\n",
    "yes n | gunzip panTro6.fa.gz\n",
    "\n",
    "# download reference chromosome sizes \n",
    "wget https://hgdownload.soe.ucsc.edu/goldenPath/panTro6/bigZips/panTro6.chrom.sizes -O panTro6.chrom.sizes\n"
   ]
  },
  {
   "cell_type": "code",
   "execution_count": 5,
   "id": "e989ebd8-1cf2-4bce-b264-0323fd1a7fea",
   "metadata": {},
   "outputs": [
    {
     "name": "stdout",
     "output_type": "stream",
     "text": [
      "--2024-06-12 03:37:52--  https://hgdownload.soe.ucsc.edu/goldenPath/panTro6/bigZips/panTro6.trf.bed.gz\n",
      "Resolving proxy.ethz.ch (proxy.ethz.ch)... 129.132.202.155\n",
      "Connecting to proxy.ethz.ch (proxy.ethz.ch)|129.132.202.155|:3128... connected.\n",
      "Proxy request sent, awaiting response... 200 OK\n",
      "Length: 7826019 (7.5M) [application/x-gzip]\n",
      "Saving to: ‘chimp_blacklist.bed.gz’\n",
      "\n",
      "chimp_blacklist.bed 100%[===================>]   7.46M  4.89MB/s    in 1.5s    \n",
      "\n",
      "2024-06-12 03:37:54 (4.89 MB/s) - ‘chimp_blacklist.bed.gz’ saved [7826019/7826019]\n",
      "\n"
     ]
    }
   ],
   "source": [
    "# download reference blacklist regions \n",
    "wget https://hgdownload.soe.ucsc.edu/goldenPath/panTro6/bigZips/panTro6.trf.bed.gz -O chimp_blacklist.bed.gz\n",
    "\n",
    "# - Tandem Repeats Finder locations, filtered to keep repeats\n",
    "#    with period less than or equal to 12, and translated into UCSC's BED\n",
    "#    format."
   ]
  },
  {
   "cell_type": "code",
   "execution_count": null,
   "id": "f62c51de-607b-4b7d-b7c8-bdb51b90ac6e",
   "metadata": {},
   "outputs": [],
   "source": [
    "\n",
    "ls\n"
   ]
  },
  {
   "cell_type": "code",
   "execution_count": 7,
   "id": "a38088fe-803e-4fb9-a125-8a5491a89043",
   "metadata": {},
   "outputs": [
    {
     "name": "stdout",
     "output_type": "stream",
     "text": [
      "chimp_blacklist.bed.gz\tpanTro6.chrom.sizes  panTro6.fa\n"
     ]
    }
   ],
   "source": [
    "ls encode_data_chimp"
   ]
  },
  {
   "cell_type": "code",
   "execution_count": null,
   "id": "f9857eba-5207-4781-a56e-9ecb121543ab",
   "metadata": {},
   "outputs": [],
   "source": []
  },
  {
   "cell_type": "code",
   "execution_count": 8,
   "id": "af10bb23-bebf-4a01-a98c-42ce32445593",
   "metadata": {},
   "outputs": [],
   "source": [
    "bedtools slop -i encode_data_chimp/chimp_blacklist.bed.gz -g encode_data_chimp/panTro6.chrom.sizes -b 1057 > encode_data_chimp/temp.bed\n"
   ]
  },
  {
   "cell_type": "code",
   "execution_count": 10,
   "id": "e15dd333-c7ef-48c7-b648-d3f62e6d0e2b",
   "metadata": {},
   "outputs": [
    {
     "name": "stdout",
     "output_type": "stream",
     "text": [
      "405996 encode_data_chimp/temp.bed\n"
     ]
    }
   ],
   "source": [
    "wc -l encode_data_chimp/temp.bed"
   ]
  },
  {
   "cell_type": "code",
   "execution_count": 11,
   "id": "205ba95d-b57e-48a3-aab5-600da81eb6a9",
   "metadata": {},
   "outputs": [],
   "source": [
    "bedtools intersect -v -a called_peaks/chimp_peaks_peaks.narrowPeak -b encode_data_chimp/temp.bed  > called_peaks/chimp_peaks_no_blacklist.bed\n",
    "\n",
    "\n"
   ]
  },
  {
   "cell_type": "code",
   "execution_count": 12,
   "id": "2a9e2f58-8306-447d-834b-8bc3c5cc5ece",
   "metadata": {},
   "outputs": [
    {
     "name": "stdout",
     "output_type": "stream",
     "text": [
      "80549 called_peaks/chimp_peaks_peaks.narrowPeak\n"
     ]
    }
   ],
   "source": [
    "wc -l called_peaks/chimp_peaks_peaks.narrowPeak"
   ]
  },
  {
   "cell_type": "code",
   "execution_count": 13,
   "id": "be8b436a-955b-4855-bdc5-e521d07313f9",
   "metadata": {},
   "outputs": [
    {
     "name": "stdout",
     "output_type": "stream",
     "text": [
      "58254 called_peaks/chimp_peaks_no_blacklist.bed\n"
     ]
    }
   ],
   "source": [
    "wc -l called_peaks/chimp_peaks_no_blacklist.bed"
   ]
  },
  {
   "cell_type": "code",
   "execution_count": null,
   "id": "1eb3e1f4-b557-48fb-b556-4037d843a4b9",
   "metadata": {},
   "outputs": [],
   "source": [
    "#too many lost using the repeat mask, in humans only a few hundred were removed\n",
    "#instead skip the step"
   ]
  },
  {
   "cell_type": "code",
   "execution_count": 2,
   "id": "a3a6961d-c695-46a8-ae23-6ee89d01c997",
   "metadata": {},
   "outputs": [],
   "source": [
    "grep chr called_peaks/chimp_peaks_peaks.narrowPeak > called_peaks/chimp_peaks_no_blacklist_chr.bed"
   ]
  },
  {
   "cell_type": "code",
   "execution_count": 3,
   "id": "b0536fec-04e9-4888-849f-7e9242f82223",
   "metadata": {},
   "outputs": [
    {
     "name": "stdout",
     "output_type": "stream",
     "text": [
      "80549 called_peaks/chimp_peaks_no_blacklist_chr.bed\n"
     ]
    }
   ],
   "source": [
    "wc -l called_peaks/chimp_peaks_no_blacklist_chr.bed"
   ]
  },
  {
   "cell_type": "code",
   "execution_count": null,
   "id": "53ea5dcd-0612-41de-bfda-f970520fb029",
   "metadata": {},
   "outputs": [],
   "source": []
  },
  {
   "cell_type": "code",
   "execution_count": null,
   "id": "b073e34f-9105-4607-b4e9-22f007891af3",
   "metadata": {},
   "outputs": [],
   "source": []
  },
  {
   "cell_type": "code",
   "execution_count": null,
   "id": "9e7aea97-db70-40e3-a93c-689741f20fba",
   "metadata": {},
   "outputs": [],
   "source": []
  },
  {
   "cell_type": "code",
   "execution_count": null,
   "id": "32866939-7884-4f3c-8bb7-64faebac47f5",
   "metadata": {},
   "outputs": [],
   "source": []
  },
  {
   "cell_type": "code",
   "execution_count": null,
   "id": "abda33ce-aef1-4757-b822-e451290e94de",
   "metadata": {},
   "outputs": [],
   "source": []
  }
 ],
 "metadata": {
  "kernelspec": {
   "display_name": "Bash",
   "language": "bash",
   "name": "bash"
  },
  "language_info": {
   "codemirror_mode": "shell",
   "file_extension": ".sh",
   "mimetype": "text/x-sh",
   "name": "bash"
  }
 },
 "nbformat": 4,
 "nbformat_minor": 5
}
