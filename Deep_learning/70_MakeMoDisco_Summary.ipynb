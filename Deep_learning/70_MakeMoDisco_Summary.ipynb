{
 "cells": [
  {
   "cell_type": "code",
   "execution_count": 1,
   "id": "d0d8bd51-5f31-42b9-a4d7-96887a217a48",
   "metadata": {},
   "outputs": [],
   "source": [
    "import pandas as pd\n",
    "import numpy as np\n",
    "import matplotlib as mpl\n",
    "import matplotlib.pyplot as plt"
   ]
  },
  {
   "cell_type": "code",
   "execution_count": 2,
   "id": "1a7a8a76-e014-4a41-9915-1ac56faf12c6",
   "metadata": {},
   "outputs": [],
   "source": [
    "import hdf5plugin\n",
    "import h5py    \n",
    "import numpy as np  \n",
    "import pandas as pd"
   ]
  },
  {
   "cell_type": "code",
   "execution_count": 3,
   "id": "7046c4c7-9b4f-482b-a08b-bc3550d95e1b",
   "metadata": {},
   "outputs": [],
   "source": [
    "def print_all_datasets(group, prefix=''):\n",
    "    for key in group.keys():\n",
    "        item = group[key]\n",
    "        if isinstance(item, h5py.Dataset):\n",
    "            print(prefix + key)  # Print the dataset name\n",
    "        elif isinstance(item, h5py.Group):\n",
    "            print_all_datasets(item, prefix + key + '/')  # Recursively explore groups\n",
    "            \n",
    "def list_datasets(group, prefix=''):\n",
    "    for key in group.keys():\n",
    "        item = group[key]\n",
    "        if isinstance(item, pd.DataFrame):\n",
    "            print(prefix + key)  # Print the dataset path\n",
    "        elif isinstance(item, pd.io.pytables.HDFStore):\n",
    "            list_datasets(item, prefix + key + '/')  # Recursively explore groups\n",
    "\n",
    "\n",
    "default_colors = {0: 'green', 1: 'blue', 2: 'orange', 3: 'red'}\n",
    "import matplotlib.pyplot as plt\n",
    "import matplotlib"
   ]
  },
  {
   "cell_type": "code",
   "execution_count": null,
   "id": "032a76ac-9f41-419d-990f-8340a9a0d864",
   "metadata": {},
   "outputs": [],
   "source": []
  },
  {
   "cell_type": "code",
   "execution_count": 4,
   "id": "2dbd94e2-6146-4456-99a5-02fb4e254f4c",
   "metadata": {},
   "outputs": [],
   "source": [
    "h5_file1 = \"celltype_models_human/modelv1_enterocytes/fold_0/output/auxiliary/interpret_subsample/modisco_results_profile_scores.h5\"\n",
    "\n",
    "h5_file2 = \"celltype_models_human/modelv1_enterocytes/fold_2/output/auxiliary/interpret_subsample/modisco_results_profile_scores.h5\"\n"
   ]
  },
  {
   "cell_type": "code",
   "execution_count": 5,
   "id": "804f63a9-9d5c-41c9-b701-7bf1f9f1b0f3",
   "metadata": {},
   "outputs": [],
   "source": [
    "celltype = 'enterocytes'\n",
    "\n",
    "fold = 'fold_4'\n",
    "NARROWPEAK_SCHEMA = [\"chr\", \"start\", \"end\", \"peak_name\", \"2\", \"3\", \"4\", \"5\", \"6\", \"summit\"]\n",
    "\n",
    "regions_df4 = pd.read_csv(\"celltype_models_human/modelv1_\"+celltype+\"/fold_0/output/auxiliary/interpret_subsample/chrombpnet_nobias.interpreted_regions.bed\", sep='\\t', names=NARROWPEAK_SCHEMA)\n"
   ]
  },
  {
   "cell_type": "code",
   "execution_count": 6,
   "id": "373a0388-e7b4-40aa-8e12-82d5390a71cf",
   "metadata": {},
   "outputs": [],
   "source": [
    "celltype = 'enterocytes'\n",
    "\n",
    "fold = 'fold_0'\n",
    "NARROWPEAK_SCHEMA = [\"chr\", \"start\", \"end\", \"peak_name\", \"2\", \"3\", \"4\", \"5\", \"6\", \"summit\"]\n",
    "\n",
    "regions_df1 = pd.read_csv(\"celltype_models_human/modelv1_\"+celltype+\"/fold_0/output/auxiliary/interpret_subsample/chrombpnet_nobias.interpreted_regions.bed\", sep='\\t', names=NARROWPEAK_SCHEMA)\n"
   ]
  },
  {
   "cell_type": "code",
   "execution_count": 7,
   "id": "422d0f5f-d342-478b-940e-23674a6d398e",
   "metadata": {},
   "outputs": [
    {
     "data": {
      "text/plain": [
       "30000"
      ]
     },
     "execution_count": 7,
     "metadata": {},
     "output_type": "execute_result"
    }
   ],
   "source": [
    "np.sum(regions_df4['peak_name']==regions_df1['peak_name'])"
   ]
  },
  {
   "cell_type": "code",
   "execution_count": 10,
   "id": "294d0477-ba76-4e0c-8ffe-f796b8a63eda",
   "metadata": {},
   "outputs": [
    {
     "data": {
      "text/html": [
       "<div>\n",
       "<style scoped>\n",
       "    .dataframe tbody tr th:only-of-type {\n",
       "        vertical-align: middle;\n",
       "    }\n",
       "\n",
       "    .dataframe tbody tr th {\n",
       "        vertical-align: top;\n",
       "    }\n",
       "\n",
       "    .dataframe thead th {\n",
       "        text-align: right;\n",
       "    }\n",
       "</style>\n",
       "<table border=\"1\" class=\"dataframe\">\n",
       "  <thead>\n",
       "    <tr style=\"text-align: right;\">\n",
       "      <th></th>\n",
       "      <th>chr</th>\n",
       "      <th>start</th>\n",
       "      <th>end</th>\n",
       "      <th>peak_name</th>\n",
       "      <th>2</th>\n",
       "      <th>3</th>\n",
       "      <th>4</th>\n",
       "      <th>5</th>\n",
       "      <th>6</th>\n",
       "      <th>summit</th>\n",
       "    </tr>\n",
       "  </thead>\n",
       "  <tbody>\n",
       "    <tr>\n",
       "      <th>0</th>\n",
       "      <td>chr12</td>\n",
       "      <td>109899995</td>\n",
       "      <td>109900702</td>\n",
       "      <td>human_peaks_peak_21522</td>\n",
       "      <td>401</td>\n",
       "      <td>.</td>\n",
       "      <td>8.63842</td>\n",
       "      <td>42.9638</td>\n",
       "      <td>40.1651</td>\n",
       "      <td>257</td>\n",
       "    </tr>\n",
       "    <tr>\n",
       "      <th>1</th>\n",
       "      <td>chr1</td>\n",
       "      <td>120069320</td>\n",
       "      <td>120069699</td>\n",
       "      <td>human_peaks_peak_5033</td>\n",
       "      <td>178</td>\n",
       "      <td>.</td>\n",
       "      <td>8.43747</td>\n",
       "      <td>20.2290</td>\n",
       "      <td>17.8344</td>\n",
       "      <td>330</td>\n",
       "    </tr>\n",
       "    <tr>\n",
       "      <th>2</th>\n",
       "      <td>chr4</td>\n",
       "      <td>48668552</td>\n",
       "      <td>48669474</td>\n",
       "      <td>human_peaks_peak_61270</td>\n",
       "      <td>239</td>\n",
       "      <td>.</td>\n",
       "      <td>6.25034</td>\n",
       "      <td>26.4993</td>\n",
       "      <td>23.9753</td>\n",
       "      <td>295</td>\n",
       "    </tr>\n",
       "    <tr>\n",
       "      <th>3</th>\n",
       "      <td>chr2</td>\n",
       "      <td>160407008</td>\n",
       "      <td>160408230</td>\n",
       "      <td>human_peaks_peak_46710</td>\n",
       "      <td>411</td>\n",
       "      <td>.</td>\n",
       "      <td>8.04573</td>\n",
       "      <td>43.9424</td>\n",
       "      <td>41.1290</td>\n",
       "      <td>870</td>\n",
       "    </tr>\n",
       "    <tr>\n",
       "      <th>4</th>\n",
       "      <td>chr4</td>\n",
       "      <td>77189989</td>\n",
       "      <td>77190495</td>\n",
       "      <td>human_peaks_peak_61877</td>\n",
       "      <td>216</td>\n",
       "      <td>.</td>\n",
       "      <td>8.51536</td>\n",
       "      <td>24.0781</td>\n",
       "      <td>21.6019</td>\n",
       "      <td>250</td>\n",
       "    </tr>\n",
       "    <tr>\n",
       "      <th>...</th>\n",
       "      <td>...</td>\n",
       "      <td>...</td>\n",
       "      <td>...</td>\n",
       "      <td>...</td>\n",
       "      <td>...</td>\n",
       "      <td>...</td>\n",
       "      <td>...</td>\n",
       "      <td>...</td>\n",
       "      <td>...</td>\n",
       "      <td>...</td>\n",
       "    </tr>\n",
       "    <tr>\n",
       "      <th>29995</th>\n",
       "      <td>chr8</td>\n",
       "      <td>127586018</td>\n",
       "      <td>127586672</td>\n",
       "      <td>human_peaks_peak_82420</td>\n",
       "      <td>365</td>\n",
       "      <td>.</td>\n",
       "      <td>8.87889</td>\n",
       "      <td>39.3238</td>\n",
       "      <td>36.5807</td>\n",
       "      <td>364</td>\n",
       "    </tr>\n",
       "    <tr>\n",
       "      <th>29996</th>\n",
       "      <td>chr6</td>\n",
       "      <td>30006093</td>\n",
       "      <td>30007472</td>\n",
       "      <td>human_peaks_peak_70466</td>\n",
       "      <td>183</td>\n",
       "      <td>.</td>\n",
       "      <td>5.43551</td>\n",
       "      <td>20.7532</td>\n",
       "      <td>18.3474</td>\n",
       "      <td>374</td>\n",
       "    </tr>\n",
       "    <tr>\n",
       "      <th>29997</th>\n",
       "      <td>chr19</td>\n",
       "      <td>13589156</td>\n",
       "      <td>13589517</td>\n",
       "      <td>human_peaks_peak_39966</td>\n",
       "      <td>167</td>\n",
       "      <td>.</td>\n",
       "      <td>8.13613</td>\n",
       "      <td>19.1458</td>\n",
       "      <td>16.7758</td>\n",
       "      <td>273</td>\n",
       "    </tr>\n",
       "    <tr>\n",
       "      <th>29998</th>\n",
       "      <td>chr14</td>\n",
       "      <td>105086785</td>\n",
       "      <td>105087205</td>\n",
       "      <td>human_peaks_peak_27297</td>\n",
       "      <td>123</td>\n",
       "      <td>.</td>\n",
       "      <td>2.94911</td>\n",
       "      <td>14.6310</td>\n",
       "      <td>12.3752</td>\n",
       "      <td>176</td>\n",
       "    </tr>\n",
       "    <tr>\n",
       "      <th>29999</th>\n",
       "      <td>chr18</td>\n",
       "      <td>70234674</td>\n",
       "      <td>70234894</td>\n",
       "      <td>human_peaks_peak_38890</td>\n",
       "      <td>148</td>\n",
       "      <td>.</td>\n",
       "      <td>6.48340</td>\n",
       "      <td>17.1580</td>\n",
       "      <td>14.8357</td>\n",
       "      <td>140</td>\n",
       "    </tr>\n",
       "  </tbody>\n",
       "</table>\n",
       "<p>30000 rows × 10 columns</p>\n",
       "</div>"
      ],
      "text/plain": [
       "         chr      start        end               peak_name    2  3        4  \\\n",
       "0      chr12  109899995  109900702  human_peaks_peak_21522  401  .  8.63842   \n",
       "1       chr1  120069320  120069699   human_peaks_peak_5033  178  .  8.43747   \n",
       "2       chr4   48668552   48669474  human_peaks_peak_61270  239  .  6.25034   \n",
       "3       chr2  160407008  160408230  human_peaks_peak_46710  411  .  8.04573   \n",
       "4       chr4   77189989   77190495  human_peaks_peak_61877  216  .  8.51536   \n",
       "...      ...        ...        ...                     ...  ... ..      ...   \n",
       "29995   chr8  127586018  127586672  human_peaks_peak_82420  365  .  8.87889   \n",
       "29996   chr6   30006093   30007472  human_peaks_peak_70466  183  .  5.43551   \n",
       "29997  chr19   13589156   13589517  human_peaks_peak_39966  167  .  8.13613   \n",
       "29998  chr14  105086785  105087205  human_peaks_peak_27297  123  .  2.94911   \n",
       "29999  chr18   70234674   70234894  human_peaks_peak_38890  148  .  6.48340   \n",
       "\n",
       "             5        6  summit  \n",
       "0      42.9638  40.1651     257  \n",
       "1      20.2290  17.8344     330  \n",
       "2      26.4993  23.9753     295  \n",
       "3      43.9424  41.1290     870  \n",
       "4      24.0781  21.6019     250  \n",
       "...        ...      ...     ...  \n",
       "29995  39.3238  36.5807     364  \n",
       "29996  20.7532  18.3474     374  \n",
       "29997  19.1458  16.7758     273  \n",
       "29998  14.6310  12.3752     176  \n",
       "29999  17.1580  14.8357     140  \n",
       "\n",
       "[30000 rows x 10 columns]"
      ]
     },
     "execution_count": 10,
     "metadata": {},
     "output_type": "execute_result"
    }
   ],
   "source": [
    "regions_df1"
   ]
  },
  {
   "cell_type": "code",
   "execution_count": null,
   "id": "266ea9b1-618c-4325-a8b5-19521a800953",
   "metadata": {},
   "outputs": [],
   "source": []
  },
  {
   "cell_type": "code",
   "execution_count": 10,
   "id": "62f6f547-6083-4ca5-aca8-f94d7aff29a4",
   "metadata": {},
   "outputs": [],
   "source": [
    "h5files = [h5_file1,h5_file2]\n"
   ]
  },
  {
   "cell_type": "code",
   "execution_count": 34,
   "id": "ec523be9-710f-4e75-9e3c-ccca9341db9a",
   "metadata": {
    "collapsed": true,
    "jupyter": {
     "outputs_hidden": true
    }
   },
   "outputs": [
    {
     "name": "stdout",
     "output_type": "stream",
     "text": [
      "enterocytes\n",
      "fold_0\n",
      "fold_1\n",
      "fold_2\n",
      "fold_3\n",
      "fold_4\n",
      "EEC\n",
      "fold_0\n",
      "fold_1\n",
      "fold_2\n",
      "fold_3\n",
      "fold_4\n",
      "Goblet_cell\n",
      "fold_0\n",
      "fold_1\n",
      "fold_2\n",
      "fold_3\n",
      "fold_4\n",
      "Stem_cell\n",
      "fold_0\n",
      "fold_1\n",
      "fold_2\n",
      "fold_3\n",
      "fold_4\n"
     ]
    }
   ],
   "source": [
    "h5files = []\n",
    "\n",
    "\n",
    "with h5py.File(\"modisco_summary.hdf5\", \"w\") as f_dst:\n",
    "\n",
    "    #make group pos and neg patterns\n",
    "    grp = f_dst.create_group(\"pos_patterns\")\n",
    "    grp_n = f_dst.create_group(\"neg_patterns\")\n",
    "\n",
    "    for celltype in ['enterocytes','EEC','Goblet_cell','Stem_cell']:\n",
    "        print(celltype)\n",
    "        for fold in ['fold_0','fold_1','fold_2','fold_3','fold_4']:\n",
    "            print(fold)\n",
    "            h5_file_src = \"celltype_models_human/modelv1_\"+celltype+\"/\"+fold+\"/output/auxiliary/interpret_subsample/modisco_results_profile_scores.h5\"\n",
    "            h5files.append(h5_file_src)\n",
    "    \n",
    "            with h5py.File(h5_file_src) as f_src:\n",
    "                for pos_pattern in f_src['pos_patterns'].keys():\n",
    "                    f_src.copy(source='pos_patterns/'+pos_pattern,dest=grp,name=celltype+\"_\"+fold+\"_\"+pos_pattern)\n",
    "\n",
    "                for neg_pattern in f_src['neg_patterns'].keys():\n",
    "                    f_src.copy(source='neg_patterns/'+neg_pattern,dest=grp_n,name=celltype+\"_\"+fold+\"_\"+neg_pattern)\n"
   ]
  },
  {
   "cell_type": "code",
   "execution_count": 36,
   "id": "b517726f-0c57-4a47-a404-9473bf777b8b",
   "metadata": {},
   "outputs": [
    {
     "name": "stdout",
     "output_type": "stream",
     "text": [
      "enterocytes\n",
      "fold_0\n",
      "fold_1\n",
      "fold_2\n",
      "fold_3\n",
      "fold_4\n",
      "EEC\n",
      "fold_0\n",
      "fold_1\n",
      "fold_2\n",
      "fold_3\n",
      "fold_4\n",
      "Goblet_cell\n",
      "fold_0\n",
      "fold_1\n",
      "fold_2\n",
      "fold_3\n",
      "fold_4\n",
      "Stem_cell\n",
      "fold_0\n",
      "fold_1\n",
      "fold_2\n",
      "fold_3\n",
      "fold_4\n"
     ]
    }
   ],
   "source": [
    "h5files = []\n",
    "\n",
    "\n",
    "for celltype in ['enterocytes','EEC','Goblet_cell','Stem_cell']:\n",
    "    print(celltype)\n",
    "\n",
    "    with h5py.File(\"modisco_summary_\"+celltype+\".hdf5\", \"w\") as f_dst:\n",
    "\n",
    "        #make group pos and neg patterns\n",
    "        grp = f_dst.create_group(\"pos_patterns\")\n",
    "        grp_n = f_dst.create_group(\"neg_patterns\")\n",
    "\n",
    "        for fold in ['fold_0','fold_1','fold_2','fold_3','fold_4']:\n",
    "            print(fold)\n",
    "            h5_file_src = \"celltype_models_human/modelv1_\"+celltype+\"/\"+fold+\"/output/auxiliary/interpret_subsample/modisco_results_profile_scores.h5\"\n",
    "            h5files.append(h5_file_src)\n",
    "    \n",
    "            with h5py.File(h5_file_src) as f_src:\n",
    "                for pos_pattern in f_src['pos_patterns'].keys():\n",
    "                    f_src.copy(source='pos_patterns/'+pos_pattern,dest=grp,name=celltype+\"_\"+fold+\"_\"+pos_pattern)\n",
    "\n",
    "                for neg_pattern in f_src['neg_patterns'].keys():\n",
    "                    f_src.copy(source='neg_patterns/'+neg_pattern,dest=grp_n,name=celltype+\"_\"+fold+\"_\"+neg_pattern)\n"
   ]
  },
  {
   "cell_type": "code",
   "execution_count": null,
   "id": "2587eab3-5adc-4983-9b48-3f7c25cd393f",
   "metadata": {},
   "outputs": [],
   "source": []
  },
  {
   "cell_type": "code",
   "execution_count": null,
   "id": "3996a6c5-b905-4314-8465-a11e7ae70ddf",
   "metadata": {},
   "outputs": [],
   "source": []
  },
  {
   "cell_type": "code",
   "execution_count": 56,
   "id": "941f4004-af00-4bd8-b7b0-604e276debf7",
   "metadata": {},
   "outputs": [],
   "source": [
    "h5_file1 = \"celltype_models_human/modelv1_enterocytes/fold_1/output/auxiliary/interpret_subsample/chrombpnet_nobias.profile_scores.h5\"\n",
    "h5_file2 = \"celltype_models_human/modelv1_enterocytes/fold_2/output/auxiliary/interpret_subsample/chrombpnet_nobias.profile_scores.h5\""
   ]
  },
  {
   "cell_type": "code",
   "execution_count": 62,
   "id": "3a0ebd49-5c79-407a-abbf-3add0c6007d9",
   "metadata": {},
   "outputs": [
    {
     "name": "stdout",
     "output_type": "stream",
     "text": [
      "<KeysViewHDF5 ['seq']>\n"
     ]
    }
   ],
   "source": [
    "import h5py\n",
    "filename = h5_file1\n",
    "\n",
    "with h5py.File(filename, \"r\") as f:\n",
    "    # Print all root level object names (aka keys) \n",
    "    # these can be group or dataset names \n",
    "    a = f['shap'].keys()\n",
    "    print(a)"
   ]
  },
  {
   "cell_type": "code",
   "execution_count": 66,
   "id": "33f97156-37e9-42a8-a3de-3f04949d2322",
   "metadata": {},
   "outputs": [
    {
     "name": "stdout",
     "output_type": "stream",
     "text": [
      "enterocytes\n",
      "EEC\n",
      "Goblet_cell\n",
      "Stem_cell\n"
     ]
    }
   ],
   "source": [
    "for celltype in ['enterocytes','EEC','Goblet_cell','Stem_cell']:\n",
    "    print(celltype)\n",
    "    file_paths = []\n",
    "    for fold in ['fold_0','fold_1','fold_2','fold_3','fold_4']:\n",
    "        h5_file = \"celltype_models_human/modelv1_\"+celltype+\"/\"+fold+\"/output/auxiliary/interpret_subsample/chrombpnet_nobias.profile_scores.h5\"\n",
    "\n",
    "        file_paths.append(h5_file)\n",
    "\n",
    "\n",
    "    import h5py\n",
    "    import numpy as np\n",
    "    \n",
    "    # List of your .h5 files\n",
    "    layers = ['projected_shap','raw','shap']\n",
    "    \n",
    "    # Initialize an array to accumulate the data\n",
    "    average_array = None\n",
    "    \n",
    "    # Save the average array to a new .h5 file\n",
    "    output_file = 'celltype_models_human/modelv1_'+celltype+'/chrombpnet_nobias.profile_scores_avg.h5'\n",
    "    \n",
    "    with h5py.File(output_file, 'w') as f_out:\n",
    "        # Loop over layers\n",
    "        for layer in layers:\n",
    "            #loop over files\n",
    "            for file_path in file_paths:\n",
    "                #open file\n",
    "                with h5py.File(file_path, 'r') as f:\n",
    "                    #get data\n",
    "                    data = f[layer]['seq'][:]\n",
    "                    #initialize average array\n",
    "                    if average_array is None:\n",
    "                        # Initialize the average_array with the shape of data and type as float for precision\n",
    "                        average_array = np.zeros_like(data, dtype=np.float64)\n",
    "                    average_array += data\n",
    "        \n",
    "            # Divide by the number of files to get the average\n",
    "            average_array /= len(file_paths)\n",
    "        \n",
    "            # Optionally, convert back to the original data type\n",
    "            average_array = average_array.astype(np.float32)\n",
    "    \n",
    "    \n",
    "            grp = f_out.create_group(layer)\n",
    "            dset = grp.create_dataset('seq', data=average_array)\n",
    "    \n",
    "            average_array = None\n"
   ]
  },
  {
   "cell_type": "code",
   "execution_count": 64,
   "id": "ac31c0d3-2d37-47ca-b33a-d2c353c122cf",
   "metadata": {},
   "outputs": [],
   "source": [
    "del average_array"
   ]
  },
  {
   "cell_type": "code",
   "execution_count": null,
   "id": "755fe932-a62f-4090-9ca1-96d1b170a5d3",
   "metadata": {},
   "outputs": [],
   "source": []
  },
  {
   "cell_type": "code",
   "execution_count": 31,
   "id": "46767109-58b0-4067-9573-06d1f2770fb8",
   "metadata": {},
   "outputs": [],
   "source": [
    "import h5py\n",
    "import os\n",
    "\n",
    "with h5py.File(\"modisco_summary_test.hdf5\", \"w\") as f_dst:\n",
    "\n",
    "#    dset = f_dst.create_dataset(\"pos_patterns\", shape=(len(h5files)))\n",
    "\n",
    "    grp = f_dst.create_group(\"pos_patterns\")\n",
    "\n",
    "    for i, filename in enumerate(h5files):\n",
    "        with h5py.File(filename) as f_src:\n",
    "            for pos_pattern in f_src['pos_patterns'].keys():\n",
    "#                grp['pos_patterns'][pos_pattern+\"_\"+str(i)] = f_src[\"pos_patterns\"][pos_pattern]\n",
    "#                grp.create_group(pos_pattern+\"_\"+str(i))\n",
    "#                dest_group = grp[pos_pattern+\"_\"+str(i)]\n",
    "                f_src.copy(source='pos_patterns/'+pos_pattern,dest=grp,name=pos_pattern+\"_\"+str(i))\n"
   ]
  },
  {
   "cell_type": "code",
   "execution_count": 35,
   "id": "1ef30612-a9d1-4607-b2d7-8c643983a1a8",
   "metadata": {},
   "outputs": [
    {
     "name": "stdout",
     "output_type": "stream",
     "text": [
      "Keys: <KeysViewHDF5 ['EEC_fold_0_pattern_0', 'EEC_fold_0_pattern_1', 'EEC_fold_0_pattern_10', 'EEC_fold_0_pattern_11', 'EEC_fold_0_pattern_12', 'EEC_fold_0_pattern_13', 'EEC_fold_0_pattern_14', 'EEC_fold_0_pattern_15', 'EEC_fold_0_pattern_16', 'EEC_fold_0_pattern_17', 'EEC_fold_0_pattern_18', 'EEC_fold_0_pattern_19', 'EEC_fold_0_pattern_2', 'EEC_fold_0_pattern_20', 'EEC_fold_0_pattern_21', 'EEC_fold_0_pattern_22', 'EEC_fold_0_pattern_23', 'EEC_fold_0_pattern_24', 'EEC_fold_0_pattern_25', 'EEC_fold_0_pattern_26', 'EEC_fold_0_pattern_27', 'EEC_fold_0_pattern_28', 'EEC_fold_0_pattern_29', 'EEC_fold_0_pattern_3', 'EEC_fold_0_pattern_30', 'EEC_fold_0_pattern_31', 'EEC_fold_0_pattern_32', 'EEC_fold_0_pattern_33', 'EEC_fold_0_pattern_4', 'EEC_fold_0_pattern_5', 'EEC_fold_0_pattern_6', 'EEC_fold_0_pattern_7', 'EEC_fold_0_pattern_8', 'EEC_fold_0_pattern_9', 'EEC_fold_1_pattern_0', 'EEC_fold_1_pattern_1', 'EEC_fold_1_pattern_10', 'EEC_fold_1_pattern_11', 'EEC_fold_1_pattern_12', 'EEC_fold_1_pattern_13', 'EEC_fold_1_pattern_14', 'EEC_fold_1_pattern_15', 'EEC_fold_1_pattern_16', 'EEC_fold_1_pattern_17', 'EEC_fold_1_pattern_18', 'EEC_fold_1_pattern_19', 'EEC_fold_1_pattern_2', 'EEC_fold_1_pattern_20', 'EEC_fold_1_pattern_21', 'EEC_fold_1_pattern_22', 'EEC_fold_1_pattern_23', 'EEC_fold_1_pattern_24', 'EEC_fold_1_pattern_25', 'EEC_fold_1_pattern_26', 'EEC_fold_1_pattern_27', 'EEC_fold_1_pattern_28', 'EEC_fold_1_pattern_29', 'EEC_fold_1_pattern_3', 'EEC_fold_1_pattern_30', 'EEC_fold_1_pattern_31', 'EEC_fold_1_pattern_32', 'EEC_fold_1_pattern_33', 'EEC_fold_1_pattern_4', 'EEC_fold_1_pattern_5', 'EEC_fold_1_pattern_6', 'EEC_fold_1_pattern_7', 'EEC_fold_1_pattern_8', 'EEC_fold_1_pattern_9', 'EEC_fold_2_pattern_0', 'EEC_fold_2_pattern_1', 'EEC_fold_2_pattern_10', 'EEC_fold_2_pattern_11', 'EEC_fold_2_pattern_12', 'EEC_fold_2_pattern_13', 'EEC_fold_2_pattern_14', 'EEC_fold_2_pattern_15', 'EEC_fold_2_pattern_16', 'EEC_fold_2_pattern_17', 'EEC_fold_2_pattern_18', 'EEC_fold_2_pattern_19', 'EEC_fold_2_pattern_2', 'EEC_fold_2_pattern_20', 'EEC_fold_2_pattern_21', 'EEC_fold_2_pattern_22', 'EEC_fold_2_pattern_23', 'EEC_fold_2_pattern_24', 'EEC_fold_2_pattern_25', 'EEC_fold_2_pattern_26', 'EEC_fold_2_pattern_27', 'EEC_fold_2_pattern_28', 'EEC_fold_2_pattern_29', 'EEC_fold_2_pattern_3', 'EEC_fold_2_pattern_30', 'EEC_fold_2_pattern_31', 'EEC_fold_2_pattern_32', 'EEC_fold_2_pattern_33', 'EEC_fold_2_pattern_34', 'EEC_fold_2_pattern_35', 'EEC_fold_2_pattern_4', 'EEC_fold_2_pattern_5', 'EEC_fold_2_pattern_6', 'EEC_fold_2_pattern_7', 'EEC_fold_2_pattern_8', 'EEC_fold_2_pattern_9', 'EEC_fold_3_pattern_0', 'EEC_fold_3_pattern_1', 'EEC_fold_3_pattern_10', 'EEC_fold_3_pattern_11', 'EEC_fold_3_pattern_12', 'EEC_fold_3_pattern_13', 'EEC_fold_3_pattern_14', 'EEC_fold_3_pattern_15', 'EEC_fold_3_pattern_16', 'EEC_fold_3_pattern_17', 'EEC_fold_3_pattern_18', 'EEC_fold_3_pattern_19', 'EEC_fold_3_pattern_2', 'EEC_fold_3_pattern_20', 'EEC_fold_3_pattern_21', 'EEC_fold_3_pattern_22', 'EEC_fold_3_pattern_23', 'EEC_fold_3_pattern_24', 'EEC_fold_3_pattern_25', 'EEC_fold_3_pattern_26', 'EEC_fold_3_pattern_27', 'EEC_fold_3_pattern_28', 'EEC_fold_3_pattern_29', 'EEC_fold_3_pattern_3', 'EEC_fold_3_pattern_30', 'EEC_fold_3_pattern_31', 'EEC_fold_3_pattern_32', 'EEC_fold_3_pattern_33', 'EEC_fold_3_pattern_34', 'EEC_fold_3_pattern_4', 'EEC_fold_3_pattern_5', 'EEC_fold_3_pattern_6', 'EEC_fold_3_pattern_7', 'EEC_fold_3_pattern_8', 'EEC_fold_3_pattern_9', 'EEC_fold_4_pattern_0', 'EEC_fold_4_pattern_1', 'EEC_fold_4_pattern_10', 'EEC_fold_4_pattern_11', 'EEC_fold_4_pattern_12', 'EEC_fold_4_pattern_13', 'EEC_fold_4_pattern_14', 'EEC_fold_4_pattern_15', 'EEC_fold_4_pattern_16', 'EEC_fold_4_pattern_17', 'EEC_fold_4_pattern_18', 'EEC_fold_4_pattern_19', 'EEC_fold_4_pattern_2', 'EEC_fold_4_pattern_20', 'EEC_fold_4_pattern_21', 'EEC_fold_4_pattern_22', 'EEC_fold_4_pattern_23', 'EEC_fold_4_pattern_24', 'EEC_fold_4_pattern_25', 'EEC_fold_4_pattern_26', 'EEC_fold_4_pattern_27', 'EEC_fold_4_pattern_28', 'EEC_fold_4_pattern_29', 'EEC_fold_4_pattern_3', 'EEC_fold_4_pattern_30', 'EEC_fold_4_pattern_4', 'EEC_fold_4_pattern_5', 'EEC_fold_4_pattern_6', 'EEC_fold_4_pattern_7', 'EEC_fold_4_pattern_8', 'EEC_fold_4_pattern_9', 'Goblet_cell_fold_0_pattern_0', 'Goblet_cell_fold_0_pattern_1', 'Goblet_cell_fold_0_pattern_10', 'Goblet_cell_fold_0_pattern_11', 'Goblet_cell_fold_0_pattern_12', 'Goblet_cell_fold_0_pattern_13', 'Goblet_cell_fold_0_pattern_14', 'Goblet_cell_fold_0_pattern_15', 'Goblet_cell_fold_0_pattern_16', 'Goblet_cell_fold_0_pattern_17', 'Goblet_cell_fold_0_pattern_18', 'Goblet_cell_fold_0_pattern_19', 'Goblet_cell_fold_0_pattern_2', 'Goblet_cell_fold_0_pattern_20', 'Goblet_cell_fold_0_pattern_21', 'Goblet_cell_fold_0_pattern_22', 'Goblet_cell_fold_0_pattern_23', 'Goblet_cell_fold_0_pattern_24', 'Goblet_cell_fold_0_pattern_25', 'Goblet_cell_fold_0_pattern_26', 'Goblet_cell_fold_0_pattern_27', 'Goblet_cell_fold_0_pattern_28', 'Goblet_cell_fold_0_pattern_29', 'Goblet_cell_fold_0_pattern_3', 'Goblet_cell_fold_0_pattern_4', 'Goblet_cell_fold_0_pattern_5', 'Goblet_cell_fold_0_pattern_6', 'Goblet_cell_fold_0_pattern_7', 'Goblet_cell_fold_0_pattern_8', 'Goblet_cell_fold_0_pattern_9', 'Goblet_cell_fold_1_pattern_0', 'Goblet_cell_fold_1_pattern_1', 'Goblet_cell_fold_1_pattern_10', 'Goblet_cell_fold_1_pattern_11', 'Goblet_cell_fold_1_pattern_12', 'Goblet_cell_fold_1_pattern_13', 'Goblet_cell_fold_1_pattern_14', 'Goblet_cell_fold_1_pattern_15', 'Goblet_cell_fold_1_pattern_16', 'Goblet_cell_fold_1_pattern_17', 'Goblet_cell_fold_1_pattern_18', 'Goblet_cell_fold_1_pattern_19', 'Goblet_cell_fold_1_pattern_2', 'Goblet_cell_fold_1_pattern_20', 'Goblet_cell_fold_1_pattern_21', 'Goblet_cell_fold_1_pattern_22', 'Goblet_cell_fold_1_pattern_3', 'Goblet_cell_fold_1_pattern_4', 'Goblet_cell_fold_1_pattern_5', 'Goblet_cell_fold_1_pattern_6', 'Goblet_cell_fold_1_pattern_7', 'Goblet_cell_fold_1_pattern_8', 'Goblet_cell_fold_1_pattern_9', 'Goblet_cell_fold_2_pattern_0', 'Goblet_cell_fold_2_pattern_1', 'Goblet_cell_fold_2_pattern_10', 'Goblet_cell_fold_2_pattern_11', 'Goblet_cell_fold_2_pattern_12', 'Goblet_cell_fold_2_pattern_13', 'Goblet_cell_fold_2_pattern_14', 'Goblet_cell_fold_2_pattern_15', 'Goblet_cell_fold_2_pattern_16', 'Goblet_cell_fold_2_pattern_17', 'Goblet_cell_fold_2_pattern_18', 'Goblet_cell_fold_2_pattern_19', 'Goblet_cell_fold_2_pattern_2', 'Goblet_cell_fold_2_pattern_20', 'Goblet_cell_fold_2_pattern_21', 'Goblet_cell_fold_2_pattern_22', 'Goblet_cell_fold_2_pattern_23', 'Goblet_cell_fold_2_pattern_24', 'Goblet_cell_fold_2_pattern_25', 'Goblet_cell_fold_2_pattern_26', 'Goblet_cell_fold_2_pattern_27', 'Goblet_cell_fold_2_pattern_3', 'Goblet_cell_fold_2_pattern_4', 'Goblet_cell_fold_2_pattern_5', 'Goblet_cell_fold_2_pattern_6', 'Goblet_cell_fold_2_pattern_7', 'Goblet_cell_fold_2_pattern_8', 'Goblet_cell_fold_2_pattern_9', 'Goblet_cell_fold_3_pattern_0', 'Goblet_cell_fold_3_pattern_1', 'Goblet_cell_fold_3_pattern_10', 'Goblet_cell_fold_3_pattern_11', 'Goblet_cell_fold_3_pattern_12', 'Goblet_cell_fold_3_pattern_13', 'Goblet_cell_fold_3_pattern_14', 'Goblet_cell_fold_3_pattern_15', 'Goblet_cell_fold_3_pattern_16', 'Goblet_cell_fold_3_pattern_17', 'Goblet_cell_fold_3_pattern_18', 'Goblet_cell_fold_3_pattern_19', 'Goblet_cell_fold_3_pattern_2', 'Goblet_cell_fold_3_pattern_20', 'Goblet_cell_fold_3_pattern_21', 'Goblet_cell_fold_3_pattern_22', 'Goblet_cell_fold_3_pattern_23', 'Goblet_cell_fold_3_pattern_24', 'Goblet_cell_fold_3_pattern_25', 'Goblet_cell_fold_3_pattern_26', 'Goblet_cell_fold_3_pattern_27', 'Goblet_cell_fold_3_pattern_3', 'Goblet_cell_fold_3_pattern_4', 'Goblet_cell_fold_3_pattern_5', 'Goblet_cell_fold_3_pattern_6', 'Goblet_cell_fold_3_pattern_7', 'Goblet_cell_fold_3_pattern_8', 'Goblet_cell_fold_3_pattern_9', 'Goblet_cell_fold_4_pattern_0', 'Goblet_cell_fold_4_pattern_1', 'Goblet_cell_fold_4_pattern_10', 'Goblet_cell_fold_4_pattern_11', 'Goblet_cell_fold_4_pattern_12', 'Goblet_cell_fold_4_pattern_13', 'Goblet_cell_fold_4_pattern_14', 'Goblet_cell_fold_4_pattern_15', 'Goblet_cell_fold_4_pattern_16', 'Goblet_cell_fold_4_pattern_17', 'Goblet_cell_fold_4_pattern_18', 'Goblet_cell_fold_4_pattern_19', 'Goblet_cell_fold_4_pattern_2', 'Goblet_cell_fold_4_pattern_20', 'Goblet_cell_fold_4_pattern_21', 'Goblet_cell_fold_4_pattern_22', 'Goblet_cell_fold_4_pattern_23', 'Goblet_cell_fold_4_pattern_24', 'Goblet_cell_fold_4_pattern_25', 'Goblet_cell_fold_4_pattern_3', 'Goblet_cell_fold_4_pattern_4', 'Goblet_cell_fold_4_pattern_5', 'Goblet_cell_fold_4_pattern_6', 'Goblet_cell_fold_4_pattern_7', 'Goblet_cell_fold_4_pattern_8', 'Goblet_cell_fold_4_pattern_9', 'Stem_cell_fold_0_pattern_0', 'Stem_cell_fold_0_pattern_1', 'Stem_cell_fold_0_pattern_10', 'Stem_cell_fold_0_pattern_11', 'Stem_cell_fold_0_pattern_12', 'Stem_cell_fold_0_pattern_13', 'Stem_cell_fold_0_pattern_14', 'Stem_cell_fold_0_pattern_15', 'Stem_cell_fold_0_pattern_16', 'Stem_cell_fold_0_pattern_17', 'Stem_cell_fold_0_pattern_18', 'Stem_cell_fold_0_pattern_19', 'Stem_cell_fold_0_pattern_2', 'Stem_cell_fold_0_pattern_20', 'Stem_cell_fold_0_pattern_21', 'Stem_cell_fold_0_pattern_22', 'Stem_cell_fold_0_pattern_23', 'Stem_cell_fold_0_pattern_24', 'Stem_cell_fold_0_pattern_25', 'Stem_cell_fold_0_pattern_26', 'Stem_cell_fold_0_pattern_27', 'Stem_cell_fold_0_pattern_28', 'Stem_cell_fold_0_pattern_29', 'Stem_cell_fold_0_pattern_3', 'Stem_cell_fold_0_pattern_30', 'Stem_cell_fold_0_pattern_31', 'Stem_cell_fold_0_pattern_32', 'Stem_cell_fold_0_pattern_33', 'Stem_cell_fold_0_pattern_34', 'Stem_cell_fold_0_pattern_35', 'Stem_cell_fold_0_pattern_36', 'Stem_cell_fold_0_pattern_4', 'Stem_cell_fold_0_pattern_5', 'Stem_cell_fold_0_pattern_6', 'Stem_cell_fold_0_pattern_7', 'Stem_cell_fold_0_pattern_8', 'Stem_cell_fold_0_pattern_9', 'Stem_cell_fold_1_pattern_0', 'Stem_cell_fold_1_pattern_1', 'Stem_cell_fold_1_pattern_10', 'Stem_cell_fold_1_pattern_11', 'Stem_cell_fold_1_pattern_12', 'Stem_cell_fold_1_pattern_13', 'Stem_cell_fold_1_pattern_14', 'Stem_cell_fold_1_pattern_15', 'Stem_cell_fold_1_pattern_16', 'Stem_cell_fold_1_pattern_17', 'Stem_cell_fold_1_pattern_18', 'Stem_cell_fold_1_pattern_19', 'Stem_cell_fold_1_pattern_2', 'Stem_cell_fold_1_pattern_20', 'Stem_cell_fold_1_pattern_21', 'Stem_cell_fold_1_pattern_22', 'Stem_cell_fold_1_pattern_23', 'Stem_cell_fold_1_pattern_24', 'Stem_cell_fold_1_pattern_25', 'Stem_cell_fold_1_pattern_26', 'Stem_cell_fold_1_pattern_27', 'Stem_cell_fold_1_pattern_28', 'Stem_cell_fold_1_pattern_29', 'Stem_cell_fold_1_pattern_3', 'Stem_cell_fold_1_pattern_4', 'Stem_cell_fold_1_pattern_5', 'Stem_cell_fold_1_pattern_6', 'Stem_cell_fold_1_pattern_7', 'Stem_cell_fold_1_pattern_8', 'Stem_cell_fold_1_pattern_9', 'Stem_cell_fold_2_pattern_0', 'Stem_cell_fold_2_pattern_1', 'Stem_cell_fold_2_pattern_10', 'Stem_cell_fold_2_pattern_11', 'Stem_cell_fold_2_pattern_12', 'Stem_cell_fold_2_pattern_13', 'Stem_cell_fold_2_pattern_14', 'Stem_cell_fold_2_pattern_15', 'Stem_cell_fold_2_pattern_16', 'Stem_cell_fold_2_pattern_17', 'Stem_cell_fold_2_pattern_18', 'Stem_cell_fold_2_pattern_19', 'Stem_cell_fold_2_pattern_2', 'Stem_cell_fold_2_pattern_20', 'Stem_cell_fold_2_pattern_21', 'Stem_cell_fold_2_pattern_22', 'Stem_cell_fold_2_pattern_23', 'Stem_cell_fold_2_pattern_24', 'Stem_cell_fold_2_pattern_25', 'Stem_cell_fold_2_pattern_26', 'Stem_cell_fold_2_pattern_27', 'Stem_cell_fold_2_pattern_28', 'Stem_cell_fold_2_pattern_29', 'Stem_cell_fold_2_pattern_3', 'Stem_cell_fold_2_pattern_30', 'Stem_cell_fold_2_pattern_31', 'Stem_cell_fold_2_pattern_32', 'Stem_cell_fold_2_pattern_33', 'Stem_cell_fold_2_pattern_34', 'Stem_cell_fold_2_pattern_35', 'Stem_cell_fold_2_pattern_36', 'Stem_cell_fold_2_pattern_37', 'Stem_cell_fold_2_pattern_38', 'Stem_cell_fold_2_pattern_39', 'Stem_cell_fold_2_pattern_4', 'Stem_cell_fold_2_pattern_5', 'Stem_cell_fold_2_pattern_6', 'Stem_cell_fold_2_pattern_7', 'Stem_cell_fold_2_pattern_8', 'Stem_cell_fold_2_pattern_9', 'Stem_cell_fold_3_pattern_0', 'Stem_cell_fold_3_pattern_1', 'Stem_cell_fold_3_pattern_10', 'Stem_cell_fold_3_pattern_11', 'Stem_cell_fold_3_pattern_12', 'Stem_cell_fold_3_pattern_13', 'Stem_cell_fold_3_pattern_14', 'Stem_cell_fold_3_pattern_15', 'Stem_cell_fold_3_pattern_16', 'Stem_cell_fold_3_pattern_17', 'Stem_cell_fold_3_pattern_18', 'Stem_cell_fold_3_pattern_19', 'Stem_cell_fold_3_pattern_2', 'Stem_cell_fold_3_pattern_20', 'Stem_cell_fold_3_pattern_21', 'Stem_cell_fold_3_pattern_22', 'Stem_cell_fold_3_pattern_23', 'Stem_cell_fold_3_pattern_24', 'Stem_cell_fold_3_pattern_25', 'Stem_cell_fold_3_pattern_26', 'Stem_cell_fold_3_pattern_27', 'Stem_cell_fold_3_pattern_28', 'Stem_cell_fold_3_pattern_29', 'Stem_cell_fold_3_pattern_3', 'Stem_cell_fold_3_pattern_30', 'Stem_cell_fold_3_pattern_31', 'Stem_cell_fold_3_pattern_4', 'Stem_cell_fold_3_pattern_5', 'Stem_cell_fold_3_pattern_6', 'Stem_cell_fold_3_pattern_7', 'Stem_cell_fold_3_pattern_8', 'Stem_cell_fold_3_pattern_9', 'Stem_cell_fold_4_pattern_0', 'Stem_cell_fold_4_pattern_1', 'Stem_cell_fold_4_pattern_10', 'Stem_cell_fold_4_pattern_11', 'Stem_cell_fold_4_pattern_12', 'Stem_cell_fold_4_pattern_13', 'Stem_cell_fold_4_pattern_14', 'Stem_cell_fold_4_pattern_15', 'Stem_cell_fold_4_pattern_16', 'Stem_cell_fold_4_pattern_17', 'Stem_cell_fold_4_pattern_18', 'Stem_cell_fold_4_pattern_19', 'Stem_cell_fold_4_pattern_2', 'Stem_cell_fold_4_pattern_20', 'Stem_cell_fold_4_pattern_21', 'Stem_cell_fold_4_pattern_22', 'Stem_cell_fold_4_pattern_23', 'Stem_cell_fold_4_pattern_24', 'Stem_cell_fold_4_pattern_25', 'Stem_cell_fold_4_pattern_26', 'Stem_cell_fold_4_pattern_27', 'Stem_cell_fold_4_pattern_28', 'Stem_cell_fold_4_pattern_29', 'Stem_cell_fold_4_pattern_3', 'Stem_cell_fold_4_pattern_30', 'Stem_cell_fold_4_pattern_31', 'Stem_cell_fold_4_pattern_32', 'Stem_cell_fold_4_pattern_33', 'Stem_cell_fold_4_pattern_34', 'Stem_cell_fold_4_pattern_35', 'Stem_cell_fold_4_pattern_36', 'Stem_cell_fold_4_pattern_37', 'Stem_cell_fold_4_pattern_4', 'Stem_cell_fold_4_pattern_5', 'Stem_cell_fold_4_pattern_6', 'Stem_cell_fold_4_pattern_7', 'Stem_cell_fold_4_pattern_8', 'Stem_cell_fold_4_pattern_9', 'enterocytes_fold_0_pattern_0', 'enterocytes_fold_0_pattern_1', 'enterocytes_fold_0_pattern_10', 'enterocytes_fold_0_pattern_11', 'enterocytes_fold_0_pattern_12', 'enterocytes_fold_0_pattern_13', 'enterocytes_fold_0_pattern_14', 'enterocytes_fold_0_pattern_15', 'enterocytes_fold_0_pattern_16', 'enterocytes_fold_0_pattern_17', 'enterocytes_fold_0_pattern_18', 'enterocytes_fold_0_pattern_19', 'enterocytes_fold_0_pattern_2', 'enterocytes_fold_0_pattern_20', 'enterocytes_fold_0_pattern_21', 'enterocytes_fold_0_pattern_22', 'enterocytes_fold_0_pattern_23', 'enterocytes_fold_0_pattern_24', 'enterocytes_fold_0_pattern_25', 'enterocytes_fold_0_pattern_26', 'enterocytes_fold_0_pattern_27', 'enterocytes_fold_0_pattern_28', 'enterocytes_fold_0_pattern_29', 'enterocytes_fold_0_pattern_3', 'enterocytes_fold_0_pattern_4', 'enterocytes_fold_0_pattern_5', 'enterocytes_fold_0_pattern_6', 'enterocytes_fold_0_pattern_7', 'enterocytes_fold_0_pattern_8', 'enterocytes_fold_0_pattern_9', 'enterocytes_fold_1_pattern_0', 'enterocytes_fold_1_pattern_1', 'enterocytes_fold_1_pattern_10', 'enterocytes_fold_1_pattern_11', 'enterocytes_fold_1_pattern_12', 'enterocytes_fold_1_pattern_13', 'enterocytes_fold_1_pattern_14', 'enterocytes_fold_1_pattern_15', 'enterocytes_fold_1_pattern_16', 'enterocytes_fold_1_pattern_17', 'enterocytes_fold_1_pattern_18', 'enterocytes_fold_1_pattern_19', 'enterocytes_fold_1_pattern_2', 'enterocytes_fold_1_pattern_20', 'enterocytes_fold_1_pattern_21', 'enterocytes_fold_1_pattern_22', 'enterocytes_fold_1_pattern_23', 'enterocytes_fold_1_pattern_24', 'enterocytes_fold_1_pattern_25', 'enterocytes_fold_1_pattern_26', 'enterocytes_fold_1_pattern_27', 'enterocytes_fold_1_pattern_28', 'enterocytes_fold_1_pattern_29', 'enterocytes_fold_1_pattern_3', 'enterocytes_fold_1_pattern_30', 'enterocytes_fold_1_pattern_31', 'enterocytes_fold_1_pattern_32', 'enterocytes_fold_1_pattern_4', 'enterocytes_fold_1_pattern_5', 'enterocytes_fold_1_pattern_6', 'enterocytes_fold_1_pattern_7', 'enterocytes_fold_1_pattern_8', 'enterocytes_fold_1_pattern_9', 'enterocytes_fold_2_pattern_0', 'enterocytes_fold_2_pattern_1', 'enterocytes_fold_2_pattern_10', 'enterocytes_fold_2_pattern_11', 'enterocytes_fold_2_pattern_12', 'enterocytes_fold_2_pattern_13', 'enterocytes_fold_2_pattern_14', 'enterocytes_fold_2_pattern_15', 'enterocytes_fold_2_pattern_16', 'enterocytes_fold_2_pattern_17', 'enterocytes_fold_2_pattern_18', 'enterocytes_fold_2_pattern_19', 'enterocytes_fold_2_pattern_2', 'enterocytes_fold_2_pattern_20', 'enterocytes_fold_2_pattern_21', 'enterocytes_fold_2_pattern_22', 'enterocytes_fold_2_pattern_23', 'enterocytes_fold_2_pattern_24', 'enterocytes_fold_2_pattern_25', 'enterocytes_fold_2_pattern_26', 'enterocytes_fold_2_pattern_3', 'enterocytes_fold_2_pattern_4', 'enterocytes_fold_2_pattern_5', 'enterocytes_fold_2_pattern_6', 'enterocytes_fold_2_pattern_7', 'enterocytes_fold_2_pattern_8', 'enterocytes_fold_2_pattern_9', 'enterocytes_fold_3_pattern_0', 'enterocytes_fold_3_pattern_1', 'enterocytes_fold_3_pattern_10', 'enterocytes_fold_3_pattern_11', 'enterocytes_fold_3_pattern_12', 'enterocytes_fold_3_pattern_13', 'enterocytes_fold_3_pattern_14', 'enterocytes_fold_3_pattern_15', 'enterocytes_fold_3_pattern_16', 'enterocytes_fold_3_pattern_17', 'enterocytes_fold_3_pattern_18', 'enterocytes_fold_3_pattern_19', 'enterocytes_fold_3_pattern_2', 'enterocytes_fold_3_pattern_20', 'enterocytes_fold_3_pattern_21', 'enterocytes_fold_3_pattern_22', 'enterocytes_fold_3_pattern_23', 'enterocytes_fold_3_pattern_24', 'enterocytes_fold_3_pattern_25', 'enterocytes_fold_3_pattern_26', 'enterocytes_fold_3_pattern_27', 'enterocytes_fold_3_pattern_28', 'enterocytes_fold_3_pattern_29', 'enterocytes_fold_3_pattern_3', 'enterocytes_fold_3_pattern_30', 'enterocytes_fold_3_pattern_31', 'enterocytes_fold_3_pattern_4', 'enterocytes_fold_3_pattern_5', 'enterocytes_fold_3_pattern_6', 'enterocytes_fold_3_pattern_7', 'enterocytes_fold_3_pattern_8', 'enterocytes_fold_3_pattern_9', 'enterocytes_fold_4_pattern_0', 'enterocytes_fold_4_pattern_1', 'enterocytes_fold_4_pattern_10', 'enterocytes_fold_4_pattern_11', 'enterocytes_fold_4_pattern_12', 'enterocytes_fold_4_pattern_13', 'enterocytes_fold_4_pattern_14', 'enterocytes_fold_4_pattern_15', 'enterocytes_fold_4_pattern_16', 'enterocytes_fold_4_pattern_17', 'enterocytes_fold_4_pattern_18', 'enterocytes_fold_4_pattern_19', 'enterocytes_fold_4_pattern_2', 'enterocytes_fold_4_pattern_20', 'enterocytes_fold_4_pattern_21', 'enterocytes_fold_4_pattern_22', 'enterocytes_fold_4_pattern_23', 'enterocytes_fold_4_pattern_24', 'enterocytes_fold_4_pattern_25', 'enterocytes_fold_4_pattern_26', 'enterocytes_fold_4_pattern_27', 'enterocytes_fold_4_pattern_28', 'enterocytes_fold_4_pattern_29', 'enterocytes_fold_4_pattern_3', 'enterocytes_fold_4_pattern_30', 'enterocytes_fold_4_pattern_31', 'enterocytes_fold_4_pattern_32', 'enterocytes_fold_4_pattern_33', 'enterocytes_fold_4_pattern_4', 'enterocytes_fold_4_pattern_5', 'enterocytes_fold_4_pattern_6', 'enterocytes_fold_4_pattern_7', 'enterocytes_fold_4_pattern_8', 'enterocytes_fold_4_pattern_9']>\n"
     ]
    }
   ],
   "source": [
    "import h5py\n",
    "filename = \"modisco_summary.hdf5\"\n",
    "\n",
    "with h5py.File(filename, \"r\") as f:\n",
    "    # Print all root level object names (aka keys) \n",
    "    # these can be group or dataset names \n",
    "    print(\"Keys: %s\" % f['pos_patterns'].keys())"
   ]
  },
  {
   "cell_type": "code",
   "execution_count": null,
   "id": "cdb07ce2-495f-4f40-82c4-64c754ac83a7",
   "metadata": {},
   "outputs": [],
   "source": []
  },
  {
   "cell_type": "code",
   "execution_count": null,
   "id": "675b33fa-756c-4ffb-ae47-3b4d50c5d845",
   "metadata": {},
   "outputs": [],
   "source": []
  },
  {
   "cell_type": "code",
   "execution_count": null,
   "id": "5cd3f0f9-ca86-469d-ae52-f189ca7de814",
   "metadata": {},
   "outputs": [],
   "source": []
  },
  {
   "cell_type": "code",
   "execution_count": 32,
   "id": "c68b24e5-0a9b-4c1c-9b93-4fad565c852d",
   "metadata": {},
   "outputs": [
    {
     "name": "stdout",
     "output_type": "stream",
     "text": [
      "Keys: <KeysViewHDF5 ['contrib_scores', 'hypothetical_contribs', 'seqlets', 'sequence', 'subpattern_0', 'subpattern_1', 'subpattern_2', 'subpattern_3', 'subpattern_4', 'subpattern_5', 'subpattern_6']>\n"
     ]
    }
   ],
   "source": [
    "import h5py\n",
    "filename = \"modisco_summary_test.hdf5\"\n",
    "\n",
    "with h5py.File(filename, \"r\") as f:\n",
    "    # Print all root level object names (aka keys) \n",
    "    # these can be group or dataset names \n",
    "    print(\"Keys: %s\" % f['pos_patterns']['pattern_0_0'].keys())"
   ]
  },
  {
   "cell_type": "code",
   "execution_count": 29,
   "id": "137cd795-5ff3-4f8c-9530-1369c96c4997",
   "metadata": {},
   "outputs": [
    {
     "ename": "KeyError",
     "evalue": "\"Unable to synchronously open object (object 'sequence' doesn't exist)\"",
     "output_type": "error",
     "traceback": [
      "\u001b[0;31m---------------------------------------------------------------------------\u001b[0m",
      "\u001b[0;31mKeyError\u001b[0m                                  Traceback (most recent call last)",
      "Cell \u001b[0;32mIn[29], line 5\u001b[0m\n\u001b[1;32m      1\u001b[0m \u001b[38;5;28;01mwith\u001b[39;00m h5py\u001b[38;5;241m.\u001b[39mFile(\u001b[38;5;124m\"\u001b[39m\u001b[38;5;124mmodisco_summary_test.hdf5\u001b[39m\u001b[38;5;124m\"\u001b[39m, \u001b[38;5;124m'\u001b[39m\u001b[38;5;124mr\u001b[39m\u001b[38;5;124m'\u001b[39m) \u001b[38;5;28;01mas\u001b[39;00m f:\n\u001b[1;32m      2\u001b[0m     \u001b[38;5;66;03m# Access the dataset\u001b[39;00m\n\u001b[1;32m      3\u001b[0m     list_datasets(f)\n\u001b[0;32m----> 5\u001b[0m     dataset \u001b[38;5;241m=\u001b[39m \u001b[43mf\u001b[49m\u001b[43m[\u001b[49m\u001b[38;5;124;43m'\u001b[39;49m\u001b[38;5;124;43mpos_patterns\u001b[39;49m\u001b[38;5;124;43m'\u001b[39;49m\u001b[43m]\u001b[49m\u001b[43m[\u001b[49m\u001b[38;5;124;43m'\u001b[39;49m\u001b[38;5;124;43mpattern_0_0\u001b[39;49m\u001b[38;5;124;43m'\u001b[39;49m\u001b[43m]\u001b[49m\u001b[43m[\u001b[49m\u001b[38;5;124;43m'\u001b[39;49m\u001b[38;5;124;43msequence\u001b[39;49m\u001b[38;5;124;43m'\u001b[39;49m\u001b[43m]\u001b[49m\n",
      "File \u001b[0;32mh5py/_objects.pyx:54\u001b[0m, in \u001b[0;36mh5py._objects.with_phil.wrapper\u001b[0;34m()\u001b[0m\n",
      "File \u001b[0;32mh5py/_objects.pyx:55\u001b[0m, in \u001b[0;36mh5py._objects.with_phil.wrapper\u001b[0;34m()\u001b[0m\n",
      "File \u001b[0;32m~/.local/lib/python3.10/site-packages/h5py/_hl/group.py:357\u001b[0m, in \u001b[0;36mGroup.__getitem__\u001b[0;34m(self, name)\u001b[0m\n\u001b[1;32m    355\u001b[0m         \u001b[38;5;28;01mraise\u001b[39;00m \u001b[38;5;167;01mValueError\u001b[39;00m(\u001b[38;5;124m\"\u001b[39m\u001b[38;5;124mInvalid HDF5 object reference\u001b[39m\u001b[38;5;124m\"\u001b[39m)\n\u001b[1;32m    356\u001b[0m \u001b[38;5;28;01melif\u001b[39;00m \u001b[38;5;28misinstance\u001b[39m(name, (\u001b[38;5;28mbytes\u001b[39m, \u001b[38;5;28mstr\u001b[39m)):\n\u001b[0;32m--> 357\u001b[0m     oid \u001b[38;5;241m=\u001b[39m \u001b[43mh5o\u001b[49m\u001b[38;5;241;43m.\u001b[39;49m\u001b[43mopen\u001b[49m\u001b[43m(\u001b[49m\u001b[38;5;28;43mself\u001b[39;49m\u001b[38;5;241;43m.\u001b[39;49m\u001b[43mid\u001b[49m\u001b[43m,\u001b[49m\u001b[43m \u001b[49m\u001b[38;5;28;43mself\u001b[39;49m\u001b[38;5;241;43m.\u001b[39;49m\u001b[43m_e\u001b[49m\u001b[43m(\u001b[49m\u001b[43mname\u001b[49m\u001b[43m)\u001b[49m\u001b[43m,\u001b[49m\u001b[43m \u001b[49m\u001b[43mlapl\u001b[49m\u001b[38;5;241;43m=\u001b[39;49m\u001b[38;5;28;43mself\u001b[39;49m\u001b[38;5;241;43m.\u001b[39;49m\u001b[43m_lapl\u001b[49m\u001b[43m)\u001b[49m\n\u001b[1;32m    358\u001b[0m \u001b[38;5;28;01melse\u001b[39;00m:\n\u001b[1;32m    359\u001b[0m     \u001b[38;5;28;01mraise\u001b[39;00m \u001b[38;5;167;01mTypeError\u001b[39;00m(\u001b[38;5;124m\"\u001b[39m\u001b[38;5;124mAccessing a group is done with bytes or str, \u001b[39m\u001b[38;5;124m\"\u001b[39m\n\u001b[1;32m    360\u001b[0m                     \u001b[38;5;124m\"\u001b[39m\u001b[38;5;124mnot \u001b[39m\u001b[38;5;132;01m{}\u001b[39;00m\u001b[38;5;124m\"\u001b[39m\u001b[38;5;241m.\u001b[39mformat(\u001b[38;5;28mtype\u001b[39m(name)))\n",
      "File \u001b[0;32mh5py/_objects.pyx:54\u001b[0m, in \u001b[0;36mh5py._objects.with_phil.wrapper\u001b[0;34m()\u001b[0m\n",
      "File \u001b[0;32mh5py/_objects.pyx:55\u001b[0m, in \u001b[0;36mh5py._objects.with_phil.wrapper\u001b[0;34m()\u001b[0m\n",
      "File \u001b[0;32mh5py/h5o.pyx:189\u001b[0m, in \u001b[0;36mh5py.h5o.open\u001b[0;34m()\u001b[0m\n",
      "\u001b[0;31mKeyError\u001b[0m: \"Unable to synchronously open object (object 'sequence' doesn't exist)\""
     ]
    }
   ],
   "source": [
    "with h5py.File(\"modisco_summary_test.hdf5\", 'r') as f:\n",
    "    # Access the dataset\n",
    "    list_datasets(f)\n",
    "\n",
    "    dataset = f['pos_patterns']['pattern_0_0']['sequence']\n"
   ]
  },
  {
   "cell_type": "code",
   "execution_count": null,
   "id": "75d6b672-6ebf-4294-af98-b7f3e5036b15",
   "metadata": {},
   "outputs": [],
   "source": []
  },
  {
   "cell_type": "code",
   "execution_count": 12,
   "id": "df5070fc-bf12-4830-af64-f03498ed3200",
   "metadata": {},
   "outputs": [
    {
     "data": {
      "text/plain": [
       "'pattern_0_0'"
      ]
     },
     "execution_count": 12,
     "metadata": {},
     "output_type": "execute_result"
    }
   ],
   "source": [
    "pos_pattern+\"_\"+str(i)"
   ]
  },
  {
   "cell_type": "code",
   "execution_count": null,
   "id": "d9793608-bdd6-4b61-b06e-7e04d44081b8",
   "metadata": {},
   "outputs": [],
   "source": [
    "import h5py\n",
    "# Open the HDF5 file\n",
    "for i in range(0,10):\n",
    "    with h5py.File(h5_file, 'r') as f:\n",
    "        # Access the dataset\n",
    "        dataset = f['pos_patterns']['pattern_'+str(i)]['sequence']\n",
    "        a = pd.DataFrame(dataset)\n",
    "        a.columns = ['A','C','G','T']\n",
    "\n",
    "    import logomaker\n",
    "    \n",
    "    crp_logo = logomaker.Logo(a,figsize=(100, 2.5),\n",
    "                              shade_below=0,\n",
    "                              fade_below=0)\n",
    "    \n",
    "    # style using Logo methods\n",
    "    crp_logo.style_spines(visible=False)\n",
    "    crp_logo.style_spines(spines=['left', 'bottom'], visible=True)\n",
    "    #crp_logo.style_xticks(rotation=90, fmt='%d', anchor=0)\n",
    "    crp_logo.ax.set_xticks([])\n",
    "    \n",
    "    # style using Axes methods\n",
    "    crp_logo.ax.set_ylabel(\"Nucleotide Importances\", labelpad=-1)\n",
    "    crp_logo.ax.xaxis.set_ticks_position('none')\n",
    "    crp_logo.ax.xaxis.set_tick_params(pad=-1)\n",
    "    plt.show()\n",
    "    plt.close()"
   ]
  },
  {
   "cell_type": "code",
   "execution_count": null,
   "id": "246953b9-d7b1-4bbb-9c48-920ea008030c",
   "metadata": {},
   "outputs": [],
   "source": []
  },
  {
   "cell_type": "code",
   "execution_count": 8,
   "id": "d21aa652-949a-4696-a3bd-a6a5e33294b8",
   "metadata": {
    "scrolled": true
   },
   "outputs": [
    {
     "ename": "AttributeError",
     "evalue": "'str' object has no attribute 'keys'",
     "output_type": "error",
     "traceback": [
      "\u001b[0;31m---------------------------------------------------------------------------\u001b[0m",
      "\u001b[0;31mAttributeError\u001b[0m                            Traceback (most recent call last)",
      "Cell \u001b[0;32mIn[8], line 1\u001b[0m\n\u001b[0;32m----> 1\u001b[0m \u001b[43mlist_datasets\u001b[49m\u001b[43m(\u001b[49m\u001b[43mh5_file\u001b[49m\u001b[43m)\u001b[49m\n",
      "Cell \u001b[0;32mIn[3], line 10\u001b[0m, in \u001b[0;36mlist_datasets\u001b[0;34m(group, prefix)\u001b[0m\n\u001b[1;32m      9\u001b[0m \u001b[38;5;28;01mdef\u001b[39;00m \u001b[38;5;21mlist_datasets\u001b[39m(group, prefix\u001b[38;5;241m=\u001b[39m\u001b[38;5;124m'\u001b[39m\u001b[38;5;124m'\u001b[39m):\n\u001b[0;32m---> 10\u001b[0m     \u001b[38;5;28;01mfor\u001b[39;00m key \u001b[38;5;129;01min\u001b[39;00m \u001b[43mgroup\u001b[49m\u001b[38;5;241;43m.\u001b[39;49m\u001b[43mkeys\u001b[49m():\n\u001b[1;32m     11\u001b[0m         item \u001b[38;5;241m=\u001b[39m group[key]\n\u001b[1;32m     12\u001b[0m         \u001b[38;5;28;01mif\u001b[39;00m \u001b[38;5;28misinstance\u001b[39m(item, pd\u001b[38;5;241m.\u001b[39mDataFrame):\n",
      "\u001b[0;31mAttributeError\u001b[0m: 'str' object has no attribute 'keys'"
     ]
    }
   ],
   "source": [
    "list_datasets(h5_file)"
   ]
  },
  {
   "cell_type": "code",
   "execution_count": null,
   "id": "71086da5-403c-4227-86f0-f73cfcd9f0a3",
   "metadata": {},
   "outputs": [],
   "source": []
  },
  {
   "cell_type": "code",
   "execution_count": null,
   "id": "6e63f36a-61cc-4098-b787-32103c2a8223",
   "metadata": {},
   "outputs": [],
   "source": []
  },
  {
   "cell_type": "code",
   "execution_count": null,
   "id": "be7d9ffa-b401-4194-a303-833c694adde7",
   "metadata": {},
   "outputs": [],
   "source": []
  },
  {
   "cell_type": "code",
   "execution_count": null,
   "id": "9b47101b-c4c9-458b-a337-495bb39698de",
   "metadata": {},
   "outputs": [],
   "source": [
    "celltype_models_human/modelv1_enterocytes/fold_1/output/auxiliary/interpret_subsample/chrombpnet_nobias.profile_scores.h5"
   ]
  },
  {
   "cell_type": "code",
   "execution_count": null,
   "id": "7fa13fe0-1c6c-4dd5-aad8-99919516aed6",
   "metadata": {},
   "outputs": [],
   "source": []
  },
  {
   "cell_type": "code",
   "execution_count": null,
   "id": "ae667f31-aba2-4630-b0dc-8b30c15c7a70",
   "metadata": {},
   "outputs": [],
   "source": []
  }
 ],
 "metadata": {
  "kernelspec": {
   "display_name": "seq_manipulation",
   "language": "python",
   "name": "seq_manipulation"
  },
  "language_info": {
   "codemirror_mode": {
    "name": "ipython",
    "version": 3
   },
   "file_extension": ".py",
   "mimetype": "text/x-python",
   "name": "python",
   "nbconvert_exporter": "python",
   "pygments_lexer": "ipython3",
   "version": "3.10.14"
  }
 },
 "nbformat": 4,
 "nbformat_minor": 5
}
