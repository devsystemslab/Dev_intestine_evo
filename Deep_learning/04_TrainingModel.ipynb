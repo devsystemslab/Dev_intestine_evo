{
 "cells": [
  {
   "cell_type": "code",
   "execution_count": 1,
   "id": "f6c51815-8864-49be-b12c-dedd3a5d978f",
   "metadata": {},
   "outputs": [
    {
     "name": "stdout",
     "output_type": "stream",
     "text": [
      "(chrombpnet) \n"
     ]
    },
    {
     "ename": "",
     "evalue": "1",
     "output_type": "error",
     "traceback": []
    }
   ],
   "source": [
    "mamba activate chrombpnet"
   ]
  },
  {
   "cell_type": "code",
   "execution_count": 2,
   "id": "3c59bd24-71b9-4454-bdf1-fe88a0463241",
   "metadata": {},
   "outputs": [
    {
     "name": "stdout",
     "output_type": "stream",
     "text": [
      "(chrombpnet) \n"
     ]
    },
    {
     "ename": "",
     "evalue": "1",
     "output_type": "error",
     "traceback": []
    }
   ],
   "source": [
    "export PATH=/cluster/home/jjanssens/.local/bin:$PATH"
   ]
  },
  {
   "cell_type": "code",
   "execution_count": 3,
   "id": "cf589d48-95c6-45ec-a832-7b31c6fa735c",
   "metadata": {},
   "outputs": [
    {
     "name": "stdout",
     "output_type": "stream",
     "text": [
      "/cluster/project/treutlein/jjans/software/miniforge3/envs/chrombpnet\n",
      "(chrombpnet) \n"
     ]
    },
    {
     "ename": "",
     "evalue": "1",
     "output_type": "error",
     "traceback": []
    }
   ],
   "source": [
    "echo $CONDA_PREFIX"
   ]
  },
  {
   "cell_type": "code",
   "execution_count": 4,
   "id": "d3bd0981-e944-4091-a0e0-bebd9417660b",
   "metadata": {},
   "outputs": [
    {
     "name": "stdout",
     "output_type": "stream",
     "text": [
      "(chrombpnet) \n"
     ]
    },
    {
     "ename": "",
     "evalue": "1",
     "output_type": "error",
     "traceback": []
    }
   ],
   "source": [
    "export LD_LIBRARY_PATH=$CONDA_PREFIX/lib:$LD_LIBRARY_PATH"
   ]
  },
  {
   "cell_type": "code",
   "execution_count": 5,
   "id": "2cb8ee7d-7dac-4c1f-a194-556f5bceb094",
   "metadata": {
    "collapsed": true,
    "jupyter": {
     "outputs_hidden": true
    },
    "tags": []
   },
   "outputs": [
    {
     "name": "stdout",
     "output_type": "stream",
     "text": [
      "usage: chrombpnet pipeline [-h] -g GENOME -c CHROM_SIZES\n",
      "                           (-ibam INPUT_BAM_FILE | -ifrag INPUT_FRAGMENT_FILE | -itag INPUT_TAGALIGN_FILE)\n",
      "                           -o OUTPUT_DIR -d {ATAC,DNASE} -p PEAKS -n NONPEAKS\n",
      "                           -fl CHR_FOLD_PATH [-oth OUTLIER_THRESHOLD]\n",
      "                           [--ATAC-ref-path ATAC_REF_PATH]\n",
      "                           [--DNASE-ref-path DNASE_REF_PATH]\n",
      "                           [--num-samples NUM_SAMPLES] [-il INPUTLEN]\n",
      "                           [-ol OUTPUTLEN] [-s SEED] [-e EPOCHS]\n",
      "                           [-es EARLY_STOP] [-l LEARNING_RATE]\n",
      "                           [-track [TRACKABLES ...]]\n",
      "                           [-a ARCHITECTURE_FROM_FILE] [-fp FILE_PREFIX]\n",
      "                           [-hp HTML_PREFIX] [--bsort] [--tmpdir TMPDIR]\n",
      "                           [--no-st] -b BIAS_MODEL_PATH\n",
      "                           [-sr NEGATIVE_SAMPLING_RATIO] [-fil FILTERS]\n",
      "                           [-dil N_DILATION_LAYERS] [-j MAX_JITTER]\n",
      "                           [-bs BATCH_SIZE]\n",
      "\n",
      "required arguments:\n",
      "  -g GENOME, --genome GENOME\n",
      "                        reference genome fasta file\n",
      "  -c CHROM_SIZES, --chrom-sizes CHROM_SIZES\n",
      "                        Chrom sizes file\n",
      "  -ibam INPUT_BAM_FILE, --input-bam-file INPUT_BAM_FILE\n",
      "                        Input BAM file\n",
      "  -ifrag INPUT_FRAGMENT_FILE, --input-fragment-file INPUT_FRAGMENT_FILE\n",
      "                        Input fragment file\n",
      "  -itag INPUT_TAGALIGN_FILE, --input-tagalign-file INPUT_TAGALIGN_FILE\n",
      "                        Input tagAlign file\n",
      "  -o OUTPUT_DIR, --output-dir OUTPUT_DIR\n",
      "                        Output dir (path/to/output/dir)\n",
      "  -d {ATAC,DNASE}, --data-type {ATAC,DNASE}\n",
      "                        assay type\n",
      "  -p PEAKS, --peaks PEAKS\n",
      "                        10 column bed file of peaks. Sequences and labels will\n",
      "                        be extracted centered at start (2nd col) + summit\n",
      "                        (10th col).\n",
      "  -n NONPEAKS, --nonpeaks NONPEAKS\n",
      "                        10 column bed file of non-peak regions, centered at\n",
      "                        summit (10th column)\n",
      "  -fl CHR_FOLD_PATH, --chr-fold-path CHR_FOLD_PATH\n",
      "                        Fold information - dictionary with test,valid and\n",
      "                        train keys and values with corresponding chromosomes\n",
      "  -b BIAS_MODEL_PATH, --bias-model-path BIAS_MODEL_PATH\n",
      "                        Path for a pretrained bias model\n",
      "\n",
      "optional arguments:\n",
      "  -oth OUTLIER_THRESHOLD, --outlier-threshold OUTLIER_THRESHOLD\n",
      "                        threshold to use to filter outlies\n",
      "  --ATAC-ref-path ATAC_REF_PATH\n",
      "                        Path to ATAC reference motifs (ATAC.ref.motifs.txt\n",
      "                        used by default)\n",
      "  --DNASE-ref-path DNASE_REF_PATH\n",
      "                        Path to DNASE reference motifs (DNASE.ref.motifs.txt\n",
      "                        used by default)\n",
      "  --num-samples NUM_SAMPLES\n",
      "                        Number of reads to sample from BAM/fragment/tagAlign\n",
      "                        file for shift estimation\n",
      "  -il INPUTLEN, --inputlen INPUTLEN\n",
      "                        Sequence input length\n",
      "  -ol OUTPUTLEN, --outputlen OUTPUTLEN\n",
      "                        Prediction output length\n",
      "  -s SEED, --seed SEED  seed to use for model training\n",
      "  -e EPOCHS, --epochs EPOCHS\n",
      "                        Maximum epochs to train\n",
      "  -es EARLY_STOP, --early-stop EARLY_STOP\n",
      "                        Early stop limit, corresponds to 'patience' in\n",
      "                        callback\n",
      "  -l LEARNING_RATE, --learning-rate LEARNING_RATE\n",
      "                        Learning rate for model training\n",
      "  -track [TRACKABLES ...], --trackables [TRACKABLES ...]\n",
      "                        list of things to track per batch, such as logcount_pr\n",
      "                        edictions_loss,loss,profile_predictions_loss,val_logco\n",
      "                        unt_predictions_loss,val_loss,val_profile_predictions_\n",
      "                        loss\n",
      "  -a ARCHITECTURE_FROM_FILE, --architecture-from-file ARCHITECTURE_FROM_FILE\n",
      "                        Model to use for training\n",
      "  -fp FILE_PREFIX, --file-prefix FILE_PREFIX\n",
      "                        File prefix for output to use. All the files will be\n",
      "                        prefixed with this string if provided.\n",
      "  -hp HTML_PREFIX, --html-prefix HTML_PREFIX\n",
      "                        The html prefix to use for the html file output.\n",
      "  --bsort               In prpeprocess, by deafult we sort bam using unix sort\n",
      "                        but sometimes LC collate can cause issues, so this can\n",
      "                        be set to use betools sort which works well but is\n",
      "                        memory intensive..\n",
      "  --tmpdir TMPDIR       temp dir for unix sort\n",
      "  --no-st               Dont do streaming and filtering in preprocessing\n",
      "                        (short chromosome contrigs not in reference fasta are\n",
      "                        not removed)\n",
      "  -sr NEGATIVE_SAMPLING_RATIO, --negative-sampling-ratio NEGATIVE_SAMPLING_RATIO\n",
      "                        Ratio of negatives to positive samples per epoch\n",
      "  -fil FILTERS, --filters FILTERS\n",
      "                        Number of filters to use in chrombpnet mode\n",
      "  -dil N_DILATION_LAYERS, --n-dilation-layers N_DILATION_LAYERS\n",
      "                        Number of dilation layers to use in chrombpnet model\n",
      "  -j MAX_JITTER, --max-jitter MAX_JITTER\n",
      "                        Maximum jitter applied on either side of region\n",
      "                        (default 500 for chrombpnet model)\n",
      "  -bs BATCH_SIZE, --batch-size BATCH_SIZE\n",
      "                        batch size to use for model training\n",
      "(chrombpnet) \n"
     ]
    },
    {
     "ename": "",
     "evalue": "1",
     "output_type": "error",
     "traceback": []
    }
   ],
   "source": [
    "chrombpnet pipeline -h"
   ]
  },
  {
   "cell_type": "code",
   "execution_count": 8,
   "id": "6ff47744-f38d-47d4-91f6-f62cb3ab210c",
   "metadata": {},
   "outputs": [
    {
     "name": "stdout",
     "output_type": "stream",
     "text": [
      "(chrombpnet) \n"
     ]
    },
    {
     "ename": "",
     "evalue": "1",
     "output_type": "error",
     "traceback": []
    }
   ],
   "source": [
    "rm -r modelv0/chrombpnet_model"
   ]
  },
  {
   "cell_type": "code",
   "execution_count": 6,
   "id": "1308f569-8f17-41f6-b69a-90963fcc21e8",
   "metadata": {
    "tags": []
   },
   "outputs": [
    {
     "name": "stdout",
     "output_type": "stream",
     "text": [
      "Traceback (most recent call last):\n",
      "  File \"/cluster/home/jjanssens/.local/bin/chrombpnet\", line 8, in <module>\n",
      "    sys.exit(main())\n",
      "  File \"/cluster/home/jjanssens/.local/lib/python3.10/site-packages/chrombpnet/CHROMBPNET.py\", line 18, in main\n",
      "    os.makedirs(os.path.join(args.output_dir,\"logs\"), exist_ok=False)\n",
      "  File \"/cluster/project/treutlein/jjans/software/miniforge3/envs/chrombpnet/lib/python3.10/os.py\", line 225, in makedirs\n",
      "    mkdir(name, mode)\n",
      "FileExistsError: [Errno 17] File exists: 'modelv0/chrombpnet_model/logs'\n",
      "(chrombpnet) \n"
     ]
    },
    {
     "ename": "",
     "evalue": "1",
     "output_type": "error",
     "traceback": []
    }
   ],
   "source": [
    "chrombpnet pipeline \\\n",
    "        -ibam enterocytes_species/enterocyte_human_sorted_filtered.bam \\\n",
    "        -d \"ATAC\" \\\n",
    "        -g encode_data/hg38.fa \\\n",
    "        -c encode_data/hg38.chrom.sizes \\\n",
    "        -p called_peaks/peaks_no_blacklist.bed \\\n",
    "        -n modelv0/output_negatives.bed \\\n",
    "        -fl encode_data/splits/fold_0.json \\\n",
    "        -b bias_model/scATAC_dermal_fibroblast.h5 \\\n",
    "        -o modelv0/chrombpnet_model/"
   ]
  },
  {
   "cell_type": "code",
   "execution_count": null,
   "id": "f19a03f2-13a4-4348-b1d8-49ad6971691b",
   "metadata": {},
   "outputs": [],
   "source": []
  }
 ],
 "metadata": {
  "kernelspec": {
   "display_name": "chrompbnet2",
   "language": "python",
   "name": "chrombpnet2"
  },
  "language_info": {
   "codemirror_mode": {
    "name": "ipython",
    "version": 3
   },
   "file_extension": ".py",
   "mimetype": "text/x-python",
   "name": "python",
   "nbconvert_exporter": "python",
   "pygments_lexer": "ipython3",
   "version": "3.10.14"
  }
 },
 "nbformat": 4,
 "nbformat_minor": 5
}
