{
 "cells": [
  {
   "cell_type": "code",
   "execution_count": null,
   "id": "4aa2c51a-0f96-48f4-981d-1cef6392e964",
   "metadata": {},
   "outputs": [],
   "source": [
    "mamba activate chrombpnet2\n",
    "export LD_LIBRARY_PATH=/cluster/project/treutlein/jjans/software/miniforge3/envs/cuda11_env/lib:$CONDA_PREFIX/lib:$LD_LIBRARY_PATH"
   ]
  },
  {
   "cell_type": "code",
   "execution_count": null,
   "id": "ad1f112b-5d48-4820-998c-1c0918e55781",
   "metadata": {},
   "outputs": [],
   "source": [
    "parallel -j 4 '\n",
    "    modisco motifs -i celltype_models_human/modelv1_{1}/chrombpnet_nobias.profile_scores_avg.h5 -n 1000000 -o celltype_models_human/modelv1_{1}/modisco_avg/{1}.h5\n",
    "    \n",
    "    mkdir -p celltype_models_human/modelv1_{1}/modisco_avg/MEME\n",
    "    mkdir -p celltype_models_human/modelv1_{1}/modisco_avg/JASPAR\n",
    "\n",
    "    modisco report -i celltype_models_human/modelv1_{1}/modisco_avg/{1}.h5 -o celltype_models_human/modelv1_{1}/modisco_avg/JASPAR/ -s celltype_models_human/modelv1_{1}/modisco_avg/JASPAR/ -m JASPAR2022_CORE_vertebrates_non-redundant_pfms_meme.txt\n",
    "\n",
    "    modisco report -i celltype_models_human/modelv1_{1}/modisco_avg/{1}.h5 -o celltype_models_human/modelv1_{1}/modisco_avg/MEME/ -s celltype_models_human/modelv1_{1}/modisco_avg/MEME/ -m motifs.meme.txt\n",
    "\n",
    "' ::: \"${cell_types[@]}\" \n"
   ]
  },
  {
   "cell_type": "code",
   "execution_count": 50,
   "id": "640c2547-2304-47ac-ab3f-367f6c2440a3",
   "metadata": {},
   "outputs": [
    {
     "name": "stdout",
     "output_type": "stream",
     "text": [
      "OMP: Info #276: omp_set_nested routine deprecated, please use omp_set_max_active_levels instead.\n",
      "\u001b[0m\n"
     ]
    }
   ],
   "source": [
    "modisco report -i celltype_models_human/modelv1_enterocytes/modisco_avg/enterocytes.h5 -o celltype_models_human/modelv1_enterocytes/modisco_avg/ -s celltype_models_human/modelv1_enterocytes/modisco_avg/ -m JASPAR2022_CORE_vertebrates_non-redundant_pfms_meme.txt"
   ]
  },
  {
   "cell_type": "code",
   "execution_count": 52,
   "id": "78636e23-a741-4645-938b-0ac92b98b96d",
   "metadata": {},
   "outputs": [
    {
     "name": "stdout",
     "output_type": "stream",
     "text": [
      "OMP: Info #276: omp_set_nested routine deprecated, please use omp_set_max_active_levels instead.\n",
      "\u001b[0m\n"
     ]
    }
   ],
   "source": [
    "modisco report -i celltype_models_human/modelv1_enterocytes/modisco_avg/enterocytes.h5 -o celltype_models_human/modelv1_enterocytes/modisco_avg/ -s celltype_models_human/modelv1_enterocytes/modisco_avg/meme -m motifs.meme.txt"
   ]
  },
  {
   "cell_type": "code",
   "execution_count": 1,
   "id": "512c1612-094b-4133-92bf-eaf4e19de620",
   "metadata": {},
   "outputs": [],
   "source": [
    "mamba activate finemo_gpu"
   ]
  },
  {
   "cell_type": "code",
   "execution_count": 2,
   "id": "6ea9e213-56be-4601-aaef-c4a874404fcb",
   "metadata": {},
   "outputs": [],
   "source": [
    "unset PYTHONPATH"
   ]
  },
  {
   "cell_type": "code",
   "execution_count": 3,
   "id": "a3ac8b09-cb46-47f9-8123-30639a385494",
   "metadata": {},
   "outputs": [
    {
     "name": "stdout",
     "output_type": "stream",
     "text": [
      "/cluster/project/treutlein/jjans/software/miniforge3/envs/finemo_gpu/bin/python\n"
     ]
    }
   ],
   "source": [
    "which python"
   ]
  },
  {
   "cell_type": "code",
   "execution_count": 4,
   "id": "51b0d506-1f43-4c2d-94bf-b092c6c8baa3",
   "metadata": {},
   "outputs": [],
   "source": [
    "export PYTHONPATH=/cluster/project/treutlein/jjans/software/miniforge3/envs/finemo_gpu/lib/python3.10/site-packages:$PYTHONPATH\n"
   ]
  },
  {
   "cell_type": "code",
   "execution_count": 5,
   "id": "5e202ab4-b653-4c93-813b-37dbddb5d05e",
   "metadata": {},
   "outputs": [
    {
     "name": "stdout",
     "output_type": "stream",
     "text": [
      "usage: finemo extract-regions-chrombpnet-h5 [-h] -c H5S [H5S ...] -o OUT_PATH\n",
      "                                            [-w REGION_WIDTH]\n",
      "\n",
      "options:\n",
      "  -h, --help            show this help message and exit\n",
      "  -c H5S [H5S ...], --h5s H5S [H5S ...]\n",
      "                        One or more H5 files of contribution scores, with\n",
      "                        paths delimited by whitespace. Scores are averaged\n",
      "                        across files. (default: None)\n",
      "  -o OUT_PATH, --out-path OUT_PATH\n",
      "                        The path to the output .npz file. (default: None)\n",
      "  -w REGION_WIDTH, --region-width REGION_WIDTH\n",
      "                        The width of the input region centered around each\n",
      "                        peak summit. (default: 1000)\n"
     ]
    }
   ],
   "source": [
    "finemo extract-regions-chrombpnet-h5 -h"
   ]
  },
  {
   "cell_type": "code",
   "execution_count": null,
   "id": "1f177a9d-7766-4d41-bd47-4a47f0c52be4",
   "metadata": {},
   "outputs": [],
   "source": [
    "celltype_models_human/modelv1_enterocytes/fold_0/output/auxiliary/interpret_subsample/chrombpnet_nobias.profile_scores.h5"
   ]
  },
  {
   "cell_type": "code",
   "execution_count": 3,
   "id": "2ff6d289-d03a-48ea-8c0b-60a89e7fe29f",
   "metadata": {},
   "outputs": [],
   "source": [
    "finemo extract-regions-chrombpnet-h5 -c celltype_models_human/modelv1_enterocytes/fold_0/output/auxiliary/interpret_subsample/chrombpnet_nobias.profile_scores.h5 -o test_finemo"
   ]
  },
  {
   "cell_type": "code",
   "execution_count": null,
   "id": "c1dcfa3a-e350-4c7f-a45f-2893f3c955f1",
   "metadata": {},
   "outputs": [],
   "source": [
    "finemo extract-regions-chrombpnet-h5 -c celltype_models_human/modelv1_enterocytes/fold_0/output/auxiliary/interpret_subsample/chrombpnet_nobias.profile_scores.h5 -o test_finemo"
   ]
  },
  {
   "cell_type": "code",
   "execution_count": null,
   "id": "95b39df5-bca0-4ddc-a702-669cdbfe866b",
   "metadata": {},
   "outputs": [],
   "source": [
    "modisco motifs [-h] -i H5PY -n MAX_SEQLETS -op OUTPUT_PREFIX [-l N_LEIDEN] [-w WINDOW] [-v]"
   ]
  },
  {
   "cell_type": "code",
   "execution_count": 26,
   "id": "7f39674f-3416-4149-b7c0-aed6e16fd6fd",
   "metadata": {},
   "outputs": [
    {
     "name": "stdout",
     "output_type": "stream",
     "text": [
      "chrombpnet_nobias.profile_scores_avg.h5  fold_0  fold_1  fold_2  fold_3  fold_4\n"
     ]
    }
   ],
   "source": [
    "ls celltype_models_human/modelv1_EEC/chrombpnet_nobias.profile_scores_avg.h5"
   ]
  },
  {
   "cell_type": "code",
   "execution_count": 62,
   "id": "11109de3-c4b5-43f0-b655-e3184bce7c25",
   "metadata": {},
   "outputs": [],
   "source": [
    "cell_types=(\"Stem_cell\" \"Goblet_cell\" \"EEC\" \"enterocytes\")\n",
    "folds=(\"fold_1\" \"fold_2\" \"fold_3\" \"fold_4\" \"fold_0\")\n",
    "\n",
    "# Function to create output directory if it doesn't exist\n",
    "create_output_dir() {\n",
    "    local output_dir=\"$1\"\n",
    "    mkdir -p $output_dir\n",
    "}\n",
    "\n",
    "# Export the function so that GNU Parallel can access it\n",
    "export -f create_output_dir\n",
    "\n",
    "\n",
    "parallel -j 1 '\n",
    "    finemo extract-regions-chrombpnet-h5 -c celltype_models_human/modelv1_{1}/chrombpnet_nobias.profile_scores_avg.h5 -o finemo/npz_files/{1}_avg\n",
    "\n",
    "    mkdir -p finemo/{1}_avg/{2}_patterns\n",
    "    \n",
    "    finemo call-hits -r finemo/npz_files/{1}_avg.npz -m celltype_models_human/modelv1_{1}/modisco_avg/{1}.h5 -p celltype_models_human/modelv1_{1}/fold_0/output/auxiliary/interpret_subsample/chrombpnet_nobias.interpreted_regions.bed -o finemo/{1}_avg/{2}_patterns\n",
    "' ::: \"${cell_types[@]}\" ::: \"${cell_types[@]}\"\n"
   ]
  },
  {
   "cell_type": "code",
   "execution_count": 63,
   "id": "1b55e304-72db-40b4-a184-06a44a88490e",
   "metadata": {},
   "outputs": [
    {
     "name": "stdout",
     "output_type": "stream",
     "text": [
      "EEC_avg      Goblet_cell_avg  Stem_cell_avg    npz_files\n",
      "Goblet_cell  Stem_cell\t      enterocytes_avg\n"
     ]
    }
   ],
   "source": [
    "ls finemo"
   ]
  },
  {
   "cell_type": "code",
   "execution_count": 7,
   "id": "b9ccafd1-8aa6-4b6d-ab67-786131a4a585",
   "metadata": {},
   "outputs": [
    {
     "name": "stdout",
     "output_type": "stream",
     "text": [
      "100%|██████████████████████████████| 30000/30000 [00:10<00:00, 2840.56regions/s]\n"
     ]
    }
   ],
   "source": [
    "finemo call-hits -r finemo/npz_files/enterocytes_avg.npz -m celltype_models_human/modelv1_enterocytes/modisco_avg/enterocytes.h5 -p celltype_models_human/modelv1_enterocytes/fold_0/output/auxiliary/interpret_subsample/chrombpnet_nobias.interpreted_regions.bed -o finemo/enterocytes_avg/enterocytes_patterns_manual/\n"
   ]
  },
  {
   "cell_type": "code",
   "execution_count": 8,
   "id": "2dc62e84-71ea-4f50-b209-b42b3dc997f9",
   "metadata": {},
   "outputs": [
    {
     "name": "stdout",
     "output_type": "stream",
     "text": [
      "100%|██████████████████████████████| 30000/30000 [00:19<00:00, 1571.75regions/s]\n"
     ]
    }
   ],
   "source": [
    "finemo call-hits -r finemo/npz_files/enterocytes_avg.npz -m celltype_models_human/modelv1_enterocytes/fold_0/output/auxiliary/interpret_subsample/modisco_results_profile_scores.h5 -p celltype_models_human/modelv1_enterocytes/fold_0/output/auxiliary/interpret_subsample/chrombpnet_nobias.interpreted_regions.bed -o finemo/enterocytes_avg/enterocytes_patterns_manual/testing\n"
   ]
  },
  {
   "cell_type": "code",
   "execution_count": null,
   "id": "c3182bf4-79b0-4c7d-bff5-29106e01c2c7",
   "metadata": {},
   "outputs": [],
   "source": [
    "finemo call-hits -r finemo/npz_files/enterocytes_avg.npz -m celltype_models_human/modelv1_enterocytes/modisco_avg/enterocytes.h5 -p celltype_models_human/modelv1_enterocytes/fold_0/output/auxiliary/interpret_subsample/chrombpnet_nobias.interpreted_regions.bed -o finemo/enterocytes_avg/enterocytes_patterns_manual/\n"
   ]
  },
  {
   "cell_type": "code",
   "execution_count": null,
   "id": "c92f1420-31f7-4863-ab5d-78b5cf501e03",
   "metadata": {},
   "outputs": [],
   "source": [
    "finemo call-hits -r test_finemo.npz -m celltype_models_human/modelv1_enterocytes/fold_0/output/auxiliary/interpret_subsample/modisco_results_profile_scores.h5 -p celltype_models_human/modelv1_enterocytes/fold_0/output/auxiliary/interpret_subsample/chrombpnet_nobias.interpreted_regions.bed -o test_finemo"
   ]
  },
  {
   "cell_type": "code",
   "execution_count": null,
   "id": "909be81b-f3b6-46c9-8f04-de1d8723d7be",
   "metadata": {},
   "outputs": [],
   "source": []
  },
  {
   "cell_type": "code",
   "execution_count": null,
   "id": "e0e428ad-df05-4d60-a9a5-26fd59104e1a",
   "metadata": {},
   "outputs": [],
   "source": []
  },
  {
   "cell_type": "code",
   "execution_count": 24,
   "id": "ae74e6ea-5ef5-4155-817b-c23017bf9a8e",
   "metadata": {
    "collapsed": true,
    "jupyter": {
     "outputs_hidden": true
    }
   },
   "outputs": [
    {
     "name": "stdout",
     "output_type": "stream",
     "text": [
      "/cluster/project/treutlein/USERS/jjans/software/finemo_gpu/src/finemo/hitcaller.py:275: RuntimeWarning: Optimizer failed for region 23908.\n",
      "  warnings.warn(f\"Optimizer failed for region {ind}.\", RuntimeWarning)\n",
      "/cluster/project/treutlein/USERS/jjans/software/finemo_gpu/src/finemo/hitcaller.py:275: RuntimeWarning: Optimizer failed for region 3697.\n",
      "  warnings.warn(f\"Optimizer failed for region {ind}.\", RuntimeWarning)\n",
      "/cluster/project/treutlein/USERS/jjans/software/finemo_gpu/src/finemo/hitcaller.py:275: RuntimeWarning: Optimizer failed for region 20930.\n",
      "  warnings.warn(f\"Optimizer failed for region {ind}.\", RuntimeWarning)\n",
      "/cluster/project/treutlein/USERS/jjans/software/finemo_gpu/src/finemo/hitcaller.py:275: RuntimeWarning: Optimizer failed for region 23908.\n",
      "  warnings.warn(f\"Optimizer failed for region {ind}.\", RuntimeWarning)\n",
      "/cluster/project/treutlein/USERS/jjans/software/finemo_gpu/src/finemo/hitcaller.py:275: RuntimeWarning: Optimizer failed for region 28671.\n",
      "  warnings.warn(f\"Optimizer failed for region {ind}.\", RuntimeWarning)\n"
     ]
    }
   ],
   "source": [
    "cell_types=(\"Stem_cell\" \"Goblet_cell\" \"EEC\" \"enterocytes\")\n",
    "folds=(\"fold_1\" \"fold_2\" \"fold_3\" \"fold_4\" \"fold_0\")\n",
    "\n",
    "# Function to create output directory if it doesn't exist\n",
    "create_output_dir() {\n",
    "    local output_dir=\"$1\"\n",
    "    mkdir -p $output_dir\n",
    "}\n",
    "\n",
    "# Export the function so that GNU Parallel can access it\n",
    "export -f create_output_dir\n",
    "\n",
    "\n",
    "parallel -j 1 '\n",
    "    finemo extract-regions-chrombpnet-h5 -c celltype_models_human/modelv1_{1}/{2}/output/auxiliary/interpret_subsample/chrombpnet_nobias.profile_scores.h5 -o finemo/npz_files/{1}_{2}\n",
    "\n",
    "    mkdir -p finemo/{1}/{2}\n",
    "    \n",
    "    finemo call-hits -r finemo/npz_files/{1}_{2}.npz -m modisco_summary_{3}.hdf5 -p celltype_models_human/modelv1_{1}/{2}/output/auxiliary/interpret_subsample/chrombpnet_nobias.interpreted_regions.bed -o finemo/{1}/{2}/{3} -b 500\n",
    "' ::: \"${cell_types[@]}\" ::: \"${folds[@]}\" ::: \"${cell_types[@]}\"\n"
   ]
  },
  {
   "cell_type": "code",
   "execution_count": 21,
   "id": "7f31472d-0b41-4bf2-b8ba-8aa2cbf40597",
   "metadata": {},
   "outputs": [
    {
     "name": "stdout",
     "output_type": "stream",
     "text": [
      "modisco_summary.hdf5\t\t  modisco_summary_Stem_cell.hdf5\n",
      "modisco_summary_EEC.hdf5\t  modisco_summary_enterocytes.hdf5\n",
      "modisco_summary_Goblet_cell.hdf5  modisco_summary_test.hdf5\n"
     ]
    }
   ],
   "source": [
    "ls modisco_summary*"
   ]
  },
  {
   "cell_type": "code",
   "execution_count": 12,
   "id": "6bf05318-ba29-49ef-bd8a-36bc4da229d4",
   "metadata": {},
   "outputs": [
    {
     "name": "stdout",
     "output_type": "stream",
     "text": [
      "100%|███████████████████████████████| 30000/30000 [01:47<00:00, 279.50regions/s]\n"
     ]
    }
   ],
   "source": [
    "finemo call-hits -r test_finemo.npz -m celltype_models_human/modelv1_enterocytes/fold_0/output/auxiliary/interpret_subsample/modisco_results_profile_scores.h5 -p celltype_models_human/modelv1_enterocytes/fold_0/output/auxiliary/interpret_subsample/chrombpnet_nobias.interpreted_regions.bed -o test_finemo"
   ]
  },
  {
   "cell_type": "code",
   "execution_count": null,
   "id": "295b6a17-5ad1-4fbe-9d7b-19120e26baff",
   "metadata": {},
   "outputs": [],
   "source": []
  },
  {
   "cell_type": "code",
   "execution_count": 13,
   "id": "3e137c00-b3ca-4f3e-adf1-e1c477dec9d5",
   "metadata": {},
   "outputs": [
    {
     "name": "stdout",
     "output_type": "stream",
     "text": [
      "100%|███████████████████████████████| 30000/30000 [01:38<00:00, 305.74regions/s]\n"
     ]
    }
   ],
   "source": [
    "finemo extract-regions-chrombpnet-h5 -c celltype_models_human/modelv1_Goblet_cell/fold_0/output/auxiliary/interpret_subsample/chrombpnet_nobias.profile_scores.h5 -o test_finemo_GC\n",
    "\n",
    "\n",
    "finemo call-hits -r test_finemo_GC.npz -m celltype_models_human/modelv1_enterocytes/fold_0/output/auxiliary/interpret_subsample/modisco_results_profile_scores.h5 -p celltype_models_human/modelv1_Goblet_cell/fold_0/output/auxiliary/interpret_subsample/chrombpnet_nobias.interpreted_regions.bed -o test_finemo_GC"
   ]
  },
  {
   "cell_type": "code",
   "execution_count": null,
   "id": "2177703c-d5ad-4c43-b50b-24c03dd144de",
   "metadata": {},
   "outputs": [],
   "source": []
  },
  {
   "cell_type": "code",
   "execution_count": null,
   "id": "912bfcb3-ec8e-41df-8003-56a9f3cb33c4",
   "metadata": {},
   "outputs": [],
   "source": []
  },
  {
   "cell_type": "code",
   "execution_count": null,
   "id": "3275cdb9-78ad-4f12-a384-62a2f81424ab",
   "metadata": {},
   "outputs": [],
   "source": []
  },
  {
   "cell_type": "code",
   "execution_count": null,
   "id": "f518c87a-c7ee-49d0-a632-b941f60d61d4",
   "metadata": {},
   "outputs": [],
   "source": []
  }
 ],
 "metadata": {
  "kernelspec": {
   "display_name": "Bash",
   "language": "bash",
   "name": "bash"
  },
  "language_info": {
   "codemirror_mode": "shell",
   "file_extension": ".sh",
   "mimetype": "text/x-sh",
   "name": "bash"
  }
 },
 "nbformat": 4,
 "nbformat_minor": 5
}
