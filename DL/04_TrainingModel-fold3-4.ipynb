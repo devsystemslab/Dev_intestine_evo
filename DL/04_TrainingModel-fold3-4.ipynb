{
 "cells": [
  {
   "cell_type": "code",
   "execution_count": 1,
   "id": "f6c51815-8864-49be-b12c-dedd3a5d978f",
   "metadata": {},
   "outputs": [],
   "source": [
    "mamba activate chrombpnet2"
   ]
  },
  {
   "cell_type": "code",
   "execution_count": 2,
   "id": "491046e0-b007-4a3b-866e-68a037f5f542",
   "metadata": {},
   "outputs": [
    {
     "name": "stdout",
     "output_type": "stream",
     "text": [
      "/cluster/project/treutlein/jjans/software/miniforge3/envs/chrombpnet2/bin/chrombpnet\n"
     ]
    }
   ],
   "source": [
    "which chrombpnet"
   ]
  },
  {
   "cell_type": "code",
   "execution_count": 3,
   "id": "3c59bd24-71b9-4454-bdf1-fe88a0463241",
   "metadata": {},
   "outputs": [],
   "source": [
    "#export PATH=/cluster/home/jjanssens/.local/bin:$PATH"
   ]
  },
  {
   "cell_type": "code",
   "execution_count": 4,
   "id": "df65aba4-c669-4a5e-940e-7e3394d101b3",
   "metadata": {},
   "outputs": [
    {
     "name": "stdout",
     "output_type": "stream",
     "text": [
      "/cluster/project/treutlein/jjans/software/miniforge3/envs/chrombpnet2/bin/chrombpnet\n"
     ]
    }
   ],
   "source": [
    "which chrombpnet"
   ]
  },
  {
   "cell_type": "code",
   "execution_count": 5,
   "id": "cf589d48-95c6-45ec-a832-7b31c6fa735c",
   "metadata": {},
   "outputs": [
    {
     "name": "stdout",
     "output_type": "stream",
     "text": [
      "/cluster/project/treutlein/jjans/software/miniforge3/envs/chrombpnet2\n"
     ]
    }
   ],
   "source": [
    "echo $CONDA_PREFIX"
   ]
  },
  {
   "cell_type": "code",
   "execution_count": 6,
   "id": "d3bd0981-e944-4091-a0e0-bebd9417660b",
   "metadata": {},
   "outputs": [],
   "source": [
    "export LD_LIBRARY_PATH=/cluster/project/treutlein/jjans/software/miniforge3/envs/cuda11_env/lib:$CONDA_PREFIX/lib:$LD_LIBRARY_PATH"
   ]
  },
  {
   "cell_type": "code",
   "execution_count": 7,
   "id": "2cb8ee7d-7dac-4c1f-a194-556f5bceb094",
   "metadata": {
    "tags": []
   },
   "outputs": [
    {
     "name": "stdout",
     "output_type": "stream",
     "text": [
      "usage: chrombpnet pipeline [-h] -g GENOME -c CHROM_SIZES\n",
      "                           (-ibam INPUT_BAM_FILE | -ifrag INPUT_FRAGMENT_FILE | -itag INPUT_TAGALIGN_FILE)\n",
      "                           -o OUTPUT_DIR -d {ATAC,DNASE} -p PEAKS -n NONPEAKS\n",
      "                           -fl CHR_FOLD_PATH [-oth OUTLIER_THRESHOLD]\n",
      "                           [--ATAC-ref-path ATAC_REF_PATH]\n",
      "                           [--DNASE-ref-path DNASE_REF_PATH]\n",
      "                           [--num-samples NUM_SAMPLES] [-il INPUTLEN]\n",
      "                           [-ol OUTPUTLEN] [-s SEED] [-e EPOCHS]\n",
      "                           [-es EARLY_STOP] [-l LEARNING_RATE]\n",
      "                           [-track [TRACKABLES ...]]\n",
      "                           [-a ARCHITECTURE_FROM_FILE] [-fp FILE_PREFIX]\n",
      "                           [-hp HTML_PREFIX] [--bsort] [--tmpdir TMPDIR]\n",
      "                           [--no-st] -b BIAS_MODEL_PATH\n",
      "                           [-sr NEGATIVE_SAMPLING_RATIO] [-fil FILTERS]\n",
      "                           [-dil N_DILATION_LAYERS] [-j MAX_JITTER]\n",
      "                           [-bs BATCH_SIZE]\n",
      "\n",
      "required arguments:\n",
      "  -g GENOME, --genome GENOME\n",
      "                        reference genome fasta file\n",
      "  -c CHROM_SIZES, --chrom-sizes CHROM_SIZES\n",
      "                        Chrom sizes file\n",
      "  -ibam INPUT_BAM_FILE, --input-bam-file INPUT_BAM_FILE\n",
      "                        Input BAM file\n",
      "  -ifrag INPUT_FRAGMENT_FILE, --input-fragment-file INPUT_FRAGMENT_FILE\n",
      "                        Input fragment file\n",
      "  -itag INPUT_TAGALIGN_FILE, --input-tagalign-file INPUT_TAGALIGN_FILE\n",
      "                        Input tagAlign file\n",
      "  -o OUTPUT_DIR, --output-dir OUTPUT_DIR\n",
      "                        Output dir (path/to/output/dir)\n",
      "  -d {ATAC,DNASE}, --data-type {ATAC,DNASE}\n",
      "                        assay type\n",
      "  -p PEAKS, --peaks PEAKS\n",
      "                        10 column bed file of peaks. Sequences and labels will\n",
      "                        be extracted centered at start (2nd col) + summit\n",
      "                        (10th col).\n",
      "  -n NONPEAKS, --nonpeaks NONPEAKS\n",
      "                        10 column bed file of non-peak regions, centered at\n",
      "                        summit (10th column)\n",
      "  -fl CHR_FOLD_PATH, --chr-fold-path CHR_FOLD_PATH\n",
      "                        Fold information - dictionary with test,valid and\n",
      "                        train keys and values with corresponding chromosomes\n",
      "  -b BIAS_MODEL_PATH, --bias-model-path BIAS_MODEL_PATH\n",
      "                        Path for a pretrained bias model\n",
      "\n",
      "optional arguments:\n",
      "  -oth OUTLIER_THRESHOLD, --outlier-threshold OUTLIER_THRESHOLD\n",
      "                        threshold to use to filter outlies\n",
      "  --ATAC-ref-path ATAC_REF_PATH\n",
      "                        Path to ATAC reference motifs (ATAC.ref.motifs.txt\n",
      "                        used by default)\n",
      "  --DNASE-ref-path DNASE_REF_PATH\n",
      "                        Path to DNASE reference motifs (DNASE.ref.motifs.txt\n",
      "                        used by default)\n",
      "  --num-samples NUM_SAMPLES\n",
      "                        Number of reads to sample from BAM/fragment/tagAlign\n",
      "                        file for shift estimation\n",
      "  -il INPUTLEN, --inputlen INPUTLEN\n",
      "                        Sequence input length\n",
      "  -ol OUTPUTLEN, --outputlen OUTPUTLEN\n",
      "                        Prediction output length\n",
      "  -s SEED, --seed SEED  seed to use for model training\n",
      "  -e EPOCHS, --epochs EPOCHS\n",
      "                        Maximum epochs to train\n",
      "  -es EARLY_STOP, --early-stop EARLY_STOP\n",
      "                        Early stop limit, corresponds to 'patience' in\n",
      "                        callback\n",
      "  -l LEARNING_RATE, --learning-rate LEARNING_RATE\n",
      "                        Learning rate for model training\n",
      "  -track [TRACKABLES ...], --trackables [TRACKABLES ...]\n",
      "                        list of things to track per batch, such as logcount_pr\n",
      "                        edictions_loss,loss,profile_predictions_loss,val_logco\n",
      "                        unt_predictions_loss,val_loss,val_profile_predictions_\n",
      "                        loss\n",
      "  -a ARCHITECTURE_FROM_FILE, --architecture-from-file ARCHITECTURE_FROM_FILE\n",
      "                        Model to use for training\n",
      "  -fp FILE_PREFIX, --file-prefix FILE_PREFIX\n",
      "                        File prefix for output to use. All the files will be\n",
      "                        prefixed with this string if provided.\n",
      "  -hp HTML_PREFIX, --html-prefix HTML_PREFIX\n",
      "                        The html prefix to use for the html file output.\n",
      "  --bsort               In prpeprocess, by deafult we sort bam using unix sort\n",
      "                        but sometimes LC collate can cause issues, so this can\n",
      "                        be set to use betools sort which works well but is\n",
      "                        memory intensive..\n",
      "  --tmpdir TMPDIR       temp dir for unix sort\n",
      "  --no-st               Dont do streaming and filtering in preprocessing\n",
      "                        (short chromosome contrigs not in reference fasta are\n",
      "                        not removed)\n",
      "  -sr NEGATIVE_SAMPLING_RATIO, --negative-sampling-ratio NEGATIVE_SAMPLING_RATIO\n",
      "                        Ratio of negatives to positive samples per epoch\n",
      "  -fil FILTERS, --filters FILTERS\n",
      "                        Number of filters to use in chrombpnet mode\n",
      "  -dil N_DILATION_LAYERS, --n-dilation-layers N_DILATION_LAYERS\n",
      "                        Number of dilation layers to use in chrombpnet model\n",
      "  -j MAX_JITTER, --max-jitter MAX_JITTER\n",
      "                        Maximum jitter applied on either side of region\n",
      "                        (default 500 for chrombpnet model)\n",
      "  -bs BATCH_SIZE, --batch-size BATCH_SIZE\n",
      "                        batch size to use for model training\n"
     ]
    }
   ],
   "source": [
    "chrombpnet pipeline -h"
   ]
  },
  {
   "cell_type": "code",
   "execution_count": 17,
   "id": "6ff47744-f38d-47d4-91f6-f62cb3ab210c",
   "metadata": {},
   "outputs": [],
   "source": [
    "rm -r modelv1_fold3/chrombpnet_model"
   ]
  },
  {
   "cell_type": "code",
   "execution_count": 13,
   "id": "2ba23345-6e91-4856-ab42-586eec734a3c",
   "metadata": {},
   "outputs": [],
   "source": [
    "rm -r modelv1_fold3/chrombpnet_model/logs"
   ]
  },
  {
   "cell_type": "code",
   "execution_count": null,
   "id": "1308f569-8f17-41f6-b69a-90963fcc21e8",
   "metadata": {
    "tags": []
   },
   "outputs": [
    {
     "name": "stdout",
     "output_type": "stream",
     "text": [
      "Estimating enzyme shift in input file\n",
      "/cluster/home/jjanssens/.local/lib/python3.10/site-packages/chrombpnet/helpers/preprocessing/auto_shift_detect.py:108: UserWarning: \u001b[31m!!! WARNING: Input reads contain chromosomes not in the reference genome fasta provided. Please ensure you are using the correct reference genome. If you are confident you are using the correct reference genome, you can safely ignore this message.\u001b[0m\n",
      "  warnings.warn(colored(msg, 'red'))\n",
      "Current estimated shift: +0/+0\n",
      "awk -v OFS=\"\\t\" '{if ($6==\"+\"){print $1,$2+4,$3,$4,$5,$6} else if ($6==\"-\") {print $1,$2,$3-4,$4,$5,$6}}' | sort -k1,1 | bedtools genomecov -bg -5 -i stdin -g encode_data/hg38.chrom.sizes | LC_COLLATE=\"C\" sort -k1,1 -k2,2n \n",
      "Making BedGraph (Filter chromosomes not in reference fasta)\n",
      "Making Bigwig\n",
      "non zero bigwig entries in the given chromosome:  3198962\n",
      "evaluating hyperparameters on the following chromosomes ['chr1', 'chr2', 'chr3', 'chr4', 'chr7', 'chr8', 'chr9', 'chr11', 'chr12', 'chr13', 'chr15', 'chr16', 'chr17', 'chr19', 'chrX', 'chrY', 'chr6', 'chr21']\n",
      "Number of peaks input:  71504\n",
      "Number of peaks filtered because the input/output is on the edge:  0\n",
      "Number of peaks being used:  71504\n",
      "Number of peaks input:  17680\n",
      "Number of peaks filtered because the input/output is on the edge:  0\n",
      "Number of peaks being used:  17680\n",
      "Number of non peaks input:  143008\n",
      "Number of non peaks filtered because the input/output is on the edge:  0\n",
      "Number of non peaks being used:  143008\n",
      "Number of non peaks input:  17680\n",
      "Number of non peaks filtered because the input/output is on the edge:  0\n",
      "Number of non peaks being used:  17680\n",
      "Number of peaks after removing outliers:  71496\n",
      "Number of nonpeaks after removing outliers:  136584\n",
      "got the model\n",
      "Model: \"model\"\n",
      "__________________________________________________________________________________________________\n",
      " Layer (type)                   Output Shape         Param #     Connected to                     \n",
      "==================================================================================================\n",
      " input_1 (InputLayer)           [(None, 2114, 4)]    0           []                               \n",
      "                                                                                                  \n",
      " conv1d (Conv1D)                (None, 2094, 128)    10880       ['input_1[0][0]']                \n",
      "                                                                                                  \n",
      " conv1d_1 (Conv1D)              (None, 2090, 128)    49280       ['conv1d[0][0]']                 \n",
      "                                                                                                  \n",
      " cropping1d (Cropping1D)        (None, 2090, 128)    0           ['conv1d[0][0]']                 \n",
      "                                                                                                  \n",
      " add (Add)                      (None, 2090, 128)    0           ['conv1d_1[0][0]',               \n",
      "                                                                  'cropping1d[0][0]']             \n",
      "                                                                                                  \n",
      " conv1d_2 (Conv1D)              (None, 2082, 128)    49280       ['add[0][0]']                    \n",
      "                                                                                                  \n",
      " cropping1d_1 (Cropping1D)      (None, 2082, 128)    0           ['add[0][0]']                    \n",
      "                                                                                                  \n",
      " add_1 (Add)                    (None, 2082, 128)    0           ['conv1d_2[0][0]',               \n",
      "                                                                  'cropping1d_1[0][0]']           \n",
      "                                                                                                  \n",
      " conv1d_3 (Conv1D)              (None, 2066, 128)    49280       ['add_1[0][0]']                  \n",
      "                                                                                                  \n",
      " cropping1d_2 (Cropping1D)      (None, 2066, 128)    0           ['add_1[0][0]']                  \n",
      "                                                                                                  \n",
      " add_2 (Add)                    (None, 2066, 128)    0           ['conv1d_3[0][0]',               \n",
      "                                                                  'cropping1d_2[0][0]']           \n",
      "                                                                                                  \n",
      " conv1d_4 (Conv1D)              (None, 2034, 128)    49280       ['add_2[0][0]']                  \n",
      "                                                                                                  \n",
      " cropping1d_3 (Cropping1D)      (None, 2034, 128)    0           ['add_2[0][0]']                  \n",
      "                                                                                                  \n",
      " add_3 (Add)                    (None, 2034, 128)    0           ['conv1d_4[0][0]',               \n",
      "                                                                  'cropping1d_3[0][0]']           \n",
      "                                                                                                  \n",
      " conv1d_5 (Conv1D)              (None, 1970, 128)    49280       ['add_3[0][0]']                  \n",
      "                                                                                                  \n",
      " cropping1d_4 (Cropping1D)      (None, 1970, 128)    0           ['add_3[0][0]']                  \n",
      "                                                                                                  \n",
      " add_4 (Add)                    (None, 1970, 128)    0           ['conv1d_5[0][0]',               \n",
      "                                                                  'cropping1d_4[0][0]']           \n",
      "                                                                                                  \n",
      " conv1d_6 (Conv1D)              (None, 1842, 128)    49280       ['add_4[0][0]']                  \n",
      "                                                                                                  \n",
      " cropping1d_5 (Cropping1D)      (None, 1842, 128)    0           ['add_4[0][0]']                  \n",
      "                                                                                                  \n",
      " add_5 (Add)                    (None, 1842, 128)    0           ['conv1d_6[0][0]',               \n",
      "                                                                  'cropping1d_5[0][0]']           \n",
      "                                                                                                  \n",
      " conv1d_7 (Conv1D)              (None, 1586, 128)    49280       ['add_5[0][0]']                  \n",
      "                                                                                                  \n",
      " cropping1d_6 (Cropping1D)      (None, 1586, 128)    0           ['add_5[0][0]']                  \n",
      "                                                                                                  \n",
      " add_6 (Add)                    (None, 1586, 128)    0           ['conv1d_7[0][0]',               \n",
      "                                                                  'cropping1d_6[0][0]']           \n",
      "                                                                                                  \n",
      " conv1d_8 (Conv1D)              (None, 1074, 128)    49280       ['add_6[0][0]']                  \n",
      "                                                                                                  \n",
      " cropping1d_7 (Cropping1D)      (None, 1074, 128)    0           ['add_6[0][0]']                  \n",
      "                                                                                                  \n",
      " add_7 (Add)                    (None, 1074, 128)    0           ['conv1d_8[0][0]',               \n",
      "                                                                  'cropping1d_7[0][0]']           \n",
      "                                                                                                  \n",
      " conv1d_9 (Conv1D)              (None, 1000, 1)      9601        ['add_7[0][0]']                  \n",
      "                                                                                                  \n",
      " global_average_pooling1d (Glob  (None, 128)         0           ['add_7[0][0]']                  \n",
      " alAveragePooling1D)                                                                              \n",
      "                                                                                                  \n",
      " logits (Flatten)               (None, 1000)         0           ['conv1d_9[0][0]']               \n",
      "                                                                                                  \n",
      " logcounts (Dense)              (None, 1)            129         ['global_average_pooling1d[0][0]'\n",
      "                                                                 ]                                \n",
      "                                                                                                  \n",
      "==================================================================================================\n",
      "Total params: 414,850\n",
      "Trainable params: 414,850\n",
      "Non-trainable params: 0\n",
      "__________________________________________________________________________________________________\n",
      "Predicting within adjust counts\n",
      "4269/4269 [==============================] - 63s 15ms/step\n",
      "got the model\n",
      "loading peaks...\n",
      "got split:test for bed regions:(17680, 10)\n",
      "0/277\n",
      "100/277\n",
      "200/277\n",
      "No artists with labels found to put in legend.  Note that artists whose label start with an underscore are ignored when legend() is called with no argument.\n",
      "Bias model pearsonr performance in peaks is: 0.47\n",
      "{'counts_loss_weight': '17.2', 'filters': '512', 'n_dil_layers': '8', 'bias_model_path': 'modelv1_fold3/chrombpnet_model/models/bias_model_scaled.h5', 'inputlen': '2114', 'outputlen': '1000', 'max_jitter': '500', 'chr_fold_path': 'encode_data/splits/fold_3.json', 'negative_sampling_ratio': '0.1'}\n",
      "got the model\n",
      "loading peaks...\n",
      "got split:train for bed regions:(65042, 10)\n",
      "loading nonpeaks...\n",
      "got split:train for bed regions:(65117, 10)\n",
      "loading peaks...\n",
      "got split:valid for bed regions:(6454, 10)\n",
      "loading nonpeaks...\n",
      "got split:valid for bed regions:(6379, 10)\n",
      "Epoch 1/50\n",
      "   6/1118 [..............................] - ETA: 11:04 - loss: 14416.6865 - logits_profile_predictions_loss: 442.9701 - logcount_predictions_loss: 812.4253WARNING:tensorflow:Callback method `on_train_batch_end` is slow compared to the batch time (batch time: 0.2377s vs `on_train_batch_end` time: 0.3004s). Check your callbacks.\n",
      "1118/1118 [==============================] - ETA: 0s - loss: 526.6828 - logits_profile_predictions_loss: 428.9213 - logcount_predictions_loss: 5.6838975002\n",
      "Epoch 1: val_loss improved from inf to 446.91324, saving model to modelv1_fold3/chrombpnet_model/models/chrombpnet.h5\n",
      "1118/1118 [==============================] - 706s 626ms/step - loss: 526.6828 - logits_profile_predictions_loss: 428.9213 - logcount_predictions_loss: 5.6838 - val_loss: 446.9132 - val_logits_profile_predictions_loss: 427.9528 - val_logcount_predictions_loss: 1.1023\n",
      "Epoch 2/50\n",
      "1118/1118 [==============================] - ETA: 0s - loss: 425.0881 - logits_profile_predictions_loss: 406.3813 - logcount_predictions_loss: 1.087617\n",
      "Epoch 2: val_loss improved from 446.91324 to 431.02124, saving model to modelv1_fold3/chrombpnet_model/models/chrombpnet.h5\n",
      "1118/1118 [==============================] - 695s 621ms/step - loss: 425.0881 - logits_profile_predictions_loss: 406.3813 - logcount_predictions_loss: 1.0876 - val_loss: 431.0212 - val_logits_profile_predictions_loss: 410.3081 - val_logcount_predictions_loss: 1.2042\n",
      "Epoch 3/50\n",
      "1118/1118 [==============================] - ETA: 0s - loss: 411.9100 - logits_profile_predictions_loss: 394.8413 - logcount_predictions_loss: 0.992465\n",
      "Epoch 3: val_loss improved from 431.02124 to 422.21204, saving model to modelv1_fold3/chrombpnet_model/models/chrombpnet.h5\n",
      "1118/1118 [==============================] - 695s 622ms/step - loss: 411.9100 - logits_profile_predictions_loss: 394.8413 - logcount_predictions_loss: 0.9924 - val_loss: 422.2120 - val_logits_profile_predictions_loss: 404.4998 - val_logcount_predictions_loss: 1.0298\n",
      "Epoch 4/50\n",
      " 440/1118 [==========>...................] - ETA: 6:45 - loss: 408.7061 - logits_profile_predictions_loss: 392.6687 - logcount_predictions_loss: 0.9323\r"
     ]
    }
   ],
   "source": [
    "chrombpnet pipeline \\\n",
    "        -ibam enterocytes_species/enterocyte_human_sorted_filtered.bam \\\n",
    "        -d \"ATAC\" \\\n",
    "        -g encode_data/hg38.fa \\\n",
    "        -c encode_data/hg38.chrom.sizes \\\n",
    "        -p called_peaks/peaks_no_blacklist.bed \\\n",
    "        -n modelv1_fold3/output_negatives.bed \\\n",
    "        -fl encode_data/splits/fold_3.json \\\n",
    "        -b bias_model/scATAC_dermal_fibroblast.h5 \\\n",
    "        -o modelv1_fold3/chrombpnet_model/"
   ]
  },
  {
   "cell_type": "code",
   "execution_count": null,
   "id": "f19a03f2-13a4-4348-b1d8-49ad6971691b",
   "metadata": {},
   "outputs": [],
   "source": [
    "chrombpnet pipeline \\\n",
    "        -ibam enterocytes_species/enterocyte_human_sorted_filtered.bam \\\n",
    "        -d \"ATAC\" \\\n",
    "        -g encode_data/hg38.fa \\\n",
    "        -c encode_data/hg38.chrom.sizes \\\n",
    "        -p called_peaks/peaks_no_blacklist.bed \\\n",
    "        -n modelv1_fold4/output_negatives.bed \\\n",
    "        -fl encode_data/splits/fold_4.json \\\n",
    "        -b bias_model/scATAC_dermal_fibroblast.h5 \\\n",
    "        -o modelv1_fold4/chrombpnet_model/"
   ]
  },
  {
   "cell_type": "code",
   "execution_count": null,
   "id": "d1515fab-30fe-4a28-9d00-5fe71e9ca540",
   "metadata": {},
   "outputs": [],
   "source": []
  }
 ],
 "metadata": {
  "kernelspec": {
   "display_name": "Bash",
   "language": "bash",
   "name": "bash"
  },
  "language_info": {
   "codemirror_mode": "shell",
   "file_extension": ".sh",
   "mimetype": "text/x-sh",
   "name": "bash"
  }
 },
 "nbformat": 4,
 "nbformat_minor": 5
}
