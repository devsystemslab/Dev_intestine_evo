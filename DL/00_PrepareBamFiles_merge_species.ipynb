{
 "cells": [
  {
   "cell_type": "code",
   "execution_count": 1,
   "id": "60ccd991-9d29-4812-95a7-4067cbf0c64e",
   "metadata": {},
   "outputs": [],
   "source": [
    "mamba activate chrombpnet2"
   ]
  },
  {
   "cell_type": "markdown",
   "id": "2c018ed7",
   "metadata": {},
   "source": [
    "#merge bam files for the species\n",
    "chimp: C2-CIO-W12.5+4.bam + C7-CIO-W12.5+4.bam\n",
    "human: H9-tHIO-W15.5+4.bam + iPSC72.3-tHIO-W10.5.bam + JasonDuoCrypt-D80.bam + UmutSI-W17.bam"
   ]
  },
  {
   "cell_type": "code",
   "execution_count": 4,
   "id": "560353ef-56e0-4f67-9145-3ad2a7f28180",
   "metadata": {},
   "outputs": [
    {
     "name": "stdout",
     "output_type": "stream",
     "text": [
      "[bam_merge_core] Order of targets in file bam_per_cell_type_per_species/output_Enterocyte@JasonDuoCrypt-D80.bam caused coordinate sort to be lost\n",
      "[bam_merge_core] Order of targets in file bam_per_cell_type_per_species/output_Enterocyte@UmutSI-W17.bam caused coordinate sort to be lost\n",
      "(chrombpnet) \n"
     ]
    },
    {
     "ename": "",
     "evalue": "1",
     "output_type": "error",
     "traceback": []
    }
   ],
   "source": [
    "samtools merge -f -@20 -o enterocytes_species/enterocyte_human.bam bam_per_cell_type_per_species/output_Enterocyte@H9-tHIO-W15.5+4.bam bam_per_cell_type_per_species/output_Enterocyte@iPSC72.3-tHIO-W10.5.bam bam_per_cell_type_per_species/output_Enterocyte@JasonDuoCrypt-D80.bam bam_per_cell_type_per_species/output_Enterocyte@UmutSI-W17.bam\n"
   ]
  },
  {
   "cell_type": "code",
   "execution_count": 5,
   "id": "03d6e1d9-6dd5-44a0-ade4-1948408fa919",
   "metadata": {},
   "outputs": [
    {
     "name": "stdout",
     "output_type": "stream",
     "text": [
      "[bam_sort_core] merging from 10 files and 10 in-memory blocks...\n",
      "(chrombpnet) \n",
      "(chrombpnet) \n"
     ]
    },
    {
     "ename": "",
     "evalue": "1",
     "output_type": "error",
     "traceback": []
    }
   ],
   "source": [
    "samtools sort -@10 enterocytes_species/enterocyte_human.bam -o enterocytes_species/enterocyte_human_sorted.bam\n",
    "samtools index enterocytes_species/enterocyte_human_sorted.bam"
   ]
  },
  {
   "cell_type": "code",
   "execution_count": 7,
   "id": "40334bf0-3546-4cf1-ba92-574ee2b3b14f",
   "metadata": {},
   "outputs": [
    {
     "name": "stdout",
     "output_type": "stream",
     "text": [
      "223010779 + 0 in total (QC-passed reads + QC-failed reads)\n",
      "222927352 + 0 primary\n",
      "83427 + 0 secondary\n",
      "0 + 0 supplementary\n",
      "125993362 + 0 duplicates\n",
      "125993362 + 0 primary duplicates\n",
      "221046215 + 0 mapped (99.12% : N/A)\n",
      "220962788 + 0 primary mapped (99.12% : N/A)\n",
      "222927352 + 0 paired in sequencing\n",
      "111463676 + 0 read1\n",
      "111463676 + 0 read2\n",
      "219222740 + 0 properly paired (98.34% : N/A)\n",
      "220153900 + 0 with itself and mate mapped\n",
      "808888 + 0 singletons (0.36% : N/A)\n",
      "450200 + 0 with mate mapped to a different chr\n",
      "241398 + 0 with mate mapped to a different chr (mapQ>=5)\n",
      "(chrombpnet) \n"
     ]
    },
    {
     "ename": "",
     "evalue": "1",
     "output_type": "error",
     "traceback": []
    }
   ],
   "source": [
    "samtools flagstat enterocytes_species/enterocyte_human_sorted.bam"
   ]
  },
  {
   "cell_type": "code",
   "execution_count": 8,
   "id": "983208e7-cf05-4288-bdab-ec152eed3927",
   "metadata": {},
   "outputs": [
    {
     "name": "stdout",
     "output_type": "stream",
     "text": [
      "(chrombpnet) \n"
     ]
    },
    {
     "ename": "",
     "evalue": "1",
     "output_type": "error",
     "traceback": []
    }
   ],
   "source": [
    "samtools view -b -@ 50 -F 780 -q 30 -F 1024 enterocytes_species/enterocyte_human_sorted.bam > enterocytes_species/enterocyte_human_sorted_filtered.bam\n",
    "\n"
   ]
  },
  {
   "cell_type": "code",
   "execution_count": 9,
   "id": "6856b819-91eb-45ba-a234-cfebeb4a245c",
   "metadata": {},
   "outputs": [
    {
     "name": "stdout",
     "output_type": "stream",
     "text": [
      "84243784 + 0 in total (QC-passed reads + QC-failed reads)\n",
      "84243784 + 0 primary\n",
      "0 + 0 secondary\n",
      "0 + 0 supplementary\n",
      "0 + 0 duplicates\n",
      "0 + 0 primary duplicates\n",
      "84243784 + 0 mapped (100.00% : N/A)\n",
      "84243784 + 0 primary mapped (100.00% : N/A)\n",
      "84243784 + 0 paired in sequencing\n",
      "42155604 + 0 read1\n",
      "42088180 + 0 read2\n",
      "83783032 + 0 properly paired (99.45% : N/A)\n",
      "84243784 + 0 with itself and mate mapped\n",
      "0 + 0 singletons (0.00% : N/A)\n",
      "148886 + 0 with mate mapped to a different chr\n",
      "148886 + 0 with mate mapped to a different chr (mapQ>=5)\n",
      "(chrombpnet) \n"
     ]
    },
    {
     "ename": "",
     "evalue": "1",
     "output_type": "error",
     "traceback": []
    }
   ],
   "source": [
    "samtools flagstat enterocytes_species/enterocyte_human_sorted_filtered.bam"
   ]
  },
  {
   "cell_type": "code",
   "execution_count": 10,
   "id": "54d3e4c0-d896-43d3-aa40-0e54398fa2cb",
   "metadata": {},
   "outputs": [
    {
     "name": "stdout",
     "output_type": "stream",
     "text": [
      "(chrombpnet) \n"
     ]
    },
    {
     "ename": "",
     "evalue": "1",
     "output_type": "error",
     "traceback": []
    }
   ],
   "source": [
    "samtools index enterocytes_species/enterocyte_human_sorted_filtered.bam"
   ]
  },
  {
   "cell_type": "code",
   "execution_count": null,
   "id": "a5c12f63-497e-4cf4-a4bb-b20e29fe5389",
   "metadata": {},
   "outputs": [],
   "source": []
  },
  {
   "cell_type": "code",
   "execution_count": 3,
   "id": "e80cac73-a7f2-4fda-8d3c-440aab765013",
   "metadata": {},
   "outputs": [],
   "source": [
    "samtools merge -f -@10 -o enterocytes_species/enterocyte_chimp.bam bam_per_cell_type_per_species/output_Enterocyte@C2-CIO-W12.5+4.bam bam_per_cell_type_per_species/output_Enterocyte@C7-CIO-W12.5+4.bam\n"
   ]
  },
  {
   "cell_type": "code",
   "execution_count": 2,
   "id": "699b9436-f028-4d4d-b5df-519fb5339017",
   "metadata": {},
   "outputs": [
    {
     "name": "stdout",
     "output_type": "stream",
     "text": [
      "[E::hts_open_format] Failed to open file \"enterocytes_species/enterocyte_chimp_sorted.bam.tmp.0000.bam\" : File exists\n",
      "samtools sort: failed to create \"enterocytes_species/enterocyte_chimp_sorted.bam.tmp.0000.bam\": File exists\n",
      "[E::hts_open_format] Failed to open file \"enterocytes_species/enterocyte_chimp_sorted.bam.tmp.0001.bam\" : File exists\n",
      "samtools sort: failed to create \"enterocytes_species/enterocyte_chimp_sorted.bam.tmp.0001.bam\": File exists\n",
      "[E::hts_open_format] Failed to open file \"enterocytes_species/enterocyte_chimp_sorted.bam.tmp.0002.bam\" : File exists\n",
      "samtools sort: failed to create \"enterocytes_species/enterocyte_chimp_sorted.bam.tmp.0002.bam\": File exists\n",
      "[E::hts_open_format] Failed to open file \"enterocytes_species/enterocyte_chimp_sorted.bam.tmp.0003.bam\" : File exists\n",
      "samtools sort: failed to create \"enterocytes_species/enterocyte_chimp_sorted.bam.tmp.0003.bam\": File exists\n",
      "[bam_sort_core] merging from 4 files and 10 in-memory blocks...\n"
     ]
    }
   ],
   "source": [
    "samtools sort -@10 enterocytes_species/enterocyte_chimp.bam -o enterocytes_species/enterocyte_chimp_sorted.bam\n",
    "samtools index enterocytes_species/enterocyte_chimp_sorted.bam"
   ]
  },
  {
   "cell_type": "code",
   "execution_count": 3,
   "id": "ec078e36-5be6-4237-80a1-8e31b4b44170",
   "metadata": {},
   "outputs": [],
   "source": [
    "samtools view -b -@ 50 -F 780 -q 30 -F 1024 enterocytes_species/enterocyte_chimp_sorted.bam > enterocytes_species/enterocyte_chimp_sorted_filtered.bam\n",
    "\n",
    "samtools index enterocytes_species/enterocyte_chimp_sorted_filtered.bam"
   ]
  },
  {
   "cell_type": "code",
   "execution_count": 4,
   "id": "d5dd96e1-defb-4884-9f79-a51db65bf36a",
   "metadata": {},
   "outputs": [
    {
     "name": "stdout",
     "output_type": "stream",
     "text": [
      "29903129 + 0 in total (QC-passed reads + QC-failed reads)\n",
      "29903129 + 0 primary\n",
      "0 + 0 secondary\n",
      "0 + 0 supplementary\n",
      "0 + 0 duplicates\n",
      "0 + 0 primary duplicates\n",
      "29903129 + 0 mapped (100.00% : N/A)\n",
      "29903129 + 0 primary mapped (100.00% : N/A)\n",
      "29903129 + 0 paired in sequencing\n",
      "14969762 + 0 read1\n",
      "14933367 + 0 read2\n",
      "29538128 + 0 properly paired (98.78% : N/A)\n",
      "29903129 + 0 with itself and mate mapped\n",
      "0 + 0 singletons (0.00% : N/A)\n",
      "65299 + 0 with mate mapped to a different chr\n",
      "65299 + 0 with mate mapped to a different chr (mapQ>=5)\n"
     ]
    }
   ],
   "source": [
    "samtools flagstat enterocytes_species/enterocyte_chimp_sorted_filtered.bam"
   ]
  },
  {
   "cell_type": "code",
   "execution_count": 7,
   "id": "1ac536a3-662e-47c7-bc60-de97366ff1cf",
   "metadata": {},
   "outputs": [
    {
     "name": "stdout",
     "output_type": "stream",
     "text": [
      "chr1\t224244399\t2865439\t0\n",
      "chr10\t129809613\t1365199\t0\n",
      "chr11\t130782606\t1554231\t0\n",
      "chr12\t130995916\t1471024\t0\n",
      "chr13\t95599650\t822531\t0\n",
      "chr14\t87716528\t944653\t0\n",
      "chr15\t80519282\t886480\t0\n",
      "chr16\t75912362\t921473\t0\n",
      "chr16_NW_019932886v1_random\t1816373\t51982\t0\n",
      "chr17\t76554115\t1317342\t0\n",
      "chr18\t74774469\t681127\t0\n",
      "chr19\t56733099\t1185527\t0\n",
      "chr20\t64035432\t810111\t0\n",
      "chr21\t33232379\t365649\t0\n",
      "chr22\t33698415\t541492\t0\n",
      "chr2A\t108022953\t1156125\t0\n",
      "chr2B\t128755405\t1218859\t0\n",
      "chr3\t196562556\t1918596\t0\n",
      "chr4\t189151597\t1489462\t0\n",
      "chr5\t159319378\t1454186\t0\n",
      "chr5_NW_019932883v1_random\t4118956\t23309\t0\n",
      "chr5_NW_019932884v1_random\t7484060\t75299\t0\n",
      "chr5_NW_019932885v1_random\t5402389\t63827\t0\n",
      "chr6\t168369391\t1846038\t0\n",
      "chr7\t156046543\t1570149\t0\n",
      "chr8\t143338810\t1259692\t0\n",
      "chr9\t110513671\t1256483\t0\n",
      "chrM\t16554\t2276\t0\n",
      "chrUn_NW_019932887v1\t27732\t2\t0\n",
      "chrUn_NW_019932888v1\t20509\t50\t0\n"
     ]
    }
   ],
   "source": [
    "samtools idxstats enterocytes_species/enterocyte_chimp_sorted_filtered.bam | head -n 30\n"
   ]
  },
  {
   "cell_type": "code",
   "execution_count": null,
   "id": "f55d3482-a92d-4570-8397-9fb5d9f4b0f4",
   "metadata": {},
   "outputs": [],
   "source": []
  },
  {
   "cell_type": "code",
   "execution_count": null,
   "id": "506b69d9-bb7b-422f-b321-5b4d6d9fac5e",
   "metadata": {},
   "outputs": [],
   "source": []
  },
  {
   "cell_type": "code",
   "execution_count": null,
   "id": "d60aaf1c-a42a-4f4c-bc81-918338fa2a49",
   "metadata": {},
   "outputs": [],
   "source": []
  },
  {
   "cell_type": "code",
   "execution_count": null,
   "id": "febc791c-45a2-48b4-894a-5bda4db201d0",
   "metadata": {},
   "outputs": [],
   "source": []
  }
 ],
 "metadata": {
  "kernelspec": {
   "display_name": "Bash",
   "language": "bash",
   "name": "bash"
  },
  "language_info": {
   "codemirror_mode": "shell",
   "file_extension": ".sh",
   "mimetype": "text/x-sh",
   "name": "bash"
  }
 },
 "nbformat": 4,
 "nbformat_minor": 5
}
