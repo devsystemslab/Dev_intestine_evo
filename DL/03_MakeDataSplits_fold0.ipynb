{
 "cells": [
  {
   "cell_type": "code",
   "execution_count": 1,
   "id": "a6d9662f-8dd8-42f2-8d71-8103e3f44e39",
   "metadata": {},
   "outputs": [
    {
     "name": "stdout",
     "output_type": "stream",
     "text": [
      "(chrombpnet) \n"
     ]
    },
    {
     "ename": "",
     "evalue": "1",
     "output_type": "error",
     "traceback": []
    }
   ],
   "source": [
    "mamba activate chrombpnet"
   ]
  },
  {
   "cell_type": "code",
   "execution_count": 2,
   "id": "30581033-96f5-41a4-b3ef-d254881890ec",
   "metadata": {},
   "outputs": [
    {
     "name": "stdout",
     "output_type": "stream",
     "text": [
      "(chrombpnet) \n"
     ]
    },
    {
     "ename": "",
     "evalue": "1",
     "output_type": "error",
     "traceback": []
    }
   ],
   "source": [
    "head -n 24  encode_data/hg38.chrom.sizes >  encode_data/hg38.chrom.subset.sizes"
   ]
  },
  {
   "cell_type": "code",
   "execution_count": 4,
   "id": "ac3c53eb-d570-43b9-a914-6214c53ef001",
   "metadata": {},
   "outputs": [
    {
     "name": "stdout",
     "output_type": "stream",
     "text": [
      "/cluster/project/treutlein/jjans/software/miniforge3/envs/chrombpnet/bin/python\n",
      "(chrombpnet) \n"
     ]
    },
    {
     "ename": "",
     "evalue": "1",
     "output_type": "error",
     "traceback": []
    }
   ],
   "source": [
    "which python"
   ]
  },
  {
   "cell_type": "code",
   "execution_count": 5,
   "id": "0501b2a1-f563-4576-955b-80febf464e4f",
   "metadata": {},
   "outputs": [
    {
     "name": "stdout",
     "output_type": "stream",
     "text": [
      "/usr/bin/which: no chrombpnet in (/cluster/project/treutlein/jjans/software/miniforge3/envs/chrombpnet/bin:/cluster/apps/lsf/10.1/linux2.6-glibc2.3-x86_64/bin:/cluster/apps/lsf/10.1/linux2.6-glibc2.3-x86_64/bin:/cluster/apps/gcc-8.2.0/cuda-12.1.1-mpwcqkwqghc7y2at5a6wuuhbgmm6efux/bin:/cluster/apps/gcc-8.2.0/openblas-0.3.15-huwxbhezdzoo74awrgoz6sd2qndpmdva/bin:/cluster/apps/nss/gcc-8.2.0/python/3.10.4/x86_64/bin:/cluster/apps/gcc-8.2.0/eccodes-2.21.0-o4xitaateyj4fuopb6chuxme7d5bp4zp/bin:/cluster/apps/gcc-8.2.0/hdf5-1.10.1-qj3ju3qfhvucsk5eevrtb2lehbux5nmv/bin:/cluster/apps/nss/jupyterhub/3.5.1/bin:/cluster/apps/gcc-8.2.0/git-2.31.1-q45wg6avfyvko4weuhmnpghaag45ynoo/bin:/cluster/apps/gcc-8.2.0/npm-6.14.9-774crfohwvu6a33ijcow7x5cvonu44oi/bin:/cluster/apps/gcc-8.2.0/r-4.2.2-ydfaklhfrhw5dy6qcfzxlxfviwovcord/bin:/cluster/spack/apps/linux-centos7-x86_64/gcc-4.8.5/gcc-8.2.0-6xqov2fhvbmehix42slain67vprec3fs/bin:/cluster/apps/local:/cluster/apps/sfos/bin:/usr/local/bin:/usr/local/sbin:/usr/sbin:/usr/bin:/sbin:/bin:/cluster/slurm/apps/bin:/cluster/apps/local:/cluster/apps/local)\n",
      "(chrombpnet) \n"
     ]
    },
    {
     "ename": "",
     "evalue": "1",
     "output_type": "error",
     "traceback": []
    }
   ],
   "source": [
    "which chrombpnet"
   ]
  },
  {
   "cell_type": "code",
   "execution_count": 10,
   "id": "157d3b19-54bb-4b96-8e9c-81c1f3d2ef6f",
   "metadata": {},
   "outputs": [
    {
     "name": "stdout",
     "output_type": "stream",
     "text": [
      "(chrombpnet) \n"
     ]
    },
    {
     "ename": "",
     "evalue": "1",
     "output_type": "error",
     "traceback": []
    }
   ],
   "source": [
    "export PATH=/cluster/home/jjanssens/.local/bin:$PATH"
   ]
  },
  {
   "cell_type": "code",
   "execution_count": 11,
   "id": "d84c0a75-789c-4ad1-b274-0771bfe91322",
   "metadata": {},
   "outputs": [
    {
     "name": "stdout",
     "output_type": "stream",
     "text": [
      "~/.local/bin/chrombpnet\n",
      "(chrombpnet) \n"
     ]
    },
    {
     "ename": "",
     "evalue": "1",
     "output_type": "error",
     "traceback": []
    }
   ],
   "source": [
    "which chrombpnet"
   ]
  },
  {
   "cell_type": "code",
   "execution_count": 12,
   "id": "9a89046e-5b1c-4fc1-a1a5-7f228773d134",
   "metadata": {},
   "outputs": [
    {
     "name": "stdout",
     "output_type": "stream",
     "text": [
      "['chr1', 'chr3', 'chr6']\n",
      "(chrombpnet) \n"
     ]
    },
    {
     "ename": "",
     "evalue": "1",
     "output_type": "error",
     "traceback": []
    }
   ],
   "source": [
    "chrombpnet prep splits -c encode_data/hg38.chrom.subset.sizes -tcr chr1 chr3 chr6 -vcr chr8 chr20 -op encode_data/splits/fold_0\n"
   ]
  },
  {
   "cell_type": "code",
   "execution_count": 20,
   "id": "8fd8fa79-2547-4d3c-9362-c189fc2f9d3b",
   "metadata": {},
   "outputs": [
    {
     "name": "stdout",
     "output_type": "stream",
     "text": [
      "num_rows:89229\n",
      "89229it [00:07, 12653.69it/s]\n",
      "Number of regions filtered because inputlen sequence cannot be constructed: 4\n",
      "Percentage of regions filtered 0.004%\n",
      "100%|█████████████████████████████| 2641910/2641910 [00:03<00:00, 853581.68it/s]\n",
      "Following background chromosomes chrUn_KI270519v1,chrUn_KI270511v1,chrUn_KI270591v1,chrUn_KI270390v1,chrUn_KI270362v1,chr22_KI270736v1_random,chrUn_KI270375v1,chrUn_KI270468v1,chr4_GL000008v2_random,chrUn_KI270742v1,chrUn_KI270751v1,chrUn_KI270322v1,chrUn_KI270438v1,chrUn_KI270590v1,chr22_KI270731v1_random,chrUn_KI270382v1,chrUn_KI270509v1,chrY_KI270740v1_random,chrUn_GL000213v1,chr5_GL000208v1_random,chr14_GL000194v1_random,chrUn_KI270448v1,chrUn_KI270418v1,chr22_KI270733v1_random,chrUn_KI270442v1,chr22_KI270732v1_random,chr9_KI270717v1_random,chrUn_KI270593v1,chr1_KI270712v1_random,chr14_GL000225v1_random,chrUn_KI270317v1,chr22_KI270735v1_random,chrEBV,chr22_KI270734v1_random,chr14_KI270724v1_random,chr17_KI270729v1_random,chrUn_KI270311v1,chr22_KI270738v1_random,chrUn_KI270512v1,chr17_KI270730v1_random,chrUn_KI270424v1,chrUn_KI270588v1,chrUn_KI270745v1,chrUn_KI270510v1,chr1_KI270710v1_random,chrUn_KI270304v1,chr3_GL000221v1_random,chrUn_GL000214v1,chrUn_KI270582v1,chr1_KI270706v1_random,chr1_KI270707v1_random,chrUn_KI270749v1,chr9_KI270719v1_random,chrUn_KI270411v1,chr16_KI270728v1_random,chrUn_KI270414v1,chrUn_KI270315v1,chr9_KI270718v1_random,chrUn_KI270584v1,chr1_KI270709v1_random,chrUn_KI270521v1,chr17_GL000205v2_random,chr2_KI270715v1_random,chr2_KI270716v1_random,chr14_KI270723v1_random,chrUn_KI270757v1,chr1_KI270711v1_random,chr9_KI270720v1_random,chrUn_KI270320v1,chrUn_KI270530v1,chr22_KI270739v1_random,chrUn_KI270333v1,chrUn_KI270754v1,chrUn_KI270753v1,chrUn_KI270589v1,chrUn_KI270746v1,chrUn_KI270420v1,chr14_KI270726v1_random,chrUn_GL000226v1,chr14_GL000009v2_random,chr1_KI270713v1_random,chrUn_KI270587v1,chrUn_KI270752v1,chrUn_KI270747v1,chrUn_GL000195v1,chr22_KI270737v1_random,chrUn_KI270371v1,chrUn_KI270366v1,chrUn_KI270374v1,chrUn_KI270743v1,chrUn_KI270750v1,chrUn_KI270517v1,chrUn_KI270755v1,chrUn_GL000216v2,chrUn_KI270515v1,chrUn_KI270435v1,chrUn_KI270302v1,chrUn_KI270522v1,chrUn_KI270744v1,chrUn_KI270581v1,chr11_KI270721v1_random,chrUn_KI270538v1,chrUn_GL000220v1,chrUn_KI270518v1,chrUn_KI270748v1,chr1_KI270714v1_random,chr14_KI270722v1_random,chrUn_KI270579v1,chrUn_KI270528v1,chr14_KI270725v1_random,chr1_KI270708v1_random,chrUn_GL000219v1,chrUn_KI270507v1,chrUn_KI270756v1,chrUn_KI270364v1,chrUn_GL000218v1,chrUn_KI270741v1,chr15_KI270727v1_random,chrUn_GL000224v1  were ignored since they are not present in the given fold\n",
      "89225\n",
      "100%|██████████████████████████████████| 89225/89225 [00:05<00:00, 16467.74it/s]\n",
      "Following foreground chromosomes chr14_GL000225v1_random,chrUn_GL000224v1,chrUn_KI270467v1,chr11_KI270721v1_random,chr17_GL000205v2_random,chr1_KI270713v1_random,chrUn_KI270438v1,chrUn_GL000195v1,chrUn_GL000220v1,chrM,chrUn_GL000216v2,chr22_KI270733v1_random were ignored since they are not present in the given fold\n",
      "(chrombpnet) \n"
     ]
    },
    {
     "ename": "",
     "evalue": "1",
     "output_type": "error",
     "traceback": []
    }
   ],
   "source": [
    "chrombpnet prep nonpeaks -g encode_data/hg38.fa -p called_peaks/peaks_no_blacklist_chr.bed -c  encode_data/hg38.chrom.sizes -fl encode_data/splits/fold_0.json -br encode_data/blacklist.bed.gz -o modelv0/output\n"
   ]
  },
  {
   "cell_type": "code",
   "execution_count": 19,
   "id": "edef01c3-fcc9-4465-b7e6-520b8a6e75d3",
   "metadata": {},
   "outputs": [
    {
     "name": "stdout",
     "output_type": "stream",
     "text": [
      "(chrombpnet) \n"
     ]
    },
    {
     "ename": "",
     "evalue": "1",
     "output_type": "error",
     "traceback": []
    }
   ],
   "source": [
    "rm -r modelv0/output_auxiliary"
   ]
  },
  {
   "cell_type": "code",
   "execution_count": null,
   "id": "7bbdb7dc-4e38-4e73-917c-167aaeb10058",
   "metadata": {},
   "outputs": [],
   "source": []
  }
 ],
 "metadata": {
  "kernelspec": {
   "display_name": "chrompbnet2",
   "language": "python",
   "name": "chrombpnet2"
  },
  "language_info": {
   "codemirror_mode": {
    "name": "ipython",
    "version": 3
   },
   "file_extension": ".py",
   "mimetype": "text/x-python",
   "name": "python",
   "nbconvert_exporter": "python",
   "pygments_lexer": "ipython3",
   "version": "3.10.14"
  }
 },
 "nbformat": 4,
 "nbformat_minor": 5
}
