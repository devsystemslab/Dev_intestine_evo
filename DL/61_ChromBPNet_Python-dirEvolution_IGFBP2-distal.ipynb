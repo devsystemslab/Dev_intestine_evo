{
 "cells": [
  {
   "cell_type": "code",
   "execution_count": 1,
   "id": "8c78d51e-8eca-455b-8e3f-88da22bf7534",
   "metadata": {},
   "outputs": [],
   "source": [
    "import os"
   ]
  },
  {
   "cell_type": "code",
   "execution_count": 2,
   "id": "44056904-7f92-4494-899e-bec72ae7b56d",
   "metadata": {},
   "outputs": [
    {
     "data": {
      "text/plain": [
       "'/cluster/project/treutlein/jjans/software/miniforge3/envs/chrombpnet2/bin:/cluster/apps/lsf/10.1/linux2.6-glibc2.3-x86_64/bin:/cluster/apps/lsf/10.1/linux2.6-glibc2.3-x86_64/bin:/cluster/apps/gcc-8.2.0/cuda-12.1.1-mpwcqkwqghc7y2at5a6wuuhbgmm6efux/bin:/cluster/apps/gcc-8.2.0/openblas-0.3.15-huwxbhezdzoo74awrgoz6sd2qndpmdva/bin:/cluster/apps/nss/gcc-8.2.0/python/3.10.4/x86_64/bin:/cluster/apps/gcc-8.2.0/eccodes-2.21.0-o4xitaateyj4fuopb6chuxme7d5bp4zp/bin:/cluster/apps/gcc-8.2.0/hdf5-1.10.1-qj3ju3qfhvucsk5eevrtb2lehbux5nmv/bin:/cluster/apps/nss/jupyterhub/3.5.1/bin:/cluster/apps/gcc-8.2.0/git-2.31.1-q45wg6avfyvko4weuhmnpghaag45ynoo/bin:/cluster/apps/gcc-8.2.0/npm-6.14.9-774crfohwvu6a33ijcow7x5cvonu44oi/bin:/cluster/apps/gcc-8.2.0/r-4.2.2-ydfaklhfrhw5dy6qcfzxlxfviwovcord/bin:/cluster/spack/apps/linux-centos7-x86_64/gcc-4.8.5/gcc-8.2.0-6xqov2fhvbmehix42slain67vprec3fs/bin:/cluster/apps/local:/cluster/apps/sfos/bin:/usr/local/bin:/usr/local/sbin:/usr/sbin:/usr/bin:/sbin:/bin:/cluster/slurm/apps/bin:/cluster/apps/local:/cluster/apps/local'"
      ]
     },
     "execution_count": 2,
     "metadata": {},
     "output_type": "execute_result"
    }
   ],
   "source": [
    "os.getenv(\"PATH\")"
   ]
  },
  {
   "cell_type": "code",
   "execution_count": 3,
   "id": "811e9975-22b7-4baf-b2b7-c59272e8a310",
   "metadata": {},
   "outputs": [
    {
     "data": {
      "text/plain": [
       "'/cluster/project/treutlein/jjans/software/miniforge3/envs/cuda11_env/lib:/cluster/project/treutlein/jjans/software/miniforge3/envs/chrompbnet2/lib:/cluster/project/treutlein/jjans/software/miniforge3/envs/chrompbnet/lib:/cluster/apps/lsf/10.1/linux2.6-glibc2.3-x86_64/lib:/cluster/apps/lsf/10.1/linux2.6-glibc2.3-x86_64/lib:/cluster/apps/gcc-8.2.0/cudnn-8.9.2.26-ogi7ed2h6ejs7vumekv46idqqas4axgq/lib:/cluster/apps/gcc-8.2.0/cuda-12.1.1-mpwcqkwqghc7y2at5a6wuuhbgmm6efux/lib64:/cluster/apps/gcc-8.2.0/nccl-2.11.4-1-pwkiz23vbeac3vt5ykybdwzaykprizb2/lib:/cluster/apps/gcc-8.2.0/openblas-0.3.15-huwxbhezdzoo74awrgoz6sd2qndpmdva/lib:/cluster/apps/nss/gcc-8.2.0/python/3.10.4/x86_64/lib64:/cluster/apps/gcc-8.2.0/zlib-1.2.9-roj3c3p7lbd2kn3gstlt4rxdcgvb3csi/lib:/cluster/apps/gcc-8.2.0/eccodes-2.21.0-o4xitaateyj4fuopb6chuxme7d5bp4zp/lib64:/cluster/apps/gcc-8.2.0/hdf5-1.10.1-qj3ju3qfhvucsk5eevrtb2lehbux5nmv/lib:/cluster/apps/gcc-8.2.0/npm-6.14.9-774crfohwvu6a33ijcow7x5cvonu44oi/lib:/cluster/apps/gcc-8.2.0/r-4.2.2-ydfaklhfrhw5dy6qcfzxlxfviwovcord/rlib/R/lib:/cluster/spack/apps/linux-centos7-x86_64/gcc-4.8.5/gcc-8.2.0-6xqov2fhvbmehix42slain67vprec3fs/lib64:/cluster/spack/apps/linux-centos7-x86_64/gcc-4.8.5/gcc-8.2.0-6xqov2fhvbmehix42slain67vprec3fs/lib:/cluster/apps/lsf/10.1/linux2.6-glibc2.3-x86_64/lib::'"
      ]
     },
     "execution_count": 3,
     "metadata": {},
     "output_type": "execute_result"
    }
   ],
   "source": [
    "os.getenv(\"LD_LIBRARY_PATH\")"
   ]
  },
  {
   "cell_type": "code",
   "execution_count": 4,
   "id": "07001e56-5ed2-4411-a1d4-5e5131ffe2cd",
   "metadata": {},
   "outputs": [],
   "source": [
    "# Adapted from chrombpnet-lite\n",
    "\n",
    "import deepdish as dd\n",
    "import json\n",
    "import numpy as np\n",
    "import tensorflow as tf\n",
    "import pandas as pd\n",
    "import shap\n",
    "import pyfaidx\n",
    "import shutil\n",
    "import errno\n",
    "import os\n"
   ]
  },
  {
   "cell_type": "code",
   "execution_count": 5,
   "id": "c9483cde-074b-4c6e-b534-e8bd8a833a6b",
   "metadata": {
    "tags": []
   },
   "outputs": [],
   "source": [
    "import argparse\n",
    "import chrombpnet.evaluation.interpret.shap_utils as shap_utils\n",
    "import chrombpnet.evaluation.interpret.input_utils as input_utils\n",
    "\n",
    "NARROWPEAK_SCHEMA = [\"chr\", \"start\", \"end\", \"1\", \"2\", \"3\", \"4\", \"5\", \"6\", \"summit\"]\n"
   ]
  },
  {
   "cell_type": "code",
   "execution_count": 6,
   "id": "20190b77-adc0-49fa-bd6d-6c18198a7db6",
   "metadata": {},
   "outputs": [],
   "source": [
    "# disable eager execution so shap deep explainer wont break\n",
    "tf.compat.v1.disable_eager_execution()\n"
   ]
  },
  {
   "cell_type": "code",
   "execution_count": 7,
   "id": "79f0e3b9-22cc-4fb7-8e74-57e69733dbdb",
   "metadata": {},
   "outputs": [],
   "source": [
    "def fetch_interpret_args():\n",
    "    parser = argparse.ArgumentParser(description=\"get sequence contribution scores for the model\")\n",
    "    parser.add_argument(\"-g\", \"--genome\", type=str, required=True, help=\"Genome fasta\")\n",
    "    parser.add_argument(\"-r\", \"--regions\", type=str, required=True, help=\"10 column bed file of peaks. Sequences and labels will be extracted centered at start (2nd col) + summit (10th col).\")\n",
    "    parser.add_argument(\"-m\", \"--model_h5\", type=str, required=True, help=\"Path to trained model, can be both bias or chrombpnet model\")\n",
    "    parser.add_argument(\"-o\", \"--output-prefix\", type=str, required=True, help=\"Output prefix\")\n",
    "    parser.add_argument(\"-d\", \"--debug_chr\", nargs=\"+\", type=str, default=None, help=\"Run for specific chromosomes only (e.g. chr1 chr2) for debugging\")\n",
    "    parser.add_argument(\"-p\", \"--profile_or_counts\", nargs=\"+\", type=str, default=[\"counts\", \"profile\"], choices=[\"counts\", \"profile\"],\n",
    "                        help=\"use either counts or profile or both for running shap\")\n",
    "\n",
    "    args = parser.parse_args()\n",
    "    return args\n"
   ]
  },
  {
   "cell_type": "code",
   "execution_count": 8,
   "id": "146d491c-e631-43f3-917c-93eab91d2b78",
   "metadata": {},
   "outputs": [],
   "source": [
    "def generate_shap_dict(seqs, scores):\n",
    "    assert(seqs.shape==scores.shape)\n",
    "    assert(seqs.shape[2]==4)\n",
    "\n",
    "    # construct a dictionary for the raw shap scores and the\n",
    "    # the projected shap scores\n",
    "    # MODISCO workflow expects one hot sequences with shape (None,4,inputlen)\n",
    "    d = {\n",
    "            'raw': {'seq': np.transpose(seqs, (0, 2, 1)).astype(np.int8)},\n",
    "            'shap': {'seq': np.transpose(scores, (0, 2, 1)).astype(np.float16)},\n",
    "            'projected_shap': {'seq': np.transpose(seqs*scores, (0, 2, 1)).astype(np.float16)}\n",
    "        }\n",
    "\n",
    "    return d\n"
   ]
  },
  {
   "cell_type": "code",
   "execution_count": 9,
   "id": "40786542-7abc-4f23-950a-08c168b03c2f",
   "metadata": {},
   "outputs": [],
   "source": [
    "def interpret(model, seqs, output_prefix, profile_or_counts,save_files=True):\n",
    "    print(\"Seqs dimension : {}\".format(seqs.shape))\n",
    "\n",
    "    outlen = model.output_shape[0][1]\n",
    "\n",
    "    profile_model_input = model.input\n",
    "    profile_input = seqs\n",
    "    counts_model_input = model.input\n",
    "    counts_input = seqs\n",
    "\n",
    "    if \"counts\" in profile_or_counts:\n",
    "        profile_model_counts_explainer = shap.explainers.deep.TFDeepExplainer(\n",
    "            (counts_model_input, tf.reduce_sum(model.outputs[1], axis=-1)),\n",
    "            shap_utils.shuffle_several_times,\n",
    "            combine_mult_and_diffref=shap_utils.combine_mult_and_diffref)\n",
    "\n",
    "        print(\"Generating 'counts' shap scores\")\n",
    "        counts_shap_scores = profile_model_counts_explainer.shap_values(\n",
    "            counts_input, progress_message=100)\n",
    "\n",
    "        counts_scores_dict = generate_shap_dict(seqs, counts_shap_scores)\n",
    "\n",
    "        if save_files:\n",
    "            # save the dictionary in HDF5 formnat\n",
    "            print(\"Saving 'counts' scores\")\n",
    "\n",
    "            dd.io.save(\"{}.counts_scores.h5\".format(output_prefix),\n",
    "                        counts_scores_dict,\n",
    "                        compression='blosc')\n",
    "\n",
    "            del counts_shap_scores, counts_scores_dict\n",
    "\n",
    "    if \"profile\" in profile_or_counts:\n",
    "        weightedsum_meannormed_logits = shap_utils.get_weightedsum_meannormed_logits(model)\n",
    "        profile_model_profile_explainer = shap.explainers.deep.TFDeepExplainer(\n",
    "            (profile_model_input, weightedsum_meannormed_logits),\n",
    "            shap_utils.shuffle_several_times,\n",
    "            combine_mult_and_diffref=shap_utils.combine_mult_and_diffref)\n",
    "\n",
    "        print(\"Generating 'profile' shap scores\")\n",
    "        profile_shap_scores = profile_model_profile_explainer.shap_values(\n",
    "            profile_input, progress_message=100)\n",
    "\n",
    "        profile_scores_dict = generate_shap_dict(seqs, profile_shap_scores)\n",
    "\n",
    "        if save_files:\n",
    "            # save the dictionary in HDF5 formnat\n",
    "            print(\"Saving 'profile' scores\")\n",
    "            dd.io.save(\"{}.profile_scores.h5\".format(output_prefix),\n",
    "                        profile_scores_dict,\n",
    "                        compression='blosc')\n",
    "    \n",
    "    results = {}\n",
    "    results['profile'] = ''\n",
    "    results['counts_scores'] = ''\n",
    "    results['counts_shap'] = ''\n",
    "    if \"profile\" in profile_or_counts:\n",
    "        results['profile'] = profile_scores_dict\n",
    "    if \"counts\" in profile_or_counts:\n",
    "        results['counts_scores'] = counts_scores_dict\n",
    "        results['counts_shap'] = counts_shap_scores\n",
    "\n",
    "    return(results)\n"
   ]
  },
  {
   "cell_type": "code",
   "execution_count": 10,
   "id": "b7f1bd2a-31a1-40dd-8268-cad15980d6bf",
   "metadata": {},
   "outputs": [],
   "source": [
    "NARROWPEAK_SCHEMA = [\"chr\", \"start\", \"end\", \"1\", \"2\", \"3\", \"4\", \"5\", \"6\", \"summit\"]\n",
    "\n",
    "regions_df = pd.read_csv(\"regions_of_interest/IGFBP2_regions_peaks_human.bed\", sep='\\t', names=NARROWPEAK_SCHEMA)\n"
   ]
  },
  {
   "cell_type": "code",
   "execution_count": 11,
   "id": "e1d39760-03af-4716-9a99-19b600b58bed",
   "metadata": {},
   "outputs": [
    {
     "data": {
      "text/html": [
       "<div>\n",
       "<style scoped>\n",
       "    .dataframe tbody tr th:only-of-type {\n",
       "        vertical-align: middle;\n",
       "    }\n",
       "\n",
       "    .dataframe tbody tr th {\n",
       "        vertical-align: top;\n",
       "    }\n",
       "\n",
       "    .dataframe thead th {\n",
       "        text-align: right;\n",
       "    }\n",
       "</style>\n",
       "<table border=\"1\" class=\"dataframe\">\n",
       "  <thead>\n",
       "    <tr style=\"text-align: right;\">\n",
       "      <th></th>\n",
       "      <th>chr</th>\n",
       "      <th>start</th>\n",
       "      <th>end</th>\n",
       "      <th>1</th>\n",
       "      <th>2</th>\n",
       "      <th>3</th>\n",
       "      <th>4</th>\n",
       "      <th>5</th>\n",
       "      <th>6</th>\n",
       "      <th>summit</th>\n",
       "    </tr>\n",
       "  </thead>\n",
       "  <tbody>\n",
       "    <tr>\n",
       "      <th>0</th>\n",
       "      <td>chr2</td>\n",
       "      <td>216636508</td>\n",
       "      <td>216637488</td>\n",
       "      <td>human_peaks_peak_48293</td>\n",
       "      <td>380</td>\n",
       "      <td>.</td>\n",
       "      <td>5.29416</td>\n",
       "      <td>40.7695</td>\n",
       "      <td>38.0041</td>\n",
       "      <td>799</td>\n",
       "    </tr>\n",
       "    <tr>\n",
       "      <th>1</th>\n",
       "      <td>chr2</td>\n",
       "      <td>216863820</td>\n",
       "      <td>216864761</td>\n",
       "      <td>human_peaks_peak_48308</td>\n",
       "      <td>340</td>\n",
       "      <td>.</td>\n",
       "      <td>7.94451</td>\n",
       "      <td>36.7715</td>\n",
       "      <td>34.0687</td>\n",
       "      <td>362</td>\n",
       "    </tr>\n",
       "    <tr>\n",
       "      <th>2</th>\n",
       "      <td>chr2</td>\n",
       "      <td>216863820</td>\n",
       "      <td>216864761</td>\n",
       "      <td>human_peaks_peak_48308</td>\n",
       "      <td>340</td>\n",
       "      <td>.</td>\n",
       "      <td>7.94451</td>\n",
       "      <td>36.7715</td>\n",
       "      <td>34.0687</td>\n",
       "      <td>362</td>\n",
       "    </tr>\n",
       "  </tbody>\n",
       "</table>\n",
       "</div>"
      ],
      "text/plain": [
       "    chr      start        end                       1    2  3        4  \\\n",
       "0  chr2  216636508  216637488  human_peaks_peak_48293  380  .  5.29416   \n",
       "1  chr2  216863820  216864761  human_peaks_peak_48308  340  .  7.94451   \n",
       "2  chr2  216863820  216864761  human_peaks_peak_48308  340  .  7.94451   \n",
       "\n",
       "         5        6  summit  \n",
       "0  40.7695  38.0041     799  \n",
       "1  36.7715  34.0687     362  \n",
       "2  36.7715  34.0687     362  "
      ]
     },
     "execution_count": 11,
     "metadata": {},
     "output_type": "execute_result"
    }
   ],
   "source": [
    "regions_df"
   ]
  },
  {
   "cell_type": "code",
   "execution_count": 12,
   "id": "1df9be3f-a1fa-40b5-9c92-5a00a2da1659",
   "metadata": {},
   "outputs": [],
   "source": [
    "import os\n",
    "import sys\n",
    "import os\n",
    "import sys\n",
    "import tensorflow as tf\n",
    "import numpy as np\n",
    "import chrombpnet.training.utils.losses as losses\n",
    "from chrombpnet.training.utils.data_utils import one_hot\n",
    "from tensorflow.keras.utils import get_custom_objects\n",
    "from tensorflow.keras.models import load_model\n",
    "\n",
    "\n",
    "def get_seq(peaks_df, genome, width):\n",
    "    \"\"\"\n",
    "    Same as get_cts, but fetches sequence from a given genome.\n",
    "    \"\"\"\n",
    "    vals = []\n",
    "    peaks_used = []\n",
    "    for i, r in peaks_df.iterrows():\n",
    "        sequence = str(genome[r['chr']][(r['start']+r['summit'] - width//2):(r['start'] + r['summit'] + width//2)])\n",
    "        if len(sequence) == width:\n",
    "            vals.append(sequence)\n",
    "            peaks_used.append(True)\n",
    "        else:\n",
    "            peaks_used.append(False)\n",
    "\n",
    "    return one_hot.dna_to_one_hot(vals), np.array(peaks_used)\n",
    "\n"
   ]
  },
  {
   "cell_type": "code",
   "execution_count": 13,
   "id": "04da25d9-e38b-4361-93b4-1374846c47f1",
   "metadata": {
    "tags": []
   },
   "outputs": [
    {
     "name": "stdout",
     "output_type": "stream",
     "text": [
      "WARNING:tensorflow:OMP_NUM_THREADS is no longer used by the default Keras config. To configure the number of threads, use tf.config.threading APIs.\n",
      "got the model\n",
      "got the model\n",
      "got the model\n",
      "got the model\n",
      "got the model\n"
     ]
    }
   ],
   "source": [
    "for fold in ['fold_0','fold_1','fold_2','fold_3','fold_4']:\n",
    "    \n",
    "    model_path = 'celltype_models_human/modelv1_enterocytes/'+fold+'/output/models/chrombpnet_nobias.h5'\n",
    "    \n",
    "    custom_objects={\"multinomial_nll\": losses.multinomial_nll, \"tf\": tf}    \n",
    "    get_custom_objects().update(custom_objects)    \n",
    "    model=load_model(model_path,compile=False)\n",
    "    print(\"got the model\")"
   ]
  },
  {
   "cell_type": "code",
   "execution_count": 14,
   "id": "d22ce539-5137-44ee-8799-42ff5d2619cd",
   "metadata": {},
   "outputs": [
    {
     "name": "stdout",
     "output_type": "stream",
     "text": [
      "inferred model inputlen:  2114\n"
     ]
    }
   ],
   "source": [
    "# infer input length\n",
    "inputlen = model.input_shape[1] # if bias model (1 input only)\n",
    "print(\"inferred model inputlen: \", inputlen)"
   ]
  },
  {
   "cell_type": "code",
   "execution_count": 15,
   "id": "b99b83ce-736f-422c-aaa9-ff151e562a4b",
   "metadata": {},
   "outputs": [],
   "source": [
    "genome_path = 'encode_data/hg38.fa'\n",
    "region_index = 1\n",
    "#FILL IN DETAILS FROM REGION_DF \n",
    "\n",
    "import pyfaidx\n",
    "genome_path = 'encode_data/hg38.fa'\n",
    "genome = pyfaidx.Fasta(genome_path)\n",
    "width = input_len = inputlen\n",
    "chrom=regions_df.loc[region_index,'chr']\n",
    "start,end = regions_df.loc[region_index,'start'],regions_df.loc[region_index,'end']\n",
    "summit = regions_df.loc[region_index,'summit']\n",
    "\n",
    "start_use = int(start+summit - input_len/2)+1\n",
    "end_use = int(start + summit + input_len/2)\n",
    "\n",
    "middle = int((start+end)/2)\n",
    "nstart = middle-int(input_len/2)\n",
    "nend = nstart + input_len\n",
    "\n",
    "#fasta format\n",
    "seq_man = genome.get_seq(chrom,start_use,end_use)\n",
    "\n",
    "#string\n",
    "seq_man2 = str(genome[chrom][(start_use-1):(end_use)])\n",
    "\n",
    "\n",
    "sequence = seq_man2\n",
    "vals = []\n",
    "if len(sequence) == width:\n",
    "    vals.append(sequence)\n"
   ]
  },
  {
   "cell_type": "code",
   "execution_count": null,
   "id": "28ce22f3-95d8-4f90-ba6d-6b880d9ea27a",
   "metadata": {},
   "outputs": [],
   "source": []
  },
  {
   "cell_type": "code",
   "execution_count": 16,
   "id": "fd2e208d-15a5-476a-936d-e7dd115821d8",
   "metadata": {},
   "outputs": [],
   "source": [
    "def evo_seq(sequence,position,ref,alt):\n",
    "    if sequence[position]==ref:\n",
    "        mod_seq = sequence[:position] + alt + sequence[position + 1:]\n",
    "    else:\n",
    "        print(\"reference does not occur at position, double check position\")\n",
    "        mod_seq = None\n",
    "    return(mod_seq)\n",
    "\n",
    "def softmax(x, temp=1):\n",
    "    norm_x = x - np.mean(x,axis=1, keepdims=True)\n",
    "    return np.exp(temp*norm_x)/np.sum(np.exp(temp*norm_x), axis=1, keepdims=True)\n",
    "\n"
   ]
  },
  {
   "cell_type": "code",
   "execution_count": 17,
   "id": "14388a49-5aef-4562-8c75-3d191a250863",
   "metadata": {},
   "outputs": [],
   "source": [
    "# Function to generate SNPs\n",
    "\n",
    "def generate_snps(sequence):\n",
    "    import pandas as pd\n",
    "    snp_list_df = []\n",
    "    snp_list = []\n",
    "    ref_list = []\n",
    "    # List of possible bases\n",
    "    bases = ['A', 'C', 'G', 'T']\n",
    "    for i in range(len(sequence)):\n",
    "        for base in bases:\n",
    "            if sequence[i] != base:\n",
    "                mutated_sequence = sequence[:i] + base + sequence[i+1:]\n",
    "                snp_list.append(mutated_sequence)\n",
    "                ref_list.append(sequence)\n",
    "                snp_list_df.append(dict(pos=i,ref=sequence[i],alt=base))\n",
    "    snp_list_df = pd.DataFrame(snp_list_df)\n",
    "    return snp_list,snp_list_df,ref_list\n"
   ]
  },
  {
   "cell_type": "code",
   "execution_count": 18,
   "id": "f4a2a5a2-f523-49a8-a812-cecaeeffe279",
   "metadata": {},
   "outputs": [],
   "source": [
    "sequence_ISM_list,sequence_ISM_df,ref_sequences = generate_snps(sequence)"
   ]
  },
  {
   "cell_type": "code",
   "execution_count": 19,
   "id": "15c406c5-6740-454a-99be-089170d401d3",
   "metadata": {},
   "outputs": [
    {
     "data": {
      "text/html": [
       "<div>\n",
       "<style scoped>\n",
       "    .dataframe tbody tr th:only-of-type {\n",
       "        vertical-align: middle;\n",
       "    }\n",
       "\n",
       "    .dataframe tbody tr th {\n",
       "        vertical-align: top;\n",
       "    }\n",
       "\n",
       "    .dataframe thead th {\n",
       "        text-align: right;\n",
       "    }\n",
       "</style>\n",
       "<table border=\"1\" class=\"dataframe\">\n",
       "  <thead>\n",
       "    <tr style=\"text-align: right;\">\n",
       "      <th></th>\n",
       "      <th>pos</th>\n",
       "      <th>ref</th>\n",
       "      <th>alt</th>\n",
       "    </tr>\n",
       "  </thead>\n",
       "  <tbody>\n",
       "    <tr>\n",
       "      <th>0</th>\n",
       "      <td>0</td>\n",
       "      <td>A</td>\n",
       "      <td>C</td>\n",
       "    </tr>\n",
       "    <tr>\n",
       "      <th>1</th>\n",
       "      <td>0</td>\n",
       "      <td>A</td>\n",
       "      <td>G</td>\n",
       "    </tr>\n",
       "    <tr>\n",
       "      <th>2</th>\n",
       "      <td>0</td>\n",
       "      <td>A</td>\n",
       "      <td>T</td>\n",
       "    </tr>\n",
       "    <tr>\n",
       "      <th>3</th>\n",
       "      <td>1</td>\n",
       "      <td>C</td>\n",
       "      <td>A</td>\n",
       "    </tr>\n",
       "    <tr>\n",
       "      <th>4</th>\n",
       "      <td>1</td>\n",
       "      <td>C</td>\n",
       "      <td>G</td>\n",
       "    </tr>\n",
       "    <tr>\n",
       "      <th>...</th>\n",
       "      <td>...</td>\n",
       "      <td>...</td>\n",
       "      <td>...</td>\n",
       "    </tr>\n",
       "    <tr>\n",
       "      <th>6337</th>\n",
       "      <td>2112</td>\n",
       "      <td>G</td>\n",
       "      <td>C</td>\n",
       "    </tr>\n",
       "    <tr>\n",
       "      <th>6338</th>\n",
       "      <td>2112</td>\n",
       "      <td>G</td>\n",
       "      <td>T</td>\n",
       "    </tr>\n",
       "    <tr>\n",
       "      <th>6339</th>\n",
       "      <td>2113</td>\n",
       "      <td>T</td>\n",
       "      <td>A</td>\n",
       "    </tr>\n",
       "    <tr>\n",
       "      <th>6340</th>\n",
       "      <td>2113</td>\n",
       "      <td>T</td>\n",
       "      <td>C</td>\n",
       "    </tr>\n",
       "    <tr>\n",
       "      <th>6341</th>\n",
       "      <td>2113</td>\n",
       "      <td>T</td>\n",
       "      <td>G</td>\n",
       "    </tr>\n",
       "  </tbody>\n",
       "</table>\n",
       "<p>6342 rows × 3 columns</p>\n",
       "</div>"
      ],
      "text/plain": [
       "       pos ref alt\n",
       "0        0   A   C\n",
       "1        0   A   G\n",
       "2        0   A   T\n",
       "3        1   C   A\n",
       "4        1   C   G\n",
       "...    ...  ..  ..\n",
       "6337  2112   G   C\n",
       "6338  2112   G   T\n",
       "6339  2113   T   A\n",
       "6340  2113   T   C\n",
       "6341  2113   T   G\n",
       "\n",
       "[6342 rows x 3 columns]"
      ]
     },
     "execution_count": 19,
     "metadata": {},
     "output_type": "execute_result"
    }
   ],
   "source": [
    "sequence_ISM_df"
   ]
  },
  {
   "cell_type": "code",
   "execution_count": 20,
   "id": "05e9d806-b24e-470b-aac3-4b76a08fa3bb",
   "metadata": {},
   "outputs": [],
   "source": [
    "all_mutated_sequences_ohe = one_hot.dna_to_one_hot(sequence_ISM_list)\n",
    "ref_sequences_ohe = one_hot.dna_to_one_hot(ref_sequences)"
   ]
  },
  {
   "cell_type": "code",
   "execution_count": 21,
   "id": "e9a4dba4-6a45-45ef-bfb1-f5c1f3e6456d",
   "metadata": {},
   "outputs": [],
   "source": [
    "import time"
   ]
  },
  {
   "cell_type": "code",
   "execution_count": 22,
   "id": "df65d561-6186-46db-8873-ea1d79f3b58e",
   "metadata": {},
   "outputs": [],
   "source": [
    "import random\n",
    "random.seed(42)"
   ]
  },
  {
   "cell_type": "code",
   "execution_count": 23,
   "id": "c92b87c2-52f2-49be-88ae-ba9f9e1274e5",
   "metadata": {},
   "outputs": [],
   "source": [
    "all_mutated_sequences_df = sequence_ISM_df.copy()"
   ]
  },
  {
   "cell_type": "code",
   "execution_count": 24,
   "id": "43c5aae5-bd40-41de-8e8c-917413a42055",
   "metadata": {},
   "outputs": [
    {
     "name": "stdout",
     "output_type": "stream",
     "text": [
      "fold_0\n",
      "got the model\n",
      "predict reference sequence\n"
     ]
    },
    {
     "name": "stderr",
     "output_type": "stream",
     "text": [
      "/cluster/home/jjanssens/.local/lib/python3.10/site-packages/keras/engine/training_v1.py:2079: UserWarning: `Model.state_updates` will be removed in a future version. This property should not be used in TensorFlow 2.0, as `updates` are applied automatically.\n",
      "  updates=self.state_updates,\n"
     ]
    },
    {
     "name": "stdout",
     "output_type": "stream",
     "text": [
      "predict mutations sequence\n"
     ]
    },
    {
     "name": "stderr",
     "output_type": "stream",
     "text": [
      "/cluster/home/jjanssens/.local/lib/python3.10/site-packages/scipy/spatial/distance.py:1272: RuntimeWarning: invalid value encountered in sqrt\n",
      "  return np.sqrt(js / 2.0)\n"
     ]
    },
    {
     "name": "stdout",
     "output_type": "stream",
     "text": [
      "fold_1\n",
      "got the model\n",
      "predict reference sequence\n"
     ]
    },
    {
     "name": "stderr",
     "output_type": "stream",
     "text": [
      "/cluster/home/jjanssens/.local/lib/python3.10/site-packages/keras/engine/training_v1.py:2079: UserWarning: `Model.state_updates` will be removed in a future version. This property should not be used in TensorFlow 2.0, as `updates` are applied automatically.\n",
      "  updates=self.state_updates,\n"
     ]
    },
    {
     "name": "stdout",
     "output_type": "stream",
     "text": [
      "predict mutations sequence\n"
     ]
    },
    {
     "name": "stderr",
     "output_type": "stream",
     "text": [
      "/cluster/home/jjanssens/.local/lib/python3.10/site-packages/scipy/spatial/distance.py:1272: RuntimeWarning: invalid value encountered in sqrt\n",
      "  return np.sqrt(js / 2.0)\n"
     ]
    },
    {
     "name": "stdout",
     "output_type": "stream",
     "text": [
      "fold_2\n",
      "got the model\n",
      "predict reference sequence\n"
     ]
    },
    {
     "name": "stderr",
     "output_type": "stream",
     "text": [
      "/cluster/home/jjanssens/.local/lib/python3.10/site-packages/keras/engine/training_v1.py:2079: UserWarning: `Model.state_updates` will be removed in a future version. This property should not be used in TensorFlow 2.0, as `updates` are applied automatically.\n",
      "  updates=self.state_updates,\n"
     ]
    },
    {
     "name": "stdout",
     "output_type": "stream",
     "text": [
      "predict mutations sequence\n"
     ]
    },
    {
     "name": "stderr",
     "output_type": "stream",
     "text": [
      "/cluster/home/jjanssens/.local/lib/python3.10/site-packages/scipy/spatial/distance.py:1272: RuntimeWarning: invalid value encountered in sqrt\n",
      "  return np.sqrt(js / 2.0)\n"
     ]
    },
    {
     "name": "stdout",
     "output_type": "stream",
     "text": [
      "fold_3\n",
      "got the model\n",
      "predict reference sequence\n"
     ]
    },
    {
     "name": "stderr",
     "output_type": "stream",
     "text": [
      "/cluster/home/jjanssens/.local/lib/python3.10/site-packages/keras/engine/training_v1.py:2079: UserWarning: `Model.state_updates` will be removed in a future version. This property should not be used in TensorFlow 2.0, as `updates` are applied automatically.\n",
      "  updates=self.state_updates,\n"
     ]
    },
    {
     "name": "stdout",
     "output_type": "stream",
     "text": [
      "predict mutations sequence\n"
     ]
    },
    {
     "name": "stderr",
     "output_type": "stream",
     "text": [
      "/cluster/home/jjanssens/.local/lib/python3.10/site-packages/scipy/spatial/distance.py:1272: RuntimeWarning: invalid value encountered in sqrt\n",
      "  return np.sqrt(js / 2.0)\n"
     ]
    },
    {
     "name": "stdout",
     "output_type": "stream",
     "text": [
      "fold_4\n",
      "got the model\n",
      "predict reference sequence\n"
     ]
    },
    {
     "name": "stderr",
     "output_type": "stream",
     "text": [
      "/cluster/home/jjanssens/.local/lib/python3.10/site-packages/keras/engine/training_v1.py:2079: UserWarning: `Model.state_updates` will be removed in a future version. This property should not be used in TensorFlow 2.0, as `updates` are applied automatically.\n",
      "  updates=self.state_updates,\n"
     ]
    },
    {
     "name": "stdout",
     "output_type": "stream",
     "text": [
      "predict mutations sequence\n"
     ]
    },
    {
     "name": "stderr",
     "output_type": "stream",
     "text": [
      "/cluster/home/jjanssens/.local/lib/python3.10/site-packages/scipy/spatial/distance.py:1272: RuntimeWarning: invalid value encountered in sqrt\n",
      "  return np.sqrt(js / 2.0)\n"
     ]
    }
   ],
   "source": [
    "for fold in ['fold_0','fold_1','fold_2','fold_3','fold_4']:\n",
    "    print(fold)\n",
    "    model_path = 'celltype_models_human/modelv1_enterocytes/'+fold+'/output/models/chrombpnet_nobias.h5'\n",
    "    \n",
    "    custom_objects={\"multinomial_nll\": losses.multinomial_nll, \"tf\": tf}    \n",
    "    get_custom_objects().update(custom_objects)    \n",
    "    model=load_model(model_path,compile=False)\n",
    "    print(\"got the model\")\n",
    "\n",
    "    ref_logcount_preds=[]\n",
    "    alt_logcount_preds=[]\n",
    "    ref_prob_preds=[]\n",
    "    alt_prob_preds=[]\n",
    "\n",
    "    print(\"predict reference sequence\")\n",
    "    ref_batch_preds = model.predict(ref_sequences_ohe)\n",
    "    time.sleep(5)\n",
    "\n",
    "    print(\"predict mutations sequence\")\n",
    "    alt_batch_preds = model.predict(all_mutated_sequences_ohe)\n",
    "    time.sleep(5)\n",
    "\n",
    "    ref_logcount_preds.extend(np.squeeze(ref_batch_preds[1]))\n",
    "    alt_logcount_preds.extend(np.squeeze(alt_batch_preds[1]))\n",
    "    \n",
    "    ref_prob_preds.extend(np.squeeze(softmax(ref_batch_preds[0])))\n",
    "    alt_prob_preds.extend(np.squeeze(softmax(alt_batch_preds[0])))\n",
    "\n",
    "    ref_logcount_preds = np.array(ref_logcount_preds)\n",
    "    alt_logcount_preds = np.array(alt_logcount_preds)\n",
    "    ref_prob_preds = np.array(ref_prob_preds)\n",
    "    alt_prob_preds = np.array(alt_prob_preds)\n",
    "\n",
    "    from scipy.spatial.distance import jensenshannon\n",
    "    \n",
    "    log_counts_diff = alt_logcount_preds - ref_logcount_preds\n",
    "    log_probs_diff_abs_sum =  np.sum(np.abs(np.log(alt_prob_preds) -  np.log(ref_prob_preds)),axis=1)*np.sign(log_counts_diff)\n",
    "    probs_jsd_diff = np.array([jensenshannon(x,y) for x,y in zip(alt_prob_preds, ref_prob_preds)])*np.sign(log_counts_diff)\n",
    "\n",
    "    all_mutated_sequences_df[fold+'--logcount_preds'] = alt_logcount_preds\n",
    "    all_mutated_sequences_df[fold+'--log_counts_diff'] = log_counts_diff\n",
    "    all_mutated_sequences_df[fold+'--log_probs_diff_abs_sum'] = log_probs_diff_abs_sum\n",
    "    all_mutated_sequences_df[fold+'--probs_jsd_diff'] = probs_jsd_diff"
   ]
  },
  {
   "cell_type": "code",
   "execution_count": 25,
   "id": "550ffff9-4769-43ea-8c2b-67b6070cb4c7",
   "metadata": {},
   "outputs": [],
   "source": [
    "log_counts_diff_columns = [x for x in all_mutated_sequences_df.columns if 'log_counts_diff' in x]\n",
    "log_probs_diff_abs_sum_columns = [x for x in all_mutated_sequences_df.columns if 'log_probs_diff_abs_sum' in x]\n",
    "probs_jsd_diff_columns = [x for x in all_mutated_sequences_df.columns if 'probs_jsd_diff' in x]\n",
    "logcount_preds_columns = [x for x in all_mutated_sequences_df.columns if 'logcount_preds' in x]"
   ]
  },
  {
   "cell_type": "code",
   "execution_count": 26,
   "id": "cb8c6410-23be-475d-ba2f-868c5b752ee7",
   "metadata": {},
   "outputs": [],
   "source": [
    "all_mutated_sequences_df['log_counts_diff_avg'] = all_mutated_sequences_df[log_counts_diff_columns].T.mean()\n",
    "all_mutated_sequences_df['logcount_preds_avg'] = all_mutated_sequences_df[logcount_preds_columns].T.mean()\n",
    "\n",
    "all_mutated_sequences_df['log_probs_diff_abs_sum_avg'] = all_mutated_sequences_df[log_probs_diff_abs_sum_columns].T.mean()\n",
    "all_mutated_sequences_df['probs_jsd_diff_avg'] = all_mutated_sequences_df[probs_jsd_diff_columns].T.mean()"
   ]
  },
  {
   "cell_type": "code",
   "execution_count": 27,
   "id": "8d7571d8-c89e-406d-a93d-5ab68088ca42",
   "metadata": {},
   "outputs": [],
   "source": [
    "all_mutated_sequences_df.to_csv(\"IGFBP2_distal_ISM_study_effects_wcounts.tsv\",sep=\"\\t\")"
   ]
  },
  {
   "cell_type": "code",
   "execution_count": null,
   "id": "ebfc8c62-0c3c-4147-8358-d61d83b9c400",
   "metadata": {},
   "outputs": [],
   "source": []
  },
  {
   "cell_type": "code",
   "execution_count": null,
   "id": "e7a24075-08a0-4d0a-acd3-1bb5b87390c4",
   "metadata": {},
   "outputs": [],
   "source": []
  },
  {
   "cell_type": "code",
   "execution_count": null,
   "id": "d82fef11-8e49-4539-916c-3feca1a04f89",
   "metadata": {},
   "outputs": [],
   "source": []
  },
  {
   "cell_type": "code",
   "execution_count": null,
   "id": "6e369e12-9aa7-466d-b491-29289f8b2960",
   "metadata": {},
   "outputs": [],
   "source": []
  }
 ],
 "metadata": {
  "kernelspec": {
   "display_name": "chrompbnet2",
   "language": "python",
   "name": "chrombpnet2"
  },
  "language_info": {
   "codemirror_mode": {
    "name": "ipython",
    "version": 3
   },
   "file_extension": ".py",
   "mimetype": "text/x-python",
   "name": "python",
   "nbconvert_exporter": "python",
   "pygments_lexer": "ipython3",
   "version": "3.10.14"
  }
 },
 "nbformat": 4,
 "nbformat_minor": 5
}
